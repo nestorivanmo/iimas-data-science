{
  "cells": [
    {
      "cell_type": "markdown",
      "metadata": {
        "colab_type": "text",
        "id": "view-in-github"
      },
      "source": [
        "<a href=\"https://colab.research.google.com/github/blancavazquez/CursoDatosMasivosII/blob/master/notebooks/4c_casoNetflix.ipynb\" target=\"_parent\"><img src=\"https://colab.research.google.com/assets/colab-badge.svg\" alt=\"Open In Colab\"/></a>"
      ]
    },
    {
      "cell_type": "markdown",
      "metadata": {
        "id": "_FnMwcS22WXA"
      },
      "source": [
        "## Sistema de recomendación: caso Netflix\n",
        "\n",
        "Objetivo: construir un sistema de recomendación de películas basado en los datos de Netflix.\n",
        "\n",
        "Los pasos a seguir son:\n",
        "* Análisis de datos\n",
        "* Pre-procesamiento\n",
        "* Construcción del sistema de recomendación\n",
        "    - Usando filtrado colaborativo\n",
        "    - Usando las correlaciones de Pearson\n",
        "\n",
        "[Créditos y fuente de datos](https://www.kaggle.com/laowingkin/netflix-movie-recommendation)"
      ]
    },
    {
      "cell_type": "code",
      "execution_count": 76,
      "metadata": {
        "colab": {
          "base_uri": "https://localhost:8080/"
        },
        "id": "pc78u78w2WXD",
        "outputId": "ad7a1907-975f-4cb7-cf3e-3ef20f025ae6"
      },
      "outputs": [],
      "source": [
        "\"\"\"Carga de bibliotecas\"\"\"\n",
        "import pandas as pd\n",
        "import numpy as np\n",
        "import math\n",
        "import re\n",
        "from scipy.sparse import csr_matrix\n",
        "import matplotlib.pyplot as plt\n",
        "import seaborn as sns\n",
        "#!pip install scikit-surprise\n",
        "from surprise import Reader, Dataset, SVD\n",
        "from surprise.model_selection import cross_validate\n",
        "sns.set_style(\"darkgrid\")"
      ]
    },
    {
      "cell_type": "code",
      "execution_count": 77,
      "metadata": {},
      "outputs": [],
      "source": [
        "path = \"~/Desktop/netflix-prize-dataset/\""
      ]
    },
    {
      "cell_type": "code",
      "execution_count": 78,
      "metadata": {
        "colab": {
          "base_uri": "https://localhost:8080/"
        },
        "id": "iOcjS-eH2WXE",
        "outputId": "24f424cd-b01e-47bd-ca7a-ff9feb0835e9"
      },
      "outputs": [
        {
          "name": "stdout",
          "output_type": "stream",
          "text": [
            "Tamaño original: (24058263, 2)\n"
          ]
        }
      ],
      "source": [
        "\"\"\"Carga de la base de datos\"\"\"\n",
        "#selección de ID y rating\n",
        "df = pd.read_csv(path + \"combined_data_1.txt\", \n",
        "                 header = None, names = ['User_Id', 'Rating'], usecols = [0,1])\n",
        "df['Rating'] = df['Rating'].astype(float)\n",
        "print(\"Tamaño original:\", df.shape)"
      ]
    },
    {
      "cell_type": "code",
      "execution_count": 79,
      "metadata": {
        "colab": {
          "base_uri": "https://localhost:8080/",
          "height": 357
        },
        "id": "Rij8L5eay9Jo",
        "outputId": "c9b63600-18df-4e41-90ee-d3aa3620ea1b"
      },
      "outputs": [
        {
          "name": "stdout",
          "output_type": "stream",
          "text": [
            "Index(['User_Id', 'Rating'], dtype='object')\n"
          ]
        },
        {
          "data": {
            "text/html": [
              "<div>\n",
              "<style scoped>\n",
              "    .dataframe tbody tr th:only-of-type {\n",
              "        vertical-align: middle;\n",
              "    }\n",
              "\n",
              "    .dataframe tbody tr th {\n",
              "        vertical-align: top;\n",
              "    }\n",
              "\n",
              "    .dataframe thead th {\n",
              "        text-align: right;\n",
              "    }\n",
              "</style>\n",
              "<table border=\"1\" class=\"dataframe\">\n",
              "  <thead>\n",
              "    <tr style=\"text-align: right;\">\n",
              "      <th></th>\n",
              "      <th>User_Id</th>\n",
              "      <th>Rating</th>\n",
              "    </tr>\n",
              "  </thead>\n",
              "  <tbody>\n",
              "    <tr>\n",
              "      <th>499990</th>\n",
              "      <td>2284938</td>\n",
              "      <td>3.0</td>\n",
              "    </tr>\n",
              "    <tr>\n",
              "      <th>499991</th>\n",
              "      <td>996626</td>\n",
              "      <td>4.0</td>\n",
              "    </tr>\n",
              "    <tr>\n",
              "      <th>499992</th>\n",
              "      <td>1778262</td>\n",
              "      <td>1.0</td>\n",
              "    </tr>\n",
              "    <tr>\n",
              "      <th>499993</th>\n",
              "      <td>1823668</td>\n",
              "      <td>2.0</td>\n",
              "    </tr>\n",
              "    <tr>\n",
              "      <th>499994</th>\n",
              "      <td>1129025</td>\n",
              "      <td>4.0</td>\n",
              "    </tr>\n",
              "    <tr>\n",
              "      <th>499995</th>\n",
              "      <td>1957556</td>\n",
              "      <td>4.0</td>\n",
              "    </tr>\n",
              "    <tr>\n",
              "      <th>499996</th>\n",
              "      <td>1492198</td>\n",
              "      <td>3.0</td>\n",
              "    </tr>\n",
              "    <tr>\n",
              "      <th>499997</th>\n",
              "      <td>1018901</td>\n",
              "      <td>3.0</td>\n",
              "    </tr>\n",
              "    <tr>\n",
              "      <th>499998</th>\n",
              "      <td>213704</td>\n",
              "      <td>4.0</td>\n",
              "    </tr>\n",
              "    <tr>\n",
              "      <th>499999</th>\n",
              "      <td>2143870</td>\n",
              "      <td>3.0</td>\n",
              "    </tr>\n",
              "  </tbody>\n",
              "</table>\n",
              "</div>"
            ],
            "text/plain": [
              "        User_Id  Rating\n",
              "499990  2284938     3.0\n",
              "499991   996626     4.0\n",
              "499992  1778262     1.0\n",
              "499993  1823668     2.0\n",
              "499994  1129025     4.0\n",
              "499995  1957556     4.0\n",
              "499996  1492198     3.0\n",
              "499997  1018901     3.0\n",
              "499998   213704     4.0\n",
              "499999  2143870     3.0"
            ]
          },
          "execution_count": 79,
          "metadata": {},
          "output_type": "execute_result"
        }
      ],
      "source": [
        "print(df.columns)\n",
        "df_raiting = df[:500000] #selección de sub-conjunto de registros\n",
        "df_raiting.tail(10)"
      ]
    },
    {
      "cell_type": "code",
      "execution_count": 80,
      "metadata": {
        "colab": {
          "base_uri": "https://localhost:8080/"
        },
        "id": "-59KSqm8xwW3",
        "outputId": "b1f38366-871a-4009-a4bb-db06a2f1e810"
      },
      "outputs": [
        {
          "name": "stdout",
          "output_type": "stream",
          "text": [
            "Tamaño de la base de datos: (500000, 2)\n"
          ]
        }
      ],
      "source": [
        "print('Tamaño de la base de datos: {}'.format(df_raiting.shape))"
      ]
    },
    {
      "cell_type": "markdown",
      "metadata": {
        "id": "cD_iWnue2WXF"
      },
      "source": [
        "## Análisis de datos"
      ]
    },
    {
      "cell_type": "code",
      "execution_count": 81,
      "metadata": {
        "colab": {
          "base_uri": "https://localhost:8080/"
        },
        "id": "l1ccIdvf2WXG",
        "outputId": "8ee69e61-0d95-46c6-9600-47efc9a4aea5"
      },
      "outputs": [
        {
          "name": "stdout",
          "output_type": "stream",
          "text": [
            "Conteo de raitings\n",
            "         count\n",
            "Rating        \n",
            "1.0      25316\n",
            "2.0      52325\n",
            "3.0     147151\n",
            "4.0     174248\n",
            "5.0     100812\n"
          ]
        }
      ],
      "source": [
        "print(\"Conteo de raitings\")\n",
        "p = df_raiting.groupby('Rating')['Rating'].agg(['count'])\n",
        "print(p)"
      ]
    },
    {
      "cell_type": "code",
      "execution_count": 82,
      "metadata": {
        "colab": {
          "base_uri": "https://localhost:8080/"
        },
        "id": "kuxNiBRTsUPU",
        "outputId": "4a87a9b5-8480-4cb5-b8b7-f3bcd29d8694"
      },
      "outputs": [
        {
          "name": "stdout",
          "output_type": "stream",
          "text": [
            "Total de películas: 148 total de usuarios: 214992 total de ratings: 499852\n"
          ]
        }
      ],
      "source": [
        "movie_count = df_raiting.isnull().sum()[1]#Se obtiene el total de películas\n",
        "users_count = df_raiting['User_Id'].nunique() - movie_count#Se obtiene el total de usuarios\n",
        "rating_count = df_raiting['User_Id'].count() - movie_count#Se obtiene el total de ratings\n",
        "\n",
        "print(\"Total de películas:\", movie_count, \"total de usuarios:\", users_count, \"total de ratings:\", rating_count)"
      ]
    },
    {
      "cell_type": "code",
      "execution_count": 83,
      "metadata": {
        "colab": {
          "base_uri": "https://localhost:8080/",
          "height": 596
        },
        "id": "ptMfNI1vzzhJ",
        "outputId": "34ea2a9b-a85e-4a4c-9ab1-057ba101c5a9"
      },
      "outputs": [
        {
          "data": {
            "image/png": "[encoded data removed]",
            "text/plain": [
              "<Figure size 1080x720 with 1 Axes>"
            ]
          },
          "metadata": {},
          "output_type": "display_data"
        }
      ],
      "source": [
        "ax = p.plot(kind = 'barh', legend = False, figsize = (15,10))\n",
        "plt.title('Total: {:,} peliculas, {:,} usuarios, {:,} ratings'.format(movie_count, users_count, rating_count), fontsize=20)\n",
        "plt.axis('off')\n",
        "\n",
        "for i in range(1,6):\n",
        "    ax.text(p.iloc[i-1][0]/4, i-1, 'Rating {}: {:.0f}%'.format(i, p.iloc[i-1][0]*100 / p.sum()[0]), color = 'white', weight = 'bold')"
      ]
    },
    {
      "cell_type": "markdown",
      "metadata": {
        "id": "4VN5eaDm2WXG"
      },
      "source": [
        "Se observa que la mayoría de los ratings tiende a ser positiva (>3)"
      ]
    },
    {
      "cell_type": "markdown",
      "metadata": {
        "id": "1XAx3I7-2WXH"
      },
      "source": [
        "## Pre-procesamiento"
      ]
    },
    {
      "cell_type": "code",
      "execution_count": 84,
      "metadata": {
        "colab": {
          "base_uri": "https://localhost:8080/",
          "height": 374
        },
        "id": "ra-D7JVz6mMY",
        "outputId": "c9e777c3-583d-441a-aa54-257bf58db058"
      },
      "outputs": [
        {
          "name": "stdout",
          "output_type": "stream",
          "text": [
            "Tamaño df_nan: (148, 2)\n"
          ]
        },
        {
          "data": {
            "text/html": [
              "<div>\n",
              "<style scoped>\n",
              "    .dataframe tbody tr th:only-of-type {\n",
              "        vertical-align: middle;\n",
              "    }\n",
              "\n",
              "    .dataframe tbody tr th {\n",
              "        vertical-align: top;\n",
              "    }\n",
              "\n",
              "    .dataframe thead th {\n",
              "        text-align: right;\n",
              "    }\n",
              "</style>\n",
              "<table border=\"1\" class=\"dataframe\">\n",
              "  <thead>\n",
              "    <tr style=\"text-align: right;\">\n",
              "      <th></th>\n",
              "      <th>index</th>\n",
              "      <th>Rating</th>\n",
              "    </tr>\n",
              "  </thead>\n",
              "  <tbody>\n",
              "    <tr>\n",
              "      <th>0</th>\n",
              "      <td>0</td>\n",
              "      <td>True</td>\n",
              "    </tr>\n",
              "    <tr>\n",
              "      <th>1</th>\n",
              "      <td>548</td>\n",
              "      <td>True</td>\n",
              "    </tr>\n",
              "    <tr>\n",
              "      <th>2</th>\n",
              "      <td>694</td>\n",
              "      <td>True</td>\n",
              "    </tr>\n",
              "    <tr>\n",
              "      <th>3</th>\n",
              "      <td>2707</td>\n",
              "      <td>True</td>\n",
              "    </tr>\n",
              "    <tr>\n",
              "      <th>4</th>\n",
              "      <td>2850</td>\n",
              "      <td>True</td>\n",
              "    </tr>\n",
              "    <tr>\n",
              "      <th>5</th>\n",
              "      <td>3991</td>\n",
              "      <td>True</td>\n",
              "    </tr>\n",
              "    <tr>\n",
              "      <th>6</th>\n",
              "      <td>5011</td>\n",
              "      <td>True</td>\n",
              "    </tr>\n",
              "    <tr>\n",
              "      <th>7</th>\n",
              "      <td>5105</td>\n",
              "      <td>True</td>\n",
              "    </tr>\n",
              "    <tr>\n",
              "      <th>8</th>\n",
              "      <td>20016</td>\n",
              "      <td>True</td>\n",
              "    </tr>\n",
              "    <tr>\n",
              "      <th>9</th>\n",
              "      <td>20112</td>\n",
              "      <td>True</td>\n",
              "    </tr>\n",
              "  </tbody>\n",
              "</table>\n",
              "</div>"
            ],
            "text/plain": [
              "   index  Rating\n",
              "0      0    True\n",
              "1    548    True\n",
              "2    694    True\n",
              "3   2707    True\n",
              "4   2850    True\n",
              "5   3991    True\n",
              "6   5011    True\n",
              "7   5105    True\n",
              "8  20016    True\n",
              "9  20112    True"
            ]
          },
          "execution_count": 84,
          "metadata": {},
          "output_type": "execute_result"
        }
      ],
      "source": [
        "\"\"\"Crear una matriz para el ID de la película (procesamiento más eficiente)\"\"\"\n",
        "df_nan = pd.DataFrame(pd.isnull(df_raiting.Rating))\n",
        "df_nan = df_nan[df_nan['Rating'] == True]\n",
        "df_nan = df_nan.reset_index()\n",
        "\n",
        "print(\"Tamaño df_nan:\", df_nan.shape)\n",
        "df_nan.head(10)"
      ]
    },
    {
      "cell_type": "code",
      "execution_count": 85,
      "metadata": {
        "id": "HMeXLUH_2WXH"
      },
      "outputs": [],
      "source": [
        "movie_np = []\n",
        "movie_id = 1\n",
        "\n",
        "for i,j in zip(df_nan['index'][1:],df_nan['index'][:-1]):\n",
        "    temp = np.full((1,i-j-1), movie_id) #Return a new array of given shape and type, filled with movie_id\n",
        "    movie_np = np.append(movie_np, temp)\n",
        "    movie_id += 1"
      ]
    },
    {
      "cell_type": "code",
      "execution_count": 86,
      "metadata": {
        "colab": {
          "base_uri": "https://localhost:8080/"
        },
        "id": "xA0C4Hni82by",
        "outputId": "2879bcd0-ca7f-4532-e897-dec2b93c6d97"
      },
      "outputs": [
        {
          "name": "stdout",
          "output_type": "stream",
          "text": [
            "Películas (numpy): [  1.   1.   1. ... 148. 148. 148.]\n"
          ]
        }
      ],
      "source": [
        "# Se toma en cuenta el último registro y la longitud correspondiente\n",
        "last_record = np.full((1,len(df_raiting) - df_nan.iloc[-1, 0] - 1),movie_id)\n",
        "movie_np = np.append(movie_np, last_record) #indices de las películas\n",
        "\n",
        "print('Películas (numpy): {}'.format(movie_np))"
      ]
    },
    {
      "cell_type": "code",
      "execution_count": 87,
      "metadata": {
        "colab": {
          "base_uri": "https://localhost:8080/",
          "height": 417
        },
        "id": "1A9l5Dj72WXH",
        "outputId": "24cf87cc-6491-46ce-93c1-7caeea04c653"
      },
      "outputs": [
        {
          "data": {
            "text/html": [
              "<div>\n",
              "<style scoped>\n",
              "    .dataframe tbody tr th:only-of-type {\n",
              "        vertical-align: middle;\n",
              "    }\n",
              "\n",
              "    .dataframe tbody tr th {\n",
              "        vertical-align: top;\n",
              "    }\n",
              "\n",
              "    .dataframe thead th {\n",
              "        text-align: right;\n",
              "    }\n",
              "</style>\n",
              "<table border=\"1\" class=\"dataframe\">\n",
              "  <thead>\n",
              "    <tr style=\"text-align: right;\">\n",
              "      <th></th>\n",
              "      <th>User_Id</th>\n",
              "      <th>Rating</th>\n",
              "      <th>Movie_Id</th>\n",
              "    </tr>\n",
              "  </thead>\n",
              "  <tbody>\n",
              "    <tr>\n",
              "      <th>1</th>\n",
              "      <td>1488844</td>\n",
              "      <td>3.0</td>\n",
              "      <td>1</td>\n",
              "    </tr>\n",
              "    <tr>\n",
              "      <th>2</th>\n",
              "      <td>822109</td>\n",
              "      <td>5.0</td>\n",
              "      <td>1</td>\n",
              "    </tr>\n",
              "    <tr>\n",
              "      <th>3</th>\n",
              "      <td>885013</td>\n",
              "      <td>4.0</td>\n",
              "      <td>1</td>\n",
              "    </tr>\n",
              "    <tr>\n",
              "      <th>4</th>\n",
              "      <td>30878</td>\n",
              "      <td>4.0</td>\n",
              "      <td>1</td>\n",
              "    </tr>\n",
              "    <tr>\n",
              "      <th>5</th>\n",
              "      <td>823519</td>\n",
              "      <td>3.0</td>\n",
              "      <td>1</td>\n",
              "    </tr>\n",
              "    <tr>\n",
              "      <th>...</th>\n",
              "      <td>...</td>\n",
              "      <td>...</td>\n",
              "      <td>...</td>\n",
              "    </tr>\n",
              "    <tr>\n",
              "      <th>499995</th>\n",
              "      <td>1957556</td>\n",
              "      <td>4.0</td>\n",
              "      <td>148</td>\n",
              "    </tr>\n",
              "    <tr>\n",
              "      <th>499996</th>\n",
              "      <td>1492198</td>\n",
              "      <td>3.0</td>\n",
              "      <td>148</td>\n",
              "    </tr>\n",
              "    <tr>\n",
              "      <th>499997</th>\n",
              "      <td>1018901</td>\n",
              "      <td>3.0</td>\n",
              "      <td>148</td>\n",
              "    </tr>\n",
              "    <tr>\n",
              "      <th>499998</th>\n",
              "      <td>213704</td>\n",
              "      <td>4.0</td>\n",
              "      <td>148</td>\n",
              "    </tr>\n",
              "    <tr>\n",
              "      <th>499999</th>\n",
              "      <td>2143870</td>\n",
              "      <td>3.0</td>\n",
              "      <td>148</td>\n",
              "    </tr>\n",
              "  </tbody>\n",
              "</table>\n",
              "<p>499852 rows × 3 columns</p>\n",
              "</div>"
            ],
            "text/plain": [
              "        User_Id  Rating  Movie_Id\n",
              "1       1488844     3.0         1\n",
              "2        822109     5.0         1\n",
              "3        885013     4.0         1\n",
              "4         30878     4.0         1\n",
              "5        823519     3.0         1\n",
              "...         ...     ...       ...\n",
              "499995  1957556     4.0       148\n",
              "499996  1492198     3.0       148\n",
              "499997  1018901     3.0       148\n",
              "499998   213704     4.0       148\n",
              "499999  2143870     3.0       148\n",
              "\n",
              "[499852 rows x 3 columns]"
            ]
          },
          "execution_count": 87,
          "metadata": {},
          "output_type": "execute_result"
        }
      ],
      "source": [
        "\"\"\"Visualizamos nuevamente\"\"\"\n",
        "df_raiting = df_raiting[pd.notnull(df_raiting['Rating'])]\n",
        "\n",
        "df_raiting['Movie_Id'] = movie_np.astype(int)\n",
        "df_raiting['User_Id'] = df_raiting['User_Id'].astype(int)\n",
        "df_raiting"
      ]
    },
    {
      "cell_type": "markdown",
      "metadata": {
        "id": "cjLxgclV2WXJ"
      },
      "source": [
        "## Selección de usuarios y películas\n",
        "\n",
        "Algunos criterios que se toman en cuenta:\n",
        "\n",
        "- Eliminar películas con menos ratings (relativamente no son populares)\n",
        "- Eliminar a los usuarios que dieron menos reseñas (son relativamente menos activos)"
      ]
    },
    {
      "cell_type": "code",
      "execution_count": 88,
      "metadata": {
        "colab": {
          "base_uri": "https://localhost:8080/"
        },
        "id": "rqe-2sOt2WXJ",
        "outputId": "bd227e5e-5326-4e4e-9d11-4e5c1978b6dc"
      },
      "outputs": [
        {
          "name": "stdout",
          "output_type": "stream",
          "text": [
            "Películas menos populares: 1205.0\n",
            "Usuarios menos activos: 2.0\n"
          ]
        }
      ],
      "source": [
        "f = ['count','mean']\n",
        "df_movie_summary = df_raiting.groupby('Movie_Id')['Rating'].agg(f)\n",
        "df_movie_summary.index = df_movie_summary.index.map(int)\n",
        "movie_benchmark = round(df_movie_summary['count'].quantile(0.7),0)\n",
        "drop_movie_list = df_movie_summary[df_movie_summary['count'] < movie_benchmark].index\n",
        "\n",
        "print('Películas menos populares: {}'.format(movie_benchmark))\n",
        "\n",
        "df_cust_summary = df_raiting.groupby('User_Id')['Rating'].agg(f)\n",
        "df_cust_summary.index = df_cust_summary.index.map(int)\n",
        "cust_benchmark = round(df_cust_summary['count'].quantile(0.7),0)\n",
        "drop_cust_list = df_cust_summary[df_cust_summary['count'] < cust_benchmark].index\n",
        "\n",
        "print('Usuarios menos activos: {}'.format(cust_benchmark))"
      ]
    },
    {
      "cell_type": "code",
      "execution_count": 89,
      "metadata": {
        "colab": {
          "base_uri": "https://localhost:8080/"
        },
        "id": "WMcmOwUc2WXK",
        "outputId": "f3b8a26a-025c-4be6-aff6-dc0230cf8d20"
      },
      "outputs": [
        {
          "name": "stdout",
          "output_type": "stream",
          "text": [
            "Tamaño original: (499852, 3)\n",
            "Tamaño después de la reducción: (364216, 3)\n"
          ]
        }
      ],
      "source": [
        "\"\"\"Después de reducir la base de datos, vemos cómo queda\"\"\"\n",
        "print('Tamaño original: {}'.format(df_raiting.shape))\n",
        "df_raiting = df_raiting[~df_raiting['Movie_Id'].isin(drop_movie_list)]\n",
        "df_raiting = df_raiting[~df_raiting['User_Id'].isin(drop_cust_list)]\n",
        "print('Tamaño después de la reducción: {}'.format(df_raiting.shape))"
      ]
    },
    {
      "cell_type": "code",
      "execution_count": 90,
      "metadata": {
        "id": "mxxCI9252WXK"
      },
      "outputs": [],
      "source": [
        "#df.to_csv('/content/drive/MyDrive/Colab Notebooks/data/netflix_new_ratings.csv')\n",
        "df.to_csv(path + \"netflix_new_ratings.csv\")"
      ]
    },
    {
      "cell_type": "markdown",
      "metadata": {
        "id": "2UxDP2y82WXL"
      },
      "source": [
        "## Carga del catálogo de películas"
      ]
    },
    {
      "cell_type": "code",
      "execution_count": 91,
      "metadata": {
        "colab": {
          "base_uri": "https://localhost:8080/"
        },
        "id": "_6_fXVHM2WXL",
        "outputId": "01bed8c2-1d27-4546-f024-96a1c13da6f1"
      },
      "outputs": [
        {
          "name": "stdout",
          "output_type": "stream",
          "text": [
            "            Year                          Name\n",
            "Movie_Id                                      \n",
            "1         2003.0               Dinosaur Planet\n",
            "2         2004.0    Isle of Man TT 2004 Review\n",
            "3         1997.0                     Character\n",
            "4         1994.0  Paula Abdul's Get Up & Dance\n",
            "5         2004.0      The Rise and Fall of ECW\n",
            "6         1997.0                          Sick\n",
            "7         1992.0                         8 Man\n",
            "8         2004.0    What the #$*! Do We Know!?\n",
            "9         1991.0      Class of Nuke 'Em High 2\n",
            "10        2001.0                       Fighter\n"
          ]
        }
      ],
      "source": [
        "\"\"\"Carga de la base de datos de películas\"\"\"\n",
        "df_movies = pd.read_csv(path + \"movie_titles.csv\", \n",
        "                        encoding = \"ISO-8859-1\", header = None, \n",
        "                        names = ['Movie_Id', 'Year', 'Name'])\n",
        "df_movies.set_index('Movie_Id', inplace = True)\n",
        "print (df_movies.head(10))"
      ]
    },
    {
      "cell_type": "code",
      "execution_count": 92,
      "metadata": {
        "id": "N2soyG4E2WXN"
      },
      "outputs": [],
      "source": [
        "#Esta dataframe, lo reservaremos para generar las recomendaciones\n",
        "movies = df_movies.copy() #hacemos una copia de df_movies\n",
        "movies = movies.reset_index()\n",
        "movies = movies[~movies['Movie_Id'].isin(drop_movie_list)]"
      ]
    },
    {
      "cell_type": "markdown",
      "metadata": {
        "id": "EL6_sSpI2WXL"
      },
      "source": [
        "## Construcción del sistema de recomendación usando filtrado colaborativo\n",
        "\n",
        "Usamos la biblioteca [Surprise](https://surprise.readthedocs.io/en/stable/getting_started.html) y se emplea el algoritmo de [factorización de matrices probabilísticas](https://surprise.readthedocs.io/en/stable/matrix_factorization.html#surprise.prediction_algorithms.matrix_factorization.SVD)."
      ]
    },
    {
      "cell_type": "code",
      "execution_count": 93,
      "metadata": {
        "colab": {
          "base_uri": "https://localhost:8080/"
        },
        "id": "nTOrMdjs1p-G",
        "outputId": "54795462-2b0e-45da-9586-8ee56fd33eae"
      },
      "outputs": [
        {
          "name": "stdout",
          "output_type": "stream",
          "text": [
            "Rendimiento sobre conjunto de prueba\n",
            "RMSE: 0.7195\n",
            "0.7194884210855614\n"
          ]
        }
      ],
      "source": [
        "\"\"\"Entrenar el modelo\"\"\"\n",
        "from surprise.model_selection import train_test_split\n",
        "from surprise import accuracy\n",
        "\n",
        "reader = Reader()\n",
        "data = Dataset.load_from_df(df_raiting[['User_Id', 'Movie_Id', 'Rating']], reader) #Traemos la base de datos completa\n",
        "\n",
        "trainset, testset = train_test_split(data, test_size=.25)\n",
        "svd = SVD() #definición del modelo\n",
        "trainset = data.build_full_trainset()\n",
        "svd.fit(trainset) #training\n",
        "\n",
        "print(\"Rendimiento sobre conjunto de prueba\")\n",
        "predictions = svd.test(testset)\n",
        "print(accuracy.rmse(predictions))"
      ]
    },
    {
      "cell_type": "code",
      "execution_count": 94,
      "metadata": {
        "colab": {
          "base_uri": "https://localhost:8080/"
        },
        "id": "RqluMgHUMmnB",
        "outputId": "4fac76f4-18f6-4fc6-ea74-958c43f1d29e"
      },
      "outputs": [
        {
          "data": {
            "text/plain": [
              "[(2028581, 30, 4.0),\n",
              " (1413163, 46, 2.0),\n",
              " (1716556, 30, 5.0),\n",
              " (1516387, 118, 2.0),\n",
              " (669124, 110, 4.0),\n",
              " (327075, 143, 4.0),\n",
              " (754397, 111, 4.0),\n",
              " (1077666, 104, 5.0),\n",
              " (1848936, 78, 4.0),\n",
              " (2513094, 143, 3.0)]"
            ]
          },
          "execution_count": 94,
          "metadata": {},
          "output_type": "execute_result"
        }
      ],
      "source": [
        "#Lista testset\n",
        "testset[:10]"
      ]
    },
    {
      "cell_type": "code",
      "execution_count": 95,
      "metadata": {
        "colab": {
          "base_uri": "https://localhost:8080/"
        },
        "id": "ZeVvKC5M2WXM",
        "outputId": "fac9b975-c7f1-4495-d8b5-c5728d6027dc",
        "scrolled": true
      },
      "outputs": [
        {
          "name": "stdout",
          "output_type": "stream",
          "text": [
            "Películas que ha visto el usuario 988097\n",
            "Movie_Id\n",
            "118    Rambo: First Blood Part II\n",
            "Name: Name, dtype: object\n"
          ]
        }
      ],
      "source": [
        "\"\"\" Analicemos a un usuario en particular \"\"\"\n",
        "#user_id de un usuario específico\n",
        "userid= 988097 \n",
        "user = df_raiting[(df_raiting['User_Id'] == userid) & (df_raiting['Rating'] == 5)]\n",
        "user = user.set_index('Movie_Id')\n",
        "user = user.join(df_movies)['Name']\n",
        "print(\"Películas que ha visto el usuario \"+str(userid))\n",
        "print(user)"
      ]
    },
    {
      "cell_type": "code",
      "execution_count": 96,
      "metadata": {
        "colab": {
          "base_uri": "https://localhost:8080/",
          "height": 357
        },
        "id": "TtTRBe_LK7Wd",
        "outputId": "71843866-4443-4522-cdca-329bfb722b7f"
      },
      "outputs": [
        {
          "data": {
            "text/html": [
              "<div>\n",
              "<style scoped>\n",
              "    .dataframe tbody tr th:only-of-type {\n",
              "        vertical-align: middle;\n",
              "    }\n",
              "\n",
              "    .dataframe tbody tr th {\n",
              "        vertical-align: top;\n",
              "    }\n",
              "\n",
              "    .dataframe thead th {\n",
              "        text-align: right;\n",
              "    }\n",
              "</style>\n",
              "<table border=\"1\" class=\"dataframe\">\n",
              "  <thead>\n",
              "    <tr style=\"text-align: right;\">\n",
              "      <th></th>\n",
              "      <th>Movie_Id</th>\n",
              "      <th>Year</th>\n",
              "      <th>Name</th>\n",
              "      <th>Estimate_Score</th>\n",
              "    </tr>\n",
              "  </thead>\n",
              "  <tbody>\n",
              "    <tr>\n",
              "      <th>67</th>\n",
              "      <td>68</td>\n",
              "      <td>2004.0</td>\n",
              "      <td>Invader Zim</td>\n",
              "      <td>4.869740</td>\n",
              "    </tr>\n",
              "    <tr>\n",
              "      <th>31</th>\n",
              "      <td>32</td>\n",
              "      <td>2004.0</td>\n",
              "      <td>ABC Primetime: Mel Gibson's The Passion of the...</td>\n",
              "      <td>4.377046</td>\n",
              "    </tr>\n",
              "    <tr>\n",
              "      <th>75</th>\n",
              "      <td>76</td>\n",
              "      <td>1952.0</td>\n",
              "      <td>I Love Lucy: Season 2</td>\n",
              "      <td>4.331103</td>\n",
              "    </tr>\n",
              "    <tr>\n",
              "      <th>46</th>\n",
              "      <td>47</td>\n",
              "      <td>1952.0</td>\n",
              "      <td>The Bad and the Beautiful</td>\n",
              "      <td>4.287220</td>\n",
              "    </tr>\n",
              "    <tr>\n",
              "      <th>32</th>\n",
              "      <td>33</td>\n",
              "      <td>2000.0</td>\n",
              "      <td>Aqua Teen Hunger Force: Vol. 1</td>\n",
              "      <td>4.275417</td>\n",
              "    </tr>\n",
              "    <tr>\n",
              "      <th>112</th>\n",
              "      <td>113</td>\n",
              "      <td>2000.0</td>\n",
              "      <td>Bruce Lee: A Warrior's Journey</td>\n",
              "      <td>4.252551</td>\n",
              "    </tr>\n",
              "    <tr>\n",
              "      <th>24</th>\n",
              "      <td>25</td>\n",
              "      <td>1997.0</td>\n",
              "      <td>Inspector Morse 31: Death Is Now My Neighbour</td>\n",
              "      <td>4.195884</td>\n",
              "    </tr>\n",
              "    <tr>\n",
              "      <th>51</th>\n",
              "      <td>52</td>\n",
              "      <td>2002.0</td>\n",
              "      <td>The Weather Underground</td>\n",
              "      <td>4.141365</td>\n",
              "    </tr>\n",
              "    <tr>\n",
              "      <th>43</th>\n",
              "      <td>44</td>\n",
              "      <td>1996.0</td>\n",
              "      <td>Spitfire Grill</td>\n",
              "      <td>4.116185</td>\n",
              "    </tr>\n",
              "    <tr>\n",
              "      <th>45</th>\n",
              "      <td>46</td>\n",
              "      <td>1964.0</td>\n",
              "      <td>Rudolph the Red-Nosed Reindeer</td>\n",
              "      <td>4.080009</td>\n",
              "    </tr>\n",
              "  </tbody>\n",
              "</table>\n",
              "</div>"
            ],
            "text/plain": [
              "     Movie_Id    Year                                               Name  \\\n",
              "67         68  2004.0                                        Invader Zim   \n",
              "31         32  2004.0  ABC Primetime: Mel Gibson's The Passion of the...   \n",
              "75         76  1952.0                              I Love Lucy: Season 2   \n",
              "46         47  1952.0                          The Bad and the Beautiful   \n",
              "32         33  2000.0                     Aqua Teen Hunger Force: Vol. 1   \n",
              "112       113  2000.0                     Bruce Lee: A Warrior's Journey   \n",
              "24         25  1997.0      Inspector Morse 31: Death Is Now My Neighbour   \n",
              "51         52  2002.0                            The Weather Underground   \n",
              "43         44  1996.0                                     Spitfire Grill   \n",
              "45         46  1964.0                     Rudolph the Red-Nosed Reindeer   \n",
              "\n",
              "     Estimate_Score  \n",
              "67         4.869740  \n",
              "31         4.377046  \n",
              "75         4.331103  \n",
              "46         4.287220  \n",
              "32         4.275417  \n",
              "112        4.252551  \n",
              "24         4.195884  \n",
              "51         4.141365  \n",
              "43         4.116185  \n",
              "45         4.080009  "
            ]
          },
          "execution_count": 96,
          "metadata": {},
          "output_type": "execute_result"
        }
      ],
      "source": [
        "movies['Estimate_Score'] = movies['Movie_Id'].apply(lambda x: svd.predict(userid, x).est)\n",
        "movies = movies.sort_values('Estimate_Score', ascending=False)\n",
        "movies.head(10)"
      ]
    },
    {
      "cell_type": "markdown",
      "metadata": {
        "id": "o5-vBmlZVh1m"
      },
      "source": [
        "## Ejercicio\n",
        "\n",
        "1. Ejecuta la libreta actual y obtenen la predición para un par de usuarios diferentes\n",
        "- Previamente (descarga la libreta actual y los datos de Kaggle)\n",
        "\n",
        "2. Aumenta el número de registros a analizar.\n",
        "  - Vuelve a ejecutar la libreta y genera las recomendaciones para los dos usuarios previos y genera dos nuevas predicciones (nuevos usuarios)\n"
      ]
    },
    {
      "cell_type": "markdown",
      "metadata": {},
      "source": [
        "### Ejercicio 1"
      ]
    },
    {
      "cell_type": "code",
      "execution_count": 97,
      "metadata": {},
      "outputs": [],
      "source": [
        "def get_movies_from(user_id, rating_gt, df_raiting):\n",
        "    user = df_raiting[(df_raiting['User_Id'] == user_id) & (df_raiting['Rating'] >= rating_gt)]\n",
        "    user = user.set_index('Movie_Id')\n",
        "    return user.join(df_movies)['Name']\n",
        "\n",
        "def predict_for(user_id, num_movies, svd, movies):\n",
        "    movies['Estimate_Score'] = movies['Movie_Id'].apply(lambda x: svd.predict(user_id, x).est)\n",
        "    movies = movies.sort_values('Estimate_Score', ascending=False)\n",
        "    return movies.head(num_movies)\n",
        "\n",
        "def movie_prediction(user_id, num_movies, rating_gt, movies, df_raiting, svd):\n",
        "    print(f\"User id: {user_id}\")\n",
        "    print(get_movies_from(user_id, rating_gt, df_raiting))\n",
        "    return predict_for(user_id, num_movies, svd, movies)"
      ]
    },
    {
      "cell_type": "code",
      "execution_count": 104,
      "metadata": {},
      "outputs": [
        {
          "name": "stdout",
          "output_type": "stream",
          "text": [
            "1527206 1527206\n"
          ]
        }
      ],
      "source": [
        "user_id_1 = df_raiting[\"User_Id\"].sample(n=1, random_state=1).values[0]\n",
        "user_id_2 = df_raiting[\"User_Id\"].sample(n=1, random_state=1).values[0]\n",
        "\n",
        "num_movies = 10\n",
        "rating_gt = 4\n",
        "\n",
        "print(user_id_1, user_id_2)"
      ]
    },
    {
      "cell_type": "code",
      "execution_count": 105,
      "metadata": {},
      "outputs": [
        {
          "name": "stdout",
          "output_type": "stream",
          "text": [
            "User id: 1527206\n",
            "Movie_Id\n",
            "30         Something's Gotta Give\n",
            "175                Reservoir Dogs\n",
            "191              X2: X-Men United\n",
            "215      That '70s Show: Season 1\n",
            "269                    Parenthood\n",
            "270    Sex and the City: Season 4\n",
            "299         Bridget Jones's Diary\n",
            "Name: Name, dtype: object\n"
          ]
        },
        {
          "data": {
            "text/html": [
              "<div>\n",
              "<style scoped>\n",
              "    .dataframe tbody tr th:only-of-type {\n",
              "        vertical-align: middle;\n",
              "    }\n",
              "\n",
              "    .dataframe tbody tr th {\n",
              "        vertical-align: top;\n",
              "    }\n",
              "\n",
              "    .dataframe thead th {\n",
              "        text-align: right;\n",
              "    }\n",
              "</style>\n",
              "<table border=\"1\" class=\"dataframe\">\n",
              "  <thead>\n",
              "    <tr style=\"text-align: right;\">\n",
              "      <th></th>\n",
              "      <th>Movie_Id</th>\n",
              "      <th>Year</th>\n",
              "      <th>Name</th>\n",
              "      <th>Estimate_Score</th>\n",
              "    </tr>\n",
              "  </thead>\n",
              "  <tbody>\n",
              "    <tr>\n",
              "      <th>32</th>\n",
              "      <td>33</td>\n",
              "      <td>2000.0</td>\n",
              "      <td>Aqua Teen Hunger Force: Vol. 1</td>\n",
              "      <td>4.287295</td>\n",
              "    </tr>\n",
              "    <tr>\n",
              "      <th>67</th>\n",
              "      <td>68</td>\n",
              "      <td>2004.0</td>\n",
              "      <td>Invader Zim</td>\n",
              "      <td>3.874652</td>\n",
              "    </tr>\n",
              "    <tr>\n",
              "      <th>31</th>\n",
              "      <td>32</td>\n",
              "      <td>2004.0</td>\n",
              "      <td>ABC Primetime: Mel Gibson's The Passion of the...</td>\n",
              "      <td>3.674186</td>\n",
              "    </tr>\n",
              "    <tr>\n",
              "      <th>137</th>\n",
              "      <td>138</td>\n",
              "      <td>1995.0</td>\n",
              "      <td>Star Trek: Voyager: Season 1</td>\n",
              "      <td>3.610547</td>\n",
              "    </tr>\n",
              "    <tr>\n",
              "      <th>43</th>\n",
              "      <td>44</td>\n",
              "      <td>1996.0</td>\n",
              "      <td>Spitfire Grill</td>\n",
              "      <td>3.462510</td>\n",
              "    </tr>\n",
              "    <tr>\n",
              "      <th>45</th>\n",
              "      <td>46</td>\n",
              "      <td>1964.0</td>\n",
              "      <td>Rudolph the Red-Nosed Reindeer</td>\n",
              "      <td>3.427608</td>\n",
              "    </tr>\n",
              "    <tr>\n",
              "      <th>78</th>\n",
              "      <td>79</td>\n",
              "      <td>1956.0</td>\n",
              "      <td>The Killing</td>\n",
              "      <td>3.394631</td>\n",
              "    </tr>\n",
              "    <tr>\n",
              "      <th>29</th>\n",
              "      <td>30</td>\n",
              "      <td>2003.0</td>\n",
              "      <td>Something's Gotta Give</td>\n",
              "      <td>3.387761</td>\n",
              "    </tr>\n",
              "    <tr>\n",
              "      <th>112</th>\n",
              "      <td>113</td>\n",
              "      <td>2000.0</td>\n",
              "      <td>Bruce Lee: A Warrior's Journey</td>\n",
              "      <td>3.368654</td>\n",
              "    </tr>\n",
              "    <tr>\n",
              "      <th>103</th>\n",
              "      <td>104</td>\n",
              "      <td>1965.0</td>\n",
              "      <td>The Great Race</td>\n",
              "      <td>3.329077</td>\n",
              "    </tr>\n",
              "  </tbody>\n",
              "</table>\n",
              "</div>"
            ],
            "text/plain": [
              "     Movie_Id    Year                                               Name  \\\n",
              "32         33  2000.0                     Aqua Teen Hunger Force: Vol. 1   \n",
              "67         68  2004.0                                        Invader Zim   \n",
              "31         32  2004.0  ABC Primetime: Mel Gibson's The Passion of the...   \n",
              "137       138  1995.0                       Star Trek: Voyager: Season 1   \n",
              "43         44  1996.0                                     Spitfire Grill   \n",
              "45         46  1964.0                     Rudolph the Red-Nosed Reindeer   \n",
              "78         79  1956.0                                        The Killing   \n",
              "29         30  2003.0                             Something's Gotta Give   \n",
              "112       113  2000.0                     Bruce Lee: A Warrior's Journey   \n",
              "103       104  1965.0                                     The Great Race   \n",
              "\n",
              "     Estimate_Score  \n",
              "32         4.287295  \n",
              "67         3.874652  \n",
              "31         3.674186  \n",
              "137        3.610547  \n",
              "43         3.462510  \n",
              "45         3.427608  \n",
              "78         3.394631  \n",
              "29         3.387761  \n",
              "112        3.368654  \n",
              "103        3.329077  "
            ]
          },
          "execution_count": 105,
          "metadata": {},
          "output_type": "execute_result"
        }
      ],
      "source": [
        "movie_prediction(user_id_1, num_movies, rating_gt, movies, df_raiting, svd)"
      ]
    },
    {
      "cell_type": "code",
      "execution_count": 106,
      "metadata": {},
      "outputs": [
        {
          "name": "stdout",
          "output_type": "stream",
          "text": [
            "User id: 1527206\n",
            "Movie_Id\n",
            "30         Something's Gotta Give\n",
            "175                Reservoir Dogs\n",
            "191              X2: X-Men United\n",
            "215      That '70s Show: Season 1\n",
            "269                    Parenthood\n",
            "270    Sex and the City: Season 4\n",
            "299         Bridget Jones's Diary\n",
            "Name: Name, dtype: object\n"
          ]
        },
        {
          "data": {
            "text/html": [
              "<div>\n",
              "<style scoped>\n",
              "    .dataframe tbody tr th:only-of-type {\n",
              "        vertical-align: middle;\n",
              "    }\n",
              "\n",
              "    .dataframe tbody tr th {\n",
              "        vertical-align: top;\n",
              "    }\n",
              "\n",
              "    .dataframe thead th {\n",
              "        text-align: right;\n",
              "    }\n",
              "</style>\n",
              "<table border=\"1\" class=\"dataframe\">\n",
              "  <thead>\n",
              "    <tr style=\"text-align: right;\">\n",
              "      <th></th>\n",
              "      <th>Movie_Id</th>\n",
              "      <th>Year</th>\n",
              "      <th>Name</th>\n",
              "      <th>Estimate_Score</th>\n",
              "    </tr>\n",
              "  </thead>\n",
              "  <tbody>\n",
              "    <tr>\n",
              "      <th>32</th>\n",
              "      <td>33</td>\n",
              "      <td>2000.0</td>\n",
              "      <td>Aqua Teen Hunger Force: Vol. 1</td>\n",
              "      <td>4.287295</td>\n",
              "    </tr>\n",
              "    <tr>\n",
              "      <th>67</th>\n",
              "      <td>68</td>\n",
              "      <td>2004.0</td>\n",
              "      <td>Invader Zim</td>\n",
              "      <td>3.874652</td>\n",
              "    </tr>\n",
              "    <tr>\n",
              "      <th>31</th>\n",
              "      <td>32</td>\n",
              "      <td>2004.0</td>\n",
              "      <td>ABC Primetime: Mel Gibson's The Passion of the...</td>\n",
              "      <td>3.674186</td>\n",
              "    </tr>\n",
              "    <tr>\n",
              "      <th>137</th>\n",
              "      <td>138</td>\n",
              "      <td>1995.0</td>\n",
              "      <td>Star Trek: Voyager: Season 1</td>\n",
              "      <td>3.610547</td>\n",
              "    </tr>\n",
              "    <tr>\n",
              "      <th>43</th>\n",
              "      <td>44</td>\n",
              "      <td>1996.0</td>\n",
              "      <td>Spitfire Grill</td>\n",
              "      <td>3.462510</td>\n",
              "    </tr>\n",
              "    <tr>\n",
              "      <th>45</th>\n",
              "      <td>46</td>\n",
              "      <td>1964.0</td>\n",
              "      <td>Rudolph the Red-Nosed Reindeer</td>\n",
              "      <td>3.427608</td>\n",
              "    </tr>\n",
              "    <tr>\n",
              "      <th>78</th>\n",
              "      <td>79</td>\n",
              "      <td>1956.0</td>\n",
              "      <td>The Killing</td>\n",
              "      <td>3.394631</td>\n",
              "    </tr>\n",
              "    <tr>\n",
              "      <th>29</th>\n",
              "      <td>30</td>\n",
              "      <td>2003.0</td>\n",
              "      <td>Something's Gotta Give</td>\n",
              "      <td>3.387761</td>\n",
              "    </tr>\n",
              "    <tr>\n",
              "      <th>112</th>\n",
              "      <td>113</td>\n",
              "      <td>2000.0</td>\n",
              "      <td>Bruce Lee: A Warrior's Journey</td>\n",
              "      <td>3.368654</td>\n",
              "    </tr>\n",
              "    <tr>\n",
              "      <th>103</th>\n",
              "      <td>104</td>\n",
              "      <td>1965.0</td>\n",
              "      <td>The Great Race</td>\n",
              "      <td>3.329077</td>\n",
              "    </tr>\n",
              "  </tbody>\n",
              "</table>\n",
              "</div>"
            ],
            "text/plain": [
              "     Movie_Id    Year                                               Name  \\\n",
              "32         33  2000.0                     Aqua Teen Hunger Force: Vol. 1   \n",
              "67         68  2004.0                                        Invader Zim   \n",
              "31         32  2004.0  ABC Primetime: Mel Gibson's The Passion of the...   \n",
              "137       138  1995.0                       Star Trek: Voyager: Season 1   \n",
              "43         44  1996.0                                     Spitfire Grill   \n",
              "45         46  1964.0                     Rudolph the Red-Nosed Reindeer   \n",
              "78         79  1956.0                                        The Killing   \n",
              "29         30  2003.0                             Something's Gotta Give   \n",
              "112       113  2000.0                     Bruce Lee: A Warrior's Journey   \n",
              "103       104  1965.0                                     The Great Race   \n",
              "\n",
              "     Estimate_Score  \n",
              "32         4.287295  \n",
              "67         3.874652  \n",
              "31         3.674186  \n",
              "137        3.610547  \n",
              "43         3.462510  \n",
              "45         3.427608  \n",
              "78         3.394631  \n",
              "29         3.387761  \n",
              "112        3.368654  \n",
              "103        3.329077  "
            ]
          },
          "execution_count": 106,
          "metadata": {},
          "output_type": "execute_result"
        }
      ],
      "source": [
        "movie_prediction(user_id_2, num_movies, rating_gt, movies, df_raiting, svd)"
      ]
    },
    {
      "cell_type": "markdown",
      "metadata": {},
      "source": [
        "### Ejercicio 2"
      ]
    },
    {
      "cell_type": "code",
      "execution_count": 101,
      "metadata": {},
      "outputs": [
        {
          "data": {
            "text/plain": [
              "<surprise.prediction_algorithms.matrix_factorization.SVD at 0x7ff98eba92e0>"
            ]
          },
          "execution_count": 101,
          "metadata": {},
          "output_type": "execute_result"
        }
      ],
      "source": [
        "df_raiting = df[:500000*3]\n",
        "\"\"\"Crear una matriz para el ID de la película (procesamiento más eficiente)\"\"\"\n",
        "df_nan = pd.DataFrame(pd.isnull(df_raiting.Rating))\n",
        "df_nan = df_nan[df_nan['Rating'] == True]\n",
        "df_nan = df_nan.reset_index()\n",
        "\n",
        "movie_np = []\n",
        "movie_id = 1\n",
        "\n",
        "for i,j in zip(df_nan['index'][1:],df_nan['index'][:-1]):\n",
        "    temp = np.full((1,i-j-1), movie_id) #Return a new array of given shape and type, filled with movie_id\n",
        "    movie_np = np.append(movie_np, temp)\n",
        "    movie_id += 1\n",
        "\n",
        "# Se toma en cuenta el último registro y la longitud correspondiente\n",
        "last_record = np.full((1,len(df_raiting) - df_nan.iloc[-1, 0] - 1),movie_id)\n",
        "movie_np = np.append(movie_np, last_record) #indices de las películas\n",
        "\n",
        "\"\"\"Visualizamos nuevamente\"\"\"\n",
        "df_raiting = df_raiting[pd.notnull(df_raiting['Rating'])]\n",
        "\n",
        "df_raiting['Movie_Id'] = movie_np.astype(int)\n",
        "df_raiting['User_Id'] = df_raiting['User_Id'].astype(int)\n",
        "\n",
        "\"\"\"Después de reducir la base de datos, vemos cómo queda\"\"\"\n",
        "df_raiting = df_raiting[~df_raiting['Movie_Id'].isin(drop_movie_list)]\n",
        "df_raiting = df_raiting[~df_raiting['User_Id'].isin(drop_cust_list)]\n",
        "\n",
        "\n",
        "\"\"\"Entrenar el modelo\"\"\"\n",
        "\n",
        "reader = Reader()\n",
        "data = Dataset.load_from_df(df_raiting[['User_Id', 'Movie_Id', 'Rating']], reader) #Traemos la base de datos completa\n",
        "\n",
        "trainset, testset = train_test_split(data, test_size=.25)\n",
        "svd2 = SVD() #definición del modelo\n",
        "trainset = data.build_full_trainset()\n",
        "svd2.fit(trainset) #training"
      ]
    },
    {
      "cell_type": "code",
      "execution_count": 109,
      "metadata": {},
      "outputs": [
        {
          "name": "stdout",
          "output_type": "stream",
          "text": [
            "User id: 1527206\n",
            "Movie_Id\n",
            "30         Something's Gotta Give\n",
            "175                Reservoir Dogs\n",
            "191              X2: X-Men United\n",
            "215      That '70s Show: Season 1\n",
            "269                    Parenthood\n",
            "270    Sex and the City: Season 4\n",
            "299         Bridget Jones's Diary\n",
            "Name: Name, dtype: object\n"
          ]
        },
        {
          "data": {
            "text/html": [
              "<div>\n",
              "<style scoped>\n",
              "    .dataframe tbody tr th:only-of-type {\n",
              "        vertical-align: middle;\n",
              "    }\n",
              "\n",
              "    .dataframe tbody tr th {\n",
              "        vertical-align: top;\n",
              "    }\n",
              "\n",
              "    .dataframe thead th {\n",
              "        text-align: right;\n",
              "    }\n",
              "</style>\n",
              "<table border=\"1\" class=\"dataframe\">\n",
              "  <thead>\n",
              "    <tr style=\"text-align: right;\">\n",
              "      <th></th>\n",
              "      <th>Movie_Id</th>\n",
              "      <th>Year</th>\n",
              "      <th>Name</th>\n",
              "      <th>Estimate_Score</th>\n",
              "    </tr>\n",
              "  </thead>\n",
              "  <tbody>\n",
              "    <tr>\n",
              "      <th>32</th>\n",
              "      <td>33</td>\n",
              "      <td>2000.0</td>\n",
              "      <td>Aqua Teen Hunger Force: Vol. 1</td>\n",
              "      <td>4.287295</td>\n",
              "    </tr>\n",
              "    <tr>\n",
              "      <th>67</th>\n",
              "      <td>68</td>\n",
              "      <td>2004.0</td>\n",
              "      <td>Invader Zim</td>\n",
              "      <td>3.874652</td>\n",
              "    </tr>\n",
              "    <tr>\n",
              "      <th>31</th>\n",
              "      <td>32</td>\n",
              "      <td>2004.0</td>\n",
              "      <td>ABC Primetime: Mel Gibson's The Passion of the...</td>\n",
              "      <td>3.674186</td>\n",
              "    </tr>\n",
              "    <tr>\n",
              "      <th>137</th>\n",
              "      <td>138</td>\n",
              "      <td>1995.0</td>\n",
              "      <td>Star Trek: Voyager: Season 1</td>\n",
              "      <td>3.610547</td>\n",
              "    </tr>\n",
              "    <tr>\n",
              "      <th>43</th>\n",
              "      <td>44</td>\n",
              "      <td>1996.0</td>\n",
              "      <td>Spitfire Grill</td>\n",
              "      <td>3.462510</td>\n",
              "    </tr>\n",
              "    <tr>\n",
              "      <th>45</th>\n",
              "      <td>46</td>\n",
              "      <td>1964.0</td>\n",
              "      <td>Rudolph the Red-Nosed Reindeer</td>\n",
              "      <td>3.427608</td>\n",
              "    </tr>\n",
              "    <tr>\n",
              "      <th>78</th>\n",
              "      <td>79</td>\n",
              "      <td>1956.0</td>\n",
              "      <td>The Killing</td>\n",
              "      <td>3.394631</td>\n",
              "    </tr>\n",
              "    <tr>\n",
              "      <th>29</th>\n",
              "      <td>30</td>\n",
              "      <td>2003.0</td>\n",
              "      <td>Something's Gotta Give</td>\n",
              "      <td>3.387761</td>\n",
              "    </tr>\n",
              "    <tr>\n",
              "      <th>112</th>\n",
              "      <td>113</td>\n",
              "      <td>2000.0</td>\n",
              "      <td>Bruce Lee: A Warrior's Journey</td>\n",
              "      <td>3.368654</td>\n",
              "    </tr>\n",
              "    <tr>\n",
              "      <th>103</th>\n",
              "      <td>104</td>\n",
              "      <td>1965.0</td>\n",
              "      <td>The Great Race</td>\n",
              "      <td>3.329077</td>\n",
              "    </tr>\n",
              "  </tbody>\n",
              "</table>\n",
              "</div>"
            ],
            "text/plain": [
              "     Movie_Id    Year                                               Name  \\\n",
              "32         33  2000.0                     Aqua Teen Hunger Force: Vol. 1   \n",
              "67         68  2004.0                                        Invader Zim   \n",
              "31         32  2004.0  ABC Primetime: Mel Gibson's The Passion of the...   \n",
              "137       138  1995.0                       Star Trek: Voyager: Season 1   \n",
              "43         44  1996.0                                     Spitfire Grill   \n",
              "45         46  1964.0                     Rudolph the Red-Nosed Reindeer   \n",
              "78         79  1956.0                                        The Killing   \n",
              "29         30  2003.0                             Something's Gotta Give   \n",
              "112       113  2000.0                     Bruce Lee: A Warrior's Journey   \n",
              "103       104  1965.0                                     The Great Race   \n",
              "\n",
              "     Estimate_Score  \n",
              "32         4.287295  \n",
              "67         3.874652  \n",
              "31         3.674186  \n",
              "137        3.610547  \n",
              "43         3.462510  \n",
              "45         3.427608  \n",
              "78         3.394631  \n",
              "29         3.387761  \n",
              "112        3.368654  \n",
              "103        3.329077  "
            ]
          },
          "execution_count": 109,
          "metadata": {},
          "output_type": "execute_result"
        }
      ],
      "source": [
        "movie_prediction(user_id_1, num_movies, rating_gt, movies, df_raiting, svd)"
      ]
    },
    {
      "cell_type": "code",
      "execution_count": 110,
      "metadata": {},
      "outputs": [
        {
          "name": "stdout",
          "output_type": "stream",
          "text": [
            "User id: 1527206\n",
            "Movie_Id\n",
            "30         Something's Gotta Give\n",
            "175                Reservoir Dogs\n",
            "191              X2: X-Men United\n",
            "215      That '70s Show: Season 1\n",
            "269                    Parenthood\n",
            "270    Sex and the City: Season 4\n",
            "299         Bridget Jones's Diary\n",
            "Name: Name, dtype: object\n"
          ]
        },
        {
          "data": {
            "text/html": [
              "<div>\n",
              "<style scoped>\n",
              "    .dataframe tbody tr th:only-of-type {\n",
              "        vertical-align: middle;\n",
              "    }\n",
              "\n",
              "    .dataframe tbody tr th {\n",
              "        vertical-align: top;\n",
              "    }\n",
              "\n",
              "    .dataframe thead th {\n",
              "        text-align: right;\n",
              "    }\n",
              "</style>\n",
              "<table border=\"1\" class=\"dataframe\">\n",
              "  <thead>\n",
              "    <tr style=\"text-align: right;\">\n",
              "      <th></th>\n",
              "      <th>Movie_Id</th>\n",
              "      <th>Year</th>\n",
              "      <th>Name</th>\n",
              "      <th>Estimate_Score</th>\n",
              "    </tr>\n",
              "  </thead>\n",
              "  <tbody>\n",
              "    <tr>\n",
              "      <th>132</th>\n",
              "      <td>133</td>\n",
              "      <td>2003.0</td>\n",
              "      <td>Viva La Bam: Season 1</td>\n",
              "      <td>4.485386</td>\n",
              "    </tr>\n",
              "    <tr>\n",
              "      <th>269</th>\n",
              "      <td>270</td>\n",
              "      <td>2001.0</td>\n",
              "      <td>Sex and the City: Season 4</td>\n",
              "      <td>4.473794</td>\n",
              "    </tr>\n",
              "    <tr>\n",
              "      <th>31</th>\n",
              "      <td>32</td>\n",
              "      <td>2004.0</td>\n",
              "      <td>ABC Primetime: Mel Gibson's The Passion of the...</td>\n",
              "      <td>4.316253</td>\n",
              "    </tr>\n",
              "    <tr>\n",
              "      <th>214</th>\n",
              "      <td>215</td>\n",
              "      <td>1998.0</td>\n",
              "      <td>That '70s Show: Season 1</td>\n",
              "      <td>4.133312</td>\n",
              "    </tr>\n",
              "    <tr>\n",
              "      <th>75</th>\n",
              "      <td>76</td>\n",
              "      <td>1952.0</td>\n",
              "      <td>I Love Lucy: Season 2</td>\n",
              "      <td>4.030418</td>\n",
              "    </tr>\n",
              "    <tr>\n",
              "      <th>228</th>\n",
              "      <td>229</td>\n",
              "      <td>2003.0</td>\n",
              "      <td>Peter Gabriel: Growing Up Live</td>\n",
              "      <td>4.014793</td>\n",
              "    </tr>\n",
              "    <tr>\n",
              "      <th>240</th>\n",
              "      <td>241</td>\n",
              "      <td>1959.0</td>\n",
              "      <td>North by Northwest</td>\n",
              "      <td>3.991362</td>\n",
              "    </tr>\n",
              "    <tr>\n",
              "      <th>67</th>\n",
              "      <td>68</td>\n",
              "      <td>2004.0</td>\n",
              "      <td>Invader Zim</td>\n",
              "      <td>3.957210</td>\n",
              "    </tr>\n",
              "    <tr>\n",
              "      <th>160</th>\n",
              "      <td>161</td>\n",
              "      <td>1939.0</td>\n",
              "      <td>Ninotchka</td>\n",
              "      <td>3.952972</td>\n",
              "    </tr>\n",
              "    <tr>\n",
              "      <th>241</th>\n",
              "      <td>242</td>\n",
              "      <td>1995.0</td>\n",
              "      <td>Neon Genesis Evangelion: The End of Evangelion</td>\n",
              "      <td>3.909384</td>\n",
              "    </tr>\n",
              "  </tbody>\n",
              "</table>\n",
              "</div>"
            ],
            "text/plain": [
              "     Movie_Id    Year                                               Name  \\\n",
              "132       133  2003.0                              Viva La Bam: Season 1   \n",
              "269       270  2001.0                         Sex and the City: Season 4   \n",
              "31         32  2004.0  ABC Primetime: Mel Gibson's The Passion of the...   \n",
              "214       215  1998.0                           That '70s Show: Season 1   \n",
              "75         76  1952.0                              I Love Lucy: Season 2   \n",
              "228       229  2003.0                     Peter Gabriel: Growing Up Live   \n",
              "240       241  1959.0                                 North by Northwest   \n",
              "67         68  2004.0                                        Invader Zim   \n",
              "160       161  1939.0                                          Ninotchka   \n",
              "241       242  1995.0     Neon Genesis Evangelion: The End of Evangelion   \n",
              "\n",
              "     Estimate_Score  \n",
              "132        4.485386  \n",
              "269        4.473794  \n",
              "31         4.316253  \n",
              "214        4.133312  \n",
              "75         4.030418  \n",
              "228        4.014793  \n",
              "240        3.991362  \n",
              "67         3.957210  \n",
              "160        3.952972  \n",
              "241        3.909384  "
            ]
          },
          "execution_count": 110,
          "metadata": {},
          "output_type": "execute_result"
        }
      ],
      "source": [
        "movie_prediction(user_id_1, num_movies, rating_gt, movies, df_raiting, svd2)"
      ]
    },
    {
      "cell_type": "code",
      "execution_count": null,
      "metadata": {},
      "outputs": [],
      "source": []
    }
  ],
  "metadata": {
    "colab": {
      "collapsed_sections": [],
      "include_colab_link": true,
      "name": "4d_casoNetflix.ipynb",
      "provenance": []
    },
    "interpreter": {
      "hash": "e8e5b3663f46d3e30364c3fda14ff5830effa7f7e28c52bdd1713a14cbd3cb6a"
    },
    "kernelspec": {
      "display_name": "Python 3.8.2 64-bit ('base': conda)",
      "name": "python3"
    },
    "language_info": {
      "codemirror_mode": {
        "name": "ipython",
        "version": 3
      },
      "file_extension": ".py",
      "mimetype": "text/x-python",
      "name": "python",
      "nbconvert_exporter": "python",
      "pygments_lexer": "ipython3",
      "version": "3.8.2"
    }
  },
  "nbformat": 4,
  "nbformat_minor": 0
}

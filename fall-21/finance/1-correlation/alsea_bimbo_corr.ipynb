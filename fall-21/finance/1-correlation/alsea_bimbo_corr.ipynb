{
 "cells": [
  {
   "cell_type": "code",
   "execution_count": 35,
   "source": [
    "import numpy as np\n",
    "import pandas as pd\n",
    "import plotly.graph_objects as go\n",
    "from plotly.subplots import make_subplots\n",
    "import seaborn as sns\n",
    "import matplotlib.pyplot as plt"
   ],
   "outputs": [],
   "metadata": {}
  },
  {
   "cell_type": "code",
   "execution_count": 12,
   "source": [
    "df = pd.read_csv('data.csv')\n",
    "df.head()"
   ],
   "outputs": [
    {
     "output_type": "execute_result",
     "data": {
      "text/plain": [
       "    FECHA PRECIO_ALSEA PRECIO_BIMBO  MXN_USD MARGEN_EBITDA_ALSEA  \\\n",
       "0  4T2006  12.55991538  11.80309849   10.809                16.3   \n",
       "1  1T2007  17.42904202  12.13970538  11.0244                17.0   \n",
       "2  2T2007  16.28282047  14.67157061   10.811                16.3   \n",
       "3  3T2007  15.51071623   13.4392203   10.926                17.1   \n",
       "4  4T2007  13.12577203  14.31506927  10.9195                16.7   \n",
       "\n",
       "  MARGEN_EBITDA_BIMBO  EBITDA_ALSEA_MILLONES EBITDA_BIMBO_MILLONES  \n",
       "0                11.7                    947                 7,509  \n",
       "1                11.7                  1,052                 7,769  \n",
       "2                11.4                  1,038                 7,713  \n",
       "3                11.6                  1,136                 8,137  \n",
       "4                11.4                  1,169                 8,252  "
      ],
      "text/html": [
       "<div>\n",
       "<style scoped>\n",
       "    .dataframe tbody tr th:only-of-type {\n",
       "        vertical-align: middle;\n",
       "    }\n",
       "\n",
       "    .dataframe tbody tr th {\n",
       "        vertical-align: top;\n",
       "    }\n",
       "\n",
       "    .dataframe thead th {\n",
       "        text-align: right;\n",
       "    }\n",
       "</style>\n",
       "<table border=\"1\" class=\"dataframe\">\n",
       "  <thead>\n",
       "    <tr style=\"text-align: right;\">\n",
       "      <th></th>\n",
       "      <th>FECHA</th>\n",
       "      <th>PRECIO_ALSEA</th>\n",
       "      <th>PRECIO_BIMBO</th>\n",
       "      <th>MXN_USD</th>\n",
       "      <th>MARGEN_EBITDA_ALSEA</th>\n",
       "      <th>MARGEN_EBITDA_BIMBO</th>\n",
       "      <th>EBITDA_ALSEA_MILLONES</th>\n",
       "      <th>EBITDA_BIMBO_MILLONES</th>\n",
       "    </tr>\n",
       "  </thead>\n",
       "  <tbody>\n",
       "    <tr>\n",
       "      <th>0</th>\n",
       "      <td>4T2006</td>\n",
       "      <td>12.55991538</td>\n",
       "      <td>11.80309849</td>\n",
       "      <td>10.809</td>\n",
       "      <td>16.3</td>\n",
       "      <td>11.7</td>\n",
       "      <td>947</td>\n",
       "      <td>7,509</td>\n",
       "    </tr>\n",
       "    <tr>\n",
       "      <th>1</th>\n",
       "      <td>1T2007</td>\n",
       "      <td>17.42904202</td>\n",
       "      <td>12.13970538</td>\n",
       "      <td>11.0244</td>\n",
       "      <td>17.0</td>\n",
       "      <td>11.7</td>\n",
       "      <td>1,052</td>\n",
       "      <td>7,769</td>\n",
       "    </tr>\n",
       "    <tr>\n",
       "      <th>2</th>\n",
       "      <td>2T2007</td>\n",
       "      <td>16.28282047</td>\n",
       "      <td>14.67157061</td>\n",
       "      <td>10.811</td>\n",
       "      <td>16.3</td>\n",
       "      <td>11.4</td>\n",
       "      <td>1,038</td>\n",
       "      <td>7,713</td>\n",
       "    </tr>\n",
       "    <tr>\n",
       "      <th>3</th>\n",
       "      <td>3T2007</td>\n",
       "      <td>15.51071623</td>\n",
       "      <td>13.4392203</td>\n",
       "      <td>10.926</td>\n",
       "      <td>17.1</td>\n",
       "      <td>11.6</td>\n",
       "      <td>1,136</td>\n",
       "      <td>8,137</td>\n",
       "    </tr>\n",
       "    <tr>\n",
       "      <th>4</th>\n",
       "      <td>4T2007</td>\n",
       "      <td>13.12577203</td>\n",
       "      <td>14.31506927</td>\n",
       "      <td>10.9195</td>\n",
       "      <td>16.7</td>\n",
       "      <td>11.4</td>\n",
       "      <td>1,169</td>\n",
       "      <td>8,252</td>\n",
       "    </tr>\n",
       "  </tbody>\n",
       "</table>\n",
       "</div>"
      ]
     },
     "metadata": {},
     "execution_count": 12
    }
   ],
   "metadata": {}
  },
  {
   "cell_type": "code",
   "execution_count": 37,
   "source": [
    "data_df = df.iloc[:59, 1:].replace(',','', regex=True).astype(float)\n",
    "fig = plt.figure(figsize=(8,6))\n",
    "sns.heatmap(data_df.corr(), annot=True, vmin=-1, vmax=1)\n",
    "plt.show()"
   ],
   "outputs": [
    {
     "output_type": "display_data",
     "data": {
      "text/plain": [
       "<Figure size 576x432 with 2 Axes>"
      ],
      "image/svg+xml": "<?xml version=\"1.0\" encoding=\"utf-8\" standalone=\"no\"?>\n<!DOCTYPE svg PUBLIC \"-//W3C//DTD SVG 1.1//EN\"\n  \"http://www.w3.org/Graphics/SVG/1.1/DTD/svg11.dtd\">\n<!-- Created with matplotlib (https://matplotlib.org/) -->\n<svg height=\"483.440469pt\" version=\"1.1\" viewBox=\"0 0 586.874562 483.440469\" width=\"586.874562pt\" xmlns=\"http://www.w3.org/2000/svg\" xmlns:xlink=\"http://www.w3.org/1999/xlink\">\n <metadata>\n  <rdf:RDF xmlns:cc=\"http://creativecommons.org/ns#\" xmlns:dc=\"http://purl.org/dc/elements/1.1/\" xmlns:rdf=\"http://www.w3.org/1999/02/22-rdf-syntax-ns#\">\n   <cc:Work>\n    <dc:type rdf:resource=\"http://purl.org/dc/dcmitype/StillImage\"/>\n    <dc:date>2021-08-20T09:46:17.446916</dc:date>\n    <dc:format>image/svg+xml</dc:format>\n    <dc:creator>\n     <cc:Agent>\n      <dc:title>Matplotlib v3.3.4, https://matplotlib.org/</dc:title>\n     </cc:Agent>\n    </dc:creator>\n   </cc:Work>\n  </rdf:RDF>\n </metadata>\n <defs>\n  <style type=\"text/css\">*{stroke-linecap:butt;stroke-linejoin:round;}</style>\n </defs>\n <g id=\"figure_1\">\n  <g id=\"patch_1\">\n   <path d=\"M 0 483.440469 \nL 586.874562 483.440469 \nL 586.874562 0 \nL 0 0 \nz\n\" style=\"fill:none;\"/>\n  </g>\n  <g id=\"axes_1\">\n   <g id=\"patch_2\">\n    <path d=\"M 146.28125 337.159219 \nL 503.40125 337.159219 \nL 503.40125 10.999219 \nL 146.28125 10.999219 \nz\n\" style=\"fill:#ffffff;\"/>\n   </g>\n   <g id=\"QuadMesh_1\">\n    <path clip-path=\"url(#p744bb6532f)\" d=\"M 146.28125 10.999219 \nL 197.298393 10.999219 \nL 197.298393 57.593504 \nL 146.28125 57.593504 \nL 146.28125 10.999219 \n\" style=\"fill:#faebdd;\"/>\n    <path clip-path=\"url(#p744bb6532f)\" d=\"M 197.298393 10.999219 \nL 248.315536 10.999219 \nL 248.315536 57.593504 \nL 197.298393 57.593504 \nL 197.298393 10.999219 \n\" style=\"fill:#f7caac;\"/>\n    <path clip-path=\"url(#p744bb6532f)\" d=\"M 248.315536 10.999219 \nL 299.332679 10.999219 \nL 299.332679 57.593504 \nL 248.315536 57.593504 \nL 248.315536 10.999219 \n\" style=\"fill:#f69b71;\"/>\n    <path clip-path=\"url(#p744bb6532f)\" d=\"M 299.332679 10.999219 \nL 350.349821 10.999219 \nL 350.349821 57.593504 \nL 299.332679 57.593504 \nL 299.332679 10.999219 \n\" style=\"fill:#e03143;\"/>\n    <path clip-path=\"url(#p744bb6532f)\" d=\"M 350.349821 10.999219 \nL 401.366964 10.999219 \nL 401.366964 57.593504 \nL 350.349821 57.593504 \nL 350.349821 10.999219 \n\" style=\"fill:#6e1f57;\"/>\n    <path clip-path=\"url(#p744bb6532f)\" d=\"M 401.366964 10.999219 \nL 452.384107 10.999219 \nL 452.384107 57.593504 \nL 401.366964 57.593504 \nL 401.366964 10.999219 \n\" style=\"fill:#f58f66;\"/>\n    <path clip-path=\"url(#p744bb6532f)\" d=\"M 452.384107 10.999219 \nL 503.40125 10.999219 \nL 503.40125 57.593504 \nL 452.384107 57.593504 \nL 452.384107 10.999219 \n\" style=\"fill:#f4835b;\"/>\n    <path clip-path=\"url(#p744bb6532f)\" d=\"M 146.28125 57.593504 \nL 197.298393 57.593504 \nL 197.298393 104.18779 \nL 146.28125 104.18779 \nL 146.28125 57.593504 \n\" style=\"fill:#f7caac;\"/>\n    <path clip-path=\"url(#p744bb6532f)\" d=\"M 197.298393 57.593504 \nL 248.315536 57.593504 \nL 248.315536 104.18779 \nL 197.298393 104.18779 \nL 197.298393 57.593504 \n\" style=\"fill:#faebdd;\"/>\n    <path clip-path=\"url(#p744bb6532f)\" d=\"M 248.315536 57.593504 \nL 299.332679 57.593504 \nL 299.332679 104.18779 \nL 248.315536 104.18779 \nL 248.315536 57.593504 \n\" style=\"fill:#f6b893;\"/>\n    <path clip-path=\"url(#p744bb6532f)\" d=\"M 299.332679 57.593504 \nL 350.349821 57.593504 \nL 350.349821 104.18779 \nL 299.332679 104.18779 \nL 299.332679 57.593504 \n\" style=\"fill:#e03143;\"/>\n    <path clip-path=\"url(#p744bb6532f)\" d=\"M 350.349821 57.593504 \nL 401.366964 57.593504 \nL 401.366964 104.18779 \nL 350.349821 104.18779 \nL 350.349821 57.593504 \n\" style=\"fill:#811e5a;\"/>\n    <path clip-path=\"url(#p744bb6532f)\" d=\"M 401.366964 57.593504 \nL 452.384107 57.593504 \nL 452.384107 104.18779 \nL 401.366964 104.18779 \nL 401.366964 57.593504 \n\" style=\"fill:#f6a077;\"/>\n    <path clip-path=\"url(#p744bb6532f)\" d=\"M 452.384107 57.593504 \nL 503.40125 57.593504 \nL 503.40125 104.18779 \nL 452.384107 104.18779 \nL 452.384107 57.593504 \n\" style=\"fill:#f6b18b;\"/>\n    <path clip-path=\"url(#p744bb6532f)\" d=\"M 146.28125 104.18779 \nL 197.298393 104.18779 \nL 197.298393 150.782076 \nL 146.28125 150.782076 \nL 146.28125 104.18779 \n\" style=\"fill:#f69b71;\"/>\n    <path clip-path=\"url(#p744bb6532f)\" d=\"M 197.298393 104.18779 \nL 248.315536 104.18779 \nL 248.315536 150.782076 \nL 197.298393 150.782076 \nL 197.298393 104.18779 \n\" style=\"fill:#f6b893;\"/>\n    <path clip-path=\"url(#p744bb6532f)\" d=\"M 248.315536 104.18779 \nL 299.332679 104.18779 \nL 299.332679 150.782076 \nL 248.315536 150.782076 \nL 248.315536 104.18779 \n\" style=\"fill:#faebdd;\"/>\n    <path clip-path=\"url(#p744bb6532f)\" d=\"M 299.332679 104.18779 \nL 350.349821 104.18779 \nL 350.349821 150.782076 \nL 299.332679 150.782076 \nL 299.332679 104.18779 \n\" style=\"fill:#f58a61;\"/>\n    <path clip-path=\"url(#p744bb6532f)\" d=\"M 350.349821 104.18779 \nL 401.366964 104.18779 \nL 401.366964 150.782076 \nL 350.349821 150.782076 \nL 350.349821 104.18779 \n\" style=\"fill:#d5224a;\"/>\n    <path clip-path=\"url(#p744bb6532f)\" d=\"M 401.366964 104.18779 \nL 452.384107 104.18779 \nL 452.384107 150.782076 \nL 401.366964 150.782076 \nL 401.366964 104.18779 \n\" style=\"fill:#f8d7c0;\"/>\n    <path clip-path=\"url(#p744bb6532f)\" d=\"M 452.384107 104.18779 \nL 503.40125 104.18779 \nL 503.40125 150.782076 \nL 452.384107 150.782076 \nL 452.384107 104.18779 \n\" style=\"fill:#f8d7c0;\"/>\n    <path clip-path=\"url(#p744bb6532f)\" d=\"M 146.28125 150.782076 \nL 197.298393 150.782076 \nL 197.298393 197.376362 \nL 146.28125 197.376362 \nL 146.28125 150.782076 \n\" style=\"fill:#e03143;\"/>\n    <path clip-path=\"url(#p744bb6532f)\" d=\"M 197.298393 150.782076 \nL 248.315536 150.782076 \nL 248.315536 197.376362 \nL 197.298393 197.376362 \nL 197.298393 150.782076 \n\" style=\"fill:#e03143;\"/>\n    <path clip-path=\"url(#p744bb6532f)\" d=\"M 248.315536 150.782076 \nL 299.332679 150.782076 \nL 299.332679 197.376362 \nL 248.315536 197.376362 \nL 248.315536 150.782076 \n\" style=\"fill:#f58a61;\"/>\n    <path clip-path=\"url(#p744bb6532f)\" d=\"M 299.332679 150.782076 \nL 350.349821 150.782076 \nL 350.349821 197.376362 \nL 299.332679 197.376362 \nL 299.332679 150.782076 \n\" style=\"fill:#faebdd;\"/>\n    <path clip-path=\"url(#p744bb6532f)\" d=\"M 350.349821 150.782076 \nL 401.366964 150.782076 \nL 401.366964 197.376362 \nL 350.349821 197.376362 \nL 350.349821 150.782076 \n\" style=\"fill:#f3734e;\"/>\n    <path clip-path=\"url(#p744bb6532f)\" d=\"M 401.366964 150.782076 \nL 452.384107 150.782076 \nL 452.384107 197.376362 \nL 401.366964 197.376362 \nL 401.366964 150.782076 \n\" style=\"fill:#f6bc99;\"/>\n    <path clip-path=\"url(#p744bb6532f)\" d=\"M 452.384107 150.782076 \nL 503.40125 150.782076 \nL 503.40125 197.376362 \nL 452.384107 197.376362 \nL 452.384107 150.782076 \n\" style=\"fill:#f6a077;\"/>\n    <path clip-path=\"url(#p744bb6532f)\" d=\"M 146.28125 197.376362 \nL 197.298393 197.376362 \nL 197.298393 243.970647 \nL 146.28125 243.970647 \nL 146.28125 197.376362 \n\" style=\"fill:#6e1f57;\"/>\n    <path clip-path=\"url(#p744bb6532f)\" d=\"M 197.298393 197.376362 \nL 248.315536 197.376362 \nL 248.315536 243.970647 \nL 197.298393 243.970647 \nL 197.298393 197.376362 \n\" style=\"fill:#811e5a;\"/>\n    <path clip-path=\"url(#p744bb6532f)\" d=\"M 248.315536 197.376362 \nL 299.332679 197.376362 \nL 299.332679 243.970647 \nL 248.315536 243.970647 \nL 248.315536 197.376362 \n\" style=\"fill:#d5224a;\"/>\n    <path clip-path=\"url(#p744bb6532f)\" d=\"M 299.332679 197.376362 \nL 350.349821 197.376362 \nL 350.349821 243.970647 \nL 299.332679 243.970647 \nL 299.332679 197.376362 \n\" style=\"fill:#f3734e;\"/>\n    <path clip-path=\"url(#p744bb6532f)\" d=\"M 350.349821 197.376362 \nL 401.366964 197.376362 \nL 401.366964 243.970647 \nL 350.349821 243.970647 \nL 350.349821 197.376362 \n\" style=\"fill:#faebdd;\"/>\n    <path clip-path=\"url(#p744bb6532f)\" d=\"M 401.366964 197.376362 \nL 452.384107 197.376362 \nL 452.384107 243.970647 \nL 401.366964 243.970647 \nL 401.366964 197.376362 \n\" style=\"fill:#dd2c45;\"/>\n    <path clip-path=\"url(#p744bb6532f)\" d=\"M 452.384107 197.376362 \nL 503.40125 197.376362 \nL 503.40125 243.970647 \nL 452.384107 243.970647 \nL 452.384107 197.376362 \n\" style=\"fill:#ed503e;\"/>\n    <path clip-path=\"url(#p744bb6532f)\" d=\"M 146.28125 243.970647 \nL 197.298393 243.970647 \nL 197.298393 290.564933 \nL 146.28125 290.564933 \nL 146.28125 243.970647 \n\" style=\"fill:#f58f66;\"/>\n    <path clip-path=\"url(#p744bb6532f)\" d=\"M 197.298393 243.970647 \nL 248.315536 243.970647 \nL 248.315536 290.564933 \nL 197.298393 290.564933 \nL 197.298393 243.970647 \n\" style=\"fill:#f6a077;\"/>\n    <path clip-path=\"url(#p744bb6532f)\" d=\"M 248.315536 243.970647 \nL 299.332679 243.970647 \nL 299.332679 290.564933 \nL 248.315536 290.564933 \nL 248.315536 243.970647 \n\" style=\"fill:#f8d7c0;\"/>\n    <path clip-path=\"url(#p744bb6532f)\" d=\"M 299.332679 243.970647 \nL 350.349821 243.970647 \nL 350.349821 290.564933 \nL 299.332679 290.564933 \nL 299.332679 243.970647 \n\" style=\"fill:#f6bc99;\"/>\n    <path clip-path=\"url(#p744bb6532f)\" d=\"M 350.349821 243.970647 \nL 401.366964 243.970647 \nL 401.366964 290.564933 \nL 350.349821 290.564933 \nL 350.349821 243.970647 \n\" style=\"fill:#dd2c45;\"/>\n    <path clip-path=\"url(#p744bb6532f)\" d=\"M 401.366964 243.970647 \nL 452.384107 243.970647 \nL 452.384107 290.564933 \nL 401.366964 290.564933 \nL 401.366964 243.970647 \n\" style=\"fill:#faebdd;\"/>\n    <path clip-path=\"url(#p744bb6532f)\" d=\"M 452.384107 243.970647 \nL 503.40125 243.970647 \nL 503.40125 290.564933 \nL 452.384107 290.564933 \nL 452.384107 243.970647 \n\" style=\"fill:#f8d4bc;\"/>\n    <path clip-path=\"url(#p744bb6532f)\" d=\"M 146.28125 290.564933 \nL 197.298393 290.564933 \nL 197.298393 337.159219 \nL 146.28125 337.159219 \nL 146.28125 290.564933 \n\" style=\"fill:#f4835b;\"/>\n    <path clip-path=\"url(#p744bb6532f)\" d=\"M 197.298393 290.564933 \nL 248.315536 290.564933 \nL 248.315536 337.159219 \nL 197.298393 337.159219 \nL 197.298393 290.564933 \n\" style=\"fill:#f6b18b;\"/>\n    <path clip-path=\"url(#p744bb6532f)\" d=\"M 248.315536 290.564933 \nL 299.332679 290.564933 \nL 299.332679 337.159219 \nL 248.315536 337.159219 \nL 248.315536 290.564933 \n\" style=\"fill:#f8d7c0;\"/>\n    <path clip-path=\"url(#p744bb6532f)\" d=\"M 299.332679 290.564933 \nL 350.349821 290.564933 \nL 350.349821 337.159219 \nL 299.332679 337.159219 \nL 299.332679 290.564933 \n\" style=\"fill:#f6a077;\"/>\n    <path clip-path=\"url(#p744bb6532f)\" d=\"M 350.349821 290.564933 \nL 401.366964 290.564933 \nL 401.366964 337.159219 \nL 350.349821 337.159219 \nL 350.349821 290.564933 \n\" style=\"fill:#ed503e;\"/>\n    <path clip-path=\"url(#p744bb6532f)\" d=\"M 401.366964 290.564933 \nL 452.384107 290.564933 \nL 452.384107 337.159219 \nL 401.366964 337.159219 \nL 401.366964 290.564933 \n\" style=\"fill:#f8d4bc;\"/>\n    <path clip-path=\"url(#p744bb6532f)\" d=\"M 452.384107 290.564933 \nL 503.40125 290.564933 \nL 503.40125 337.159219 \nL 452.384107 337.159219 \nL 452.384107 290.564933 \n\" style=\"fill:#faebdd;\"/>\n   </g>\n   <g id=\"matplotlib.axis_1\">\n    <g id=\"xtick_1\">\n     <g id=\"line2d_1\">\n      <defs>\n       <path d=\"M 0 0 \nL 0 3.5 \n\" id=\"mfb23441da8\" style=\"stroke:#000000;stroke-width:0.8;\"/>\n      </defs>\n      <g>\n       <use style=\"stroke:#000000;stroke-width:0.8;\" x=\"171.789821\" xlink:href=\"#mfb23441da8\" y=\"337.159219\"/>\n      </g>\n     </g>\n     <g id=\"text_1\">\n      <!-- PRECIO_ALSEA -->\n      <g transform=\"translate(174.321853 418.181094)rotate(-90)scale(0.1 -0.1)\">\n       <defs>\n        <path d=\"M 19.671875 64.796875 \nL 19.671875 37.40625 \nL 32.078125 37.40625 \nQ 38.96875 37.40625 42.71875 40.96875 \nQ 46.484375 44.53125 46.484375 51.125 \nQ 46.484375 57.671875 42.71875 61.234375 \nQ 38.96875 64.796875 32.078125 64.796875 \nz\nM 9.8125 72.90625 \nL 32.078125 72.90625 \nQ 44.34375 72.90625 50.609375 67.359375 \nQ 56.890625 61.8125 56.890625 51.125 \nQ 56.890625 40.328125 50.609375 34.8125 \nQ 44.34375 29.296875 32.078125 29.296875 \nL 19.671875 29.296875 \nL 19.671875 0 \nL 9.8125 0 \nz\n\" id=\"DejaVuSans-80\"/>\n        <path d=\"M 44.390625 34.1875 \nQ 47.5625 33.109375 50.5625 29.59375 \nQ 53.5625 26.078125 56.59375 19.921875 \nL 66.609375 0 \nL 56 0 \nL 46.6875 18.703125 \nQ 43.0625 26.03125 39.671875 28.421875 \nQ 36.28125 30.8125 30.421875 30.8125 \nL 19.671875 30.8125 \nL 19.671875 0 \nL 9.8125 0 \nL 9.8125 72.90625 \nL 32.078125 72.90625 \nQ 44.578125 72.90625 50.734375 67.671875 \nQ 56.890625 62.453125 56.890625 51.90625 \nQ 56.890625 45.015625 53.6875 40.46875 \nQ 50.484375 35.9375 44.390625 34.1875 \nz\nM 19.671875 64.796875 \nL 19.671875 38.921875 \nL 32.078125 38.921875 \nQ 39.203125 38.921875 42.84375 42.21875 \nQ 46.484375 45.515625 46.484375 51.90625 \nQ 46.484375 58.296875 42.84375 61.546875 \nQ 39.203125 64.796875 32.078125 64.796875 \nz\n\" id=\"DejaVuSans-82\"/>\n        <path d=\"M 9.8125 72.90625 \nL 55.90625 72.90625 \nL 55.90625 64.59375 \nL 19.671875 64.59375 \nL 19.671875 43.015625 \nL 54.390625 43.015625 \nL 54.390625 34.71875 \nL 19.671875 34.71875 \nL 19.671875 8.296875 \nL 56.78125 8.296875 \nL 56.78125 0 \nL 9.8125 0 \nz\n\" id=\"DejaVuSans-69\"/>\n        <path d=\"M 64.40625 67.28125 \nL 64.40625 56.890625 \nQ 59.421875 61.53125 53.78125 63.8125 \nQ 48.140625 66.109375 41.796875 66.109375 \nQ 29.296875 66.109375 22.65625 58.46875 \nQ 16.015625 50.828125 16.015625 36.375 \nQ 16.015625 21.96875 22.65625 14.328125 \nQ 29.296875 6.6875 41.796875 6.6875 \nQ 48.140625 6.6875 53.78125 8.984375 \nQ 59.421875 11.28125 64.40625 15.921875 \nL 64.40625 5.609375 \nQ 59.234375 2.09375 53.4375 0.328125 \nQ 47.65625 -1.421875 41.21875 -1.421875 \nQ 24.65625 -1.421875 15.125 8.703125 \nQ 5.609375 18.84375 5.609375 36.375 \nQ 5.609375 53.953125 15.125 64.078125 \nQ 24.65625 74.21875 41.21875 74.21875 \nQ 47.75 74.21875 53.53125 72.484375 \nQ 59.328125 70.75 64.40625 67.28125 \nz\n\" id=\"DejaVuSans-67\"/>\n        <path d=\"M 9.8125 72.90625 \nL 19.671875 72.90625 \nL 19.671875 0 \nL 9.8125 0 \nz\n\" id=\"DejaVuSans-73\"/>\n        <path d=\"M 39.40625 66.21875 \nQ 28.65625 66.21875 22.328125 58.203125 \nQ 16.015625 50.203125 16.015625 36.375 \nQ 16.015625 22.609375 22.328125 14.59375 \nQ 28.65625 6.59375 39.40625 6.59375 \nQ 50.140625 6.59375 56.421875 14.59375 \nQ 62.703125 22.609375 62.703125 36.375 \nQ 62.703125 50.203125 56.421875 58.203125 \nQ 50.140625 66.21875 39.40625 66.21875 \nz\nM 39.40625 74.21875 \nQ 54.734375 74.21875 63.90625 63.9375 \nQ 73.09375 53.65625 73.09375 36.375 \nQ 73.09375 19.140625 63.90625 8.859375 \nQ 54.734375 -1.421875 39.40625 -1.421875 \nQ 24.03125 -1.421875 14.8125 8.828125 \nQ 5.609375 19.09375 5.609375 36.375 \nQ 5.609375 53.65625 14.8125 63.9375 \nQ 24.03125 74.21875 39.40625 74.21875 \nz\n\" id=\"DejaVuSans-79\"/>\n        <path d=\"M 50.984375 -16.609375 \nL 50.984375 -23.578125 \nL -0.984375 -23.578125 \nL -0.984375 -16.609375 \nz\n\" id=\"DejaVuSans-95\"/>\n        <path d=\"M 34.1875 63.1875 \nL 20.796875 26.90625 \nL 47.609375 26.90625 \nz\nM 28.609375 72.90625 \nL 39.796875 72.90625 \nL 67.578125 0 \nL 57.328125 0 \nL 50.6875 18.703125 \nL 17.828125 18.703125 \nL 11.1875 0 \nL 0.78125 0 \nz\n\" id=\"DejaVuSans-65\"/>\n        <path d=\"M 9.8125 72.90625 \nL 19.671875 72.90625 \nL 19.671875 8.296875 \nL 55.171875 8.296875 \nL 55.171875 0 \nL 9.8125 0 \nz\n\" id=\"DejaVuSans-76\"/>\n        <path d=\"M 53.515625 70.515625 \nL 53.515625 60.890625 \nQ 47.90625 63.578125 42.921875 64.890625 \nQ 37.9375 66.21875 33.296875 66.21875 \nQ 25.25 66.21875 20.875 63.09375 \nQ 16.5 59.96875 16.5 54.203125 \nQ 16.5 49.359375 19.40625 46.890625 \nQ 22.3125 44.4375 30.421875 42.921875 \nL 36.375 41.703125 \nQ 47.40625 39.59375 52.65625 34.296875 \nQ 57.90625 29 57.90625 20.125 \nQ 57.90625 9.515625 50.796875 4.046875 \nQ 43.703125 -1.421875 29.984375 -1.421875 \nQ 24.8125 -1.421875 18.96875 -0.25 \nQ 13.140625 0.921875 6.890625 3.21875 \nL 6.890625 13.375 \nQ 12.890625 10.015625 18.65625 8.296875 \nQ 24.421875 6.59375 29.984375 6.59375 \nQ 38.421875 6.59375 43.015625 9.90625 \nQ 47.609375 13.234375 47.609375 19.390625 \nQ 47.609375 24.75 44.3125 27.78125 \nQ 41.015625 30.8125 33.5 32.328125 \nL 27.484375 33.5 \nQ 16.453125 35.6875 11.515625 40.375 \nQ 6.59375 45.0625 6.59375 53.421875 \nQ 6.59375 63.09375 13.40625 68.65625 \nQ 20.21875 74.21875 32.171875 74.21875 \nQ 37.3125 74.21875 42.625 73.28125 \nQ 47.953125 72.359375 53.515625 70.515625 \nz\n\" id=\"DejaVuSans-83\"/>\n       </defs>\n       <use xlink:href=\"#DejaVuSans-80\"/>\n       <use x=\"60.302734\" xlink:href=\"#DejaVuSans-82\"/>\n       <use x=\"129.785156\" xlink:href=\"#DejaVuSans-69\"/>\n       <use x=\"192.96875\" xlink:href=\"#DejaVuSans-67\"/>\n       <use x=\"262.792969\" xlink:href=\"#DejaVuSans-73\"/>\n       <use x=\"292.285156\" xlink:href=\"#DejaVuSans-79\"/>\n       <use x=\"370.996094\" xlink:href=\"#DejaVuSans-95\"/>\n       <use x=\"420.996094\" xlink:href=\"#DejaVuSans-65\"/>\n       <use x=\"489.404297\" xlink:href=\"#DejaVuSans-76\"/>\n       <use x=\"545.117188\" xlink:href=\"#DejaVuSans-83\"/>\n       <use x=\"608.59375\" xlink:href=\"#DejaVuSans-69\"/>\n       <use x=\"671.777344\" xlink:href=\"#DejaVuSans-65\"/>\n      </g>\n     </g>\n    </g>\n    <g id=\"xtick_2\">\n     <g id=\"line2d_2\">\n      <g>\n       <use style=\"stroke:#000000;stroke-width:0.8;\" x=\"222.806964\" xlink:href=\"#mfb23441da8\" y=\"337.159219\"/>\n      </g>\n     </g>\n     <g id=\"text_2\">\n      <!-- PRECIO_BIMBO -->\n      <g transform=\"translate(225.338996 419.257656)rotate(-90)scale(0.1 -0.1)\">\n       <defs>\n        <path d=\"M 19.671875 34.8125 \nL 19.671875 8.109375 \nL 35.5 8.109375 \nQ 43.453125 8.109375 47.28125 11.40625 \nQ 51.125 14.703125 51.125 21.484375 \nQ 51.125 28.328125 47.28125 31.5625 \nQ 43.453125 34.8125 35.5 34.8125 \nz\nM 19.671875 64.796875 \nL 19.671875 42.828125 \nL 34.28125 42.828125 \nQ 41.5 42.828125 45.03125 45.53125 \nQ 48.578125 48.25 48.578125 53.8125 \nQ 48.578125 59.328125 45.03125 62.0625 \nQ 41.5 64.796875 34.28125 64.796875 \nz\nM 9.8125 72.90625 \nL 35.015625 72.90625 \nQ 46.296875 72.90625 52.390625 68.21875 \nQ 58.5 63.53125 58.5 54.890625 \nQ 58.5 48.1875 55.375 44.234375 \nQ 52.25 40.28125 46.1875 39.3125 \nQ 53.46875 37.75 57.5 32.78125 \nQ 61.53125 27.828125 61.53125 20.40625 \nQ 61.53125 10.640625 54.890625 5.3125 \nQ 48.25 0 35.984375 0 \nL 9.8125 0 \nz\n\" id=\"DejaVuSans-66\"/>\n        <path d=\"M 9.8125 72.90625 \nL 24.515625 72.90625 \nL 43.109375 23.296875 \nL 61.8125 72.90625 \nL 76.515625 72.90625 \nL 76.515625 0 \nL 66.890625 0 \nL 66.890625 64.015625 \nL 48.09375 14.015625 \nL 38.1875 14.015625 \nL 19.390625 64.015625 \nL 19.390625 0 \nL 9.8125 0 \nz\n\" id=\"DejaVuSans-77\"/>\n       </defs>\n       <use xlink:href=\"#DejaVuSans-80\"/>\n       <use x=\"60.302734\" xlink:href=\"#DejaVuSans-82\"/>\n       <use x=\"129.785156\" xlink:href=\"#DejaVuSans-69\"/>\n       <use x=\"192.96875\" xlink:href=\"#DejaVuSans-67\"/>\n       <use x=\"262.792969\" xlink:href=\"#DejaVuSans-73\"/>\n       <use x=\"292.285156\" xlink:href=\"#DejaVuSans-79\"/>\n       <use x=\"370.996094\" xlink:href=\"#DejaVuSans-95\"/>\n       <use x=\"420.996094\" xlink:href=\"#DejaVuSans-66\"/>\n       <use x=\"489.599609\" xlink:href=\"#DejaVuSans-73\"/>\n       <use x=\"519.091797\" xlink:href=\"#DejaVuSans-77\"/>\n       <use x=\"605.371094\" xlink:href=\"#DejaVuSans-66\"/>\n       <use x=\"672.224609\" xlink:href=\"#DejaVuSans-79\"/>\n      </g>\n     </g>\n    </g>\n    <g id=\"xtick_3\">\n     <g id=\"line2d_3\">\n      <g>\n       <use style=\"stroke:#000000;stroke-width:0.8;\" x=\"273.824107\" xlink:href=\"#mfb23441da8\" y=\"337.159219\"/>\n      </g>\n     </g>\n     <g id=\"text_3\">\n      <!-- MXN_USD -->\n      <g transform=\"translate(276.356138 393.485781)rotate(-90)scale(0.1 -0.1)\">\n       <defs>\n        <path d=\"M 6.296875 72.90625 \nL 16.890625 72.90625 \nL 35.015625 45.796875 \nL 53.21875 72.90625 \nL 63.8125 72.90625 \nL 40.375 37.890625 \nL 65.375 0 \nL 54.78125 0 \nL 34.28125 31 \nL 13.625 0 \nL 2.984375 0 \nL 29 38.921875 \nz\n\" id=\"DejaVuSans-88\"/>\n        <path d=\"M 9.8125 72.90625 \nL 23.09375 72.90625 \nL 55.421875 11.921875 \nL 55.421875 72.90625 \nL 64.984375 72.90625 \nL 64.984375 0 \nL 51.703125 0 \nL 19.390625 60.984375 \nL 19.390625 0 \nL 9.8125 0 \nz\n\" id=\"DejaVuSans-78\"/>\n        <path d=\"M 8.6875 72.90625 \nL 18.609375 72.90625 \nL 18.609375 28.609375 \nQ 18.609375 16.890625 22.84375 11.734375 \nQ 27.09375 6.59375 36.625 6.59375 \nQ 46.09375 6.59375 50.34375 11.734375 \nQ 54.59375 16.890625 54.59375 28.609375 \nL 54.59375 72.90625 \nL 64.5 72.90625 \nL 64.5 27.390625 \nQ 64.5 13.140625 57.4375 5.859375 \nQ 50.390625 -1.421875 36.625 -1.421875 \nQ 22.796875 -1.421875 15.734375 5.859375 \nQ 8.6875 13.140625 8.6875 27.390625 \nz\n\" id=\"DejaVuSans-85\"/>\n        <path d=\"M 19.671875 64.796875 \nL 19.671875 8.109375 \nL 31.59375 8.109375 \nQ 46.6875 8.109375 53.6875 14.9375 \nQ 60.6875 21.78125 60.6875 36.53125 \nQ 60.6875 51.171875 53.6875 57.984375 \nQ 46.6875 64.796875 31.59375 64.796875 \nz\nM 9.8125 72.90625 \nL 30.078125 72.90625 \nQ 51.265625 72.90625 61.171875 64.09375 \nQ 71.09375 55.28125 71.09375 36.53125 \nQ 71.09375 17.671875 61.125 8.828125 \nQ 51.171875 0 30.078125 0 \nL 9.8125 0 \nz\n\" id=\"DejaVuSans-68\"/>\n       </defs>\n       <use xlink:href=\"#DejaVuSans-77\"/>\n       <use x=\"86.279297\" xlink:href=\"#DejaVuSans-88\"/>\n       <use x=\"154.785156\" xlink:href=\"#DejaVuSans-78\"/>\n       <use x=\"229.589844\" xlink:href=\"#DejaVuSans-95\"/>\n       <use x=\"279.589844\" xlink:href=\"#DejaVuSans-85\"/>\n       <use x=\"352.783203\" xlink:href=\"#DejaVuSans-83\"/>\n       <use x=\"416.259766\" xlink:href=\"#DejaVuSans-68\"/>\n      </g>\n     </g>\n    </g>\n    <g id=\"xtick_4\">\n     <g id=\"line2d_4\">\n      <g>\n       <use style=\"stroke:#000000;stroke-width:0.8;\" x=\"324.84125\" xlink:href=\"#mfb23441da8\" y=\"337.159219\"/>\n      </g>\n     </g>\n     <g id=\"text_4\">\n      <!-- MARGEN_EBITDA_ALSEA -->\n      <g transform=\"translate(327.373281 466.648281)rotate(-90)scale(0.1 -0.1)\">\n       <defs>\n        <path d=\"M 59.515625 10.40625 \nL 59.515625 29.984375 \nL 43.40625 29.984375 \nL 43.40625 38.09375 \nL 69.28125 38.09375 \nL 69.28125 6.78125 \nQ 63.578125 2.734375 56.6875 0.65625 \nQ 49.8125 -1.421875 42 -1.421875 \nQ 24.90625 -1.421875 15.25 8.5625 \nQ 5.609375 18.5625 5.609375 36.375 \nQ 5.609375 54.25 15.25 64.234375 \nQ 24.90625 74.21875 42 74.21875 \nQ 49.125 74.21875 55.546875 72.453125 \nQ 61.96875 70.703125 67.390625 67.28125 \nL 67.390625 56.78125 \nQ 61.921875 61.421875 55.765625 63.765625 \nQ 49.609375 66.109375 42.828125 66.109375 \nQ 29.4375 66.109375 22.71875 58.640625 \nQ 16.015625 51.171875 16.015625 36.375 \nQ 16.015625 21.625 22.71875 14.15625 \nQ 29.4375 6.6875 42.828125 6.6875 \nQ 48.046875 6.6875 52.140625 7.59375 \nQ 56.25 8.5 59.515625 10.40625 \nz\n\" id=\"DejaVuSans-71\"/>\n        <path d=\"M -0.296875 72.90625 \nL 61.375 72.90625 \nL 61.375 64.59375 \nL 35.5 64.59375 \nL 35.5 0 \nL 25.59375 0 \nL 25.59375 64.59375 \nL -0.296875 64.59375 \nz\n\" id=\"DejaVuSans-84\"/>\n       </defs>\n       <use xlink:href=\"#DejaVuSans-77\"/>\n       <use x=\"86.279297\" xlink:href=\"#DejaVuSans-65\"/>\n       <use x=\"154.6875\" xlink:href=\"#DejaVuSans-82\"/>\n       <use x=\"224.169922\" xlink:href=\"#DejaVuSans-71\"/>\n       <use x=\"301.660156\" xlink:href=\"#DejaVuSans-69\"/>\n       <use x=\"364.84375\" xlink:href=\"#DejaVuSans-78\"/>\n       <use x=\"439.648438\" xlink:href=\"#DejaVuSans-95\"/>\n       <use x=\"489.648438\" xlink:href=\"#DejaVuSans-69\"/>\n       <use x=\"552.832031\" xlink:href=\"#DejaVuSans-66\"/>\n       <use x=\"621.435547\" xlink:href=\"#DejaVuSans-73\"/>\n       <use x=\"650.927734\" xlink:href=\"#DejaVuSans-84\"/>\n       <use x=\"712.011719\" xlink:href=\"#DejaVuSans-68\"/>\n       <use x=\"787.263672\" xlink:href=\"#DejaVuSans-65\"/>\n       <use x=\"855.671875\" xlink:href=\"#DejaVuSans-95\"/>\n       <use x=\"905.671875\" xlink:href=\"#DejaVuSans-65\"/>\n       <use x=\"974.080078\" xlink:href=\"#DejaVuSans-76\"/>\n       <use x=\"1029.792969\" xlink:href=\"#DejaVuSans-83\"/>\n       <use x=\"1093.269531\" xlink:href=\"#DejaVuSans-69\"/>\n       <use x=\"1156.453125\" xlink:href=\"#DejaVuSans-65\"/>\n      </g>\n     </g>\n    </g>\n    <g id=\"xtick_5\">\n     <g id=\"line2d_5\">\n      <g>\n       <use style=\"stroke:#000000;stroke-width:0.8;\" x=\"375.858393\" xlink:href=\"#mfb23441da8\" y=\"337.159219\"/>\n      </g>\n     </g>\n     <g id=\"text_5\">\n      <!-- MARGEN_EBITDA_BIMBO -->\n      <g transform=\"translate(378.390424 467.724844)rotate(-90)scale(0.1 -0.1)\">\n       <use xlink:href=\"#DejaVuSans-77\"/>\n       <use x=\"86.279297\" xlink:href=\"#DejaVuSans-65\"/>\n       <use x=\"154.6875\" xlink:href=\"#DejaVuSans-82\"/>\n       <use x=\"224.169922\" xlink:href=\"#DejaVuSans-71\"/>\n       <use x=\"301.660156\" xlink:href=\"#DejaVuSans-69\"/>\n       <use x=\"364.84375\" xlink:href=\"#DejaVuSans-78\"/>\n       <use x=\"439.648438\" xlink:href=\"#DejaVuSans-95\"/>\n       <use x=\"489.648438\" xlink:href=\"#DejaVuSans-69\"/>\n       <use x=\"552.832031\" xlink:href=\"#DejaVuSans-66\"/>\n       <use x=\"621.435547\" xlink:href=\"#DejaVuSans-73\"/>\n       <use x=\"650.927734\" xlink:href=\"#DejaVuSans-84\"/>\n       <use x=\"712.011719\" xlink:href=\"#DejaVuSans-68\"/>\n       <use x=\"787.263672\" xlink:href=\"#DejaVuSans-65\"/>\n       <use x=\"855.671875\" xlink:href=\"#DejaVuSans-95\"/>\n       <use x=\"905.671875\" xlink:href=\"#DejaVuSans-66\"/>\n       <use x=\"974.275391\" xlink:href=\"#DejaVuSans-73\"/>\n       <use x=\"1003.767578\" xlink:href=\"#DejaVuSans-77\"/>\n       <use x=\"1090.046875\" xlink:href=\"#DejaVuSans-66\"/>\n       <use x=\"1156.900391\" xlink:href=\"#DejaVuSans-79\"/>\n      </g>\n     </g>\n    </g>\n    <g id=\"xtick_6\">\n     <g id=\"line2d_6\">\n      <g>\n       <use style=\"stroke:#000000;stroke-width:0.8;\" x=\"426.875536\" xlink:href=\"#mfb23441da8\" y=\"337.159219\"/>\n      </g>\n     </g>\n     <g id=\"text_6\">\n      <!--  EBITDA_ALSEA_MILLONES -->\n      <g transform=\"translate(429.407567 476.240469)rotate(-90)scale(0.1 -0.1)\">\n       <defs>\n        <path id=\"DejaVuSans-32\"/>\n       </defs>\n       <use xlink:href=\"#DejaVuSans-32\"/>\n       <use x=\"31.787109\" xlink:href=\"#DejaVuSans-69\"/>\n       <use x=\"94.970703\" xlink:href=\"#DejaVuSans-66\"/>\n       <use x=\"163.574219\" xlink:href=\"#DejaVuSans-73\"/>\n       <use x=\"193.066406\" xlink:href=\"#DejaVuSans-84\"/>\n       <use x=\"254.150391\" xlink:href=\"#DejaVuSans-68\"/>\n       <use x=\"329.402344\" xlink:href=\"#DejaVuSans-65\"/>\n       <use x=\"397.810547\" xlink:href=\"#DejaVuSans-95\"/>\n       <use x=\"447.810547\" xlink:href=\"#DejaVuSans-65\"/>\n       <use x=\"516.21875\" xlink:href=\"#DejaVuSans-76\"/>\n       <use x=\"571.931641\" xlink:href=\"#DejaVuSans-83\"/>\n       <use x=\"635.408203\" xlink:href=\"#DejaVuSans-69\"/>\n       <use x=\"698.591797\" xlink:href=\"#DejaVuSans-65\"/>\n       <use x=\"767\" xlink:href=\"#DejaVuSans-95\"/>\n       <use x=\"817\" xlink:href=\"#DejaVuSans-77\"/>\n       <use x=\"903.279297\" xlink:href=\"#DejaVuSans-73\"/>\n       <use x=\"932.771484\" xlink:href=\"#DejaVuSans-76\"/>\n       <use x=\"988.484375\" xlink:href=\"#DejaVuSans-76\"/>\n       <use x=\"1040.572266\" xlink:href=\"#DejaVuSans-79\"/>\n       <use x=\"1119.283203\" xlink:href=\"#DejaVuSans-78\"/>\n       <use x=\"1194.087891\" xlink:href=\"#DejaVuSans-69\"/>\n       <use x=\"1257.271484\" xlink:href=\"#DejaVuSans-83\"/>\n      </g>\n     </g>\n    </g>\n    <g id=\"xtick_7\">\n     <g id=\"line2d_7\">\n      <g>\n       <use style=\"stroke:#000000;stroke-width:0.8;\" x=\"477.892679\" xlink:href=\"#mfb23441da8\" y=\"337.159219\"/>\n      </g>\n     </g>\n     <g id=\"text_7\">\n      <!-- EBITDA_BIMBO_MILLONES -->\n      <g transform=\"translate(480.42471 474.138906)rotate(-90)scale(0.1 -0.1)\">\n       <use xlink:href=\"#DejaVuSans-69\"/>\n       <use x=\"63.183594\" xlink:href=\"#DejaVuSans-66\"/>\n       <use x=\"131.787109\" xlink:href=\"#DejaVuSans-73\"/>\n       <use x=\"161.279297\" xlink:href=\"#DejaVuSans-84\"/>\n       <use x=\"222.363281\" xlink:href=\"#DejaVuSans-68\"/>\n       <use x=\"297.615234\" xlink:href=\"#DejaVuSans-65\"/>\n       <use x=\"366.023438\" xlink:href=\"#DejaVuSans-95\"/>\n       <use x=\"416.023438\" xlink:href=\"#DejaVuSans-66\"/>\n       <use x=\"484.626953\" xlink:href=\"#DejaVuSans-73\"/>\n       <use x=\"514.119141\" xlink:href=\"#DejaVuSans-77\"/>\n       <use x=\"600.398438\" xlink:href=\"#DejaVuSans-66\"/>\n       <use x=\"667.251953\" xlink:href=\"#DejaVuSans-79\"/>\n       <use x=\"745.962891\" xlink:href=\"#DejaVuSans-95\"/>\n       <use x=\"795.962891\" xlink:href=\"#DejaVuSans-77\"/>\n       <use x=\"882.242188\" xlink:href=\"#DejaVuSans-73\"/>\n       <use x=\"911.734375\" xlink:href=\"#DejaVuSans-76\"/>\n       <use x=\"967.447266\" xlink:href=\"#DejaVuSans-76\"/>\n       <use x=\"1019.535156\" xlink:href=\"#DejaVuSans-79\"/>\n       <use x=\"1098.246094\" xlink:href=\"#DejaVuSans-78\"/>\n       <use x=\"1173.050781\" xlink:href=\"#DejaVuSans-69\"/>\n       <use x=\"1236.234375\" xlink:href=\"#DejaVuSans-83\"/>\n      </g>\n     </g>\n    </g>\n   </g>\n   <g id=\"matplotlib.axis_2\">\n    <g id=\"ytick_1\">\n     <g id=\"line2d_8\">\n      <defs>\n       <path d=\"M 0 0 \nL -3.5 0 \n\" id=\"m7839a1b15a\" style=\"stroke:#000000;stroke-width:0.8;\"/>\n      </defs>\n      <g>\n       <use style=\"stroke:#000000;stroke-width:0.8;\" x=\"146.28125\" xlink:href=\"#m7839a1b15a\" y=\"34.296362\"/>\n      </g>\n     </g>\n     <g id=\"text_8\">\n      <!-- PRECIO_ALSEA -->\n      <g transform=\"translate(65.259375 38.007299)scale(0.1 -0.1)\">\n       <use xlink:href=\"#DejaVuSans-80\"/>\n       <use x=\"60.302734\" xlink:href=\"#DejaVuSans-82\"/>\n       <use x=\"129.785156\" xlink:href=\"#DejaVuSans-69\"/>\n       <use x=\"192.96875\" xlink:href=\"#DejaVuSans-67\"/>\n       <use x=\"262.792969\" xlink:href=\"#DejaVuSans-73\"/>\n       <use x=\"292.285156\" xlink:href=\"#DejaVuSans-79\"/>\n       <use x=\"370.996094\" xlink:href=\"#DejaVuSans-95\"/>\n       <use x=\"420.996094\" xlink:href=\"#DejaVuSans-65\"/>\n       <use x=\"489.404297\" xlink:href=\"#DejaVuSans-76\"/>\n       <use x=\"545.117188\" xlink:href=\"#DejaVuSans-83\"/>\n       <use x=\"608.59375\" xlink:href=\"#DejaVuSans-69\"/>\n       <use x=\"671.777344\" xlink:href=\"#DejaVuSans-65\"/>\n      </g>\n     </g>\n    </g>\n    <g id=\"ytick_2\">\n     <g id=\"line2d_9\">\n      <g>\n       <use style=\"stroke:#000000;stroke-width:0.8;\" x=\"146.28125\" xlink:href=\"#m7839a1b15a\" y=\"80.890647\"/>\n      </g>\n     </g>\n     <g id=\"text_9\">\n      <!-- PRECIO_BIMBO -->\n      <g transform=\"translate(64.182812 84.601585)scale(0.1 -0.1)\">\n       <use xlink:href=\"#DejaVuSans-80\"/>\n       <use x=\"60.302734\" xlink:href=\"#DejaVuSans-82\"/>\n       <use x=\"129.785156\" xlink:href=\"#DejaVuSans-69\"/>\n       <use x=\"192.96875\" xlink:href=\"#DejaVuSans-67\"/>\n       <use x=\"262.792969\" xlink:href=\"#DejaVuSans-73\"/>\n       <use x=\"292.285156\" xlink:href=\"#DejaVuSans-79\"/>\n       <use x=\"370.996094\" xlink:href=\"#DejaVuSans-95\"/>\n       <use x=\"420.996094\" xlink:href=\"#DejaVuSans-66\"/>\n       <use x=\"489.599609\" xlink:href=\"#DejaVuSans-73\"/>\n       <use x=\"519.091797\" xlink:href=\"#DejaVuSans-77\"/>\n       <use x=\"605.371094\" xlink:href=\"#DejaVuSans-66\"/>\n       <use x=\"672.224609\" xlink:href=\"#DejaVuSans-79\"/>\n      </g>\n     </g>\n    </g>\n    <g id=\"ytick_3\">\n     <g id=\"line2d_10\">\n      <g>\n       <use style=\"stroke:#000000;stroke-width:0.8;\" x=\"146.28125\" xlink:href=\"#m7839a1b15a\" y=\"127.484933\"/>\n      </g>\n     </g>\n     <g id=\"text_10\">\n      <!-- MXN_USD -->\n      <g transform=\"translate(89.954688 131.195871)scale(0.1 -0.1)\">\n       <use xlink:href=\"#DejaVuSans-77\"/>\n       <use x=\"86.279297\" xlink:href=\"#DejaVuSans-88\"/>\n       <use x=\"154.785156\" xlink:href=\"#DejaVuSans-78\"/>\n       <use x=\"229.589844\" xlink:href=\"#DejaVuSans-95\"/>\n       <use x=\"279.589844\" xlink:href=\"#DejaVuSans-85\"/>\n       <use x=\"352.783203\" xlink:href=\"#DejaVuSans-83\"/>\n       <use x=\"416.259766\" xlink:href=\"#DejaVuSans-68\"/>\n      </g>\n     </g>\n    </g>\n    <g id=\"ytick_4\">\n     <g id=\"line2d_11\">\n      <g>\n       <use style=\"stroke:#000000;stroke-width:0.8;\" x=\"146.28125\" xlink:href=\"#m7839a1b15a\" y=\"174.079219\"/>\n      </g>\n     </g>\n     <g id=\"text_11\">\n      <!-- MARGEN_EBITDA_ALSEA -->\n      <g transform=\"translate(16.792187 177.790156)scale(0.1 -0.1)\">\n       <use xlink:href=\"#DejaVuSans-77\"/>\n       <use x=\"86.279297\" xlink:href=\"#DejaVuSans-65\"/>\n       <use x=\"154.6875\" xlink:href=\"#DejaVuSans-82\"/>\n       <use x=\"224.169922\" xlink:href=\"#DejaVuSans-71\"/>\n       <use x=\"301.660156\" xlink:href=\"#DejaVuSans-69\"/>\n       <use x=\"364.84375\" xlink:href=\"#DejaVuSans-78\"/>\n       <use x=\"439.648438\" xlink:href=\"#DejaVuSans-95\"/>\n       <use x=\"489.648438\" xlink:href=\"#DejaVuSans-69\"/>\n       <use x=\"552.832031\" xlink:href=\"#DejaVuSans-66\"/>\n       <use x=\"621.435547\" xlink:href=\"#DejaVuSans-73\"/>\n       <use x=\"650.927734\" xlink:href=\"#DejaVuSans-84\"/>\n       <use x=\"712.011719\" xlink:href=\"#DejaVuSans-68\"/>\n       <use x=\"787.263672\" xlink:href=\"#DejaVuSans-65\"/>\n       <use x=\"855.671875\" xlink:href=\"#DejaVuSans-95\"/>\n       <use x=\"905.671875\" xlink:href=\"#DejaVuSans-65\"/>\n       <use x=\"974.080078\" xlink:href=\"#DejaVuSans-76\"/>\n       <use x=\"1029.792969\" xlink:href=\"#DejaVuSans-83\"/>\n       <use x=\"1093.269531\" xlink:href=\"#DejaVuSans-69\"/>\n       <use x=\"1156.453125\" xlink:href=\"#DejaVuSans-65\"/>\n      </g>\n     </g>\n    </g>\n    <g id=\"ytick_5\">\n     <g id=\"line2d_12\">\n      <g>\n       <use style=\"stroke:#000000;stroke-width:0.8;\" x=\"146.28125\" xlink:href=\"#m7839a1b15a\" y=\"220.673504\"/>\n      </g>\n     </g>\n     <g id=\"text_12\">\n      <!-- MARGEN_EBITDA_BIMBO -->\n      <g transform=\"translate(15.715625 224.384442)scale(0.1 -0.1)\">\n       <use xlink:href=\"#DejaVuSans-77\"/>\n       <use x=\"86.279297\" xlink:href=\"#DejaVuSans-65\"/>\n       <use x=\"154.6875\" xlink:href=\"#DejaVuSans-82\"/>\n       <use x=\"224.169922\" xlink:href=\"#DejaVuSans-71\"/>\n       <use x=\"301.660156\" xlink:href=\"#DejaVuSans-69\"/>\n       <use x=\"364.84375\" xlink:href=\"#DejaVuSans-78\"/>\n       <use x=\"439.648438\" xlink:href=\"#DejaVuSans-95\"/>\n       <use x=\"489.648438\" xlink:href=\"#DejaVuSans-69\"/>\n       <use x=\"552.832031\" xlink:href=\"#DejaVuSans-66\"/>\n       <use x=\"621.435547\" xlink:href=\"#DejaVuSans-73\"/>\n       <use x=\"650.927734\" xlink:href=\"#DejaVuSans-84\"/>\n       <use x=\"712.011719\" xlink:href=\"#DejaVuSans-68\"/>\n       <use x=\"787.263672\" xlink:href=\"#DejaVuSans-65\"/>\n       <use x=\"855.671875\" xlink:href=\"#DejaVuSans-95\"/>\n       <use x=\"905.671875\" xlink:href=\"#DejaVuSans-66\"/>\n       <use x=\"974.275391\" xlink:href=\"#DejaVuSans-73\"/>\n       <use x=\"1003.767578\" xlink:href=\"#DejaVuSans-77\"/>\n       <use x=\"1090.046875\" xlink:href=\"#DejaVuSans-66\"/>\n       <use x=\"1156.900391\" xlink:href=\"#DejaVuSans-79\"/>\n      </g>\n     </g>\n    </g>\n    <g id=\"ytick_6\">\n     <g id=\"line2d_13\">\n      <g>\n       <use style=\"stroke:#000000;stroke-width:0.8;\" x=\"146.28125\" xlink:href=\"#m7839a1b15a\" y=\"267.26779\"/>\n      </g>\n     </g>\n     <g id=\"text_13\">\n      <!--  EBITDA_ALSEA_MILLONES -->\n      <g transform=\"translate(7.2 270.978728)scale(0.1 -0.1)\">\n       <use xlink:href=\"#DejaVuSans-32\"/>\n       <use x=\"31.787109\" xlink:href=\"#DejaVuSans-69\"/>\n       <use x=\"94.970703\" xlink:href=\"#DejaVuSans-66\"/>\n       <use x=\"163.574219\" xlink:href=\"#DejaVuSans-73\"/>\n       <use x=\"193.066406\" xlink:href=\"#DejaVuSans-84\"/>\n       <use x=\"254.150391\" xlink:href=\"#DejaVuSans-68\"/>\n       <use x=\"329.402344\" xlink:href=\"#DejaVuSans-65\"/>\n       <use x=\"397.810547\" xlink:href=\"#DejaVuSans-95\"/>\n       <use x=\"447.810547\" xlink:href=\"#DejaVuSans-65\"/>\n       <use x=\"516.21875\" xlink:href=\"#DejaVuSans-76\"/>\n       <use x=\"571.931641\" xlink:href=\"#DejaVuSans-83\"/>\n       <use x=\"635.408203\" xlink:href=\"#DejaVuSans-69\"/>\n       <use x=\"698.591797\" xlink:href=\"#DejaVuSans-65\"/>\n       <use x=\"767\" xlink:href=\"#DejaVuSans-95\"/>\n       <use x=\"817\" xlink:href=\"#DejaVuSans-77\"/>\n       <use x=\"903.279297\" xlink:href=\"#DejaVuSans-73\"/>\n       <use x=\"932.771484\" xlink:href=\"#DejaVuSans-76\"/>\n       <use x=\"988.484375\" xlink:href=\"#DejaVuSans-76\"/>\n       <use x=\"1040.572266\" xlink:href=\"#DejaVuSans-79\"/>\n       <use x=\"1119.283203\" xlink:href=\"#DejaVuSans-78\"/>\n       <use x=\"1194.087891\" xlink:href=\"#DejaVuSans-69\"/>\n       <use x=\"1257.271484\" xlink:href=\"#DejaVuSans-83\"/>\n      </g>\n     </g>\n    </g>\n    <g id=\"ytick_7\">\n     <g id=\"line2d_14\">\n      <g>\n       <use style=\"stroke:#000000;stroke-width:0.8;\" x=\"146.28125\" xlink:href=\"#m7839a1b15a\" y=\"313.862076\"/>\n      </g>\n     </g>\n     <g id=\"text_14\">\n      <!-- EBITDA_BIMBO_MILLONES -->\n      <g transform=\"translate(9.301562 317.573013)scale(0.1 -0.1)\">\n       <use xlink:href=\"#DejaVuSans-69\"/>\n       <use x=\"63.183594\" xlink:href=\"#DejaVuSans-66\"/>\n       <use x=\"131.787109\" xlink:href=\"#DejaVuSans-73\"/>\n       <use x=\"161.279297\" xlink:href=\"#DejaVuSans-84\"/>\n       <use x=\"222.363281\" xlink:href=\"#DejaVuSans-68\"/>\n       <use x=\"297.615234\" xlink:href=\"#DejaVuSans-65\"/>\n       <use x=\"366.023438\" xlink:href=\"#DejaVuSans-95\"/>\n       <use x=\"416.023438\" xlink:href=\"#DejaVuSans-66\"/>\n       <use x=\"484.626953\" xlink:href=\"#DejaVuSans-73\"/>\n       <use x=\"514.119141\" xlink:href=\"#DejaVuSans-77\"/>\n       <use x=\"600.398438\" xlink:href=\"#DejaVuSans-66\"/>\n       <use x=\"667.251953\" xlink:href=\"#DejaVuSans-79\"/>\n       <use x=\"745.962891\" xlink:href=\"#DejaVuSans-95\"/>\n       <use x=\"795.962891\" xlink:href=\"#DejaVuSans-77\"/>\n       <use x=\"882.242188\" xlink:href=\"#DejaVuSans-73\"/>\n       <use x=\"911.734375\" xlink:href=\"#DejaVuSans-76\"/>\n       <use x=\"967.447266\" xlink:href=\"#DejaVuSans-76\"/>\n       <use x=\"1019.535156\" xlink:href=\"#DejaVuSans-79\"/>\n       <use x=\"1098.246094\" xlink:href=\"#DejaVuSans-78\"/>\n       <use x=\"1173.050781\" xlink:href=\"#DejaVuSans-69\"/>\n       <use x=\"1236.234375\" xlink:href=\"#DejaVuSans-83\"/>\n      </g>\n     </g>\n    </g>\n   </g>\n   <g id=\"text_15\">\n    <!-- 1 -->\n    <g style=\"fill:#262626;\" transform=\"translate(168.608571 37.055737)scale(0.1 -0.1)\">\n     <defs>\n      <path d=\"M 12.40625 8.296875 \nL 28.515625 8.296875 \nL 28.515625 63.921875 \nL 10.984375 60.40625 \nL 10.984375 69.390625 \nL 28.421875 72.90625 \nL 38.28125 72.90625 \nL 38.28125 8.296875 \nL 54.390625 8.296875 \nL 54.390625 0 \nL 12.40625 0 \nz\n\" id=\"DejaVuSans-49\"/>\n     </defs>\n     <use xlink:href=\"#DejaVuSans-49\"/>\n    </g>\n   </g>\n   <g id=\"text_16\">\n    <!-- 0.83 -->\n    <g style=\"fill:#262626;\" transform=\"translate(211.674152 37.055737)scale(0.1 -0.1)\">\n     <defs>\n      <path d=\"M 31.78125 66.40625 \nQ 24.171875 66.40625 20.328125 58.90625 \nQ 16.5 51.421875 16.5 36.375 \nQ 16.5 21.390625 20.328125 13.890625 \nQ 24.171875 6.390625 31.78125 6.390625 \nQ 39.453125 6.390625 43.28125 13.890625 \nQ 47.125 21.390625 47.125 36.375 \nQ 47.125 51.421875 43.28125 58.90625 \nQ 39.453125 66.40625 31.78125 66.40625 \nz\nM 31.78125 74.21875 \nQ 44.046875 74.21875 50.515625 64.515625 \nQ 56.984375 54.828125 56.984375 36.375 \nQ 56.984375 17.96875 50.515625 8.265625 \nQ 44.046875 -1.421875 31.78125 -1.421875 \nQ 19.53125 -1.421875 13.0625 8.265625 \nQ 6.59375 17.96875 6.59375 36.375 \nQ 6.59375 54.828125 13.0625 64.515625 \nQ 19.53125 74.21875 31.78125 74.21875 \nz\n\" id=\"DejaVuSans-48\"/>\n      <path d=\"M 10.6875 12.40625 \nL 21 12.40625 \nL 21 0 \nL 10.6875 0 \nz\n\" id=\"DejaVuSans-46\"/>\n      <path d=\"M 31.78125 34.625 \nQ 24.75 34.625 20.71875 30.859375 \nQ 16.703125 27.09375 16.703125 20.515625 \nQ 16.703125 13.921875 20.71875 10.15625 \nQ 24.75 6.390625 31.78125 6.390625 \nQ 38.8125 6.390625 42.859375 10.171875 \nQ 46.921875 13.96875 46.921875 20.515625 \nQ 46.921875 27.09375 42.890625 30.859375 \nQ 38.875 34.625 31.78125 34.625 \nz\nM 21.921875 38.8125 \nQ 15.578125 40.375 12.03125 44.71875 \nQ 8.5 49.078125 8.5 55.328125 \nQ 8.5 64.0625 14.71875 69.140625 \nQ 20.953125 74.21875 31.78125 74.21875 \nQ 42.671875 74.21875 48.875 69.140625 \nQ 55.078125 64.0625 55.078125 55.328125 \nQ 55.078125 49.078125 51.53125 44.71875 \nQ 48 40.375 41.703125 38.8125 \nQ 48.828125 37.15625 52.796875 32.3125 \nQ 56.78125 27.484375 56.78125 20.515625 \nQ 56.78125 9.90625 50.3125 4.234375 \nQ 43.84375 -1.421875 31.78125 -1.421875 \nQ 19.734375 -1.421875 13.25 4.234375 \nQ 6.78125 9.90625 6.78125 20.515625 \nQ 6.78125 27.484375 10.78125 32.3125 \nQ 14.796875 37.15625 21.921875 38.8125 \nz\nM 18.3125 54.390625 \nQ 18.3125 48.734375 21.84375 45.5625 \nQ 25.390625 42.390625 31.78125 42.390625 \nQ 38.140625 42.390625 41.71875 45.5625 \nQ 45.3125 48.734375 45.3125 54.390625 \nQ 45.3125 60.0625 41.71875 63.234375 \nQ 38.140625 66.40625 31.78125 66.40625 \nQ 25.390625 66.40625 21.84375 63.234375 \nQ 18.3125 60.0625 18.3125 54.390625 \nz\n\" id=\"DejaVuSans-56\"/>\n      <path d=\"M 40.578125 39.3125 \nQ 47.65625 37.796875 51.625 33 \nQ 55.609375 28.21875 55.609375 21.1875 \nQ 55.609375 10.40625 48.1875 4.484375 \nQ 40.765625 -1.421875 27.09375 -1.421875 \nQ 22.515625 -1.421875 17.65625 -0.515625 \nQ 12.796875 0.390625 7.625 2.203125 \nL 7.625 11.71875 \nQ 11.71875 9.328125 16.59375 8.109375 \nQ 21.484375 6.890625 26.8125 6.890625 \nQ 36.078125 6.890625 40.9375 10.546875 \nQ 45.796875 14.203125 45.796875 21.1875 \nQ 45.796875 27.640625 41.28125 31.265625 \nQ 36.765625 34.90625 28.71875 34.90625 \nL 20.21875 34.90625 \nL 20.21875 43.015625 \nL 29.109375 43.015625 \nQ 36.375 43.015625 40.234375 45.921875 \nQ 44.09375 48.828125 44.09375 54.296875 \nQ 44.09375 59.90625 40.109375 62.90625 \nQ 36.140625 65.921875 28.71875 65.921875 \nQ 24.65625 65.921875 20.015625 65.03125 \nQ 15.375 64.15625 9.8125 62.3125 \nL 9.8125 71.09375 \nQ 15.4375 72.65625 20.34375 73.4375 \nQ 25.25 74.21875 29.59375 74.21875 \nQ 40.828125 74.21875 47.359375 69.109375 \nQ 53.90625 64.015625 53.90625 55.328125 \nQ 53.90625 49.265625 50.4375 45.09375 \nQ 46.96875 40.921875 40.578125 39.3125 \nz\n\" id=\"DejaVuSans-51\"/>\n     </defs>\n     <use xlink:href=\"#DejaVuSans-48\"/>\n     <use x=\"63.623047\" xlink:href=\"#DejaVuSans-46\"/>\n     <use x=\"95.410156\" xlink:href=\"#DejaVuSans-56\"/>\n     <use x=\"159.033203\" xlink:href=\"#DejaVuSans-51\"/>\n    </g>\n   </g>\n   <g id=\"text_17\">\n    <!-- 0.59 -->\n    <g style=\"fill:#262626;\" transform=\"translate(262.691295 37.055737)scale(0.1 -0.1)\">\n     <defs>\n      <path d=\"M 10.796875 72.90625 \nL 49.515625 72.90625 \nL 49.515625 64.59375 \nL 19.828125 64.59375 \nL 19.828125 46.734375 \nQ 21.96875 47.46875 24.109375 47.828125 \nQ 26.265625 48.1875 28.421875 48.1875 \nQ 40.625 48.1875 47.75 41.5 \nQ 54.890625 34.8125 54.890625 23.390625 \nQ 54.890625 11.625 47.5625 5.09375 \nQ 40.234375 -1.421875 26.90625 -1.421875 \nQ 22.3125 -1.421875 17.546875 -0.640625 \nQ 12.796875 0.140625 7.71875 1.703125 \nL 7.71875 11.625 \nQ 12.109375 9.234375 16.796875 8.0625 \nQ 21.484375 6.890625 26.703125 6.890625 \nQ 35.15625 6.890625 40.078125 11.328125 \nQ 45.015625 15.765625 45.015625 23.390625 \nQ 45.015625 31 40.078125 35.4375 \nQ 35.15625 39.890625 26.703125 39.890625 \nQ 22.75 39.890625 18.8125 39.015625 \nQ 14.890625 38.140625 10.796875 36.28125 \nz\n\" id=\"DejaVuSans-53\"/>\n      <path d=\"M 10.984375 1.515625 \nL 10.984375 10.5 \nQ 14.703125 8.734375 18.5 7.8125 \nQ 22.3125 6.890625 25.984375 6.890625 \nQ 35.75 6.890625 40.890625 13.453125 \nQ 46.046875 20.015625 46.78125 33.40625 \nQ 43.953125 29.203125 39.59375 26.953125 \nQ 35.25 24.703125 29.984375 24.703125 \nQ 19.046875 24.703125 12.671875 31.3125 \nQ 6.296875 37.9375 6.296875 49.421875 \nQ 6.296875 60.640625 12.9375 67.421875 \nQ 19.578125 74.21875 30.609375 74.21875 \nQ 43.265625 74.21875 49.921875 64.515625 \nQ 56.59375 54.828125 56.59375 36.375 \nQ 56.59375 19.140625 48.40625 8.859375 \nQ 40.234375 -1.421875 26.421875 -1.421875 \nQ 22.703125 -1.421875 18.890625 -0.6875 \nQ 15.09375 0.046875 10.984375 1.515625 \nz\nM 30.609375 32.421875 \nQ 37.25 32.421875 41.125 36.953125 \nQ 45.015625 41.5 45.015625 49.421875 \nQ 45.015625 57.28125 41.125 61.84375 \nQ 37.25 66.40625 30.609375 66.40625 \nQ 23.96875 66.40625 20.09375 61.84375 \nQ 16.21875 57.28125 16.21875 49.421875 \nQ 16.21875 41.5 20.09375 36.953125 \nQ 23.96875 32.421875 30.609375 32.421875 \nz\n\" id=\"DejaVuSans-57\"/>\n     </defs>\n     <use xlink:href=\"#DejaVuSans-48\"/>\n     <use x=\"63.623047\" xlink:href=\"#DejaVuSans-46\"/>\n     <use x=\"95.410156\" xlink:href=\"#DejaVuSans-53\"/>\n     <use x=\"159.033203\" xlink:href=\"#DejaVuSans-57\"/>\n    </g>\n   </g>\n   <g id=\"text_18\">\n    <!-- 0.14 -->\n    <g style=\"fill:#ffffff;\" transform=\"translate(313.708438 37.055737)scale(0.1 -0.1)\">\n     <defs>\n      <path d=\"M 37.796875 64.3125 \nL 12.890625 25.390625 \nL 37.796875 25.390625 \nz\nM 35.203125 72.90625 \nL 47.609375 72.90625 \nL 47.609375 25.390625 \nL 58.015625 25.390625 \nL 58.015625 17.1875 \nL 47.609375 17.1875 \nL 47.609375 0 \nL 37.796875 0 \nL 37.796875 17.1875 \nL 4.890625 17.1875 \nL 4.890625 26.703125 \nz\n\" id=\"DejaVuSans-52\"/>\n     </defs>\n     <use xlink:href=\"#DejaVuSans-48\"/>\n     <use x=\"63.623047\" xlink:href=\"#DejaVuSans-46\"/>\n     <use x=\"95.410156\" xlink:href=\"#DejaVuSans-49\"/>\n     <use x=\"159.033203\" xlink:href=\"#DejaVuSans-52\"/>\n    </g>\n   </g>\n   <g id=\"text_19\">\n    <!-- -0.44 -->\n    <g style=\"fill:#ffffff;\" transform=\"translate(362.921674 37.055737)scale(0.1 -0.1)\">\n     <defs>\n      <path d=\"M 4.890625 31.390625 \nL 31.203125 31.390625 \nL 31.203125 23.390625 \nL 4.890625 23.390625 \nz\n\" id=\"DejaVuSans-45\"/>\n     </defs>\n     <use xlink:href=\"#DejaVuSans-45\"/>\n     <use x=\"36.083984\" xlink:href=\"#DejaVuSans-48\"/>\n     <use x=\"99.707031\" xlink:href=\"#DejaVuSans-46\"/>\n     <use x=\"131.494141\" xlink:href=\"#DejaVuSans-52\"/>\n     <use x=\"195.117188\" xlink:href=\"#DejaVuSans-52\"/>\n    </g>\n   </g>\n   <g id=\"text_20\">\n    <!-- 0.54 -->\n    <g style=\"fill:#ffffff;\" transform=\"translate(415.742723 37.055737)scale(0.1 -0.1)\">\n     <use xlink:href=\"#DejaVuSans-48\"/>\n     <use x=\"63.623047\" xlink:href=\"#DejaVuSans-46\"/>\n     <use x=\"95.410156\" xlink:href=\"#DejaVuSans-53\"/>\n     <use x=\"159.033203\" xlink:href=\"#DejaVuSans-52\"/>\n    </g>\n   </g>\n   <g id=\"text_21\">\n    <!-- 0.48 -->\n    <g style=\"fill:#ffffff;\" transform=\"translate(466.759866 37.055737)scale(0.1 -0.1)\">\n     <use xlink:href=\"#DejaVuSans-48\"/>\n     <use x=\"63.623047\" xlink:href=\"#DejaVuSans-46\"/>\n     <use x=\"95.410156\" xlink:href=\"#DejaVuSans-52\"/>\n     <use x=\"159.033203\" xlink:href=\"#DejaVuSans-56\"/>\n    </g>\n   </g>\n   <g id=\"text_22\">\n    <!-- 0.83 -->\n    <g style=\"fill:#262626;\" transform=\"translate(160.657009 83.650022)scale(0.1 -0.1)\">\n     <use xlink:href=\"#DejaVuSans-48\"/>\n     <use x=\"63.623047\" xlink:href=\"#DejaVuSans-46\"/>\n     <use x=\"95.410156\" xlink:href=\"#DejaVuSans-56\"/>\n     <use x=\"159.033203\" xlink:href=\"#DejaVuSans-51\"/>\n    </g>\n   </g>\n   <g id=\"text_23\">\n    <!-- 1 -->\n    <g style=\"fill:#262626;\" transform=\"translate(219.625714 83.650022)scale(0.1 -0.1)\">\n     <use xlink:href=\"#DejaVuSans-49\"/>\n    </g>\n   </g>\n   <g id=\"text_24\">\n    <!-- 0.73 -->\n    <g style=\"fill:#262626;\" transform=\"translate(262.691295 83.650022)scale(0.1 -0.1)\">\n     <defs>\n      <path d=\"M 8.203125 72.90625 \nL 55.078125 72.90625 \nL 55.078125 68.703125 \nL 28.609375 0 \nL 18.3125 0 \nL 43.21875 64.59375 \nL 8.203125 64.59375 \nz\n\" id=\"DejaVuSans-55\"/>\n     </defs>\n     <use xlink:href=\"#DejaVuSans-48\"/>\n     <use x=\"63.623047\" xlink:href=\"#DejaVuSans-46\"/>\n     <use x=\"95.410156\" xlink:href=\"#DejaVuSans-55\"/>\n     <use x=\"159.033203\" xlink:href=\"#DejaVuSans-51\"/>\n    </g>\n   </g>\n   <g id=\"text_25\">\n    <!-- 0.14 -->\n    <g style=\"fill:#ffffff;\" transform=\"translate(313.708438 83.650022)scale(0.1 -0.1)\">\n     <use xlink:href=\"#DejaVuSans-48\"/>\n     <use x=\"63.623047\" xlink:href=\"#DejaVuSans-46\"/>\n     <use x=\"95.410156\" xlink:href=\"#DejaVuSans-49\"/>\n     <use x=\"159.033203\" xlink:href=\"#DejaVuSans-52\"/>\n    </g>\n   </g>\n   <g id=\"text_26\">\n    <!-- -0.35 -->\n    <g style=\"fill:#ffffff;\" transform=\"translate(362.921674 83.650022)scale(0.1 -0.1)\">\n     <use xlink:href=\"#DejaVuSans-45\"/>\n     <use x=\"36.083984\" xlink:href=\"#DejaVuSans-48\"/>\n     <use x=\"99.707031\" xlink:href=\"#DejaVuSans-46\"/>\n     <use x=\"131.494141\" xlink:href=\"#DejaVuSans-51\"/>\n     <use x=\"195.117188\" xlink:href=\"#DejaVuSans-53\"/>\n    </g>\n   </g>\n   <g id=\"text_27\">\n    <!-- 0.61 -->\n    <g style=\"fill:#262626;\" transform=\"translate(415.742723 83.650022)scale(0.1 -0.1)\">\n     <defs>\n      <path d=\"M 33.015625 40.375 \nQ 26.375 40.375 22.484375 35.828125 \nQ 18.609375 31.296875 18.609375 23.390625 \nQ 18.609375 15.53125 22.484375 10.953125 \nQ 26.375 6.390625 33.015625 6.390625 \nQ 39.65625 6.390625 43.53125 10.953125 \nQ 47.40625 15.53125 47.40625 23.390625 \nQ 47.40625 31.296875 43.53125 35.828125 \nQ 39.65625 40.375 33.015625 40.375 \nz\nM 52.59375 71.296875 \nL 52.59375 62.3125 \nQ 48.875 64.0625 45.09375 64.984375 \nQ 41.3125 65.921875 37.59375 65.921875 \nQ 27.828125 65.921875 22.671875 59.328125 \nQ 17.53125 52.734375 16.796875 39.40625 \nQ 19.671875 43.65625 24.015625 45.921875 \nQ 28.375 48.1875 33.59375 48.1875 \nQ 44.578125 48.1875 50.953125 41.515625 \nQ 57.328125 34.859375 57.328125 23.390625 \nQ 57.328125 12.15625 50.6875 5.359375 \nQ 44.046875 -1.421875 33.015625 -1.421875 \nQ 20.359375 -1.421875 13.671875 8.265625 \nQ 6.984375 17.96875 6.984375 36.375 \nQ 6.984375 53.65625 15.1875 63.9375 \nQ 23.390625 74.21875 37.203125 74.21875 \nQ 40.921875 74.21875 44.703125 73.484375 \nQ 48.484375 72.75 52.59375 71.296875 \nz\n\" id=\"DejaVuSans-54\"/>\n     </defs>\n     <use xlink:href=\"#DejaVuSans-48\"/>\n     <use x=\"63.623047\" xlink:href=\"#DejaVuSans-46\"/>\n     <use x=\"95.410156\" xlink:href=\"#DejaVuSans-54\"/>\n     <use x=\"159.033203\" xlink:href=\"#DejaVuSans-49\"/>\n    </g>\n   </g>\n   <g id=\"text_28\">\n    <!-- 0.7 -->\n    <g style=\"fill:#262626;\" transform=\"translate(469.941116 83.650022)scale(0.1 -0.1)\">\n     <use xlink:href=\"#DejaVuSans-48\"/>\n     <use x=\"63.623047\" xlink:href=\"#DejaVuSans-46\"/>\n     <use x=\"95.410156\" xlink:href=\"#DejaVuSans-55\"/>\n    </g>\n   </g>\n   <g id=\"text_29\">\n    <!-- 0.59 -->\n    <g style=\"fill:#262626;\" transform=\"translate(160.657009 130.244308)scale(0.1 -0.1)\">\n     <use xlink:href=\"#DejaVuSans-48\"/>\n     <use x=\"63.623047\" xlink:href=\"#DejaVuSans-46\"/>\n     <use x=\"95.410156\" xlink:href=\"#DejaVuSans-53\"/>\n     <use x=\"159.033203\" xlink:href=\"#DejaVuSans-57\"/>\n    </g>\n   </g>\n   <g id=\"text_30\">\n    <!-- 0.73 -->\n    <g style=\"fill:#262626;\" transform=\"translate(211.674152 130.244308)scale(0.1 -0.1)\">\n     <use xlink:href=\"#DejaVuSans-48\"/>\n     <use x=\"63.623047\" xlink:href=\"#DejaVuSans-46\"/>\n     <use x=\"95.410156\" xlink:href=\"#DejaVuSans-55\"/>\n     <use x=\"159.033203\" xlink:href=\"#DejaVuSans-51\"/>\n    </g>\n   </g>\n   <g id=\"text_31\">\n    <!-- 1 -->\n    <g style=\"fill:#262626;\" transform=\"translate(270.642857 130.244308)scale(0.1 -0.1)\">\n     <use xlink:href=\"#DejaVuSans-49\"/>\n    </g>\n   </g>\n   <g id=\"text_32\">\n    <!-- 0.51 -->\n    <g style=\"fill:#ffffff;\" transform=\"translate(313.708438 130.244308)scale(0.1 -0.1)\">\n     <use xlink:href=\"#DejaVuSans-48\"/>\n     <use x=\"63.623047\" xlink:href=\"#DejaVuSans-46\"/>\n     <use x=\"95.410156\" xlink:href=\"#DejaVuSans-53\"/>\n     <use x=\"159.033203\" xlink:href=\"#DejaVuSans-49\"/>\n    </g>\n   </g>\n   <g id=\"text_33\">\n    <!-- 0.062 -->\n    <g style=\"fill:#ffffff;\" transform=\"translate(361.54433 130.244308)scale(0.1 -0.1)\">\n     <defs>\n      <path d=\"M 19.1875 8.296875 \nL 53.609375 8.296875 \nL 53.609375 0 \nL 7.328125 0 \nL 7.328125 8.296875 \nQ 12.9375 14.109375 22.625 23.890625 \nQ 32.328125 33.6875 34.8125 36.53125 \nQ 39.546875 41.84375 41.421875 45.53125 \nQ 43.3125 49.21875 43.3125 52.78125 \nQ 43.3125 58.59375 39.234375 62.25 \nQ 35.15625 65.921875 28.609375 65.921875 \nQ 23.96875 65.921875 18.8125 64.3125 \nQ 13.671875 62.703125 7.8125 59.421875 \nL 7.8125 69.390625 \nQ 13.765625 71.78125 18.9375 73 \nQ 24.125 74.21875 28.421875 74.21875 \nQ 39.75 74.21875 46.484375 68.546875 \nQ 53.21875 62.890625 53.21875 53.421875 \nQ 53.21875 48.921875 51.53125 44.890625 \nQ 49.859375 40.875 45.40625 35.40625 \nQ 44.1875 33.984375 37.640625 27.21875 \nQ 31.109375 20.453125 19.1875 8.296875 \nz\n\" id=\"DejaVuSans-50\"/>\n     </defs>\n     <use xlink:href=\"#DejaVuSans-48\"/>\n     <use x=\"63.623047\" xlink:href=\"#DejaVuSans-46\"/>\n     <use x=\"95.410156\" xlink:href=\"#DejaVuSans-48\"/>\n     <use x=\"159.033203\" xlink:href=\"#DejaVuSans-54\"/>\n     <use x=\"222.65625\" xlink:href=\"#DejaVuSans-50\"/>\n    </g>\n   </g>\n   <g id=\"text_34\">\n    <!-- 0.89 -->\n    <g style=\"fill:#262626;\" transform=\"translate(415.742723 130.244308)scale(0.1 -0.1)\">\n     <use xlink:href=\"#DejaVuSans-48\"/>\n     <use x=\"63.623047\" xlink:href=\"#DejaVuSans-46\"/>\n     <use x=\"95.410156\" xlink:href=\"#DejaVuSans-56\"/>\n     <use x=\"159.033203\" xlink:href=\"#DejaVuSans-57\"/>\n    </g>\n   </g>\n   <g id=\"text_35\">\n    <!-- 0.9 -->\n    <g style=\"fill:#262626;\" transform=\"translate(469.941116 130.244308)scale(0.1 -0.1)\">\n     <use xlink:href=\"#DejaVuSans-48\"/>\n     <use x=\"63.623047\" xlink:href=\"#DejaVuSans-46\"/>\n     <use x=\"95.410156\" xlink:href=\"#DejaVuSans-57\"/>\n    </g>\n   </g>\n   <g id=\"text_36\">\n    <!-- 0.14 -->\n    <g style=\"fill:#ffffff;\" transform=\"translate(160.657009 176.838594)scale(0.1 -0.1)\">\n     <use xlink:href=\"#DejaVuSans-48\"/>\n     <use x=\"63.623047\" xlink:href=\"#DejaVuSans-46\"/>\n     <use x=\"95.410156\" xlink:href=\"#DejaVuSans-49\"/>\n     <use x=\"159.033203\" xlink:href=\"#DejaVuSans-52\"/>\n    </g>\n   </g>\n   <g id=\"text_37\">\n    <!-- 0.14 -->\n    <g style=\"fill:#ffffff;\" transform=\"translate(211.674152 176.838594)scale(0.1 -0.1)\">\n     <use xlink:href=\"#DejaVuSans-48\"/>\n     <use x=\"63.623047\" xlink:href=\"#DejaVuSans-46\"/>\n     <use x=\"95.410156\" xlink:href=\"#DejaVuSans-49\"/>\n     <use x=\"159.033203\" xlink:href=\"#DejaVuSans-52\"/>\n    </g>\n   </g>\n   <g id=\"text_38\">\n    <!-- 0.51 -->\n    <g style=\"fill:#ffffff;\" transform=\"translate(262.691295 176.838594)scale(0.1 -0.1)\">\n     <use xlink:href=\"#DejaVuSans-48\"/>\n     <use x=\"63.623047\" xlink:href=\"#DejaVuSans-46\"/>\n     <use x=\"95.410156\" xlink:href=\"#DejaVuSans-53\"/>\n     <use x=\"159.033203\" xlink:href=\"#DejaVuSans-49\"/>\n    </g>\n   </g>\n   <g id=\"text_39\">\n    <!-- 1 -->\n    <g style=\"fill:#262626;\" transform=\"translate(321.66 176.838594)scale(0.1 -0.1)\">\n     <use xlink:href=\"#DejaVuSans-49\"/>\n    </g>\n   </g>\n   <g id=\"text_40\">\n    <!-- 0.41 -->\n    <g style=\"fill:#ffffff;\" transform=\"translate(364.72558 176.838594)scale(0.1 -0.1)\">\n     <use xlink:href=\"#DejaVuSans-48\"/>\n     <use x=\"63.623047\" xlink:href=\"#DejaVuSans-46\"/>\n     <use x=\"95.410156\" xlink:href=\"#DejaVuSans-52\"/>\n     <use x=\"159.033203\" xlink:href=\"#DejaVuSans-49\"/>\n    </g>\n   </g>\n   <g id=\"text_41\">\n    <!-- 0.75 -->\n    <g style=\"fill:#262626;\" transform=\"translate(415.742723 176.838594)scale(0.1 -0.1)\">\n     <use xlink:href=\"#DejaVuSans-48\"/>\n     <use x=\"63.623047\" xlink:href=\"#DejaVuSans-46\"/>\n     <use x=\"95.410156\" xlink:href=\"#DejaVuSans-55\"/>\n     <use x=\"159.033203\" xlink:href=\"#DejaVuSans-53\"/>\n    </g>\n   </g>\n   <g id=\"text_42\">\n    <!-- 0.62 -->\n    <g style=\"fill:#262626;\" transform=\"translate(466.759866 176.838594)scale(0.1 -0.1)\">\n     <use xlink:href=\"#DejaVuSans-48\"/>\n     <use x=\"63.623047\" xlink:href=\"#DejaVuSans-46\"/>\n     <use x=\"95.410156\" xlink:href=\"#DejaVuSans-54\"/>\n     <use x=\"159.033203\" xlink:href=\"#DejaVuSans-50\"/>\n    </g>\n   </g>\n   <g id=\"text_43\">\n    <!-- -0.44 -->\n    <g style=\"fill:#ffffff;\" transform=\"translate(158.853103 223.432879)scale(0.1 -0.1)\">\n     <use xlink:href=\"#DejaVuSans-45\"/>\n     <use x=\"36.083984\" xlink:href=\"#DejaVuSans-48\"/>\n     <use x=\"99.707031\" xlink:href=\"#DejaVuSans-46\"/>\n     <use x=\"131.494141\" xlink:href=\"#DejaVuSans-52\"/>\n     <use x=\"195.117188\" xlink:href=\"#DejaVuSans-52\"/>\n    </g>\n   </g>\n   <g id=\"text_44\">\n    <!-- -0.35 -->\n    <g style=\"fill:#ffffff;\" transform=\"translate(209.870246 223.432879)scale(0.1 -0.1)\">\n     <use xlink:href=\"#DejaVuSans-45\"/>\n     <use x=\"36.083984\" xlink:href=\"#DejaVuSans-48\"/>\n     <use x=\"99.707031\" xlink:href=\"#DejaVuSans-46\"/>\n     <use x=\"131.494141\" xlink:href=\"#DejaVuSans-51\"/>\n     <use x=\"195.117188\" xlink:href=\"#DejaVuSans-53\"/>\n    </g>\n   </g>\n   <g id=\"text_45\">\n    <!-- 0.062 -->\n    <g style=\"fill:#ffffff;\" transform=\"translate(259.510045 223.432879)scale(0.1 -0.1)\">\n     <use xlink:href=\"#DejaVuSans-48\"/>\n     <use x=\"63.623047\" xlink:href=\"#DejaVuSans-46\"/>\n     <use x=\"95.410156\" xlink:href=\"#DejaVuSans-48\"/>\n     <use x=\"159.033203\" xlink:href=\"#DejaVuSans-54\"/>\n     <use x=\"222.65625\" xlink:href=\"#DejaVuSans-50\"/>\n    </g>\n   </g>\n   <g id=\"text_46\">\n    <!-- 0.41 -->\n    <g style=\"fill:#ffffff;\" transform=\"translate(313.708438 223.432879)scale(0.1 -0.1)\">\n     <use xlink:href=\"#DejaVuSans-48\"/>\n     <use x=\"63.623047\" xlink:href=\"#DejaVuSans-46\"/>\n     <use x=\"95.410156\" xlink:href=\"#DejaVuSans-52\"/>\n     <use x=\"159.033203\" xlink:href=\"#DejaVuSans-49\"/>\n    </g>\n   </g>\n   <g id=\"text_47\">\n    <!-- 1 -->\n    <g style=\"fill:#262626;\" transform=\"translate(372.677143 223.432879)scale(0.1 -0.1)\">\n     <use xlink:href=\"#DejaVuSans-49\"/>\n    </g>\n   </g>\n   <g id=\"text_48\">\n    <!-- 0.11 -->\n    <g style=\"fill:#ffffff;\" transform=\"translate(415.742723 223.432879)scale(0.1 -0.1)\">\n     <use xlink:href=\"#DejaVuSans-48\"/>\n     <use x=\"63.623047\" xlink:href=\"#DejaVuSans-46\"/>\n     <use x=\"95.410156\" xlink:href=\"#DejaVuSans-49\"/>\n     <use x=\"159.033203\" xlink:href=\"#DejaVuSans-49\"/>\n    </g>\n   </g>\n   <g id=\"text_49\">\n    <!-- 0.27 -->\n    <g style=\"fill:#ffffff;\" transform=\"translate(466.759866 223.432879)scale(0.1 -0.1)\">\n     <use xlink:href=\"#DejaVuSans-48\"/>\n     <use x=\"63.623047\" xlink:href=\"#DejaVuSans-46\"/>\n     <use x=\"95.410156\" xlink:href=\"#DejaVuSans-50\"/>\n     <use x=\"159.033203\" xlink:href=\"#DejaVuSans-55\"/>\n    </g>\n   </g>\n   <g id=\"text_50\">\n    <!-- 0.54 -->\n    <g style=\"fill:#ffffff;\" transform=\"translate(160.657009 270.027165)scale(0.1 -0.1)\">\n     <use xlink:href=\"#DejaVuSans-48\"/>\n     <use x=\"63.623047\" xlink:href=\"#DejaVuSans-46\"/>\n     <use x=\"95.410156\" xlink:href=\"#DejaVuSans-53\"/>\n     <use x=\"159.033203\" xlink:href=\"#DejaVuSans-52\"/>\n    </g>\n   </g>\n   <g id=\"text_51\">\n    <!-- 0.61 -->\n    <g style=\"fill:#262626;\" transform=\"translate(211.674152 270.027165)scale(0.1 -0.1)\">\n     <use xlink:href=\"#DejaVuSans-48\"/>\n     <use x=\"63.623047\" xlink:href=\"#DejaVuSans-46\"/>\n     <use x=\"95.410156\" xlink:href=\"#DejaVuSans-54\"/>\n     <use x=\"159.033203\" xlink:href=\"#DejaVuSans-49\"/>\n    </g>\n   </g>\n   <g id=\"text_52\">\n    <!-- 0.89 -->\n    <g style=\"fill:#262626;\" transform=\"translate(262.691295 270.027165)scale(0.1 -0.1)\">\n     <use xlink:href=\"#DejaVuSans-48\"/>\n     <use x=\"63.623047\" xlink:href=\"#DejaVuSans-46\"/>\n     <use x=\"95.410156\" xlink:href=\"#DejaVuSans-56\"/>\n     <use x=\"159.033203\" xlink:href=\"#DejaVuSans-57\"/>\n    </g>\n   </g>\n   <g id=\"text_53\">\n    <!-- 0.75 -->\n    <g style=\"fill:#262626;\" transform=\"translate(313.708438 270.027165)scale(0.1 -0.1)\">\n     <use xlink:href=\"#DejaVuSans-48\"/>\n     <use x=\"63.623047\" xlink:href=\"#DejaVuSans-46\"/>\n     <use x=\"95.410156\" xlink:href=\"#DejaVuSans-55\"/>\n     <use x=\"159.033203\" xlink:href=\"#DejaVuSans-53\"/>\n    </g>\n   </g>\n   <g id=\"text_54\">\n    <!-- 0.11 -->\n    <g style=\"fill:#ffffff;\" transform=\"translate(364.72558 270.027165)scale(0.1 -0.1)\">\n     <use xlink:href=\"#DejaVuSans-48\"/>\n     <use x=\"63.623047\" xlink:href=\"#DejaVuSans-46\"/>\n     <use x=\"95.410156\" xlink:href=\"#DejaVuSans-49\"/>\n     <use x=\"159.033203\" xlink:href=\"#DejaVuSans-49\"/>\n    </g>\n   </g>\n   <g id=\"text_55\">\n    <!-- 1 -->\n    <g style=\"fill:#262626;\" transform=\"translate(423.694286 270.027165)scale(0.1 -0.1)\">\n     <use xlink:href=\"#DejaVuSans-49\"/>\n    </g>\n   </g>\n   <g id=\"text_56\">\n    <!-- 0.88 -->\n    <g style=\"fill:#262626;\" transform=\"translate(466.759866 270.027165)scale(0.1 -0.1)\">\n     <use xlink:href=\"#DejaVuSans-48\"/>\n     <use x=\"63.623047\" xlink:href=\"#DejaVuSans-46\"/>\n     <use x=\"95.410156\" xlink:href=\"#DejaVuSans-56\"/>\n     <use x=\"159.033203\" xlink:href=\"#DejaVuSans-56\"/>\n    </g>\n   </g>\n   <g id=\"text_57\">\n    <!-- 0.48 -->\n    <g style=\"fill:#ffffff;\" transform=\"translate(160.657009 316.621451)scale(0.1 -0.1)\">\n     <use xlink:href=\"#DejaVuSans-48\"/>\n     <use x=\"63.623047\" xlink:href=\"#DejaVuSans-46\"/>\n     <use x=\"95.410156\" xlink:href=\"#DejaVuSans-52\"/>\n     <use x=\"159.033203\" xlink:href=\"#DejaVuSans-56\"/>\n    </g>\n   </g>\n   <g id=\"text_58\">\n    <!-- 0.7 -->\n    <g style=\"fill:#262626;\" transform=\"translate(214.855402 316.621451)scale(0.1 -0.1)\">\n     <use xlink:href=\"#DejaVuSans-48\"/>\n     <use x=\"63.623047\" xlink:href=\"#DejaVuSans-46\"/>\n     <use x=\"95.410156\" xlink:href=\"#DejaVuSans-55\"/>\n    </g>\n   </g>\n   <g id=\"text_59\">\n    <!-- 0.9 -->\n    <g style=\"fill:#262626;\" transform=\"translate(265.872545 316.621451)scale(0.1 -0.1)\">\n     <use xlink:href=\"#DejaVuSans-48\"/>\n     <use x=\"63.623047\" xlink:href=\"#DejaVuSans-46\"/>\n     <use x=\"95.410156\" xlink:href=\"#DejaVuSans-57\"/>\n    </g>\n   </g>\n   <g id=\"text_60\">\n    <!-- 0.62 -->\n    <g style=\"fill:#262626;\" transform=\"translate(313.708438 316.621451)scale(0.1 -0.1)\">\n     <use xlink:href=\"#DejaVuSans-48\"/>\n     <use x=\"63.623047\" xlink:href=\"#DejaVuSans-46\"/>\n     <use x=\"95.410156\" xlink:href=\"#DejaVuSans-54\"/>\n     <use x=\"159.033203\" xlink:href=\"#DejaVuSans-50\"/>\n    </g>\n   </g>\n   <g id=\"text_61\">\n    <!-- 0.27 -->\n    <g style=\"fill:#ffffff;\" transform=\"translate(364.72558 316.621451)scale(0.1 -0.1)\">\n     <use xlink:href=\"#DejaVuSans-48\"/>\n     <use x=\"63.623047\" xlink:href=\"#DejaVuSans-46\"/>\n     <use x=\"95.410156\" xlink:href=\"#DejaVuSans-50\"/>\n     <use x=\"159.033203\" xlink:href=\"#DejaVuSans-55\"/>\n    </g>\n   </g>\n   <g id=\"text_62\">\n    <!-- 0.88 -->\n    <g style=\"fill:#262626;\" transform=\"translate(415.742723 316.621451)scale(0.1 -0.1)\">\n     <use xlink:href=\"#DejaVuSans-48\"/>\n     <use x=\"63.623047\" xlink:href=\"#DejaVuSans-46\"/>\n     <use x=\"95.410156\" xlink:href=\"#DejaVuSans-56\"/>\n     <use x=\"159.033203\" xlink:href=\"#DejaVuSans-56\"/>\n    </g>\n   </g>\n   <g id=\"text_63\">\n    <!-- 1 -->\n    <g style=\"fill:#262626;\" transform=\"translate(474.711429 316.621451)scale(0.1 -0.1)\">\n     <use xlink:href=\"#DejaVuSans-49\"/>\n    </g>\n   </g>\n  </g>\n  <g id=\"axes_2\">\n   <g id=\"patch_3\">\n    <path clip-path=\"url(#pa724dd13ca)\" d=\"M 525.72125 337.159219 \nL 525.72125 335.885156 \nL 525.72125 12.273281 \nL 525.72125 10.999219 \nL 542.02925 10.999219 \nL 542.02925 12.273281 \nL 542.02925 335.885156 \nL 542.02925 337.159219 \nz\n\" style=\"fill:#ffffff;stroke:#ffffff;stroke-linejoin:miter;stroke-width:0.01;\"/>\n   </g>\n   <image height=\"326\" id=\"imagedca13dcba9\" transform=\"scale(1 -1)translate(0 -326)\" width=\"16\" x=\"526\" xlink:href=\"data:image/png;base64,\niVBORw0KGgoAAAANSUhEUgAAABAAAAFGCAYAAABjUx8/AAABtklEQVR4nO2cUY7CQAzFJqVcgvvfsxzCkfwahX+iF4+TWUHZ+nx/zwGvu8i7zzl3FStxwQA8wV2HFqAJLh8iZUBbCBDper0HCzFB5YCVpp9ChEgsxAiR7Bb8BAsxZBp3pXGRbAY4QYKJOMGKNEGkBog0wULkEAMY8GOkCex90LHWYYEBDPSbyT+FGSLBBBNMtCFOuNr0U4iYRpxggImwAGeAvmWaIhIuYE9jAAMoEm4hwEQd4giRaIHSIfoMdhqHMGA9cAb67dwA8aEQaYKGpcpa6IAICxRWmQVI2Eg6A5wgYaXBafJPoeODaQwRFghY67gFHyKkOEKkZXAXvF0TIPIW/FNA708wcUUKYIATdECkBexhmgDx2BADGHCIdgIOUW+hI4H9DYfeAk7QwYA+3GczwC10rDTMwC7gP/DsMzgX6yKAQYCJ8GYJgNhwCvDXRP5Ko8e40xgBkZq4EDNMpM/q0hYSGASIRH8kOmGtv18kf5jsU+iYRsxAPwUfou1BxF/rbx+mFSkhwQSIVR9UIGEaV6SOFpgHC7FhmCYwSJhGfaXpEPE/FxphorzSAu5G3YMIiMyDP4eALks55040AAAAAElFTkSuQmCC\" y=\"-11\"/>\n   <g id=\"matplotlib.axis_3\"/>\n   <g id=\"matplotlib.axis_4\">\n    <g id=\"ytick_8\">\n     <g id=\"line2d_15\">\n      <defs>\n       <path d=\"M 0 0 \nL 3.5 0 \n\" id=\"m8102c6bafb\" style=\"stroke:#000000;stroke-width:0.8;\"/>\n      </defs>\n      <g>\n       <use style=\"stroke:#000000;stroke-width:0.8;\" x=\"542.02925\" xlink:href=\"#m8102c6bafb\" y=\"337.159219\"/>\n      </g>\n     </g>\n     <g id=\"text_64\">\n      <!-- −1.00 -->\n      <g transform=\"translate(549.02925 340.958437)scale(0.1 -0.1)\">\n       <defs>\n        <path d=\"M 10.59375 35.5 \nL 73.1875 35.5 \nL 73.1875 27.203125 \nL 10.59375 27.203125 \nz\n\" id=\"DejaVuSans-8722\"/>\n       </defs>\n       <use xlink:href=\"#DejaVuSans-8722\"/>\n       <use x=\"83.789062\" xlink:href=\"#DejaVuSans-49\"/>\n       <use x=\"147.412109\" xlink:href=\"#DejaVuSans-46\"/>\n       <use x=\"179.199219\" xlink:href=\"#DejaVuSans-48\"/>\n       <use x=\"242.822266\" xlink:href=\"#DejaVuSans-48\"/>\n      </g>\n     </g>\n    </g>\n    <g id=\"ytick_9\">\n     <g id=\"line2d_16\">\n      <g>\n       <use style=\"stroke:#000000;stroke-width:0.8;\" x=\"542.02925\" xlink:href=\"#m8102c6bafb\" y=\"296.389219\"/>\n      </g>\n     </g>\n     <g id=\"text_65\">\n      <!-- −0.75 -->\n      <g transform=\"translate(549.02925 300.188437)scale(0.1 -0.1)\">\n       <use xlink:href=\"#DejaVuSans-8722\"/>\n       <use x=\"83.789062\" xlink:href=\"#DejaVuSans-48\"/>\n       <use x=\"147.412109\" xlink:href=\"#DejaVuSans-46\"/>\n       <use x=\"179.199219\" xlink:href=\"#DejaVuSans-55\"/>\n       <use x=\"242.822266\" xlink:href=\"#DejaVuSans-53\"/>\n      </g>\n     </g>\n    </g>\n    <g id=\"ytick_10\">\n     <g id=\"line2d_17\">\n      <g>\n       <use style=\"stroke:#000000;stroke-width:0.8;\" x=\"542.02925\" xlink:href=\"#m8102c6bafb\" y=\"255.619219\"/>\n      </g>\n     </g>\n     <g id=\"text_66\">\n      <!-- −0.50 -->\n      <g transform=\"translate(549.02925 259.418437)scale(0.1 -0.1)\">\n       <use xlink:href=\"#DejaVuSans-8722\"/>\n       <use x=\"83.789062\" xlink:href=\"#DejaVuSans-48\"/>\n       <use x=\"147.412109\" xlink:href=\"#DejaVuSans-46\"/>\n       <use x=\"179.199219\" xlink:href=\"#DejaVuSans-53\"/>\n       <use x=\"242.822266\" xlink:href=\"#DejaVuSans-48\"/>\n      </g>\n     </g>\n    </g>\n    <g id=\"ytick_11\">\n     <g id=\"line2d_18\">\n      <g>\n       <use style=\"stroke:#000000;stroke-width:0.8;\" x=\"542.02925\" xlink:href=\"#m8102c6bafb\" y=\"214.849219\"/>\n      </g>\n     </g>\n     <g id=\"text_67\">\n      <!-- −0.25 -->\n      <g transform=\"translate(549.02925 218.648438)scale(0.1 -0.1)\">\n       <use xlink:href=\"#DejaVuSans-8722\"/>\n       <use x=\"83.789062\" xlink:href=\"#DejaVuSans-48\"/>\n       <use x=\"147.412109\" xlink:href=\"#DejaVuSans-46\"/>\n       <use x=\"179.199219\" xlink:href=\"#DejaVuSans-50\"/>\n       <use x=\"242.822266\" xlink:href=\"#DejaVuSans-53\"/>\n      </g>\n     </g>\n    </g>\n    <g id=\"ytick_12\">\n     <g id=\"line2d_19\">\n      <g>\n       <use style=\"stroke:#000000;stroke-width:0.8;\" x=\"542.02925\" xlink:href=\"#m8102c6bafb\" y=\"174.079219\"/>\n      </g>\n     </g>\n     <g id=\"text_68\">\n      <!-- 0.00 -->\n      <g transform=\"translate(549.02925 177.878438)scale(0.1 -0.1)\">\n       <use xlink:href=\"#DejaVuSans-48\"/>\n       <use x=\"63.623047\" xlink:href=\"#DejaVuSans-46\"/>\n       <use x=\"95.410156\" xlink:href=\"#DejaVuSans-48\"/>\n       <use x=\"159.033203\" xlink:href=\"#DejaVuSans-48\"/>\n      </g>\n     </g>\n    </g>\n    <g id=\"ytick_13\">\n     <g id=\"line2d_20\">\n      <g>\n       <use style=\"stroke:#000000;stroke-width:0.8;\" x=\"542.02925\" xlink:href=\"#m8102c6bafb\" y=\"133.309219\"/>\n      </g>\n     </g>\n     <g id=\"text_69\">\n      <!-- 0.25 -->\n      <g transform=\"translate(549.02925 137.108438)scale(0.1 -0.1)\">\n       <use xlink:href=\"#DejaVuSans-48\"/>\n       <use x=\"63.623047\" xlink:href=\"#DejaVuSans-46\"/>\n       <use x=\"95.410156\" xlink:href=\"#DejaVuSans-50\"/>\n       <use x=\"159.033203\" xlink:href=\"#DejaVuSans-53\"/>\n      </g>\n     </g>\n    </g>\n    <g id=\"ytick_14\">\n     <g id=\"line2d_21\">\n      <g>\n       <use style=\"stroke:#000000;stroke-width:0.8;\" x=\"542.02925\" xlink:href=\"#m8102c6bafb\" y=\"92.539219\"/>\n      </g>\n     </g>\n     <g id=\"text_70\">\n      <!-- 0.50 -->\n      <g transform=\"translate(549.02925 96.338438)scale(0.1 -0.1)\">\n       <use xlink:href=\"#DejaVuSans-48\"/>\n       <use x=\"63.623047\" xlink:href=\"#DejaVuSans-46\"/>\n       <use x=\"95.410156\" xlink:href=\"#DejaVuSans-53\"/>\n       <use x=\"159.033203\" xlink:href=\"#DejaVuSans-48\"/>\n      </g>\n     </g>\n    </g>\n    <g id=\"ytick_15\">\n     <g id=\"line2d_22\">\n      <g>\n       <use style=\"stroke:#000000;stroke-width:0.8;\" x=\"542.02925\" xlink:href=\"#m8102c6bafb\" y=\"51.769219\"/>\n      </g>\n     </g>\n     <g id=\"text_71\">\n      <!-- 0.75 -->\n      <g transform=\"translate(549.02925 55.568438)scale(0.1 -0.1)\">\n       <use xlink:href=\"#DejaVuSans-48\"/>\n       <use x=\"63.623047\" xlink:href=\"#DejaVuSans-46\"/>\n       <use x=\"95.410156\" xlink:href=\"#DejaVuSans-55\"/>\n       <use x=\"159.033203\" xlink:href=\"#DejaVuSans-53\"/>\n      </g>\n     </g>\n    </g>\n    <g id=\"ytick_16\">\n     <g id=\"line2d_23\">\n      <g>\n       <use style=\"stroke:#000000;stroke-width:0.8;\" x=\"542.02925\" xlink:href=\"#m8102c6bafb\" y=\"10.999219\"/>\n      </g>\n     </g>\n     <g id=\"text_72\">\n      <!-- 1.00 -->\n      <g transform=\"translate(549.02925 14.798438)scale(0.1 -0.1)\">\n       <use xlink:href=\"#DejaVuSans-49\"/>\n       <use x=\"63.623047\" xlink:href=\"#DejaVuSans-46\"/>\n       <use x=\"95.410156\" xlink:href=\"#DejaVuSans-48\"/>\n       <use x=\"159.033203\" xlink:href=\"#DejaVuSans-48\"/>\n      </g>\n     </g>\n    </g>\n   </g>\n   <g id=\"patch_4\">\n    <path d=\"M 525.72125 337.159219 \nL 525.72125 335.885156 \nL 525.72125 12.273281 \nL 525.72125 10.999219 \nL 542.02925 10.999219 \nL 542.02925 12.273281 \nL 542.02925 335.885156 \nL 542.02925 337.159219 \nz\n\" style=\"fill:none;\"/>\n   </g>\n  </g>\n </g>\n <defs>\n  <clipPath id=\"p744bb6532f\">\n   <rect height=\"326.16\" width=\"357.12\" x=\"146.28125\" y=\"10.999219\"/>\n  </clipPath>\n  <clipPath id=\"pa724dd13ca\">\n   <rect height=\"326.16\" width=\"16.308\" x=\"525.72125\" y=\"10.999219\"/>\n  </clipPath>\n </defs>\n</svg>\n",
      "image/png": "[encoded data removed]"
     },
     "metadata": {
      "needs_background": "light"
     }
    }
   ],
   "metadata": {}
  },
  {
   "cell_type": "code",
   "execution_count": 43,
   "source": [
    "def plot_vars(df, dates, var1, var2):\n",
    "    fig = make_subplots(specs=[[{\"secondary_y\": True}]])\n",
    "\n",
    "    # Add traces\n",
    "    fig.add_trace(\n",
    "    go.Scatter(x=dates, y=data_df[f'{var1}'], name=f\"{var1}\"),\n",
    "    secondary_y=False,\n",
    "    )\n",
    "\n",
    "    fig.add_trace(\n",
    "    go.Scatter(x=dates, y=data_df[f'{var2}'], name=f\"{var2}\"),\n",
    "    secondary_y=True,\n",
    "    )\n",
    "\n",
    "    # Add figure title\n",
    "    fig.update_layout(\n",
    "    title_text=f\"{var1} vs. {var2}\"\n",
    "    )\n",
    "\n",
    "    # Set x-axis title\n",
    "    fig.update_xaxes(title_text=\"Fecha\")\n",
    "\n",
    "    # Set y-axes titles\n",
    "    fig.update_yaxes(title_text=\"Precio acción $MXN\", secondary_y=False)\n",
    "    fig.update_yaxes(title_text=\"Tipo de cambio $MXN\", secondary_y=True)\n",
    "\n",
    "    fig.update_layout(\n",
    "    template='plotly_white'\n",
    "    )\n",
    "\n",
    "    fig.show()"
   ],
   "outputs": [],
   "metadata": {}
  },
  {
   "cell_type": "code",
   "execution_count": 44,
   "source": [
    "data_df = df.iloc[:59, 1:].replace(',','')#.replace(',', '', regex=True).astype(float)\n",
    "plot_vars(data_df, df['FECHA'], 'PRECIO_ALSEA', 'MXN_USD')"
   ],
   "outputs": [
    {
     "output_type": "display_data",
     "data": {
      "application/vnd.plotly.v1+json": {
       "config": {
        "plotlyServerURL": "https://plotly.com"
       },
       "data": [
        {
         "name": "PRECIO_ALSEA",
         "type": "scatter",
         "x": [
          "4T2006",
          "1T2007",
          "2T2007",
          "3T2007",
          "4T2007",
          "1T2008",
          "2T2008",
          "3T2008",
          "4T2008",
          "1T2009",
          "2T2009",
          "3T2009",
          "4T2009",
          "1T2010",
          "2T2010",
          "3T2010",
          "4T2010",
          "1T2011",
          "2T2011",
          "3T2011",
          "4T2011",
          "1T2012",
          "2T2012",
          "3T2012",
          "4T2012",
          "1T2013",
          "2T2013",
          "3T2013",
          "4T2013",
          "1T2014",
          "2T2014",
          "3T2014",
          "4T2014",
          "1T2015",
          "2T2015",
          "3T2015",
          "4T2015",
          "1T2016",
          "2T2016",
          "3T2016",
          "4T2016",
          "1T2017",
          "2T2017",
          "3T2017",
          "4T2017",
          "1T2018",
          "2T2018",
          "3T2018",
          "4T2018",
          "1T2019",
          "2T2019",
          "3T2019",
          "4T2019",
          "1T2020",
          "2T2020",
          "3T2020",
          "4T2020",
          "1T2021",
          "2T2021",
          "3T2021",
          "4T2021"
         ],
         "xaxis": "x",
         "y": [
          "12.55991538",
          "17.42904202",
          "16.28282047",
          "15.51071623",
          "13.12577203",
          "11.1869325",
          "11.29608858",
          "7.112352069",
          "5.430141347",
          "3.625904976",
          "6.519656063",
          "7.60917078",
          "8.864930559",
          "11.7730495",
          "10.96248458",
          "11.3883001",
          "11.71445667",
          "11.42453972",
          "10.96555101",
          "9.309679216",
          "12.95259717",
          "16.74270373",
          "16.83004793",
          "18.92672056",
          "24.34784711",
          "33.50898431",
          "29.53779603",
          "35.11204937",
          "39.06766213",
          "45.49433565",
          "44.699382",
          "40.69588046",
          "39.04850662",
          "42.70720898",
          "45.95183642",
          "48.62413032",
          "57.9481123",
          "62.77954221",
          "68.05261985",
          "64.39156119",
          "58.07770333",
          "61.07311497",
          "67.91953408",
          "66.21882658",
          "63.64798965",
          "62.81741156",
          "68.4",
          "63.67",
          "51.15",
          "40.67",
          "37.78",
          "45.88",
          "49.83",
          "15.18",
          "22.61",
          "21.08",
          "25.89",
          "30.28",
          "35.47"
         ],
         "yaxis": "y"
        },
        {
         "name": "MXN_USD",
         "type": "scatter",
         "x": [
          "4T2006",
          "1T2007",
          "2T2007",
          "3T2007",
          "4T2007",
          "1T2008",
          "2T2008",
          "3T2008",
          "4T2008",
          "1T2009",
          "2T2009",
          "3T2009",
          "4T2009",
          "1T2010",
          "2T2010",
          "3T2010",
          "4T2010",
          "1T2011",
          "2T2011",
          "3T2011",
          "4T2011",
          "1T2012",
          "2T2012",
          "3T2012",
          "4T2012",
          "1T2013",
          "2T2013",
          "3T2013",
          "4T2013",
          "1T2014",
          "2T2014",
          "3T2014",
          "4T2014",
          "1T2015",
          "2T2015",
          "3T2015",
          "4T2015",
          "1T2016",
          "2T2016",
          "3T2016",
          "4T2016",
          "1T2017",
          "2T2017",
          "3T2017",
          "4T2017",
          "1T2018",
          "2T2018",
          "3T2018",
          "4T2018",
          "1T2019",
          "2T2019",
          "3T2019",
          "4T2019",
          "1T2020",
          "2T2020",
          "3T2020",
          "4T2020",
          "1T2021",
          "2T2021",
          "3T2021",
          "4T2021"
         ],
         "xaxis": "x",
         "y": [
          "10.809",
          "11.0244",
          "10.811",
          "10.926",
          "10.9195",
          "10.642",
          "10.307",
          "10.949",
          "13.835",
          "14.21",
          "13.1695",
          "13.5035",
          "13.082",
          "12.357",
          "12.89",
          "12.625",
          "12.365",
          "11.8903",
          "11.71",
          "13.8835",
          "13.9725",
          "12.8035",
          "13.3396",
          "12.8593",
          "12.8704",
          "12.3339",
          "12.9795",
          "13.1524",
          "13.09",
          "13.064",
          "12.9865",
          "13.4235",
          "14.7475",
          "15.261",
          "15.695",
          "16.933",
          "17.212",
          "17.29",
          "18.2575",
          "19.382",
          "20.64",
          "18.7275",
          "18.143",
          "18.1785",
          "19.6595",
          "18.303",
          "19.873",
          "18.7175",
          "19.665",
          "19.412",
          "19.197",
          "19.7205",
          "18.886",
          "23.798",
          "22.957",
          "22.105",
          "19.95",
          "20.42",
          "19.947"
         ],
         "yaxis": "y2"
        }
       ],
       "layout": {
        "template": {
         "data": {
          "bar": [
           {
            "error_x": {
             "color": "#2a3f5f"
            },
            "error_y": {
             "color": "#2a3f5f"
            },
            "marker": {
             "line": {
              "color": "white",
              "width": 0.5
             }
            },
            "type": "bar"
           }
          ],
          "barpolar": [
           {
            "marker": {
             "line": {
              "color": "white",
              "width": 0.5
             }
            },
            "type": "barpolar"
           }
          ],
          "carpet": [
           {
            "aaxis": {
             "endlinecolor": "#2a3f5f",
             "gridcolor": "#C8D4E3",
             "linecolor": "#C8D4E3",
             "minorgridcolor": "#C8D4E3",
             "startlinecolor": "#2a3f5f"
            },
            "baxis": {
             "endlinecolor": "#2a3f5f",
             "gridcolor": "#C8D4E3",
             "linecolor": "#C8D4E3",
             "minorgridcolor": "#C8D4E3",
             "startlinecolor": "#2a3f5f"
            },
            "type": "carpet"
           }
          ],
          "choropleth": [
           {
            "colorbar": {
             "outlinewidth": 0,
             "ticks": ""
            },
            "type": "choropleth"
           }
          ],
          "contour": [
           {
            "colorbar": {
             "outlinewidth": 0,
             "ticks": ""
            },
            "colorscale": [
             [
              0,
              "#0d0887"
             ],
             [
              0.1111111111111111,
              "#46039f"
             ],
             [
              0.2222222222222222,
              "#7201a8"
             ],
             [
              0.3333333333333333,
              "#9c179e"
             ],
             [
              0.4444444444444444,
              "#bd3786"
             ],
             [
              0.5555555555555556,
              "#d8576b"
             ],
             [
              0.6666666666666666,
              "#ed7953"
             ],
             [
              0.7777777777777778,
              "#fb9f3a"
             ],
             [
              0.8888888888888888,
              "#fdca26"
             ],
             [
              1,
              "#f0f921"
             ]
            ],
            "type": "contour"
           }
          ],
          "contourcarpet": [
           {
            "colorbar": {
             "outlinewidth": 0,
             "ticks": ""
            },
            "type": "contourcarpet"
           }
          ],
          "heatmap": [
           {
            "colorbar": {
             "outlinewidth": 0,
             "ticks": ""
            },
            "colorscale": [
             [
              0,
              "#0d0887"
             ],
             [
              0.1111111111111111,
              "#46039f"
             ],
             [
              0.2222222222222222,
              "#7201a8"
             ],
             [
              0.3333333333333333,
              "#9c179e"
             ],
             [
              0.4444444444444444,
              "#bd3786"
             ],
             [
              0.5555555555555556,
              "#d8576b"
             ],
             [
              0.6666666666666666,
              "#ed7953"
             ],
             [
              0.7777777777777778,
              "#fb9f3a"
             ],
             [
              0.8888888888888888,
              "#fdca26"
             ],
             [
              1,
              "#f0f921"
             ]
            ],
            "type": "heatmap"
           }
          ],
          "heatmapgl": [
           {
            "colorbar": {
             "outlinewidth": 0,
             "ticks": ""
            },
            "colorscale": [
             [
              0,
              "#0d0887"
             ],
             [
              0.1111111111111111,
              "#46039f"
             ],
             [
              0.2222222222222222,
              "#7201a8"
             ],
             [
              0.3333333333333333,
              "#9c179e"
             ],
             [
              0.4444444444444444,
              "#bd3786"
             ],
             [
              0.5555555555555556,
              "#d8576b"
             ],
             [
              0.6666666666666666,
              "#ed7953"
             ],
             [
              0.7777777777777778,
              "#fb9f3a"
             ],
             [
              0.8888888888888888,
              "#fdca26"
             ],
             [
              1,
              "#f0f921"
             ]
            ],
            "type": "heatmapgl"
           }
          ],
          "histogram": [
           {
            "marker": {
             "colorbar": {
              "outlinewidth": 0,
              "ticks": ""
             }
            },
            "type": "histogram"
           }
          ],
          "histogram2d": [
           {
            "colorbar": {
             "outlinewidth": 0,
             "ticks": ""
            },
            "colorscale": [
             [
              0,
              "#0d0887"
             ],
             [
              0.1111111111111111,
              "#46039f"
             ],
             [
              0.2222222222222222,
              "#7201a8"
             ],
             [
              0.3333333333333333,
              "#9c179e"
             ],
             [
              0.4444444444444444,
              "#bd3786"
             ],
             [
              0.5555555555555556,
              "#d8576b"
             ],
             [
              0.6666666666666666,
              "#ed7953"
             ],
             [
              0.7777777777777778,
              "#fb9f3a"
             ],
             [
              0.8888888888888888,
              "#fdca26"
             ],
             [
              1,
              "#f0f921"
             ]
            ],
            "type": "histogram2d"
           }
          ],
          "histogram2dcontour": [
           {
            "colorbar": {
             "outlinewidth": 0,
             "ticks": ""
            },
            "colorscale": [
             [
              0,
              "#0d0887"
             ],
             [
              0.1111111111111111,
              "#46039f"
             ],
             [
              0.2222222222222222,
              "#7201a8"
             ],
             [
              0.3333333333333333,
              "#9c179e"
             ],
             [
              0.4444444444444444,
              "#bd3786"
             ],
             [
              0.5555555555555556,
              "#d8576b"
             ],
             [
              0.6666666666666666,
              "#ed7953"
             ],
             [
              0.7777777777777778,
              "#fb9f3a"
             ],
             [
              0.8888888888888888,
              "#fdca26"
             ],
             [
              1,
              "#f0f921"
             ]
            ],
            "type": "histogram2dcontour"
           }
          ],
          "mesh3d": [
           {
            "colorbar": {
             "outlinewidth": 0,
             "ticks": ""
            },
            "type": "mesh3d"
           }
          ],
          "parcoords": [
           {
            "line": {
             "colorbar": {
              "outlinewidth": 0,
              "ticks": ""
             }
            },
            "type": "parcoords"
           }
          ],
          "pie": [
           {
            "automargin": true,
            "type": "pie"
           }
          ],
          "scatter": [
           {
            "marker": {
             "colorbar": {
              "outlinewidth": 0,
              "ticks": ""
             }
            },
            "type": "scatter"
           }
          ],
          "scatter3d": [
           {
            "line": {
             "colorbar": {
              "outlinewidth": 0,
              "ticks": ""
             }
            },
            "marker": {
             "colorbar": {
              "outlinewidth": 0,
              "ticks": ""
             }
            },
            "type": "scatter3d"
           }
          ],
          "scattercarpet": [
           {
            "marker": {
             "colorbar": {
              "outlinewidth": 0,
              "ticks": ""
             }
            },
            "type": "scattercarpet"
           }
          ],
          "scattergeo": [
           {
            "marker": {
             "colorbar": {
              "outlinewidth": 0,
              "ticks": ""
             }
            },
            "type": "scattergeo"
           }
          ],
          "scattergl": [
           {
            "marker": {
             "colorbar": {
              "outlinewidth": 0,
              "ticks": ""
             }
            },
            "type": "scattergl"
           }
          ],
          "scattermapbox": [
           {
            "marker": {
             "colorbar": {
              "outlinewidth": 0,
              "ticks": ""
             }
            },
            "type": "scattermapbox"
           }
          ],
          "scatterpolar": [
           {
            "marker": {
             "colorbar": {
              "outlinewidth": 0,
              "ticks": ""
             }
            },
            "type": "scatterpolar"
           }
          ],
          "scatterpolargl": [
           {
            "marker": {
             "colorbar": {
              "outlinewidth": 0,
              "ticks": ""
             }
            },
            "type": "scatterpolargl"
           }
          ],
          "scatterternary": [
           {
            "marker": {
             "colorbar": {
              "outlinewidth": 0,
              "ticks": ""
             }
            },
            "type": "scatterternary"
           }
          ],
          "surface": [
           {
            "colorbar": {
             "outlinewidth": 0,
             "ticks": ""
            },
            "colorscale": [
             [
              0,
              "#0d0887"
             ],
             [
              0.1111111111111111,
              "#46039f"
             ],
             [
              0.2222222222222222,
              "#7201a8"
             ],
             [
              0.3333333333333333,
              "#9c179e"
             ],
             [
              0.4444444444444444,
              "#bd3786"
             ],
             [
              0.5555555555555556,
              "#d8576b"
             ],
             [
              0.6666666666666666,
              "#ed7953"
             ],
             [
              0.7777777777777778,
              "#fb9f3a"
             ],
             [
              0.8888888888888888,
              "#fdca26"
             ],
             [
              1,
              "#f0f921"
             ]
            ],
            "type": "surface"
           }
          ],
          "table": [
           {
            "cells": {
             "fill": {
              "color": "#EBF0F8"
             },
             "line": {
              "color": "white"
             }
            },
            "header": {
             "fill": {
              "color": "#C8D4E3"
             },
             "line": {
              "color": "white"
             }
            },
            "type": "table"
           }
          ]
         },
         "layout": {
          "annotationdefaults": {
           "arrowcolor": "#2a3f5f",
           "arrowhead": 0,
           "arrowwidth": 1
          },
          "autotypenumbers": "strict",
          "coloraxis": {
           "colorbar": {
            "outlinewidth": 0,
            "ticks": ""
           }
          },
          "colorscale": {
           "diverging": [
            [
             0,
             "#8e0152"
            ],
            [
             0.1,
             "#c51b7d"
            ],
            [
             0.2,
             "#de77ae"
            ],
            [
             0.3,
             "#f1b6da"
            ],
            [
             0.4,
             "#fde0ef"
            ],
            [
             0.5,
             "#f7f7f7"
            ],
            [
             0.6,
             "#e6f5d0"
            ],
            [
             0.7,
             "#b8e186"
            ],
            [
             0.8,
             "#7fbc41"
            ],
            [
             0.9,
             "#4d9221"
            ],
            [
             1,
             "#276419"
            ]
           ],
           "sequential": [
            [
             0,
             "#0d0887"
            ],
            [
             0.1111111111111111,
             "#46039f"
            ],
            [
             0.2222222222222222,
             "#7201a8"
            ],
            [
             0.3333333333333333,
             "#9c179e"
            ],
            [
             0.4444444444444444,
             "#bd3786"
            ],
            [
             0.5555555555555556,
             "#d8576b"
            ],
            [
             0.6666666666666666,
             "#ed7953"
            ],
            [
             0.7777777777777778,
             "#fb9f3a"
            ],
            [
             0.8888888888888888,
             "#fdca26"
            ],
            [
             1,
             "#f0f921"
            ]
           ],
           "sequentialminus": [
            [
             0,
             "#0d0887"
            ],
            [
             0.1111111111111111,
             "#46039f"
            ],
            [
             0.2222222222222222,
             "#7201a8"
            ],
            [
             0.3333333333333333,
             "#9c179e"
            ],
            [
             0.4444444444444444,
             "#bd3786"
            ],
            [
             0.5555555555555556,
             "#d8576b"
            ],
            [
             0.6666666666666666,
             "#ed7953"
            ],
            [
             0.7777777777777778,
             "#fb9f3a"
            ],
            [
             0.8888888888888888,
             "#fdca26"
            ],
            [
             1,
             "#f0f921"
            ]
           ]
          },
          "colorway": [
           "#636efa",
           "#EF553B",
           "#00cc96",
           "#ab63fa",
           "#FFA15A",
           "#19d3f3",
           "#FF6692",
           "#B6E880",
           "#FF97FF",
           "#FECB52"
          ],
          "font": {
           "color": "#2a3f5f"
          },
          "geo": {
           "bgcolor": "white",
           "lakecolor": "white",
           "landcolor": "white",
           "showlakes": true,
           "showland": true,
           "subunitcolor": "#C8D4E3"
          },
          "hoverlabel": {
           "align": "left"
          },
          "hovermode": "closest",
          "mapbox": {
           "style": "light"
          },
          "paper_bgcolor": "white",
          "plot_bgcolor": "white",
          "polar": {
           "angularaxis": {
            "gridcolor": "#EBF0F8",
            "linecolor": "#EBF0F8",
            "ticks": ""
           },
           "bgcolor": "white",
           "radialaxis": {
            "gridcolor": "#EBF0F8",
            "linecolor": "#EBF0F8",
            "ticks": ""
           }
          },
          "scene": {
           "xaxis": {
            "backgroundcolor": "white",
            "gridcolor": "#DFE8F3",
            "gridwidth": 2,
            "linecolor": "#EBF0F8",
            "showbackground": true,
            "ticks": "",
            "zerolinecolor": "#EBF0F8"
           },
           "yaxis": {
            "backgroundcolor": "white",
            "gridcolor": "#DFE8F3",
            "gridwidth": 2,
            "linecolor": "#EBF0F8",
            "showbackground": true,
            "ticks": "",
            "zerolinecolor": "#EBF0F8"
           },
           "zaxis": {
            "backgroundcolor": "white",
            "gridcolor": "#DFE8F3",
            "gridwidth": 2,
            "linecolor": "#EBF0F8",
            "showbackground": true,
            "ticks": "",
            "zerolinecolor": "#EBF0F8"
           }
          },
          "shapedefaults": {
           "line": {
            "color": "#2a3f5f"
           }
          },
          "ternary": {
           "aaxis": {
            "gridcolor": "#DFE8F3",
            "linecolor": "#A2B1C6",
            "ticks": ""
           },
           "baxis": {
            "gridcolor": "#DFE8F3",
            "linecolor": "#A2B1C6",
            "ticks": ""
           },
           "bgcolor": "white",
           "caxis": {
            "gridcolor": "#DFE8F3",
            "linecolor": "#A2B1C6",
            "ticks": ""
           }
          },
          "title": {
           "x": 0.05
          },
          "xaxis": {
           "automargin": true,
           "gridcolor": "#EBF0F8",
           "linecolor": "#EBF0F8",
           "ticks": "",
           "title": {
            "standoff": 15
           },
           "zerolinecolor": "#EBF0F8",
           "zerolinewidth": 2
          },
          "yaxis": {
           "automargin": true,
           "gridcolor": "#EBF0F8",
           "linecolor": "#EBF0F8",
           "ticks": "",
           "title": {
            "standoff": 15
           },
           "zerolinecolor": "#EBF0F8",
           "zerolinewidth": 2
          }
         }
        },
        "title": {
         "text": "PRECIO_ALSEA vs. MXN_USD"
        },
        "xaxis": {
         "anchor": "y",
         "domain": [
          0,
          0.94
         ],
         "title": {
          "text": "Fecha"
         }
        },
        "yaxis": {
         "anchor": "x",
         "domain": [
          0,
          1
         ],
         "title": {
          "text": "Precio acción $MXN"
         }
        },
        "yaxis2": {
         "anchor": "x",
         "overlaying": "y",
         "side": "right",
         "title": {
          "text": "Tipo de cambio $MXN"
         }
        }
       }
      }
     },
     "metadata": {}
    }
   ],
   "metadata": {}
  },
  {
   "cell_type": "code",
   "execution_count": 46,
   "source": [
    "plot_vars(data_df, df['FECHA'], 'PRECIO_BIMBO', 'MXN_USD')"
   ],
   "outputs": [
    {
     "output_type": "display_data",
     "data": {
      "application/vnd.plotly.v1+json": {
       "config": {
        "plotlyServerURL": "https://plotly.com"
       },
       "data": [
        {
         "name": "PRECIO_BIMBO",
         "type": "scatter",
         "x": [
          "4T2006",
          "1T2007",
          "2T2007",
          "3T2007",
          "4T2007",
          "1T2008",
          "2T2008",
          "3T2008",
          "4T2008",
          "1T2009",
          "2T2009",
          "3T2009",
          "4T2009",
          "1T2010",
          "2T2010",
          "3T2010",
          "4T2010",
          "1T2011",
          "2T2011",
          "3T2011",
          "4T2011",
          "1T2012",
          "2T2012",
          "3T2012",
          "4T2012",
          "1T2013",
          "2T2013",
          "3T2013",
          "4T2013",
          "1T2014",
          "2T2014",
          "3T2014",
          "4T2014",
          "1T2015",
          "2T2015",
          "3T2015",
          "4T2015",
          "1T2016",
          "2T2016",
          "3T2016",
          "4T2016",
          "1T2017",
          "2T2017",
          "3T2017",
          "4T2017",
          "1T2018",
          "2T2018",
          "3T2018",
          "4T2018",
          "1T2019",
          "2T2019",
          "3T2019",
          "4T2019",
          "1T2020",
          "2T2020",
          "3T2020",
          "4T2020",
          "1T2021",
          "2T2021",
          "3T2021",
          "4T2021"
         ],
         "xaxis": "x",
         "y": [
          "11.80309849",
          "12.13970538",
          "14.67157061",
          "13.4392203",
          "14.31506927",
          "14.08400359",
          "14.88428344",
          "15.22769874",
          "12.92127732",
          "11.65396411",
          "15.61487371",
          "16.74408996",
          "19.31495383",
          "24.2759177",
          "20.6151939",
          "20.69591469",
          "23.63998143",
          "22.46280318",
          "24.87664065",
          "24.19810345",
          "26.10534313",
          "27.36155388",
          "30.16774272",
          "29.51372448",
          "30.83097249",
          "36.37631023",
          "36.3091651",
          "37.64127205",
          "37.51297429",
          "32.88450781",
          "35.52534655",
          "36.3371945",
          "37.97955358",
          "40.3684395",
          "37.94222723",
          "39.94851815",
          "42.87863604",
          "47.65640789",
          "53.64969749",
          "47.92093741",
          "44.07676126",
          "43.6829676",
          "43.02046783",
          "41.48267479",
          "41.04869639",
          "37.52969759",
          "36.80474087",
          "37.96529356",
          "37.24232631",
          "38.60264627",
          "38.48178841",
          "34.59804059",
          "33.09837559",
          "33.14644178",
          "37.52012346",
          "40.34851852",
          "42.17234568",
          "41.84074074",
          "43.89"
         ],
         "yaxis": "y"
        },
        {
         "name": "MXN_USD",
         "type": "scatter",
         "x": [
          "4T2006",
          "1T2007",
          "2T2007",
          "3T2007",
          "4T2007",
          "1T2008",
          "2T2008",
          "3T2008",
          "4T2008",
          "1T2009",
          "2T2009",
          "3T2009",
          "4T2009",
          "1T2010",
          "2T2010",
          "3T2010",
          "4T2010",
          "1T2011",
          "2T2011",
          "3T2011",
          "4T2011",
          "1T2012",
          "2T2012",
          "3T2012",
          "4T2012",
          "1T2013",
          "2T2013",
          "3T2013",
          "4T2013",
          "1T2014",
          "2T2014",
          "3T2014",
          "4T2014",
          "1T2015",
          "2T2015",
          "3T2015",
          "4T2015",
          "1T2016",
          "2T2016",
          "3T2016",
          "4T2016",
          "1T2017",
          "2T2017",
          "3T2017",
          "4T2017",
          "1T2018",
          "2T2018",
          "3T2018",
          "4T2018",
          "1T2019",
          "2T2019",
          "3T2019",
          "4T2019",
          "1T2020",
          "2T2020",
          "3T2020",
          "4T2020",
          "1T2021",
          "2T2021",
          "3T2021",
          "4T2021"
         ],
         "xaxis": "x",
         "y": [
          "10.809",
          "11.0244",
          "10.811",
          "10.926",
          "10.9195",
          "10.642",
          "10.307",
          "10.949",
          "13.835",
          "14.21",
          "13.1695",
          "13.5035",
          "13.082",
          "12.357",
          "12.89",
          "12.625",
          "12.365",
          "11.8903",
          "11.71",
          "13.8835",
          "13.9725",
          "12.8035",
          "13.3396",
          "12.8593",
          "12.8704",
          "12.3339",
          "12.9795",
          "13.1524",
          "13.09",
          "13.064",
          "12.9865",
          "13.4235",
          "14.7475",
          "15.261",
          "15.695",
          "16.933",
          "17.212",
          "17.29",
          "18.2575",
          "19.382",
          "20.64",
          "18.7275",
          "18.143",
          "18.1785",
          "19.6595",
          "18.303",
          "19.873",
          "18.7175",
          "19.665",
          "19.412",
          "19.197",
          "19.7205",
          "18.886",
          "23.798",
          "22.957",
          "22.105",
          "19.95",
          "20.42",
          "19.947"
         ],
         "yaxis": "y2"
        }
       ],
       "layout": {
        "template": {
         "data": {
          "bar": [
           {
            "error_x": {
             "color": "#2a3f5f"
            },
            "error_y": {
             "color": "#2a3f5f"
            },
            "marker": {
             "line": {
              "color": "white",
              "width": 0.5
             }
            },
            "type": "bar"
           }
          ],
          "barpolar": [
           {
            "marker": {
             "line": {
              "color": "white",
              "width": 0.5
             }
            },
            "type": "barpolar"
           }
          ],
          "carpet": [
           {
            "aaxis": {
             "endlinecolor": "#2a3f5f",
             "gridcolor": "#C8D4E3",
             "linecolor": "#C8D4E3",
             "minorgridcolor": "#C8D4E3",
             "startlinecolor": "#2a3f5f"
            },
            "baxis": {
             "endlinecolor": "#2a3f5f",
             "gridcolor": "#C8D4E3",
             "linecolor": "#C8D4E3",
             "minorgridcolor": "#C8D4E3",
             "startlinecolor": "#2a3f5f"
            },
            "type": "carpet"
           }
          ],
          "choropleth": [
           {
            "colorbar": {
             "outlinewidth": 0,
             "ticks": ""
            },
            "type": "choropleth"
           }
          ],
          "contour": [
           {
            "colorbar": {
             "outlinewidth": 0,
             "ticks": ""
            },
            "colorscale": [
             [
              0,
              "#0d0887"
             ],
             [
              0.1111111111111111,
              "#46039f"
             ],
             [
              0.2222222222222222,
              "#7201a8"
             ],
             [
              0.3333333333333333,
              "#9c179e"
             ],
             [
              0.4444444444444444,
              "#bd3786"
             ],
             [
              0.5555555555555556,
              "#d8576b"
             ],
             [
              0.6666666666666666,
              "#ed7953"
             ],
             [
              0.7777777777777778,
              "#fb9f3a"
             ],
             [
              0.8888888888888888,
              "#fdca26"
             ],
             [
              1,
              "#f0f921"
             ]
            ],
            "type": "contour"
           }
          ],
          "contourcarpet": [
           {
            "colorbar": {
             "outlinewidth": 0,
             "ticks": ""
            },
            "type": "contourcarpet"
           }
          ],
          "heatmap": [
           {
            "colorbar": {
             "outlinewidth": 0,
             "ticks": ""
            },
            "colorscale": [
             [
              0,
              "#0d0887"
             ],
             [
              0.1111111111111111,
              "#46039f"
             ],
             [
              0.2222222222222222,
              "#7201a8"
             ],
             [
              0.3333333333333333,
              "#9c179e"
             ],
             [
              0.4444444444444444,
              "#bd3786"
             ],
             [
              0.5555555555555556,
              "#d8576b"
             ],
             [
              0.6666666666666666,
              "#ed7953"
             ],
             [
              0.7777777777777778,
              "#fb9f3a"
             ],
             [
              0.8888888888888888,
              "#fdca26"
             ],
             [
              1,
              "#f0f921"
             ]
            ],
            "type": "heatmap"
           }
          ],
          "heatmapgl": [
           {
            "colorbar": {
             "outlinewidth": 0,
             "ticks": ""
            },
            "colorscale": [
             [
              0,
              "#0d0887"
             ],
             [
              0.1111111111111111,
              "#46039f"
             ],
             [
              0.2222222222222222,
              "#7201a8"
             ],
             [
              0.3333333333333333,
              "#9c179e"
             ],
             [
              0.4444444444444444,
              "#bd3786"
             ],
             [
              0.5555555555555556,
              "#d8576b"
             ],
             [
              0.6666666666666666,
              "#ed7953"
             ],
             [
              0.7777777777777778,
              "#fb9f3a"
             ],
             [
              0.8888888888888888,
              "#fdca26"
             ],
             [
              1,
              "#f0f921"
             ]
            ],
            "type": "heatmapgl"
           }
          ],
          "histogram": [
           {
            "marker": {
             "colorbar": {
              "outlinewidth": 0,
              "ticks": ""
             }
            },
            "type": "histogram"
           }
          ],
          "histogram2d": [
           {
            "colorbar": {
             "outlinewidth": 0,
             "ticks": ""
            },
            "colorscale": [
             [
              0,
              "#0d0887"
             ],
             [
              0.1111111111111111,
              "#46039f"
             ],
             [
              0.2222222222222222,
              "#7201a8"
             ],
             [
              0.3333333333333333,
              "#9c179e"
             ],
             [
              0.4444444444444444,
              "#bd3786"
             ],
             [
              0.5555555555555556,
              "#d8576b"
             ],
             [
              0.6666666666666666,
              "#ed7953"
             ],
             [
              0.7777777777777778,
              "#fb9f3a"
             ],
             [
              0.8888888888888888,
              "#fdca26"
             ],
             [
              1,
              "#f0f921"
             ]
            ],
            "type": "histogram2d"
           }
          ],
          "histogram2dcontour": [
           {
            "colorbar": {
             "outlinewidth": 0,
             "ticks": ""
            },
            "colorscale": [
             [
              0,
              "#0d0887"
             ],
             [
              0.1111111111111111,
              "#46039f"
             ],
             [
              0.2222222222222222,
              "#7201a8"
             ],
             [
              0.3333333333333333,
              "#9c179e"
             ],
             [
              0.4444444444444444,
              "#bd3786"
             ],
             [
              0.5555555555555556,
              "#d8576b"
             ],
             [
              0.6666666666666666,
              "#ed7953"
             ],
             [
              0.7777777777777778,
              "#fb9f3a"
             ],
             [
              0.8888888888888888,
              "#fdca26"
             ],
             [
              1,
              "#f0f921"
             ]
            ],
            "type": "histogram2dcontour"
           }
          ],
          "mesh3d": [
           {
            "colorbar": {
             "outlinewidth": 0,
             "ticks": ""
            },
            "type": "mesh3d"
           }
          ],
          "parcoords": [
           {
            "line": {
             "colorbar": {
              "outlinewidth": 0,
              "ticks": ""
             }
            },
            "type": "parcoords"
           }
          ],
          "pie": [
           {
            "automargin": true,
            "type": "pie"
           }
          ],
          "scatter": [
           {
            "marker": {
             "colorbar": {
              "outlinewidth": 0,
              "ticks": ""
             }
            },
            "type": "scatter"
           }
          ],
          "scatter3d": [
           {
            "line": {
             "colorbar": {
              "outlinewidth": 0,
              "ticks": ""
             }
            },
            "marker": {
             "colorbar": {
              "outlinewidth": 0,
              "ticks": ""
             }
            },
            "type": "scatter3d"
           }
          ],
          "scattercarpet": [
           {
            "marker": {
             "colorbar": {
              "outlinewidth": 0,
              "ticks": ""
             }
            },
            "type": "scattercarpet"
           }
          ],
          "scattergeo": [
           {
            "marker": {
             "colorbar": {
              "outlinewidth": 0,
              "ticks": ""
             }
            },
            "type": "scattergeo"
           }
          ],
          "scattergl": [
           {
            "marker": {
             "colorbar": {
              "outlinewidth": 0,
              "ticks": ""
             }
            },
            "type": "scattergl"
           }
          ],
          "scattermapbox": [
           {
            "marker": {
             "colorbar": {
              "outlinewidth": 0,
              "ticks": ""
             }
            },
            "type": "scattermapbox"
           }
          ],
          "scatterpolar": [
           {
            "marker": {
             "colorbar": {
              "outlinewidth": 0,
              "ticks": ""
             }
            },
            "type": "scatterpolar"
           }
          ],
          "scatterpolargl": [
           {
            "marker": {
             "colorbar": {
              "outlinewidth": 0,
              "ticks": ""
             }
            },
            "type": "scatterpolargl"
           }
          ],
          "scatterternary": [
           {
            "marker": {
             "colorbar": {
              "outlinewidth": 0,
              "ticks": ""
             }
            },
            "type": "scatterternary"
           }
          ],
          "surface": [
           {
            "colorbar": {
             "outlinewidth": 0,
             "ticks": ""
            },
            "colorscale": [
             [
              0,
              "#0d0887"
             ],
             [
              0.1111111111111111,
              "#46039f"
             ],
             [
              0.2222222222222222,
              "#7201a8"
             ],
             [
              0.3333333333333333,
              "#9c179e"
             ],
             [
              0.4444444444444444,
              "#bd3786"
             ],
             [
              0.5555555555555556,
              "#d8576b"
             ],
             [
              0.6666666666666666,
              "#ed7953"
             ],
             [
              0.7777777777777778,
              "#fb9f3a"
             ],
             [
              0.8888888888888888,
              "#fdca26"
             ],
             [
              1,
              "#f0f921"
             ]
            ],
            "type": "surface"
           }
          ],
          "table": [
           {
            "cells": {
             "fill": {
              "color": "#EBF0F8"
             },
             "line": {
              "color": "white"
             }
            },
            "header": {
             "fill": {
              "color": "#C8D4E3"
             },
             "line": {
              "color": "white"
             }
            },
            "type": "table"
           }
          ]
         },
         "layout": {
          "annotationdefaults": {
           "arrowcolor": "#2a3f5f",
           "arrowhead": 0,
           "arrowwidth": 1
          },
          "autotypenumbers": "strict",
          "coloraxis": {
           "colorbar": {
            "outlinewidth": 0,
            "ticks": ""
           }
          },
          "colorscale": {
           "diverging": [
            [
             0,
             "#8e0152"
            ],
            [
             0.1,
             "#c51b7d"
            ],
            [
             0.2,
             "#de77ae"
            ],
            [
             0.3,
             "#f1b6da"
            ],
            [
             0.4,
             "#fde0ef"
            ],
            [
             0.5,
             "#f7f7f7"
            ],
            [
             0.6,
             "#e6f5d0"
            ],
            [
             0.7,
             "#b8e186"
            ],
            [
             0.8,
             "#7fbc41"
            ],
            [
             0.9,
             "#4d9221"
            ],
            [
             1,
             "#276419"
            ]
           ],
           "sequential": [
            [
             0,
             "#0d0887"
            ],
            [
             0.1111111111111111,
             "#46039f"
            ],
            [
             0.2222222222222222,
             "#7201a8"
            ],
            [
             0.3333333333333333,
             "#9c179e"
            ],
            [
             0.4444444444444444,
             "#bd3786"
            ],
            [
             0.5555555555555556,
             "#d8576b"
            ],
            [
             0.6666666666666666,
             "#ed7953"
            ],
            [
             0.7777777777777778,
             "#fb9f3a"
            ],
            [
             0.8888888888888888,
             "#fdca26"
            ],
            [
             1,
             "#f0f921"
            ]
           ],
           "sequentialminus": [
            [
             0,
             "#0d0887"
            ],
            [
             0.1111111111111111,
             "#46039f"
            ],
            [
             0.2222222222222222,
             "#7201a8"
            ],
            [
             0.3333333333333333,
             "#9c179e"
            ],
            [
             0.4444444444444444,
             "#bd3786"
            ],
            [
             0.5555555555555556,
             "#d8576b"
            ],
            [
             0.6666666666666666,
             "#ed7953"
            ],
            [
             0.7777777777777778,
             "#fb9f3a"
            ],
            [
             0.8888888888888888,
             "#fdca26"
            ],
            [
             1,
             "#f0f921"
            ]
           ]
          },
          "colorway": [
           "#636efa",
           "#EF553B",
           "#00cc96",
           "#ab63fa",
           "#FFA15A",
           "#19d3f3",
           "#FF6692",
           "#B6E880",
           "#FF97FF",
           "#FECB52"
          ],
          "font": {
           "color": "#2a3f5f"
          },
          "geo": {
           "bgcolor": "white",
           "lakecolor": "white",
           "landcolor": "white",
           "showlakes": true,
           "showland": true,
           "subunitcolor": "#C8D4E3"
          },
          "hoverlabel": {
           "align": "left"
          },
          "hovermode": "closest",
          "mapbox": {
           "style": "light"
          },
          "paper_bgcolor": "white",
          "plot_bgcolor": "white",
          "polar": {
           "angularaxis": {
            "gridcolor": "#EBF0F8",
            "linecolor": "#EBF0F8",
            "ticks": ""
           },
           "bgcolor": "white",
           "radialaxis": {
            "gridcolor": "#EBF0F8",
            "linecolor": "#EBF0F8",
            "ticks": ""
           }
          },
          "scene": {
           "xaxis": {
            "backgroundcolor": "white",
            "gridcolor": "#DFE8F3",
            "gridwidth": 2,
            "linecolor": "#EBF0F8",
            "showbackground": true,
            "ticks": "",
            "zerolinecolor": "#EBF0F8"
           },
           "yaxis": {
            "backgroundcolor": "white",
            "gridcolor": "#DFE8F3",
            "gridwidth": 2,
            "linecolor": "#EBF0F8",
            "showbackground": true,
            "ticks": "",
            "zerolinecolor": "#EBF0F8"
           },
           "zaxis": {
            "backgroundcolor": "white",
            "gridcolor": "#DFE8F3",
            "gridwidth": 2,
            "linecolor": "#EBF0F8",
            "showbackground": true,
            "ticks": "",
            "zerolinecolor": "#EBF0F8"
           }
          },
          "shapedefaults": {
           "line": {
            "color": "#2a3f5f"
           }
          },
          "ternary": {
           "aaxis": {
            "gridcolor": "#DFE8F3",
            "linecolor": "#A2B1C6",
            "ticks": ""
           },
           "baxis": {
            "gridcolor": "#DFE8F3",
            "linecolor": "#A2B1C6",
            "ticks": ""
           },
           "bgcolor": "white",
           "caxis": {
            "gridcolor": "#DFE8F3",
            "linecolor": "#A2B1C6",
            "ticks": ""
           }
          },
          "title": {
           "x": 0.05
          },
          "xaxis": {
           "automargin": true,
           "gridcolor": "#EBF0F8",
           "linecolor": "#EBF0F8",
           "ticks": "",
           "title": {
            "standoff": 15
           },
           "zerolinecolor": "#EBF0F8",
           "zerolinewidth": 2
          },
          "yaxis": {
           "automargin": true,
           "gridcolor": "#EBF0F8",
           "linecolor": "#EBF0F8",
           "ticks": "",
           "title": {
            "standoff": 15
           },
           "zerolinecolor": "#EBF0F8",
           "zerolinewidth": 2
          }
         }
        },
        "title": {
         "text": "PRECIO_BIMBO vs. MXN_USD"
        },
        "xaxis": {
         "anchor": "y",
         "domain": [
          0,
          0.94
         ],
         "title": {
          "text": "Fecha"
         }
        },
        "yaxis": {
         "anchor": "x",
         "domain": [
          0,
          1
         ],
         "title": {
          "text": "Precio acción $MXN"
         }
        },
        "yaxis2": {
         "anchor": "x",
         "overlaying": "y",
         "side": "right",
         "title": {
          "text": "Tipo de cambio $MXN"
         }
        }
       }
      }
     },
     "metadata": {}
    }
   ],
   "metadata": {}
  },
  {
   "cell_type": "code",
   "execution_count": 47,
   "source": [
    "plot_vars(data_df, df['FECHA'], 'PRECIO_BIMBO', 'PRECIO_ALSEA')"
   ],
   "outputs": [
    {
     "output_type": "display_data",
     "data": {
      "application/vnd.plotly.v1+json": {
       "config": {
        "plotlyServerURL": "https://plotly.com"
       },
       "data": [
        {
         "name": "PRECIO_BIMBO",
         "type": "scatter",
         "x": [
          "4T2006",
          "1T2007",
          "2T2007",
          "3T2007",
          "4T2007",
          "1T2008",
          "2T2008",
          "3T2008",
          "4T2008",
          "1T2009",
          "2T2009",
          "3T2009",
          "4T2009",
          "1T2010",
          "2T2010",
          "3T2010",
          "4T2010",
          "1T2011",
          "2T2011",
          "3T2011",
          "4T2011",
          "1T2012",
          "2T2012",
          "3T2012",
          "4T2012",
          "1T2013",
          "2T2013",
          "3T2013",
          "4T2013",
          "1T2014",
          "2T2014",
          "3T2014",
          "4T2014",
          "1T2015",
          "2T2015",
          "3T2015",
          "4T2015",
          "1T2016",
          "2T2016",
          "3T2016",
          "4T2016",
          "1T2017",
          "2T2017",
          "3T2017",
          "4T2017",
          "1T2018",
          "2T2018",
          "3T2018",
          "4T2018",
          "1T2019",
          "2T2019",
          "3T2019",
          "4T2019",
          "1T2020",
          "2T2020",
          "3T2020",
          "4T2020",
          "1T2021",
          "2T2021",
          "3T2021",
          "4T2021"
         ],
         "xaxis": "x",
         "y": [
          "11.80309849",
          "12.13970538",
          "14.67157061",
          "13.4392203",
          "14.31506927",
          "14.08400359",
          "14.88428344",
          "15.22769874",
          "12.92127732",
          "11.65396411",
          "15.61487371",
          "16.74408996",
          "19.31495383",
          "24.2759177",
          "20.6151939",
          "20.69591469",
          "23.63998143",
          "22.46280318",
          "24.87664065",
          "24.19810345",
          "26.10534313",
          "27.36155388",
          "30.16774272",
          "29.51372448",
          "30.83097249",
          "36.37631023",
          "36.3091651",
          "37.64127205",
          "37.51297429",
          "32.88450781",
          "35.52534655",
          "36.3371945",
          "37.97955358",
          "40.3684395",
          "37.94222723",
          "39.94851815",
          "42.87863604",
          "47.65640789",
          "53.64969749",
          "47.92093741",
          "44.07676126",
          "43.6829676",
          "43.02046783",
          "41.48267479",
          "41.04869639",
          "37.52969759",
          "36.80474087",
          "37.96529356",
          "37.24232631",
          "38.60264627",
          "38.48178841",
          "34.59804059",
          "33.09837559",
          "33.14644178",
          "37.52012346",
          "40.34851852",
          "42.17234568",
          "41.84074074",
          "43.89"
         ],
         "yaxis": "y"
        },
        {
         "name": "PRECIO_ALSEA",
         "type": "scatter",
         "x": [
          "4T2006",
          "1T2007",
          "2T2007",
          "3T2007",
          "4T2007",
          "1T2008",
          "2T2008",
          "3T2008",
          "4T2008",
          "1T2009",
          "2T2009",
          "3T2009",
          "4T2009",
          "1T2010",
          "2T2010",
          "3T2010",
          "4T2010",
          "1T2011",
          "2T2011",
          "3T2011",
          "4T2011",
          "1T2012",
          "2T2012",
          "3T2012",
          "4T2012",
          "1T2013",
          "2T2013",
          "3T2013",
          "4T2013",
          "1T2014",
          "2T2014",
          "3T2014",
          "4T2014",
          "1T2015",
          "2T2015",
          "3T2015",
          "4T2015",
          "1T2016",
          "2T2016",
          "3T2016",
          "4T2016",
          "1T2017",
          "2T2017",
          "3T2017",
          "4T2017",
          "1T2018",
          "2T2018",
          "3T2018",
          "4T2018",
          "1T2019",
          "2T2019",
          "3T2019",
          "4T2019",
          "1T2020",
          "2T2020",
          "3T2020",
          "4T2020",
          "1T2021",
          "2T2021",
          "3T2021",
          "4T2021"
         ],
         "xaxis": "x",
         "y": [
          "12.55991538",
          "17.42904202",
          "16.28282047",
          "15.51071623",
          "13.12577203",
          "11.1869325",
          "11.29608858",
          "7.112352069",
          "5.430141347",
          "3.625904976",
          "6.519656063",
          "7.60917078",
          "8.864930559",
          "11.7730495",
          "10.96248458",
          "11.3883001",
          "11.71445667",
          "11.42453972",
          "10.96555101",
          "9.309679216",
          "12.95259717",
          "16.74270373",
          "16.83004793",
          "18.92672056",
          "24.34784711",
          "33.50898431",
          "29.53779603",
          "35.11204937",
          "39.06766213",
          "45.49433565",
          "44.699382",
          "40.69588046",
          "39.04850662",
          "42.70720898",
          "45.95183642",
          "48.62413032",
          "57.9481123",
          "62.77954221",
          "68.05261985",
          "64.39156119",
          "58.07770333",
          "61.07311497",
          "67.91953408",
          "66.21882658",
          "63.64798965",
          "62.81741156",
          "68.4",
          "63.67",
          "51.15",
          "40.67",
          "37.78",
          "45.88",
          "49.83",
          "15.18",
          "22.61",
          "21.08",
          "25.89",
          "30.28",
          "35.47"
         ],
         "yaxis": "y2"
        }
       ],
       "layout": {
        "template": {
         "data": {
          "bar": [
           {
            "error_x": {
             "color": "#2a3f5f"
            },
            "error_y": {
             "color": "#2a3f5f"
            },
            "marker": {
             "line": {
              "color": "white",
              "width": 0.5
             }
            },
            "type": "bar"
           }
          ],
          "barpolar": [
           {
            "marker": {
             "line": {
              "color": "white",
              "width": 0.5
             }
            },
            "type": "barpolar"
           }
          ],
          "carpet": [
           {
            "aaxis": {
             "endlinecolor": "#2a3f5f",
             "gridcolor": "#C8D4E3",
             "linecolor": "#C8D4E3",
             "minorgridcolor": "#C8D4E3",
             "startlinecolor": "#2a3f5f"
            },
            "baxis": {
             "endlinecolor": "#2a3f5f",
             "gridcolor": "#C8D4E3",
             "linecolor": "#C8D4E3",
             "minorgridcolor": "#C8D4E3",
             "startlinecolor": "#2a3f5f"
            },
            "type": "carpet"
           }
          ],
          "choropleth": [
           {
            "colorbar": {
             "outlinewidth": 0,
             "ticks": ""
            },
            "type": "choropleth"
           }
          ],
          "contour": [
           {
            "colorbar": {
             "outlinewidth": 0,
             "ticks": ""
            },
            "colorscale": [
             [
              0,
              "#0d0887"
             ],
             [
              0.1111111111111111,
              "#46039f"
             ],
             [
              0.2222222222222222,
              "#7201a8"
             ],
             [
              0.3333333333333333,
              "#9c179e"
             ],
             [
              0.4444444444444444,
              "#bd3786"
             ],
             [
              0.5555555555555556,
              "#d8576b"
             ],
             [
              0.6666666666666666,
              "#ed7953"
             ],
             [
              0.7777777777777778,
              "#fb9f3a"
             ],
             [
              0.8888888888888888,
              "#fdca26"
             ],
             [
              1,
              "#f0f921"
             ]
            ],
            "type": "contour"
           }
          ],
          "contourcarpet": [
           {
            "colorbar": {
             "outlinewidth": 0,
             "ticks": ""
            },
            "type": "contourcarpet"
           }
          ],
          "heatmap": [
           {
            "colorbar": {
             "outlinewidth": 0,
             "ticks": ""
            },
            "colorscale": [
             [
              0,
              "#0d0887"
             ],
             [
              0.1111111111111111,
              "#46039f"
             ],
             [
              0.2222222222222222,
              "#7201a8"
             ],
             [
              0.3333333333333333,
              "#9c179e"
             ],
             [
              0.4444444444444444,
              "#bd3786"
             ],
             [
              0.5555555555555556,
              "#d8576b"
             ],
             [
              0.6666666666666666,
              "#ed7953"
             ],
             [
              0.7777777777777778,
              "#fb9f3a"
             ],
             [
              0.8888888888888888,
              "#fdca26"
             ],
             [
              1,
              "#f0f921"
             ]
            ],
            "type": "heatmap"
           }
          ],
          "heatmapgl": [
           {
            "colorbar": {
             "outlinewidth": 0,
             "ticks": ""
            },
            "colorscale": [
             [
              0,
              "#0d0887"
             ],
             [
              0.1111111111111111,
              "#46039f"
             ],
             [
              0.2222222222222222,
              "#7201a8"
             ],
             [
              0.3333333333333333,
              "#9c179e"
             ],
             [
              0.4444444444444444,
              "#bd3786"
             ],
             [
              0.5555555555555556,
              "#d8576b"
             ],
             [
              0.6666666666666666,
              "#ed7953"
             ],
             [
              0.7777777777777778,
              "#fb9f3a"
             ],
             [
              0.8888888888888888,
              "#fdca26"
             ],
             [
              1,
              "#f0f921"
             ]
            ],
            "type": "heatmapgl"
           }
          ],
          "histogram": [
           {
            "marker": {
             "colorbar": {
              "outlinewidth": 0,
              "ticks": ""
             }
            },
            "type": "histogram"
           }
          ],
          "histogram2d": [
           {
            "colorbar": {
             "outlinewidth": 0,
             "ticks": ""
            },
            "colorscale": [
             [
              0,
              "#0d0887"
             ],
             [
              0.1111111111111111,
              "#46039f"
             ],
             [
              0.2222222222222222,
              "#7201a8"
             ],
             [
              0.3333333333333333,
              "#9c179e"
             ],
             [
              0.4444444444444444,
              "#bd3786"
             ],
             [
              0.5555555555555556,
              "#d8576b"
             ],
             [
              0.6666666666666666,
              "#ed7953"
             ],
             [
              0.7777777777777778,
              "#fb9f3a"
             ],
             [
              0.8888888888888888,
              "#fdca26"
             ],
             [
              1,
              "#f0f921"
             ]
            ],
            "type": "histogram2d"
           }
          ],
          "histogram2dcontour": [
           {
            "colorbar": {
             "outlinewidth": 0,
             "ticks": ""
            },
            "colorscale": [
             [
              0,
              "#0d0887"
             ],
             [
              0.1111111111111111,
              "#46039f"
             ],
             [
              0.2222222222222222,
              "#7201a8"
             ],
             [
              0.3333333333333333,
              "#9c179e"
             ],
             [
              0.4444444444444444,
              "#bd3786"
             ],
             [
              0.5555555555555556,
              "#d8576b"
             ],
             [
              0.6666666666666666,
              "#ed7953"
             ],
             [
              0.7777777777777778,
              "#fb9f3a"
             ],
             [
              0.8888888888888888,
              "#fdca26"
             ],
             [
              1,
              "#f0f921"
             ]
            ],
            "type": "histogram2dcontour"
           }
          ],
          "mesh3d": [
           {
            "colorbar": {
             "outlinewidth": 0,
             "ticks": ""
            },
            "type": "mesh3d"
           }
          ],
          "parcoords": [
           {
            "line": {
             "colorbar": {
              "outlinewidth": 0,
              "ticks": ""
             }
            },
            "type": "parcoords"
           }
          ],
          "pie": [
           {
            "automargin": true,
            "type": "pie"
           }
          ],
          "scatter": [
           {
            "marker": {
             "colorbar": {
              "outlinewidth": 0,
              "ticks": ""
             }
            },
            "type": "scatter"
           }
          ],
          "scatter3d": [
           {
            "line": {
             "colorbar": {
              "outlinewidth": 0,
              "ticks": ""
             }
            },
            "marker": {
             "colorbar": {
              "outlinewidth": 0,
              "ticks": ""
             }
            },
            "type": "scatter3d"
           }
          ],
          "scattercarpet": [
           {
            "marker": {
             "colorbar": {
              "outlinewidth": 0,
              "ticks": ""
             }
            },
            "type": "scattercarpet"
           }
          ],
          "scattergeo": [
           {
            "marker": {
             "colorbar": {
              "outlinewidth": 0,
              "ticks": ""
             }
            },
            "type": "scattergeo"
           }
          ],
          "scattergl": [
           {
            "marker": {
             "colorbar": {
              "outlinewidth": 0,
              "ticks": ""
             }
            },
            "type": "scattergl"
           }
          ],
          "scattermapbox": [
           {
            "marker": {
             "colorbar": {
              "outlinewidth": 0,
              "ticks": ""
             }
            },
            "type": "scattermapbox"
           }
          ],
          "scatterpolar": [
           {
            "marker": {
             "colorbar": {
              "outlinewidth": 0,
              "ticks": ""
             }
            },
            "type": "scatterpolar"
           }
          ],
          "scatterpolargl": [
           {
            "marker": {
             "colorbar": {
              "outlinewidth": 0,
              "ticks": ""
             }
            },
            "type": "scatterpolargl"
           }
          ],
          "scatterternary": [
           {
            "marker": {
             "colorbar": {
              "outlinewidth": 0,
              "ticks": ""
             }
            },
            "type": "scatterternary"
           }
          ],
          "surface": [
           {
            "colorbar": {
             "outlinewidth": 0,
             "ticks": ""
            },
            "colorscale": [
             [
              0,
              "#0d0887"
             ],
             [
              0.1111111111111111,
              "#46039f"
             ],
             [
              0.2222222222222222,
              "#7201a8"
             ],
             [
              0.3333333333333333,
              "#9c179e"
             ],
             [
              0.4444444444444444,
              "#bd3786"
             ],
             [
              0.5555555555555556,
              "#d8576b"
             ],
             [
              0.6666666666666666,
              "#ed7953"
             ],
             [
              0.7777777777777778,
              "#fb9f3a"
             ],
             [
              0.8888888888888888,
              "#fdca26"
             ],
             [
              1,
              "#f0f921"
             ]
            ],
            "type": "surface"
           }
          ],
          "table": [
           {
            "cells": {
             "fill": {
              "color": "#EBF0F8"
             },
             "line": {
              "color": "white"
             }
            },
            "header": {
             "fill": {
              "color": "#C8D4E3"
             },
             "line": {
              "color": "white"
             }
            },
            "type": "table"
           }
          ]
         },
         "layout": {
          "annotationdefaults": {
           "arrowcolor": "#2a3f5f",
           "arrowhead": 0,
           "arrowwidth": 1
          },
          "autotypenumbers": "strict",
          "coloraxis": {
           "colorbar": {
            "outlinewidth": 0,
            "ticks": ""
           }
          },
          "colorscale": {
           "diverging": [
            [
             0,
             "#8e0152"
            ],
            [
             0.1,
             "#c51b7d"
            ],
            [
             0.2,
             "#de77ae"
            ],
            [
             0.3,
             "#f1b6da"
            ],
            [
             0.4,
             "#fde0ef"
            ],
            [
             0.5,
             "#f7f7f7"
            ],
            [
             0.6,
             "#e6f5d0"
            ],
            [
             0.7,
             "#b8e186"
            ],
            [
             0.8,
             "#7fbc41"
            ],
            [
             0.9,
             "#4d9221"
            ],
            [
             1,
             "#276419"
            ]
           ],
           "sequential": [
            [
             0,
             "#0d0887"
            ],
            [
             0.1111111111111111,
             "#46039f"
            ],
            [
             0.2222222222222222,
             "#7201a8"
            ],
            [
             0.3333333333333333,
             "#9c179e"
            ],
            [
             0.4444444444444444,
             "#bd3786"
            ],
            [
             0.5555555555555556,
             "#d8576b"
            ],
            [
             0.6666666666666666,
             "#ed7953"
            ],
            [
             0.7777777777777778,
             "#fb9f3a"
            ],
            [
             0.8888888888888888,
             "#fdca26"
            ],
            [
             1,
             "#f0f921"
            ]
           ],
           "sequentialminus": [
            [
             0,
             "#0d0887"
            ],
            [
             0.1111111111111111,
             "#46039f"
            ],
            [
             0.2222222222222222,
             "#7201a8"
            ],
            [
             0.3333333333333333,
             "#9c179e"
            ],
            [
             0.4444444444444444,
             "#bd3786"
            ],
            [
             0.5555555555555556,
             "#d8576b"
            ],
            [
             0.6666666666666666,
             "#ed7953"
            ],
            [
             0.7777777777777778,
             "#fb9f3a"
            ],
            [
             0.8888888888888888,
             "#fdca26"
            ],
            [
             1,
             "#f0f921"
            ]
           ]
          },
          "colorway": [
           "#636efa",
           "#EF553B",
           "#00cc96",
           "#ab63fa",
           "#FFA15A",
           "#19d3f3",
           "#FF6692",
           "#B6E880",
           "#FF97FF",
           "#FECB52"
          ],
          "font": {
           "color": "#2a3f5f"
          },
          "geo": {
           "bgcolor": "white",
           "lakecolor": "white",
           "landcolor": "white",
           "showlakes": true,
           "showland": true,
           "subunitcolor": "#C8D4E3"
          },
          "hoverlabel": {
           "align": "left"
          },
          "hovermode": "closest",
          "mapbox": {
           "style": "light"
          },
          "paper_bgcolor": "white",
          "plot_bgcolor": "white",
          "polar": {
           "angularaxis": {
            "gridcolor": "#EBF0F8",
            "linecolor": "#EBF0F8",
            "ticks": ""
           },
           "bgcolor": "white",
           "radialaxis": {
            "gridcolor": "#EBF0F8",
            "linecolor": "#EBF0F8",
            "ticks": ""
           }
          },
          "scene": {
           "xaxis": {
            "backgroundcolor": "white",
            "gridcolor": "#DFE8F3",
            "gridwidth": 2,
            "linecolor": "#EBF0F8",
            "showbackground": true,
            "ticks": "",
            "zerolinecolor": "#EBF0F8"
           },
           "yaxis": {
            "backgroundcolor": "white",
            "gridcolor": "#DFE8F3",
            "gridwidth": 2,
            "linecolor": "#EBF0F8",
            "showbackground": true,
            "ticks": "",
            "zerolinecolor": "#EBF0F8"
           },
           "zaxis": {
            "backgroundcolor": "white",
            "gridcolor": "#DFE8F3",
            "gridwidth": 2,
            "linecolor": "#EBF0F8",
            "showbackground": true,
            "ticks": "",
            "zerolinecolor": "#EBF0F8"
           }
          },
          "shapedefaults": {
           "line": {
            "color": "#2a3f5f"
           }
          },
          "ternary": {
           "aaxis": {
            "gridcolor": "#DFE8F3",
            "linecolor": "#A2B1C6",
            "ticks": ""
           },
           "baxis": {
            "gridcolor": "#DFE8F3",
            "linecolor": "#A2B1C6",
            "ticks": ""
           },
           "bgcolor": "white",
           "caxis": {
            "gridcolor": "#DFE8F3",
            "linecolor": "#A2B1C6",
            "ticks": ""
           }
          },
          "title": {
           "x": 0.05
          },
          "xaxis": {
           "automargin": true,
           "gridcolor": "#EBF0F8",
           "linecolor": "#EBF0F8",
           "ticks": "",
           "title": {
            "standoff": 15
           },
           "zerolinecolor": "#EBF0F8",
           "zerolinewidth": 2
          },
          "yaxis": {
           "automargin": true,
           "gridcolor": "#EBF0F8",
           "linecolor": "#EBF0F8",
           "ticks": "",
           "title": {
            "standoff": 15
           },
           "zerolinecolor": "#EBF0F8",
           "zerolinewidth": 2
          }
         }
        },
        "title": {
         "text": "PRECIO_BIMBO vs. PRECIO_ALSEA"
        },
        "xaxis": {
         "anchor": "y",
         "domain": [
          0,
          0.94
         ],
         "title": {
          "text": "Fecha"
         }
        },
        "yaxis": {
         "anchor": "x",
         "domain": [
          0,
          1
         ],
         "title": {
          "text": "Precio acción $MXN"
         }
        },
        "yaxis2": {
         "anchor": "x",
         "overlaying": "y",
         "side": "right",
         "title": {
          "text": "Tipo de cambio $MXN"
         }
        }
       }
      }
     },
     "metadata": {}
    }
   ],
   "metadata": {}
  },
  {
   "cell_type": "code",
   "execution_count": null,
   "source": [
    "$"
   ],
   "outputs": [],
   "metadata": {}
  }
 ],
 "metadata": {
  "orig_nbformat": 4,
  "language_info": {
   "name": "python",
   "version": "3.9.2",
   "mimetype": "text/x-python",
   "codemirror_mode": {
    "name": "ipython",
    "version": 3
   },
   "pygments_lexer": "ipython3",
   "nbconvert_exporter": "python",
   "file_extension": ".py"
  },
  "kernelspec": {
   "name": "python3",
   "display_name": "Python 3.9.2 64-bit"
  },
  "interpreter": {
   "hash": "aee8b7b246df8f9039afb4144a1f6fd8d2ca17a180786b69acc140d282b71a49"
  }
 },
 "nbformat": 4,
 "nbformat_minor": 2
}
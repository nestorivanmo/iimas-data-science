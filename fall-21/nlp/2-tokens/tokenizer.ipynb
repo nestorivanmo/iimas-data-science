{
 "cells": [
  {
   "cell_type": "markdown",
   "source": [
    "# Tokenizer\n",
    "- Martínez Ostoa Néstor Iván\n",
    "- Procesamiento de Lenguaje Natural - 0705\n",
    "\n",
    "*Escribe un programa en Python que lea cada uno de estos textos, tokenice, y cuente el número de tokens y types de cada uno de ellos (sin usar ninguna librería)*"
   ],
   "metadata": {}
  },
  {
   "cell_type": "code",
   "execution_count": 15,
   "source": [
    "def read_text(path):\n",
    "    return open(path, 'r').read()\n",
    "\n",
    "def count_tokens(text, chars_to_ignore):\n",
    "    t = text\n",
    "    for c in chars_to_ignore:\n",
    "        t = t.replace(c, ' ')\n",
    "    tokens = [t.lower() for t in t.split(' ') if t != '']\n",
    "    return sorted(tokens), len(tokens)\n",
    "\n",
    "def count_types(tokens):\n",
    "    d = dict()\n",
    "    for token in tokens:\n",
    "        if token not in d:\n",
    "            d[token] = 0\n",
    "        d[token] += 1\n",
    "    return d\n",
    "\n",
    "def process_text(path, chars_to_ignore):\n",
    "    text = read_text(path)\n",
    "    tokens, num_tokens = count_tokens(text, chars_to_ignore)\n",
    "    types_dict = count_types(tokens)\n",
    "    print(f'Num tokens: {num_tokens}\\nTokens:\\n{tokens}')\n",
    "    print(f'\\nTypes:\\n{types_dict}')"
   ],
   "outputs": [],
   "metadata": {}
  },
  {
   "cell_type": "code",
   "execution_count": 19,
   "source": [
    "chars_to_ignore=['\\n', '.', ',', ';', '\\\"', '”', '“', '¡', '!']\n",
    "process_text('DulceMaríaLoynaz.txt', chars_to_ignore)"
   ],
   "outputs": [
    {
     "output_type": "stream",
     "name": "stdout",
     "text": [
      "Num tokens: 92\n",
      "Tokens:\n",
      "['a', 'a', 'a', 'a', 'a', 'acero', 'aire', 'al', 'al', 'amoldarme', 'blandura', 'cantar', 'cauce', 'ceñidura', 'como', 'como', 'como', 'como', 'convite', 'correr', 'corriente', 'de', 'de', 'de', 'de', 'de', 'de', 'de', 'de', 'de', 'de', 'del', 'dentro', 'el', 'el', 'el', 'el', 'en', 'en', 'en', 'espada', 'espada', 'faltarme', 'fuera', 'guardarme', 'ha', 'ha', 'he', 'he', 'he', 'he', 'la', 'la', 'la', 'la', 'le', 'limo', 'mar', 'mar', 'mesa', 'mi', 'mi', 'mis', 'mundo', 'no', 'olas', 'para', 'para', 'para', 'para', 'perfil', 'playa', 'reposo', 'río', 'río', 'siempre', 'sobra', 'sobrarme', 'su', 'su', 'su', 'ti', 'ti', 'ti', 'ti', 'ti', 'ti', 'tierra', 'vaina', 'viento', 'y', 'ya']\n",
      "\n",
      "Types:\n",
      "{'a': 5, 'acero': 1, 'aire': 1, 'al': 2, 'amoldarme': 1, 'blandura': 1, 'cantar': 1, 'cauce': 1, 'ceñidura': 1, 'como': 4, 'convite': 1, 'correr': 1, 'corriente': 1, 'de': 10, 'del': 1, 'dentro': 1, 'el': 4, 'en': 3, 'espada': 2, 'faltarme': 1, 'fuera': 1, 'guardarme': 1, 'ha': 2, 'he': 4, 'la': 4, 'le': 1, 'limo': 1, 'mar': 2, 'mesa': 1, 'mi': 2, 'mis': 1, 'mundo': 1, 'no': 1, 'olas': 1, 'para': 4, 'perfil': 1, 'playa': 1, 'reposo': 1, 'río': 2, 'siempre': 1, 'sobra': 1, 'sobrarme': 1, 'su': 3, 'ti': 6, 'tierra': 1, 'vaina': 1, 'viento': 1, 'y': 1, 'ya': 1}\n"
     ]
    }
   ],
   "metadata": {}
  },
  {
   "cell_type": "code",
   "execution_count": 20,
   "source": [
    "process_text('ultimaInocencia.txt', chars_to_ignore)"
   ],
   "outputs": [
    {
     "output_type": "stream",
     "name": "stdout",
     "text": [
      "Num tokens: 42\n",
      "Tokens:\n",
      "['alma', 'anonadada', 'arremete', 'bajo', 'cuerpo', 'de', 'de', 'de', 'deshacerse', 'duermen', 'el', 'en', 'en', 'fila', 'garganta', 'he', 'he', 'inercia', 'la', 'las', 'miradas', 'morir', 'más', 'más', 'más', 'no', 'no', 'no', 'opresoras', 'para', 'partir', 'partir', 'partir', 'partir', 'partir', 'pero', 'piedras', 'que', 'sangre', 'sol', 'viajera', 'y']\n",
      "\n",
      "Types:\n",
      "{'alma': 1, 'anonadada': 1, 'arremete': 1, 'bajo': 1, 'cuerpo': 1, 'de': 3, 'deshacerse': 1, 'duermen': 1, 'el': 1, 'en': 2, 'fila': 1, 'garganta': 1, 'he': 2, 'inercia': 1, 'la': 1, 'las': 1, 'miradas': 1, 'morir': 1, 'más': 3, 'no': 3, 'opresoras': 1, 'para': 1, 'partir': 5, 'pero': 1, 'piedras': 1, 'que': 1, 'sangre': 1, 'sol': 1, 'viajera': 1, 'y': 1}\n"
     ]
    }
   ],
   "metadata": {}
  },
  {
   "cell_type": "code",
   "execution_count": null,
   "source": [],
   "outputs": [],
   "metadata": {}
  }
 ],
 "metadata": {
  "orig_nbformat": 4,
  "language_info": {
   "name": "python",
   "version": "3.9.2",
   "mimetype": "text/x-python",
   "codemirror_mode": {
    "name": "ipython",
    "version": 3
   },
   "pygments_lexer": "ipython3",
   "nbconvert_exporter": "python",
   "file_extension": ".py"
  },
  "kernelspec": {
   "name": "python3",
   "display_name": "Python 3.9.2 64-bit"
  },
  "interpreter": {
   "hash": "aee8b7b246df8f9039afb4144a1f6fd8d2ca17a180786b69acc140d282b71a49"
  }
 },
 "nbformat": 4,
 "nbformat_minor": 2
}
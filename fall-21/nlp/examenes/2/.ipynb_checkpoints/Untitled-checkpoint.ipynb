{
 "cells": [
  {
   "cell_type": "code",
   "execution_count": 2,
   "id": "psychological-child",
   "metadata": {},
   "outputs": [],
   "source": [
    "import numpy as np"
   ]
  },
  {
   "cell_type": "code",
   "execution_count": 3,
   "id": "available-clearance",
   "metadata": {},
   "outputs": [
    {
     "name": "stdout",
     "output_type": "stream",
     "text": [
      "['tres', 'tristes', 'tigres', 'tragaban', 'trigo', 'en', 'un', 'trigal', 'en', 'tres', 'tristes', '.', 'trastos', 'En', 'tres', 'tristes', 'trastos', 'tragaban', 'trigo', 'en', 'un', 'trigal', 'tres', 'tristes', '.', 'tigres'] 26\n"
     ]
    }
   ],
   "source": [
    "corpus = \"tres tristes tigres tragaban trigo en un trigal en tres tristes trastos. En tres tristes trastos tragaban trigo en un trigal tres tristes tigres.\"\n",
    "corpus = corpus.split(' ')\n",
    "\n",
    "tokens = []\n",
    "for token in corpus:\n",
    "    if '.' in token:\n",
    "        tokens.append('.')\n",
    "    for c in token.split('.'): \n",
    "        if c != '': tokens.append(c)\n",
    "\n",
    "num_tokens = len(tokens)            \n",
    "print(tokens, num_tokens)"
   ]
  },
  {
   "cell_type": "code",
   "execution_count": 4,
   "id": "directed-aluminum",
   "metadata": {},
   "outputs": [
    {
     "name": "stdout",
     "output_type": "stream",
     "text": [
      "0.15384615384615385\n"
     ]
    }
   ],
   "source": [
    "tres_count = 0\n",
    "for token in tokens:\n",
    "    if \"tres\" == token:\n",
    "        tres_count +=1\n",
    "\n",
    "print(tres_count/num_tokens)"
   ]
  },
  {
   "cell_type": "code",
   "execution_count": 5,
   "id": "reported-conservative",
   "metadata": {},
   "outputs": [
    {
     "name": "stdout",
     "output_type": "stream",
     "text": [
      "4 26 0.15384615384615385\n"
     ]
    }
   ],
   "source": [
    "print(tres_count, num_tokens, tres_count/num_tokens)"
   ]
  },
  {
   "cell_type": "code",
   "execution_count": 6,
   "id": "infinite-calendar",
   "metadata": {},
   "outputs": [],
   "source": [
    "# UNQ_C11 (UNIQUE CELL IDENTIFIER, DO NOT EDIT)\n",
    "# GRADED FUNCTION: min_edit_distance\n",
    "def min_edit_distance(source, target, ins_cost = 1, del_cost = 1, rep_cost = 2):\n",
    "    '''\n",
    "    Input: \n",
    "        source: a string corresponding to the string you are starting with\n",
    "        target: a string corresponding to the string you want to end with\n",
    "        ins_cost: an integer setting the insert cost\n",
    "        del_cost: an integer setting the delete cost\n",
    "        rep_cost: an integer setting the replace cost\n",
    "    Output:\n",
    "        D: a matrix of len(source)+1 by len(target)+1 containing minimum edit distances\n",
    "        med: the minimum edit distance (med) required to convert the source string to the target\n",
    "    '''\n",
    "    # use deletion and insert cost as  1\n",
    "    m = len(source) \n",
    "    n = len(target) \n",
    "    #initialize cost matrix with zeros and dimensions (m+1,n+1) \n",
    "    D = np.zeros((m+1, n+1), dtype=int) \n",
    "    \n",
    "    ### START CODE HERE (Replace instances of 'None' with your code) ###\n",
    "    \n",
    "    # Fill in column 0, from row 1 to row m, both inclusive\n",
    "    for row in range(1, m+1): # Replace None with the proper range\n",
    "        D[row,0] = row\n",
    "        \n",
    "    # Fill in row 0, for all columns from 1 to n, both inclusive\n",
    "    for col in range(1, n+1): # Replace None with the proper range\n",
    "        D[0,col] = col\n",
    "    \n",
    "    # Loop through row 1 to row m, both inclusive\n",
    "    for row in range(1, m+1): \n",
    "        \n",
    "        # Loop through column 1 to column n, both inclusive\n",
    "        for col in range(1, n+1):\n",
    "            \n",
    "            # Intialize r_cost to the 'replace' cost that is passed into this function\n",
    "            r_cost = rep_cost\n",
    "            \n",
    "            # Check to see if source character at the previous row\n",
    "            # matches the target character at the previous column, \n",
    "            if source[row-1] == target[col-1]:\n",
    "                # Update the replacement cost to 0 if source and target are the same\n",
    "                r_cost = 0\n",
    "                \n",
    "            # Update the cost at row, col based on previous entries in the cost matrix\n",
    "            # Refer to the equation calculate for D[i,j] (the minimum of three calculated costs)\n",
    "            D[row,col] = min(D[row-1,col]+del_cost, D[row,col-1]+ins_cost,D[row-1,col-1]+r_cost)\n",
    "\n",
    "          \n",
    "    # Set the minimum edit distance with the cost found at row m, column n\n",
    "    med = D[m,n]\n",
    "    \n",
    "    ### END CODE HERE ###\n",
    "    return D, med"
   ]
  },
  {
   "cell_type": "code",
   "execution_count": 7,
   "id": "successful-software",
   "metadata": {},
   "outputs": [
    {
     "data": {
      "text/plain": [
       "(array([[ 0,  1,  2,  3,  4,  5,  6,  7,  8,  9],\n",
       "        [ 1,  2,  3,  4,  5,  6,  7,  8,  9, 10],\n",
       "        [ 2,  3,  4,  5,  6,  7,  8,  9, 10, 11],\n",
       "        [ 3,  4,  5,  4,  5,  6,  7,  8,  9, 10],\n",
       "        [ 4,  5,  6,  5,  6,  7,  6,  7,  8,  9],\n",
       "        [ 5,  6,  7,  6,  7,  6,  7,  8,  9, 10],\n",
       "        [ 6,  7,  8,  7,  8,  7,  6,  7,  8,  9],\n",
       "        [ 7,  8,  9,  8,  9,  8,  7,  6,  7,  8],\n",
       "        [ 8,  9, 10,  9, 10,  9,  8,  7,  6,  7],\n",
       "        [ 9, 10, 11, 10, 11, 10,  9,  8,  7,  6],\n",
       "        [10, 11, 12, 11, 12, 11, 10,  9,  8,  7]]),\n",
       " 7)"
      ]
     },
     "execution_count": 7,
     "metadata": {},
     "output_type": "execute_result"
    }
   ],
   "source": [
    "min_edit_distance(\"hervivoros\", \"carnivoro\", 1, 1, 2)"
   ]
  },
  {
   "cell_type": "code",
   "execution_count": 8,
   "id": "indian-transsexual",
   "metadata": {},
   "outputs": [
    {
     "data": {
      "text/plain": [
       "['tres',\n",
       " 'tristes',\n",
       " 'tigres',\n",
       " 'tragaban',\n",
       " 'trigo',\n",
       " 'en',\n",
       " 'un',\n",
       " 'trigal',\n",
       " 'en',\n",
       " 'tres',\n",
       " 'tristes',\n",
       " '.',\n",
       " 'trastos',\n",
       " 'En',\n",
       " 'tres',\n",
       " 'tristes',\n",
       " 'trastos',\n",
       " 'tragaban',\n",
       " 'trigo',\n",
       " 'en',\n",
       " 'un',\n",
       " 'trigal',\n",
       " 'tres',\n",
       " 'tristes',\n",
       " '.',\n",
       " 'tigres']"
      ]
     },
     "execution_count": 8,
     "metadata": {},
     "output_type": "execute_result"
    }
   ],
   "source": [
    "tokens"
   ]
  },
  {
   "cell_type": "markdown",
   "id": "orange-stopping",
   "metadata": {},
   "source": [
    "$$P(\\text{tigres}|\\text{tres tristes}) = \\frac{C(\\text{tres tristes}\\text{tigres})}{C(\\text{tres tristes})}$$"
   ]
  },
  {
   "cell_type": "code",
   "execution_count": 14,
   "id": "military-revelation",
   "metadata": {},
   "outputs": [
    {
     "name": "stdout",
     "output_type": "stream",
     "text": [
      "1 24 0.041666666666666664\n"
     ]
    }
   ],
   "source": [
    "trigrams = []\n",
    "for i in range(2, len(tokens)):\n",
    "    t = tokens[i-2] + \" \"  + tokens[i-1] + \" \" + tokens[i]\n",
    "    trigrams.append(t)\n",
    "\n",
    "tr_to_lookup = \"tres tristes tigres\"    \n",
    "trigram_count = 0\n",
    "for tr in trigrams:\n",
    "    if tr == tr_to_lookup:\n",
    "        trigram_count += 1\n",
    "        \n",
    "print(trigram_count, len(trigrams), trigram_count / len(trigrams))"
   ]
  },
  {
   "cell_type": "code",
   "execution_count": 15,
   "id": "broke-works",
   "metadata": {},
   "outputs": [
    {
     "name": "stdout",
     "output_type": "stream",
     "text": [
      "4 25 0.16\n"
     ]
    }
   ],
   "source": [
    "bigrams = []\n",
    "for i in range(1, len(tokens)):\n",
    "    t = tokens[i-1] + \" \" + tokens[i]\n",
    "    bigrams.append(t)\n",
    "\n",
    "br_to_lookup = \"tres tristes\"\n",
    "bigram_count = 0\n",
    "for tr in bigrams:\n",
    "    if tr == br_to_lookup:\n",
    "        bigram_count += 1\n",
    "        \n",
    "print(bigram_count, len(bigrams), bigram_count / len(bigrams))"
   ]
  },
  {
   "cell_type": "code",
   "execution_count": 17,
   "id": "present-advantage",
   "metadata": {},
   "outputs": [
    {
     "data": {
      "text/plain": [
       "0.25"
      ]
     },
     "execution_count": 17,
     "metadata": {},
     "output_type": "execute_result"
    }
   ],
   "source": [
    "1/4"
   ]
  },
  {
   "cell_type": "code",
   "execution_count": 21,
   "id": "southern-henry",
   "metadata": {},
   "outputs": [
    {
     "data": {
      "text/plain": [
       "0.003"
      ]
     },
     "execution_count": 21,
     "metadata": {},
     "output_type": "execute_result"
    }
   ],
   "source": [
    "0.1*0.3*0.1"
   ]
  },
  {
   "cell_type": "code",
   "execution_count": null,
   "id": "alert-establishment",
   "metadata": {},
   "outputs": [],
   "source": []
  },
  {
   "cell_type": "code",
   "execution_count": null,
   "id": "material-baseline",
   "metadata": {},
   "outputs": [],
   "source": []
  }
 ],
 "metadata": {
  "kernelspec": {
   "display_name": "Python 3",
   "language": "python",
   "name": "python3"
  },
  "language_info": {
   "codemirror_mode": {
    "name": "ipython",
    "version": 3
   },
   "file_extension": ".py",
   "mimetype": "text/x-python",
   "name": "python",
   "nbconvert_exporter": "python",
   "pygments_lexer": "ipython3",
   "version": "3.9.7"
  }
 },
 "nbformat": 4,
 "nbformat_minor": 5
}

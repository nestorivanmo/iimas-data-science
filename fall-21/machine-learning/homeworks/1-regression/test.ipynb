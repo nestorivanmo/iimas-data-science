{
 "cells": [
  {
   "cell_type": "code",
   "execution_count": 141,
   "source": [
    "import numpy as np\n",
    "import matplotlib.pyplot as plt"
   ],
   "outputs": [],
   "metadata": {}
  },
  {
   "cell_type": "code",
   "execution_count": 411,
   "source": [
    "def cost(X, y, theta, delta):\n",
    "    return (y-X@theta).T@(y-X@theta) + theta**2*theta.T@theta\n",
    "\n",
    "def gradient(X, y, theta, delta):\n",
    "    return -2*X.T@(y - (X@theta)) + 2*delta**2*theta\n",
    "\n",
    "def gradient_descent(X, y, theta, delta, alpha, min_e=0.001, n_iter=1000):\n",
    "    theta_k = theta\n",
    "    for i in range(n_iter):\n",
    "        step_size = alpha*gradient(X, y, theta_k, delta)\n",
    "        theta_k = theta_k - step_size\n",
    "    return theta_k\n",
    "\n",
    "def analytical_theta(X, y, delta):\n",
    "    return np.linalg.inv(X.T@X + delta**2)@X.T@y"
   ],
   "outputs": [],
   "metadata": {}
  },
  {
   "cell_type": "code",
   "execution_count": 410,
   "source": [
    "X = np.array([[1,0.5], [1,2.3], [1,3.2]])\n",
    "y = np.array([1.4, 1.9, 3.2])\n",
    "print(analytical_theta(X, y, delta=0))"
   ],
   "outputs": [
    {
     "output_type": "stream",
     "name": "stdout",
     "text": [
      "[0.94444444 0.61111111]\n"
     ]
    }
   ],
   "metadata": {}
  },
  {
   "cell_type": "code",
   "execution_count": 455,
   "source": [
    "theta = np.array([0, 1])\n",
    "alpha = 0.01\n",
    "delta = 0.01\n",
    "theta_optimized = gradient_descent(X, y, theta, delta, alpha)\n",
    "print(theta_optimized)"
   ],
   "outputs": [
    {
     "output_type": "stream",
     "name": "stdout",
     "text": [
      "[0.94434208 0.61114621]\n"
     ]
    }
   ],
   "metadata": {}
  },
  {
   "cell_type": "code",
   "execution_count": 456,
   "source": [
    "y_pred = X@theta_optimized\n",
    "print(y, '\\n', y_pred)"
   ],
   "outputs": [
    {
     "output_type": "stream",
     "name": "stdout",
     "text": [
      "[1.4 1.9 3.2] \n",
      " [1.24991519 2.34997837 2.90000996]\n"
     ]
    }
   ],
   "metadata": {}
  },
  {
   "cell_type": "code",
   "execution_count": 457,
   "source": [
    "from sklearn.metrics import accuracy_score, r2_score\n",
    "print(np.round(r2_score(y, y_pred),5))"
   ],
   "outputs": [
    {
     "output_type": "stream",
     "name": "stdout",
     "text": [
      "0.81757\n"
     ]
    }
   ],
   "metadata": {}
  },
  {
   "cell_type": "code",
   "execution_count": null,
   "source": [],
   "outputs": [],
   "metadata": {}
  },
  {
   "cell_type": "code",
   "execution_count": null,
   "source": [],
   "outputs": [],
   "metadata": {}
  }
 ],
 "metadata": {
  "orig_nbformat": 4,
  "language_info": {
   "name": "python",
   "version": "3.9.2",
   "mimetype": "text/x-python",
   "codemirror_mode": {
    "name": "ipython",
    "version": 3
   },
   "pygments_lexer": "ipython3",
   "nbconvert_exporter": "python",
   "file_extension": ".py"
  },
  "kernelspec": {
   "name": "python3",
   "display_name": "Python 3.9.2 64-bit"
  },
  "interpreter": {
   "hash": "aee8b7b246df8f9039afb4144a1f6fd8d2ca17a180786b69acc140d282b71a49"
  }
 },
 "nbformat": 4,
 "nbformat_minor": 2
}
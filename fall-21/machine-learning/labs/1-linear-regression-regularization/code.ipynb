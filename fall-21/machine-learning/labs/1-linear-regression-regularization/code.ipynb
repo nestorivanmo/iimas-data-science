{
 "cells": [
  {
   "cell_type": "markdown",
   "source": [
    "# 1. Regresión lineal con regularización\n",
    "\n",
    "Función a optimizar:\n",
    "\n",
    "$J(\\theta) = (y-X\\theta)^T(y-X\\theta) + \\delta^2\\theta^T\\theta$\n",
    "\n",
    "\n",
    "Gradiente: \n",
    "\n",
    "$\\nabla J(\\theta) = -2X^Ty + 2\\theta(X^TX + \\delta^2)$"
   ],
   "metadata": {}
  },
  {
   "cell_type": "code",
   "execution_count": 1,
   "source": [
    "import numpy as np"
   ],
   "outputs": [],
   "metadata": {}
  },
  {
   "cell_type": "code",
   "execution_count": 52,
   "source": [
    "def j(theta):\n",
    "    return (y-theta.T@X.T)@(y-X@theta) + delta*delta*(theta.T@theta)\n",
    "\n",
    "def nabla_j(theta):\n",
    "    return (-2*X.T@y) + 2*X.T@X@theta + 2*delta*delta*theta\n",
    "\n",
    "def get_alpha(alpha, xk, pk, f, nabla_f):\n",
    "    c = 1e-4\n",
    "    rho = 0.01\n",
    "    a = alpha\n",
    "    while (f(xk + alpha*pk) <= f(xk) + c*a*nabla_f(xk)@pk):\n",
    "        a += rho\n",
    "    return a\n",
    "\n",
    "def gradient_descent(f, nabla_f, x0, init_alpha, num_iter=1e2):\n",
    "    xk = x0\n",
    "    alpha = init_alpha\n",
    "    print(xk)\n",
    "    for _ in range(int(num_iter)):\n",
    "        pk = -1*nabla_f(xk)\n",
    "        alpha = get_alpha(alpha, xk, pk, f, nabla_f)\n",
    "        xk = xk + alpha*pk\n",
    "        print(xk)\n",
    "    return xk"
   ],
   "outputs": [],
   "metadata": {}
  },
  {
   "cell_type": "code",
   "execution_count": 53,
   "source": [
    "X = np.array([\n",
    "    [1,100,2],\n",
    "    [1,50,42],\n",
    "    [1,45,31],\n",
    "    [1,60,35]\n",
    "])\n",
    "y = np.array([5,25,22,18])\n",
    "\n",
    "delta = 0.1\n",
    "alpha = 0.1\n",
    "x0 = np.array([24,0,0])\n",
    "\n",
    "gradient_descent(j, nabla_j, init_alpha=alpha, x0=x0, num_iter=10)"
   ],
   "outputs": [
    {
     "output_type": "stream",
     "name": "stdout",
     "text": [
      "[24  0  0]\n",
      "[  18.752 -460.     -53.6  ]\n",
      "[  24656.912896 1728970.968     575535.2432  ]\n",
      "[-1.00834399e+08 -6.93409633e+09 -2.45897822e+09]\n",
      "[4.07716468e+11 2.79842773e+13 9.98094192e+12]\n",
      "[-1.64669814e+15 -1.13003782e+17 -4.03257150e+16]\n",
      "[6.65003257e+18 4.56347417e+20 1.62856941e+20]\n",
      "[-2.68552543e+22 -1.84289430e+24 -6.57677695e+23]\n",
      "[1.08451201e+26 7.44227070e+27 2.65594047e+27]\n",
      "[-4.37965022e+29 -3.00545699e+31 -1.07256448e+31]\n",
      "[1.76866053e+33 1.21371180e+35 4.33140174e+34]\n"
     ]
    },
    {
     "output_type": "execute_result",
     "data": {
      "text/plain": [
       "array([1.76866053e+33, 1.21371180e+35, 4.33140174e+34])"
      ]
     },
     "metadata": {},
     "execution_count": 53
    }
   ],
   "metadata": {}
  },
  {
   "cell_type": "code",
   "execution_count": null,
   "source": [],
   "outputs": [],
   "metadata": {}
  }
 ],
 "metadata": {
  "orig_nbformat": 4,
  "language_info": {
   "name": "python",
   "version": "3.9.2",
   "mimetype": "text/x-python",
   "codemirror_mode": {
    "name": "ipython",
    "version": 3
   },
   "pygments_lexer": "ipython3",
   "nbconvert_exporter": "python",
   "file_extension": ".py"
  },
  "kernelspec": {
   "name": "python3",
   "display_name": "Python 3.9.2 64-bit"
  },
  "interpreter": {
   "hash": "aee8b7b246df8f9039afb4144a1f6fd8d2ca17a180786b69acc140d282b71a49"
  }
 },
 "nbformat": 4,
 "nbformat_minor": 2
}
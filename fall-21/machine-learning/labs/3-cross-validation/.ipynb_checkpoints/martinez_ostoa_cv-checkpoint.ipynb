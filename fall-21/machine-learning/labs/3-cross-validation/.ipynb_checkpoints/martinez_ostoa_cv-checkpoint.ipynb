{
 "cells": [
  {
   "cell_type": "markdown",
   "metadata": {},
   "source": [
    "# Laboratorio 3: Validación Cruzada\n",
    "\n",
    "- Martínez Ostoa Néstor Iván\n",
    "- Aprendizaje de Máquina\n",
    "- LCD, IIMAS, UNAM\n",
    "\n",
    "---\n",
    "\n",
    "1. Generar una matriz $X$ de $1000\\times 100$ con valores binarios $(0,1)$ siguiendo una distribución uniforme y un vector $Y$ de $1000\\times 1$ de la misma forma\n",
    "\n",
    "2. Encontrar por el método de su preferencia las variables de entrada $(X)$ \"relevantes\" y ajustar un modelo de clasificación a los datos, $Y=f(X)$, siguiendo un enfoque de validación cruzada con $K=5$\n",
    "\n",
    "3. Siguiendo un enfoque de validación cruzada con $K=5$. Encontrar por el método de su preferencia las variables de entrada \"relevantes\" para cada fold y ajustar un modelo de clasificación a los datos, $Y=f(X)$"
   ]
  },
  {
   "cell_type": "markdown",
   "metadata": {},
   "source": [
    "## Librerías requeridas"
   ]
  },
  {
   "cell_type": "code",
   "execution_count": 54,
   "metadata": {},
   "outputs": [],
   "source": [
    "import numpy as np\n",
    "import pandas as pd\n",
    "import matplotlib.pyplot as plt\n",
    "import seaborn as sns\n",
    "\n",
    "from sklearn.decomposition import PCA\n",
    "from sklearn.model_selection import KFold\n",
    "from sklearn.linear_model import LogisticRegression"
   ]
  },
  {
   "cell_type": "markdown",
   "metadata": {},
   "source": [
    "## Generación de datos"
   ]
  },
  {
   "cell_type": "code",
   "execution_count": 104,
   "metadata": {},
   "outputs": [],
   "source": [
    "def generate_data():\n",
    "    X = np.random.uniform(low=0, high=1, size=(1000, 100))\n",
    "    Y = np.random.randint(low=0, high=2, size=(1000, 1))\n",
    "    dict_ = dict()\n",
    "    dict_['Y'] = Y.ravel()\n",
    "    for i in range(100):\n",
    "        dict_[f'X_{i+1}'] = X[:, i]\n",
    "    return pd.DataFrame(dict_)"
   ]
  },
  {
   "cell_type": "code",
   "execution_count": 108,
   "metadata": {},
   "outputs": [
    {
     "data": {
      "text/html": [
       "<div>\n",
       "<style scoped>\n",
       "    .dataframe tbody tr th:only-of-type {\n",
       "        vertical-align: middle;\n",
       "    }\n",
       "\n",
       "    .dataframe tbody tr th {\n",
       "        vertical-align: top;\n",
       "    }\n",
       "\n",
       "    .dataframe thead th {\n",
       "        text-align: right;\n",
       "    }\n",
       "</style>\n",
       "<table border=\"1\" class=\"dataframe\">\n",
       "  <thead>\n",
       "    <tr style=\"text-align: right;\">\n",
       "      <th></th>\n",
       "      <th>Y</th>\n",
       "      <th>X_1</th>\n",
       "      <th>X_2</th>\n",
       "      <th>X_3</th>\n",
       "      <th>X_4</th>\n",
       "      <th>X_5</th>\n",
       "      <th>X_6</th>\n",
       "      <th>X_7</th>\n",
       "      <th>X_8</th>\n",
       "      <th>X_9</th>\n",
       "      <th>...</th>\n",
       "      <th>X_91</th>\n",
       "      <th>X_92</th>\n",
       "      <th>X_93</th>\n",
       "      <th>X_94</th>\n",
       "      <th>X_95</th>\n",
       "      <th>X_96</th>\n",
       "      <th>X_97</th>\n",
       "      <th>X_98</th>\n",
       "      <th>X_99</th>\n",
       "      <th>X_100</th>\n",
       "    </tr>\n",
       "  </thead>\n",
       "  <tbody>\n",
       "    <tr>\n",
       "      <th>0</th>\n",
       "      <td>0</td>\n",
       "      <td>0.296249</td>\n",
       "      <td>0.809068</td>\n",
       "      <td>0.350253</td>\n",
       "      <td>0.789409</td>\n",
       "      <td>0.561349</td>\n",
       "      <td>0.253589</td>\n",
       "      <td>0.104977</td>\n",
       "      <td>0.058461</td>\n",
       "      <td>0.673292</td>\n",
       "      <td>...</td>\n",
       "      <td>0.427222</td>\n",
       "      <td>0.760398</td>\n",
       "      <td>0.718831</td>\n",
       "      <td>0.617643</td>\n",
       "      <td>0.265429</td>\n",
       "      <td>0.674788</td>\n",
       "      <td>0.189240</td>\n",
       "      <td>0.724260</td>\n",
       "      <td>0.617489</td>\n",
       "      <td>0.605784</td>\n",
       "    </tr>\n",
       "    <tr>\n",
       "      <th>1</th>\n",
       "      <td>0</td>\n",
       "      <td>0.690860</td>\n",
       "      <td>0.540351</td>\n",
       "      <td>0.584310</td>\n",
       "      <td>0.604166</td>\n",
       "      <td>0.306813</td>\n",
       "      <td>0.859513</td>\n",
       "      <td>0.067146</td>\n",
       "      <td>0.845677</td>\n",
       "      <td>0.565784</td>\n",
       "      <td>...</td>\n",
       "      <td>0.514934</td>\n",
       "      <td>0.540182</td>\n",
       "      <td>0.622452</td>\n",
       "      <td>0.777176</td>\n",
       "      <td>0.543720</td>\n",
       "      <td>0.149663</td>\n",
       "      <td>0.105057</td>\n",
       "      <td>0.106422</td>\n",
       "      <td>0.137035</td>\n",
       "      <td>0.218607</td>\n",
       "    </tr>\n",
       "    <tr>\n",
       "      <th>2</th>\n",
       "      <td>1</td>\n",
       "      <td>0.820886</td>\n",
       "      <td>0.094633</td>\n",
       "      <td>0.157330</td>\n",
       "      <td>0.880167</td>\n",
       "      <td>0.811965</td>\n",
       "      <td>0.353031</td>\n",
       "      <td>0.458137</td>\n",
       "      <td>0.232787</td>\n",
       "      <td>0.626281</td>\n",
       "      <td>...</td>\n",
       "      <td>0.855190</td>\n",
       "      <td>0.494267</td>\n",
       "      <td>0.258415</td>\n",
       "      <td>0.237821</td>\n",
       "      <td>0.179560</td>\n",
       "      <td>0.895320</td>\n",
       "      <td>0.578855</td>\n",
       "      <td>0.417335</td>\n",
       "      <td>0.815119</td>\n",
       "      <td>0.031054</td>\n",
       "    </tr>\n",
       "    <tr>\n",
       "      <th>3</th>\n",
       "      <td>0</td>\n",
       "      <td>0.579159</td>\n",
       "      <td>0.403241</td>\n",
       "      <td>0.058733</td>\n",
       "      <td>0.906945</td>\n",
       "      <td>0.118941</td>\n",
       "      <td>0.951547</td>\n",
       "      <td>0.709331</td>\n",
       "      <td>0.800009</td>\n",
       "      <td>0.376076</td>\n",
       "      <td>...</td>\n",
       "      <td>0.866006</td>\n",
       "      <td>0.214181</td>\n",
       "      <td>0.304816</td>\n",
       "      <td>0.439050</td>\n",
       "      <td>0.475755</td>\n",
       "      <td>0.552465</td>\n",
       "      <td>0.690631</td>\n",
       "      <td>0.886792</td>\n",
       "      <td>0.460008</td>\n",
       "      <td>0.365160</td>\n",
       "    </tr>\n",
       "    <tr>\n",
       "      <th>4</th>\n",
       "      <td>0</td>\n",
       "      <td>0.146008</td>\n",
       "      <td>0.761136</td>\n",
       "      <td>0.457285</td>\n",
       "      <td>0.855901</td>\n",
       "      <td>0.412994</td>\n",
       "      <td>0.322888</td>\n",
       "      <td>0.677426</td>\n",
       "      <td>0.145169</td>\n",
       "      <td>0.247650</td>\n",
       "      <td>...</td>\n",
       "      <td>0.559460</td>\n",
       "      <td>0.324141</td>\n",
       "      <td>0.886918</td>\n",
       "      <td>0.692577</td>\n",
       "      <td>0.837996</td>\n",
       "      <td>0.193869</td>\n",
       "      <td>0.715556</td>\n",
       "      <td>0.003465</td>\n",
       "      <td>0.456886</td>\n",
       "      <td>0.392147</td>\n",
       "    </tr>\n",
       "  </tbody>\n",
       "</table>\n",
       "<p>5 rows × 101 columns</p>\n",
       "</div>"
      ],
      "text/plain": [
       "   Y       X_1       X_2       X_3       X_4       X_5       X_6       X_7  \\\n",
       "0  0  0.296249  0.809068  0.350253  0.789409  0.561349  0.253589  0.104977   \n",
       "1  0  0.690860  0.540351  0.584310  0.604166  0.306813  0.859513  0.067146   \n",
       "2  1  0.820886  0.094633  0.157330  0.880167  0.811965  0.353031  0.458137   \n",
       "3  0  0.579159  0.403241  0.058733  0.906945  0.118941  0.951547  0.709331   \n",
       "4  0  0.146008  0.761136  0.457285  0.855901  0.412994  0.322888  0.677426   \n",
       "\n",
       "        X_8       X_9  ...      X_91      X_92      X_93      X_94      X_95  \\\n",
       "0  0.058461  0.673292  ...  0.427222  0.760398  0.718831  0.617643  0.265429   \n",
       "1  0.845677  0.565784  ...  0.514934  0.540182  0.622452  0.777176  0.543720   \n",
       "2  0.232787  0.626281  ...  0.855190  0.494267  0.258415  0.237821  0.179560   \n",
       "3  0.800009  0.376076  ...  0.866006  0.214181  0.304816  0.439050  0.475755   \n",
       "4  0.145169  0.247650  ...  0.559460  0.324141  0.886918  0.692577  0.837996   \n",
       "\n",
       "       X_96      X_97      X_98      X_99     X_100  \n",
       "0  0.674788  0.189240  0.724260  0.617489  0.605784  \n",
       "1  0.149663  0.105057  0.106422  0.137035  0.218607  \n",
       "2  0.895320  0.578855  0.417335  0.815119  0.031054  \n",
       "3  0.552465  0.690631  0.886792  0.460008  0.365160  \n",
       "4  0.193869  0.715556  0.003465  0.456886  0.392147  \n",
       "\n",
       "[5 rows x 101 columns]"
      ]
     },
     "execution_count": 108,
     "metadata": {},
     "output_type": "execute_result"
    }
   ],
   "source": [
    "np.random.seed(69)\n",
    "df = generate_data()\n",
    "df.head()"
   ]
  },
  {
   "cell_type": "code",
   "execution_count": 109,
   "metadata": {},
   "outputs": [
    {
     "data": {
      "image/png": "[encoded data removed]",
      "text/plain": [
       "<Figure size 432x288 with 1 Axes>"
      ]
     },
     "metadata": {
      "needs_background": "light"
     },
     "output_type": "display_data"
    }
   ],
   "source": [
    "sns.histplot(data=df.iloc[:, 50], legend=0)\n",
    "plt.show()"
   ]
  },
  {
   "cell_type": "markdown",
   "metadata": {},
   "source": [
    "## Ejercicio 1"
   ]
  },
  {
   "cell_type": "code",
   "execution_count": 120,
   "metadata": {},
   "outputs": [
    {
     "name": "stdout",
     "output_type": "stream",
     "text": [
      "Porcentaje de varianza explicado con 80 componentes: 0.883\n",
      "Error promedio: 0.528\n"
     ]
    }
   ],
   "source": [
    "# Data reading\n",
    "X, Y = df.iloc[:, 1:], df.iloc[:,0]\n",
    "\n",
    "# Dimensionality reduction\n",
    "n_components=80\n",
    "pca = PCA(n_components)\n",
    "pca.fit(X)\n",
    "print(f\"Porcentaje de varianza explicado con {n_components} componentes: {np.round(np.sum(pca.explained_variance_ratio_),3)}\")\n",
    "new_X = (pca.components_@X.T).T\n",
    "\n",
    "# K-fold cross validation\n",
    "scores = []\n",
    "kf5 = KFold(n_splits=5)\n",
    "for train_index, test_index in kf5.split(new_X):\n",
    "    X_train, X_test = new_X.iloc[train_index, :], new_X.iloc[test_index, :]\n",
    "    y_train, y_test = Y[train_index], Y[test_index]\n",
    "    \n",
    "    # Classification\n",
    "    clf = LogisticRegression()\n",
    "    clf.fit(X_train, y_train)\n",
    "    scores.append(clf.score(X_test, y_test))\n",
    "\n",
    "print(f\"Error promedio: {np.round(np.mean(scores),4)}\")"
   ]
  },
  {
   "cell_type": "markdown",
   "metadata": {},
   "source": [
    "## Ejercicio 2 "
   ]
  },
  {
   "cell_type": "code",
   "execution_count": 121,
   "metadata": {},
   "outputs": [
    {
     "name": "stdout",
     "output_type": "stream",
     "text": [
      "Error promedio: 0.503\n"
     ]
    }
   ],
   "source": [
    "# Data reading\n",
    "X, Y = df.iloc[:, 1:], df.iloc[:,0]\n",
    "\n",
    "# K-fold cross validation\n",
    "scores = []\n",
    "kf5 = KFold(n_splits=5)\n",
    "for train_index, test_index in kf5.split(new_X):\n",
    "    X_train, X_test = X.iloc[train_index, :], X.iloc[test_index, :]\n",
    "    y_train, y_test = Y[train_index], Y[test_index]\n",
    "    \n",
    "    # Dimensionality reduction\n",
    "    n_components=80\n",
    "    pca = PCA(n_components)\n",
    "    pca.fit(X_train)\n",
    "    new_X_train = (pca.components_@X_train.T).T\n",
    "    \n",
    "    pca = PCA(n_components)\n",
    "    pca.fit(X_test)\n",
    "    new_X_test = (pca.components_@X_test.T).T\n",
    "    \n",
    "    \n",
    "    # Classification\n",
    "    clf = LogisticRegression()\n",
    "    clf.fit(new_X_train, y_train)\n",
    "    scores.append(clf.score(new_X_test, y_test))\n",
    "\n",
    "print(f\"Error promedio: {np.round(np.mean(scores),4)}\")"
   ]
  },
  {
   "cell_type": "code",
   "execution_count": null,
   "metadata": {},
   "outputs": [],
   "source": []
  },
  {
   "cell_type": "code",
   "execution_count": null,
   "metadata": {},
   "outputs": [],
   "source": []
  }
 ],
 "metadata": {
  "interpreter": {
   "hash": "1ee38ef4a5a9feb55287fd749643f13d043cb0a7addaab2a9c224cbe137c0062"
  },
  "kernelspec": {
   "display_name": "Python 3",
   "language": "python",
   "name": "python3"
  },
  "language_info": {
   "codemirror_mode": {
    "name": "ipython",
    "version": 3
   },
   "file_extension": ".py",
   "mimetype": "text/x-python",
   "name": "python",
   "nbconvert_exporter": "python",
   "pygments_lexer": "ipython3",
   "version": "3.9.7"
  }
 },
 "nbformat": 4,
 "nbformat_minor": 2
}

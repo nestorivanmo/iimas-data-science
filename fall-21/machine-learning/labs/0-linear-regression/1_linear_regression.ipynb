{
 "cells": [
  {
   "cell_type": "markdown",
   "source": [
    "## Regresión Lineal: Método analítico\n",
    "\n",
    "* Forma matricial: \n",
    "\n",
    "$\\theta = (X^TX)^{-1}X^Ty$"
   ],
   "metadata": {}
  },
  {
   "cell_type": "code",
   "execution_count": 49,
   "source": [
    "import numpy as np\n",
    "\n",
    "def linear_regression_analytical(X, y):\n",
    "    return np.linalg.inv(X.T@X)@X.T@y\n",
    "\n",
    "X = np.array([\n",
    "    [1,100,2],\n",
    "    [1,50,42],\n",
    "    [1,45,31],\n",
    "    [1,60,35]\n",
    "])\n",
    "y = np.array([5,25,22,18])\n",
    "Theta = linear_regression_analytical(X,y)\n",
    "print(Theta)"
   ],
   "outputs": [
    {
     "output_type": "stream",
     "name": "stdout",
     "text": [
      "[24.97615881 -0.20751687  0.20920152]\n"
     ]
    }
   ],
   "metadata": {}
  },
  {
   "cell_type": "markdown",
   "source": [
    "## Validación con sklearn"
   ],
   "metadata": {}
  },
  {
   "cell_type": "code",
   "execution_count": 47,
   "source": [
    "from sklearn.linear_model import LinearRegression\n",
    "X = np.array([[1,100, 2], [1,50, 42], [1,45, 31], [1,60, 35]])\n",
    "y = np.array([5,25,22,18])\n",
    "reg = LinearRegression().fit(X, y)\n",
    "print(reg.coef_)\n",
    "print(reg.intercept_)"
   ],
   "outputs": [
    {
     "output_type": "stream",
     "name": "stdout",
     "text": [
      "[ 0.         -0.20751687  0.20920152]\n",
      "24.97615880991085\n"
     ]
    }
   ],
   "metadata": {}
  }
 ],
 "metadata": {
  "orig_nbformat": 4,
  "language_info": {
   "name": "python",
   "version": "3.9.2",
   "mimetype": "text/x-python",
   "codemirror_mode": {
    "name": "ipython",
    "version": 3
   },
   "pygments_lexer": "ipython3",
   "nbconvert_exporter": "python",
   "file_extension": ".py"
  },
  "kernelspec": {
   "name": "python3",
   "display_name": "Python 3.9.2 64-bit"
  },
  "interpreter": {
   "hash": "aee8b7b246df8f9039afb4144a1f6fd8d2ca17a180786b69acc140d282b71a49"
  }
 },
 "nbformat": 4,
 "nbformat_minor": 2
}
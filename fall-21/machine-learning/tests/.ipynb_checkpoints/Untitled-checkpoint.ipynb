{
 "cells": [
  {
   "cell_type": "code",
   "execution_count": 188,
   "id": "suspended-associate",
   "metadata": {},
   "outputs": [],
   "source": [
    "import numpy as np\n",
    "from sklearn.pipeline import make_pipeline\n",
    "from sklearn.preprocessing import StandardScaler\n",
    "from sklearn.svm import SVC\n",
    "from sklearn.linear_model import LogisticRegression\n",
    "from sklearn.tree import DecisionTreeClassifier\n",
    "from sklearn.ensemble import VotingClassifier"
   ]
  },
  {
   "cell_type": "code",
   "execution_count": 186,
   "id": "domestic-margin",
   "metadata": {},
   "outputs": [],
   "source": [
    "X = np.array([\n",
    "    [3, 4], [2, 2], [1, 4],\n",
    "    [2,1], [4,3]\n",
    "])\n",
    "y = np.array([1, 1, 1, -1, -1])"
   ]
  },
  {
   "cell_type": "code",
   "execution_count": 189,
   "id": "variable-combat",
   "metadata": {},
   "outputs": [
    {
     "data": {
      "text/plain": [
       "VotingClassifier(estimators=[('svm',\n",
       "                              SVC(C=10, kernel='linear', random_state=0)),\n",
       "                             ('lr', LogisticRegression(random_state=0)),\n",
       "                             ('tree', DecisionTreeClassifier(random_state=0))])"
      ]
     },
     "execution_count": 189,
     "metadata": {},
     "output_type": "execute_result"
    }
   ],
   "source": [
    "clf1 = SVC(kernel='linear', C=10, random_state=0)\n",
    "clf2 = LogisticRegression(random_state=0)\n",
    "clf3 = DecisionTreeClassifier(random_state=0)\n",
    "\n",
    "eclf1 = VotingClassifier(\n",
    "    estimators=[('svm', clf1), ('lr', clf2), ('tree', clf3)],\n",
    "    voting='hard'\n",
    ")\n",
    "eclf1.fit(X, y)"
   ]
  },
  {
   "cell_type": "code",
   "execution_count": 190,
   "id": "fixed-aging",
   "metadata": {},
   "outputs": [],
   "source": [
    "X_test = np.array([\n",
    "    [4,4], [4,1]\n",
    "])\n",
    "y_true = np.array([1,-1])"
   ]
  },
  {
   "cell_type": "code",
   "execution_count": 191,
   "id": "polished-opposition",
   "metadata": {},
   "outputs": [
    {
     "data": {
      "text/plain": [
       "array([ 1, -1])"
      ]
     },
     "execution_count": 191,
     "metadata": {},
     "output_type": "execute_result"
    }
   ],
   "source": [
    "eclf1.predict(X_test)"
   ]
  },
  {
   "cell_type": "code",
   "execution_count": 195,
   "id": "phantom-cyprus",
   "metadata": {},
   "outputs": [
    {
     "data": {
      "text/plain": [
       "1.0"
      ]
     },
     "execution_count": 195,
     "metadata": {},
     "output_type": "execute_result"
    }
   ],
   "source": [
    "eclf1.score(X_test, y_true)"
   ]
  },
  {
   "cell_type": "code",
   "execution_count": null,
   "id": "worse-plain",
   "metadata": {},
   "outputs": [],
   "source": []
  },
  {
   "cell_type": "code",
   "execution_count": null,
   "id": "burning-isaac",
   "metadata": {},
   "outputs": [],
   "source": []
  },
  {
   "cell_type": "code",
   "execution_count": null,
   "id": "material-algeria",
   "metadata": {},
   "outputs": [],
   "source": []
  }
 ],
 "metadata": {
  "kernelspec": {
   "display_name": "Python 3",
   "language": "python",
   "name": "python3"
  },
  "language_info": {
   "codemirror_mode": {
    "name": "ipython",
    "version": 3
   },
   "file_extension": ".py",
   "mimetype": "text/x-python",
   "name": "python",
   "nbconvert_exporter": "python",
   "pygments_lexer": "ipython3",
   "version": "3.9.7"
  }
 },
 "nbformat": 4,
 "nbformat_minor": 5
}

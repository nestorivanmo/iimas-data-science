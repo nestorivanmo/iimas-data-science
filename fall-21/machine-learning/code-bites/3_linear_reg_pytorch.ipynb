{
 "cells": [
  {
   "cell_type": "markdown",
   "source": [
    "# Linear Regression with PyTorch"
   ],
   "metadata": {}
  },
  {
   "cell_type": "code",
   "execution_count": 14,
   "source": [
    "import torch"
   ],
   "outputs": [],
   "metadata": {}
  },
  {
   "cell_type": "code",
   "execution_count": 2,
   "source": [
    "data = [[100,2,5], [50,42,25], [45,31,22], [60,35,18]]\n",
    "data_tensor = torch.tensor(data)\n",
    "X = torch.cat((torch.ones(data_tensor.size(0),1), data_tensor[:, :2]), 1)\n",
    "Y = data_tensor[:, -1]"
   ],
   "outputs": [],
   "metadata": {}
  },
  {
   "cell_type": "code",
   "execution_count": 3,
   "source": [
    "def forward(w):\n",
    "    y = torch.matmul(X, w.t())\n",
    "    return y\n",
    "\n",
    "def cost(yhat, y):\n",
    "    return torch.mean((yhat - y)**2)\n",
    "\n",
    "def sd(x0, alpha0, rho, maxiter):\n",
    "    xk = x0\n",
    "    for epoch in range(maxiter):\n",
    "        alphak = alpha0\n",
    "        yhat = forward(xk)\n",
    "        loss = cost(yhat, Y)\n",
    "        loss.backward()\n",
    "        pk = -xk.grads\n",
    "\n",
    "        while cost(forward(xk+alphak+pk, Y)) > loss + 1e-4*alphak*torch.dot(-pk, pk) and alphak >= 1e-8:\n",
    "            alphak = alphak*rho\n",
    "        print('ak = ', alphak)\n",
    "        if alphak <= 1e-8:\n",
    "            break\n",
    "        xk.data = xk.data + alphak*pk.data\n",
    "        xk.grad.data_zero_()\n",
    "        print(epoch, xk, loss)\n",
    "    return xk"
   ],
   "outputs": [],
   "metadata": {}
  },
  {
   "cell_type": "code",
   "execution_count": null,
   "source": [
    "alpha = 1\n",
    "rho = 3/5\n",
    "w = torch.tensor([24])"
   ],
   "outputs": [],
   "metadata": {}
  }
 ],
 "metadata": {
  "orig_nbformat": 4,
  "language_info": {
   "name": "python",
   "version": "3.9.2",
   "mimetype": "text/x-python",
   "codemirror_mode": {
    "name": "ipython",
    "version": 3
   },
   "pygments_lexer": "ipython3",
   "nbconvert_exporter": "python",
   "file_extension": ".py"
  },
  "kernelspec": {
   "name": "python3",
   "display_name": "Python 3.9.2 64-bit"
  },
  "interpreter": {
   "hash": "aee8b7b246df8f9039afb4144a1f6fd8d2ca17a180786b69acc140d282b71a49"
  }
 },
 "nbformat": 4,
 "nbformat_minor": 2
}
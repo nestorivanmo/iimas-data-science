{
 "cells": [
  {
   "cell_type": "markdown",
   "metadata": {},
   "source": [
    "# Aprendizaje No Supervisado"
   ]
  },
  {
   "cell_type": "code",
   "execution_count": 4,
   "metadata": {},
   "outputs": [
    {
     "data": {
      "text/html": [
       "<table class=\"dataframe\">\n",
       "<caption>A data.frame: 6 × 4</caption>\n",
       "<thead>\n",
       "\t<tr><th></th><th scope=col>Murder</th><th scope=col>Assault</th><th scope=col>UrbanPop</th><th scope=col>Rape</th></tr>\n",
       "\t<tr><th></th><th scope=col>&lt;dbl&gt;</th><th scope=col>&lt;int&gt;</th><th scope=col>&lt;int&gt;</th><th scope=col>&lt;dbl&gt;</th></tr>\n",
       "</thead>\n",
       "<tbody>\n",
       "\t<tr><th scope=row>Alabama</th><td>13.2</td><td>236</td><td>58</td><td>21.2</td></tr>\n",
       "\t<tr><th scope=row>Alaska</th><td>10.0</td><td>263</td><td>48</td><td>44.5</td></tr>\n",
       "\t<tr><th scope=row>Arizona</th><td> 8.1</td><td>294</td><td>80</td><td>31.0</td></tr>\n",
       "\t<tr><th scope=row>Arkansas</th><td> 8.8</td><td>190</td><td>50</td><td>19.5</td></tr>\n",
       "\t<tr><th scope=row>California</th><td> 9.0</td><td>276</td><td>91</td><td>40.6</td></tr>\n",
       "\t<tr><th scope=row>Colorado</th><td> 7.9</td><td>204</td><td>78</td><td>38.7</td></tr>\n",
       "</tbody>\n",
       "</table>\n"
      ],
      "text/latex": [
       "A data.frame: 6 × 4\n",
       "\\begin{tabular}{r|llll}\n",
       "  & Murder & Assault & UrbanPop & Rape\\\\\n",
       "  & <dbl> & <int> & <int> & <dbl>\\\\\n",
       "\\hline\n",
       "\tAlabama & 13.2 & 236 & 58 & 21.2\\\\\n",
       "\tAlaska & 10.0 & 263 & 48 & 44.5\\\\\n",
       "\tArizona &  8.1 & 294 & 80 & 31.0\\\\\n",
       "\tArkansas &  8.8 & 190 & 50 & 19.5\\\\\n",
       "\tCalifornia &  9.0 & 276 & 91 & 40.6\\\\\n",
       "\tColorado &  7.9 & 204 & 78 & 38.7\\\\\n",
       "\\end{tabular}\n"
      ],
      "text/markdown": [
       "\n",
       "A data.frame: 6 × 4\n",
       "\n",
       "| <!--/--> | Murder &lt;dbl&gt; | Assault &lt;int&gt; | UrbanPop &lt;int&gt; | Rape &lt;dbl&gt; |\n",
       "|---|---|---|---|---|\n",
       "| Alabama | 13.2 | 236 | 58 | 21.2 |\n",
       "| Alaska | 10.0 | 263 | 48 | 44.5 |\n",
       "| Arizona |  8.1 | 294 | 80 | 31.0 |\n",
       "| Arkansas |  8.8 | 190 | 50 | 19.5 |\n",
       "| California |  9.0 | 276 | 91 | 40.6 |\n",
       "| Colorado |  7.9 | 204 | 78 | 38.7 |\n",
       "\n"
      ],
      "text/plain": [
       "           Murder Assault UrbanPop Rape\n",
       "Alabama    13.2   236     58       21.2\n",
       "Alaska     10.0   263     48       44.5\n",
       "Arizona     8.1   294     80       31.0\n",
       "Arkansas    8.8   190     50       19.5\n",
       "California  9.0   276     91       40.6\n",
       "Colorado    7.9   204     78       38.7"
      ]
     },
     "metadata": {},
     "output_type": "display_data"
    }
   ],
   "source": [
    "data(\"USArrests\")\n",
    "df <- USArrests\n",
    "head(df)"
   ]
  },
  {
   "cell_type": "code",
   "execution_count": 5,
   "metadata": {},
   "outputs": [
    {
     "data": {
      "text/plain": [
       "     Murder          Assault         UrbanPop          Rape      \n",
       " Min.   : 0.800   Min.   : 45.0   Min.   :32.00   Min.   : 7.30  \n",
       " 1st Qu.: 4.075   1st Qu.:109.0   1st Qu.:54.50   1st Qu.:15.07  \n",
       " Median : 7.250   Median :159.0   Median :66.00   Median :20.10  \n",
       " Mean   : 7.788   Mean   :170.8   Mean   :65.54   Mean   :21.23  \n",
       " 3rd Qu.:11.250   3rd Qu.:249.0   3rd Qu.:77.75   3rd Qu.:26.18  \n",
       " Max.   :17.400   Max.   :337.0   Max.   :91.00   Max.   :46.00  "
      ]
     },
     "metadata": {},
     "output_type": "display_data"
    }
   ],
   "source": [
    "summary(df)"
   ]
  },
  {
   "cell_type": "code",
   "execution_count": 7,
   "metadata": {},
   "outputs": [
    {
     "data": {
      "text/html": [
       "<table class=\"dataframe\">\n",
       "<caption>A matrix: 3 × 4 of type dbl</caption>\n",
       "<thead>\n",
       "\t<tr><th></th><th scope=col>Murder</th><th scope=col>Assault</th><th scope=col>UrbanPop</th><th scope=col>Rape</th></tr>\n",
       "</thead>\n",
       "<tbody>\n",
       "\t<tr><th scope=row>Alabama</th><td>1.24256408</td><td>0.7828393</td><td>-0.5209066</td><td>-0.003416473</td></tr>\n",
       "\t<tr><th scope=row>Alaska</th><td>0.50786248</td><td>1.1068225</td><td>-1.2117642</td><td> 2.484202941</td></tr>\n",
       "\t<tr><th scope=row>Arizona</th><td>0.07163341</td><td>1.4788032</td><td> 0.9989801</td><td> 1.042878388</td></tr>\n",
       "</tbody>\n",
       "</table>\n"
      ],
      "text/latex": [
       "A matrix: 3 × 4 of type dbl\n",
       "\\begin{tabular}{r|llll}\n",
       "  & Murder & Assault & UrbanPop & Rape\\\\\n",
       "\\hline\n",
       "\tAlabama & 1.24256408 & 0.7828393 & -0.5209066 & -0.003416473\\\\\n",
       "\tAlaska & 0.50786248 & 1.1068225 & -1.2117642 &  2.484202941\\\\\n",
       "\tArizona & 0.07163341 & 1.4788032 &  0.9989801 &  1.042878388\\\\\n",
       "\\end{tabular}\n"
      ],
      "text/markdown": [
       "\n",
       "A matrix: 3 × 4 of type dbl\n",
       "\n",
       "| <!--/--> | Murder | Assault | UrbanPop | Rape |\n",
       "|---|---|---|---|---|\n",
       "| Alabama | 1.24256408 | 0.7828393 | -0.5209066 | -0.003416473 |\n",
       "| Alaska | 0.50786248 | 1.1068225 | -1.2117642 |  2.484202941 |\n",
       "| Arizona | 0.07163341 | 1.4788032 |  0.9989801 |  1.042878388 |\n",
       "\n"
      ],
      "text/plain": [
       "        Murder     Assault   UrbanPop   Rape        \n",
       "Alabama 1.24256408 0.7828393 -0.5209066 -0.003416473\n",
       "Alaska  0.50786248 1.1068225 -1.2117642  2.484202941\n",
       "Arizona 0.07163341 1.4788032  0.9989801  1.042878388"
      ]
     },
     "metadata": {},
     "output_type": "display_data"
    }
   ],
   "source": [
    "df <- scale(df)\n",
    "head(df, n=3)"
   ]
  },
  {
   "cell_type": "code",
   "execution_count": 13,
   "metadata": {},
   "outputs": [
    {
     "name": "stdout",
     "output_type": "stream",
     "text": [
      "[1] \"Murder\"\n",
      "[1] -3.042624e-17\n",
      "[1] 1\n"
     ]
    },
    {
     "data": {
      "image/png": "[encoded data removed]",
      "text/plain": [
       "Plot with title “Histogram of df[, 1]”"
      ]
     },
     "metadata": {
      "image/png": {
       "height": 420,
       "width": 420
      }
     },
     "output_type": "display_data"
    }
   ],
   "source": [
    "print(\"Murder\")\n",
    "print(mean(df[,1]))\n",
    "print(var(df[,1]))\n",
    "hist(df[,1], prob=TRUE)"
   ]
  },
  {
   "cell_type": "code",
   "execution_count": 14,
   "metadata": {},
   "outputs": [
    {
     "name": "stdout",
     "output_type": "stream",
     "text": [
      "[1] \"Assault\"\n",
      "[1] -4.430416e-17\n",
      "[1] 1\n"
     ]
    },
    {
     "data": {
      "image/png": "[encoded data removed]",
      "text/plain": [
       "Plot with title “Histogram of df[, 2]”"
      ]
     },
     "metadata": {
      "image/png": {
       "height": 420,
       "width": 420
      }
     },
     "output_type": "display_data"
    }
   ],
   "source": [
    "print(\"Assault\")\n",
    "print(mean(df[,2]))\n",
    "print(var(df[,2]))\n",
    "hist(df[,2], prob=TRUE)"
   ]
  },
  {
   "cell_type": "code",
   "execution_count": 15,
   "metadata": {},
   "outputs": [
    {
     "name": "stderr",
     "output_type": "stream",
     "text": [
      "Installing package into ‘/home/nestor/R/x86_64-pc-linux-gnu-library/3.6’\n",
      "(as ‘lib’ is unspecified)\n",
      "\n",
      "Installing package into ‘/home/nestor/R/x86_64-pc-linux-gnu-library/3.6’\n",
      "(as ‘lib’ is unspecified)\n",
      "\n",
      "also installing the dependencies ‘credentials’, ‘diffobj’, ‘gert’, ‘cachem’, ‘xml2’, ‘waldo’, ‘usethis’, ‘desc’, ‘memoise’, ‘pkgbuild’, ‘pkgload’, ‘remotes’, ‘roxygen2’, ‘rversions’, ‘testthat’, ‘withr’\n",
      "\n",
      "\n",
      "Warning message in install.packages(\"devtools\"):\n",
      "“installation of package ‘xml2’ had non-zero exit status”\n",
      "Warning message in install.packages(\"devtools\"):\n",
      "“installation of package ‘rversions’ had non-zero exit status”\n",
      "Warning message in install.packages(\"devtools\"):\n",
      "“installation of package ‘roxygen2’ had non-zero exit status”\n",
      "Warning message in install.packages(\"devtools\"):\n",
      "“installation of package ‘devtools’ had non-zero exit status”\n"
     ]
    },
    {
     "ename": "ERROR",
     "evalue": "Error in loadNamespace(name): there is no package called ‘devtools’\n",
     "output_type": "error",
     "traceback": [
      "Error in loadNamespace(name): there is no package called ‘devtools’\nTraceback:\n",
      "1. devtools::install_github",
      "2. getExportedValue(pkg, name)",
      "3. asNamespace(ns)",
      "4. getNamespace(ns)",
      "5. loadNamespace(name)",
      "6. withRestarts(stop(cond), retry_loadNamespace = function() NULL)",
      "7. withOneRestart(expr, restarts[[1L]])",
      "8. doWithOneRestart(return(expr), restart)"
     ]
    }
   ],
   "source": [
    "install.packages(\"cluster\")\n",
    "install.packages(\"devtools\")"
   ]
  },
  {
   "cell_type": "code",
   "execution_count": 17,
   "metadata": {},
   "outputs": [
    {
     "name": "stderr",
     "output_type": "stream",
     "text": [
      "Installing packages into ‘/home/nestor/R/x86_64-pc-linux-gnu-library/3.6’\n",
      "(as ‘lib’ is unspecified)\n",
      "\n",
      "also installing the dependencies ‘ggplot2’, ‘corrplot’, ‘ellipse’, ‘flashClust’, ‘leaps’, ‘scatterplot3d’, ‘ggsci’, ‘cowplot’, ‘ggsignif’, ‘polynom’, ‘rstatix’, ‘dendextend’, ‘FactoMineR’, ‘ggpubr’, ‘reshape2’\n",
      "\n",
      "\n"
     ]
    }
   ],
   "source": [
    "install.packages(c(\"cluster\", \"factoextra\"))"
   ]
  },
  {
   "cell_type": "code",
   "execution_count": null,
   "metadata": {},
   "outputs": [],
   "source": []
  }
 ],
 "metadata": {
  "kernelspec": {
   "display_name": "R",
   "language": "R",
   "name": "ir"
  },
  "language_info": {
   "codemirror_mode": "r",
   "file_extension": ".r",
   "mimetype": "text/x-r-source",
   "name": "R",
   "pygments_lexer": "r",
   "version": "3.6.3"
  }
 },
 "nbformat": 4,
 "nbformat_minor": 4
}

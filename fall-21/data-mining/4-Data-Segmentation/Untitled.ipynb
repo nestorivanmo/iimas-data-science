{
 "cells": [
  {
   "cell_type": "markdown",
   "id": "burning-mathematics",
   "metadata": {},
   "source": [
    "# Segmentación de Datos\n",
    "\n",
    "Diccionario de datos:\n",
    "- ```ID```: id único de un cliente\n",
    "- ```Sex```: \n",
    "    - 0: hombre\n",
    "    - 1: mujer\n",
    "- ```Marital status```: \n",
    "    - 0: soltero\n",
    "    - 1: no soltero (divorciado, separado, etc)\n",
    "- ```Age``` \n",
    "- ```Education```: \n",
    "    - 0: otro/desconocido\n",
    "    - 1: bachillerato\n",
    "    - 2: universidad\n",
    "    - 3: maestría + \n",
    "- ```Income```: en USD dólares. Valor mínimo: $35832$, valor máximo: $309364$\n",
    "- ```Occupation```: \n",
    "    - 0: desempleado\n",
    "    - 1: empleado\n",
    "    - 2: administración, empleado muy especializado, empleado propio\n",
    "- ```Settlement size```: \n",
    "    - 0: ciudad pequeña\n",
    "    - 1: ciudad mediana\n",
    "    - 2: ciudad grande"
   ]
  },
  {
   "cell_type": "code",
   "execution_count": 14,
   "id": "vanilla-greensboro",
   "metadata": {},
   "outputs": [],
   "source": [
    "import pandas as pd\n",
    "import numpy as np\n",
    "from pandas_profiling import ProfileReport\n",
    "import matplotlib.pyplot as plt\n",
    "import plotly.graph_objects as go"
   ]
  },
  {
   "cell_type": "markdown",
   "id": "thrown-synthesis",
   "metadata": {},
   "source": [
    "## 1. Exploración de Datos\n",
    "\n",
    "Lo primero que haremos será limpiar el nombre de las variables"
   ]
  },
  {
   "cell_type": "code",
   "execution_count": 9,
   "id": "split-player",
   "metadata": {
    "scrolled": true
   },
   "outputs": [
    {
     "data": {
      "application/vnd.jupyter.widget-view+json": {
       "model_id": "b64adb6891374a7482abba6dbc79c69b",
       "version_major": 2,
       "version_minor": 0
      },
      "text/plain": [
       "Summarize dataset:   0%|          | 0/21 [00:00<?, ?it/s]"
      ]
     },
     "metadata": {},
     "output_type": "display_data"
    },
    {
     "data": {
      "application/vnd.jupyter.widget-view+json": {
       "model_id": "1482576585cb4b7f9c7b9199545e9068",
       "version_major": 2,
       "version_minor": 0
      },
      "text/plain": [
       "Generate report structure:   0%|          | 0/1 [00:00<?, ?it/s]"
      ]
     },
     "metadata": {},
     "output_type": "display_data"
    },
    {
     "data": {
      "application/vnd.jupyter.widget-view+json": {
       "model_id": "",
       "version_major": 2,
       "version_minor": 0
      },
      "text/plain": [
       "Render widgets:   0%|          | 0/1 [00:00<?, ?it/s]"
      ]
     },
     "metadata": {},
     "output_type": "display_data"
    },
    {
     "data": {
      "application/vnd.jupyter.widget-view+json": {
       "model_id": "afc624c11c19425f96837a8993437171",
       "version_major": 2,
       "version_minor": 0
      },
      "text/plain": [
       "VBox(children=(Tab(children=(Tab(children=(GridBox(children=(VBox(children=(GridspecLayout(children=(HTML(valu…"
      ]
     },
     "metadata": {},
     "output_type": "display_data"
    }
   ],
   "source": [
    "df = pd.read_csv('segmentation data.csv')\n",
    "df = df.rename(columns={\n",
    "    \"ID\":\"id\", \"Sex\": \"sex\", \"Marital status\":\"marital_status\", \n",
    "    \"Age\":\"age\", \"Education\":\"education\", \"Income\":\"income\",\n",
    "    \"Occupation\":\"occupation\", \"Settlement size\":\"settlement_size\"\n",
    "})\n",
    "profile = ProfileReport(df, title=\"Pandas Profiling Report\", explorative=True)\n",
    "profile.to_widgets()"
   ]
  },
  {
   "cell_type": "markdown",
   "id": "current-jamaica",
   "metadata": {},
   "source": [
    "Histogramas"
   ]
  },
  {
   "cell_type": "code",
   "execution_count": null,
   "id": "critical-tribune",
   "metadata": {},
   "outputs": [],
   "source": []
  }
 ],
 "metadata": {
  "kernelspec": {
   "display_name": "Python 3",
   "language": "python",
   "name": "python3"
  },
  "language_info": {
   "codemirror_mode": {
    "name": "ipython",
    "version": 3
   },
   "file_extension": ".py",
   "mimetype": "text/x-python",
   "name": "python",
   "nbconvert_exporter": "python",
   "pygments_lexer": "ipython3",
   "version": "3.9.7"
  }
 },
 "nbformat": 4,
 "nbformat_minor": 5
}

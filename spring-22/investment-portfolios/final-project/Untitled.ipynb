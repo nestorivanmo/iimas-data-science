{
 "cells": [
  {
   "cell_type": "code",
   "execution_count": 13,
   "id": "vocal-casting",
   "metadata": {},
   "outputs": [],
   "source": [
    "import pandas as pd\n",
    "import numpy as np\n",
    "import matplotlib.pyplot as plt\n",
    "import seaborn as sns\n",
    "\n",
    "import pandas_datareader.data as web\n",
    "import pandas_ta as ta\n",
    "import datetime\n",
    "\n",
    "sns.set_theme(style=\"dark\")"
   ]
  },
  {
   "cell_type": "code",
   "execution_count": 24,
   "id": "variable-symphony",
   "metadata": {},
   "outputs": [],
   "source": [
    "start = datetime.datetime(2020,4,29)\n",
    "end = datetime.datetime(2022,4,29)\n",
    "\n",
    "def get_stock_data(ticker, start, end):\n",
    "    data = web.DataReader(f\"{ticker}\",\"yahoo\",start,end)\n",
    "    return data[['High', 'Low', 'Close', 'Volume']]"
   ]
  },
  {
   "cell_type": "code",
   "execution_count": 30,
   "id": "inappropriate-nomination",
   "metadata": {},
   "outputs": [
    {
     "data": {
      "text/html": [
       "<div>\n",
       "<style scoped>\n",
       "    .dataframe tbody tr th:only-of-type {\n",
       "        vertical-align: middle;\n",
       "    }\n",
       "\n",
       "    .dataframe tbody tr th {\n",
       "        vertical-align: top;\n",
       "    }\n",
       "\n",
       "    .dataframe thead th {\n",
       "        text-align: right;\n",
       "    }\n",
       "</style>\n",
       "<table border=\"1\" class=\"dataframe\">\n",
       "  <thead>\n",
       "    <tr style=\"text-align: right;\">\n",
       "      <th></th>\n",
       "      <th>High</th>\n",
       "      <th>Low</th>\n",
       "      <th>Close</th>\n",
       "      <th>Volume</th>\n",
       "    </tr>\n",
       "    <tr>\n",
       "      <th>Date</th>\n",
       "      <th></th>\n",
       "      <th></th>\n",
       "      <th></th>\n",
       "      <th></th>\n",
       "    </tr>\n",
       "  </thead>\n",
       "  <tbody>\n",
       "    <tr>\n",
       "      <th>2020-04-29</th>\n",
       "      <td>2954.860107</td>\n",
       "      <td>2912.159912</td>\n",
       "      <td>2939.510010</td>\n",
       "      <td>6620140000</td>\n",
       "    </tr>\n",
       "    <tr>\n",
       "      <th>2020-04-30</th>\n",
       "      <td>2930.909912</td>\n",
       "      <td>2892.469971</td>\n",
       "      <td>2912.429932</td>\n",
       "      <td>6523120000</td>\n",
       "    </tr>\n",
       "    <tr>\n",
       "      <th>2020-05-01</th>\n",
       "      <td>2869.090088</td>\n",
       "      <td>2821.610107</td>\n",
       "      <td>2830.709961</td>\n",
       "      <td>4753160000</td>\n",
       "    </tr>\n",
       "    <tr>\n",
       "      <th>2020-05-04</th>\n",
       "      <td>2844.239990</td>\n",
       "      <td>2797.850098</td>\n",
       "      <td>2842.739990</td>\n",
       "      <td>4723140000</td>\n",
       "    </tr>\n",
       "    <tr>\n",
       "      <th>2020-05-05</th>\n",
       "      <td>2898.229980</td>\n",
       "      <td>2863.550049</td>\n",
       "      <td>2868.439941</td>\n",
       "      <td>5129590000</td>\n",
       "    </tr>\n",
       "    <tr>\n",
       "      <th>...</th>\n",
       "      <td>...</td>\n",
       "      <td>...</td>\n",
       "      <td>...</td>\n",
       "      <td>...</td>\n",
       "    </tr>\n",
       "    <tr>\n",
       "      <th>2022-04-25</th>\n",
       "      <td>4299.020020</td>\n",
       "      <td>4200.819824</td>\n",
       "      <td>4296.120117</td>\n",
       "      <td>4061070000</td>\n",
       "    </tr>\n",
       "    <tr>\n",
       "      <th>2022-04-26</th>\n",
       "      <td>4278.140137</td>\n",
       "      <td>4175.040039</td>\n",
       "      <td>4175.200195</td>\n",
       "      <td>3760420000</td>\n",
       "    </tr>\n",
       "    <tr>\n",
       "      <th>2022-04-27</th>\n",
       "      <td>4240.709961</td>\n",
       "      <td>4162.899902</td>\n",
       "      <td>4183.959961</td>\n",
       "      <td>3876340000</td>\n",
       "    </tr>\n",
       "    <tr>\n",
       "      <th>2022-04-28</th>\n",
       "      <td>4308.450195</td>\n",
       "      <td>4188.629883</td>\n",
       "      <td>4287.500000</td>\n",
       "      <td>3969440000</td>\n",
       "    </tr>\n",
       "    <tr>\n",
       "      <th>2022-04-29</th>\n",
       "      <td>4269.680176</td>\n",
       "      <td>4124.279785</td>\n",
       "      <td>4131.930176</td>\n",
       "      <td>3943480000</td>\n",
       "    </tr>\n",
       "  </tbody>\n",
       "</table>\n",
       "<p>506 rows × 4 columns</p>\n",
       "</div>"
      ],
      "text/plain": [
       "                   High          Low        Close      Volume\n",
       "Date                                                         \n",
       "2020-04-29  2954.860107  2912.159912  2939.510010  6620140000\n",
       "2020-04-30  2930.909912  2892.469971  2912.429932  6523120000\n",
       "2020-05-01  2869.090088  2821.610107  2830.709961  4753160000\n",
       "2020-05-04  2844.239990  2797.850098  2842.739990  4723140000\n",
       "2020-05-05  2898.229980  2863.550049  2868.439941  5129590000\n",
       "...                 ...          ...          ...         ...\n",
       "2022-04-25  4299.020020  4200.819824  4296.120117  4061070000\n",
       "2022-04-26  4278.140137  4175.040039  4175.200195  3760420000\n",
       "2022-04-27  4240.709961  4162.899902  4183.959961  3876340000\n",
       "2022-04-28  4308.450195  4188.629883  4287.500000  3969440000\n",
       "2022-04-29  4269.680176  4124.279785  4131.930176  3943480000\n",
       "\n",
       "[506 rows x 4 columns]"
      ]
     },
     "execution_count": 30,
     "metadata": {},
     "output_type": "execute_result"
    }
   ],
   "source": [
    "data = get_stock_data('^GSPC', start, end)\n",
    "data"
   ]
  },
  {
   "cell_type": "code",
   "execution_count": 32,
   "id": "frequent-madagascar",
   "metadata": {},
   "outputs": [
    {
     "data": {
      "text/plain": [
       "[]"
      ]
     },
     "execution_count": 32,
     "metadata": {},
     "output_type": "execute_result"
    },
    {
     "data": {
      "image/png": "[encoded data removed]",
      "text/plain": [
       "<Figure size 432x288 with 1 Axes>"
      ]
     },
     "metadata": {},
     "output_type": "display_data"
    }
   ],
   "source": [
    "plt.plot(data.ta.percent_return(cumulative=True))\n",
    "plt.plot()"
   ]
  },
  {
   "cell_type": "code",
   "execution_count": null,
   "id": "impaired-monthly",
   "metadata": {},
   "outputs": [],
   "source": []
  },
  {
   "cell_type": "code",
   "execution_count": null,
   "id": "south-guess",
   "metadata": {},
   "outputs": [],
   "source": []
  }
 ],
 "metadata": {
  "kernelspec": {
   "display_name": "Python 3",
   "language": "python",
   "name": "python3"
  },
  "language_info": {
   "codemirror_mode": {
    "name": "ipython",
    "version": 3
   },
   "file_extension": ".py",
   "mimetype": "text/x-python",
   "name": "python",
   "nbconvert_exporter": "python",
   "pygments_lexer": "ipython3",
   "version": "3.9.10"
  }
 },
 "nbformat": 4,
 "nbformat_minor": 5
}

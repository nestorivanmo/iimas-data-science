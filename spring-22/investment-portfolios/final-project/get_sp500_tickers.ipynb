{
 "cells": [
  {
   "cell_type": "code",
   "execution_count": 38,
   "id": "liable-block",
   "metadata": {},
   "outputs": [],
   "source": [
    "import requests\n",
    "from bs4 import BeautifulSoup"
   ]
  },
  {
   "cell_type": "code",
   "execution_count": 39,
   "id": "gross-composite",
   "metadata": {},
   "outputs": [],
   "source": [
    "with open('sp500.txt') as f:\n",
    "    lines = f.read()"
   ]
  },
  {
   "cell_type": "code",
   "execution_count": 42,
   "id": "hollywood-manitoba",
   "metadata": {},
   "outputs": [],
   "source": [
    "html_doc = lines\n",
    "soup = BeautifulSoup(html_doc, \"html.parser\")"
   ]
  },
  {
   "cell_type": "code",
   "execution_count": 65,
   "id": "spiritual-capital",
   "metadata": {},
   "outputs": [],
   "source": [
    "tickers = []\n",
    "i = 0\n",
    "link_counter = 0\n",
    "for link in soup.find_all('a'):\n",
    "    a = '/symbol/'\n",
    "    b = len(a)\n",
    "    if i % 2 == 1 and link_counter < 505:\n",
    "        symbol = link.get('href')[b:]\n",
    "        tickers.append(symbol)\n",
    "        link_counter += 1\n",
    "    i += 1"
   ]
  },
  {
   "cell_type": "code",
   "execution_count": 66,
   "id": "anticipated-pressing",
   "metadata": {},
   "outputs": [
    {
     "data": {
      "text/plain": [
       "505"
      ]
     },
     "execution_count": 66,
     "metadata": {},
     "output_type": "execute_result"
    }
   ],
   "source": [
    "link_counter"
   ]
  },
  {
   "cell_type": "code",
   "execution_count": 75,
   "id": "governmental-balance",
   "metadata": {},
   "outputs": [],
   "source": [
    "f = open('sp_tickers.txt', 'w')\n",
    "for t in tickers:\n",
    "    f.write(t + '\\n')\n",
    "f.close()"
   ]
  },
  {
   "cell_type": "code",
   "execution_count": null,
   "id": "fabulous-apartment",
   "metadata": {},
   "outputs": [],
   "source": []
  }
 ],
 "metadata": {
  "kernelspec": {
   "display_name": "Python 3",
   "language": "python",
   "name": "python3"
  },
  "language_info": {
   "codemirror_mode": {
    "name": "ipython",
    "version": 3
   },
   "file_extension": ".py",
   "mimetype": "text/x-python",
   "name": "python",
   "nbconvert_exporter": "python",
   "pygments_lexer": "ipython3",
   "version": "3.9.10"
  }
 },
 "nbformat": 4,
 "nbformat_minor": 5
}

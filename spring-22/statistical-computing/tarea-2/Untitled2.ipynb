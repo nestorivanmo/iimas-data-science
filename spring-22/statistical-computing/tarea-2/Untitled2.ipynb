{
 "cells": [
  {
   "cell_type": "code",
   "execution_count": 12,
   "metadata": {},
   "outputs": [],
   "source": [
    "import numpy as np\n",
    "import pandas as pd\n",
    "import plotly.figure_factory as ff\n",
    "import plotly.express as px\n",
    "\n",
    "import matplotlib.pyplot as plt\n",
    "from matplotlib.transforms import Affine2D\n",
    "from matplotlib.collections import PathCollection\n",
    "import matplotlib.animation as animation\n",
    "from scipy.special import gamma, factorial"
   ]
  },
  {
   "cell_type": "code",
   "execution_count": 31,
   "metadata": {},
   "outputs": [],
   "source": [
    "def run_mcmc():\n",
    "        ### parameters ###\n",
    "    a_beta = 0.35\n",
    "    b_beta = 0.65\n",
    "    burnin = 10 # number of burn-in iterations\n",
    "    lag = 1  # iterations between successive samples\n",
    "    nsamp = 100000 # number of samples to draw\n",
    "    sig = 1 # standard deviation of Gaussian proposal\n",
    "    x = -1 # start point\n",
    "    ### storage ###\n",
    "    X = np.zeros((nsamp,1)) # samples drawn from the Markov chain\n",
    "    acc = np.array((0, 0))  # vector to track the acceptance rate\n",
    "\n",
    "\n",
    "    def MHstep(x0,sig, a_beta, b_beta):\n",
    "        #xp = np.random.normal(loc = x0, scale = sig)[0]  # generate candidate from Gaussian\n",
    "        xp = np.random.normal(size=1)[0]\n",
    "        accprob = targetdist(xp, a_beta, b_beta) / targetdist(x0, a_beta, b_beta) # acceptance probability\n",
    "        u = np.random.rand() # uniform random number\n",
    "        if u <= accprob: # if accepted\n",
    "            x1 = xp # new point is the candidate\n",
    "            a = 1 # note the acceptance\n",
    "        else: # if rejected\n",
    "            x1 = x0 # new point is the same as the old one\n",
    "            a = 0 # note the rejection\n",
    "        return x1, a\n",
    "    \n",
    "    def targetdist(x, a_beta, b_beta): # target distribution\n",
    "        return (( (x**(a_beta-1)) * ((1-x)**(b_beta-1)) ) / B(a_beta, b_beta)) + 7\n",
    "\n",
    "    def B(a_beta, b_beta):\n",
    "        return (gamma(a_beta)*gamma(b_beta)) / gamma(a_beta+b_beta)\n",
    "\n",
    "\n",
    "    # MH routine\n",
    "    for i in range(burnin):\n",
    "        x,a = MHstep(x,sig, a_beta, b_beta); # iterate chain one time step\n",
    "        acc = acc + np.array((a, 1)) # track accept-reject status\n",
    "\n",
    "    for i in range(nsamp):\n",
    "        for j in range(lag):\n",
    "            x,a = MHstep(x,sig, a_beta, b_beta) # iterate chain one time step\n",
    "            acc = acc + np.array((a, 1)) # track accept-reject status\n",
    "        X[i] = x # store the i-th sample\n",
    "    df = pd.DataFrame(data=X, columns = ['Trace'])\n",
    "    \n",
    "    fig, axs = plt.subplots(2, 1)\n",
    "\n",
    "    axs[0].hist(df.values, bins=20)\n",
    "    axs[1].plot(df)\n",
    "\n",
    "    r = Affine2D().rotate_deg(90)\n",
    "\n",
    "    fig = plt.gcf()\n",
    "    fig.set_size_inches(8, 6)\n",
    "\n",
    "\n",
    "    for x in axs[1].images + axs[1].lines + axs[1].collections:\n",
    "        trans = x.get_transform()\n",
    "        x.set_transform(r+trans)\n",
    "        if isinstance(x, PathCollection):\n",
    "            transoff = x.get_offset_transform()\n",
    "            x._transOffset = r+transoff\n",
    "\n",
    "    old = axs[1].axis()\n",
    "    axs[1].axis(old[2:4] + old[0:2])\n",
    "\n",
    "    plt.show()"
   ]
  },
  {
   "cell_type": "code",
   "execution_count": 32,
   "metadata": {},
   "outputs": [
    {
     "name": "stderr",
     "output_type": "stream",
     "text": [
      "<ipython-input-31-1ac12c12776c>:29: RuntimeWarning: invalid value encountered in double_scalars\n",
      "  return (( (x**(a_beta-1)) * ((1-x)**(b_beta-1)) ) / B(a_beta, b_beta)) + 7\n"
     ]
    },
    {
     "data": {
      "image/png": "[encoded data removed]",
      "text/plain": [
       "<Figure size 576x432 with 2 Axes>"
      ]
     },
     "metadata": {
      "needs_background": "light"
     },
     "output_type": "display_data"
    }
   ],
   "source": [
    "run_mcmc()"
   ]
  },
  {
   "cell_type": "code",
   "execution_count": null,
   "metadata": {},
   "outputs": [],
   "source": []
  }
 ],
 "metadata": {
  "kernelspec": {
   "display_name": "Python 3",
   "language": "python",
   "name": "python3"
  },
  "language_info": {
   "codemirror_mode": {
    "name": "ipython",
    "version": 3
   },
   "file_extension": ".py",
   "mimetype": "text/x-python",
   "name": "python",
   "nbconvert_exporter": "python",
   "pygments_lexer": "ipython3",
   "version": "3.8.10"
  }
 },
 "nbformat": 4,
 "nbformat_minor": 4
}

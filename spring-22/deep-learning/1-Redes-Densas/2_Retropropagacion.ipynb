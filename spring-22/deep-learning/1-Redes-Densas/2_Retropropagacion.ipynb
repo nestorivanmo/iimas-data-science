{
 "cells": [
  {
   "cell_type": "markdown",
   "metadata": {
    "colab_type": "text",
    "id": "view-in-github"
   },
   "source": [
    "<a href=\"https://colab.research.google.com/github/orlandxrf/curso-dl/blob/main/notebooks/2_Retropropagacion.ipynb\" target=\"_parent\"><img src=\"https://colab.research.google.com/assets/colab-badge.svg\" alt=\"Open In Colab\"/></a>"
   ]
  },
  {
   "cell_type": "markdown",
   "metadata": {
    "id": "BTOHQZACSQdg"
   },
   "source": [
    "# Retropropagación\n",
    "Para comprender el algoritmo de retropropagación se resolvera la operación de la función lógica XOR ($\\otimes$). La tabla de verdad es la siguiente:\n",
    "\n",
    "| $x_1$ | $x_2$ | $y$ |\n",
    "| ----- | ----| -- |\n",
    "|0 |0 | 0 |\n",
    "|0 |1 | 1 |\n",
    "|1 |0 | 1 |\n",
    "|1 |1 | 0 |\n",
    "\n",
    "Se define una **red densa** que cuenta con una capa con dos entradas ($x_{1}, x_{2}$), una capa oculta con 10 neuronas. Para el computo de la red se define una **función de activación sigmoide** y una capa de salida con una función de activación sigmoide."
   ]
  },
  {
   "cell_type": "markdown",
   "metadata": {
    "id": "F9OZFI-_dCQZ"
   },
   "source": [
    "## Función Sigmoide\n",
    "La función se define como:<br>\n",
    "<br>\n",
    "$\\sigma(z) = \\frac{1}{1 + e^{-z}}$<br>\n",
    "<br>\n",
    "Se codifica con el siguiente método:"
   ]
  },
  {
   "cell_type": "code",
   "execution_count": 18,
   "metadata": {
    "id": "BY-sL_vBdd3P"
   },
   "outputs": [],
   "source": [
    "# función de activación sigmoide\n",
    "import numpy as np\n",
    "\n",
    "def sigmoide(z):\n",
    "  return 1 / (1 + np.exp(-z))"
   ]
  },
  {
   "cell_type": "markdown",
   "metadata": {
    "id": "IgkmkT5JeA9R"
   },
   "source": [
    "La función sigmoide tiene una derivada que está expresada en términos de la misma función. Se define como:<br>\n",
    "<br>\n",
    "$\\frac{\\partial \\sigma (z)}{\\partial z} = \\sigma(z) (1 - \\sigma(z))$<br>\n",
    "<br>\n",
    "Se codifica en el siguiente método:"
   ]
  },
  {
   "cell_type": "code",
   "execution_count": 19,
   "metadata": {
    "id": "EKD49V5ZSIwL"
   },
   "outputs": [],
   "source": [
    "def derivada_sigmoide(x):\n",
    "  # np.multiply = multiplica los argumentos por elementos\n",
    "  # equivalente a x1 * x2\n",
    "  return np.multiply(sigmoide(x), (1.0 - sigmoide(x)))"
   ]
  },
  {
   "cell_type": "markdown",
   "metadata": {
    "id": "IlZGDWItftCG"
   },
   "source": [
    "## Función de perdida\n",
    "La función de perdida será Entropía Cruzada Binaria (ECB), puesto que es una tarea de clasificación y el objetivo (target) es binario.<br>\n",
    "<br>\n",
    "$ECB(\\mathbf{y}, \\mathbf{\\hat{y}})  = -\\sum_{i=1}^N \\left[ y^{(i)} \\log \\hat{y}^{(i)} + (1 - y^{(i)}) \\log (1 - \\hat{y}^{(i)}) \\right]$"
   ]
  },
  {
   "cell_type": "code",
   "execution_count": 20,
   "metadata": {
    "id": "DE5tMY_OQBU_"
   },
   "outputs": [],
   "source": [
    "# definimos el método\n",
    "# np.nextafter = Es una función matemática que ayuda al usuario a devolver el siguiente valor de punto flotante después de x1 hacia x2, por elementos (element-wise).\n",
    "def entropia_cruzada_binaria(y, p):\n",
    "    p[p == 0] = np.nextafter(0., 1.)\n",
    "    p[p == 1] = np.nextafter(1., 0.)\n",
    "    return -(np.log(p[y == 1]).sum() + np.log(1 - p[y == 0]).sum())"
   ]
  },
  {
   "cell_type": "markdown",
   "metadata": {
    "id": "in_MLxk7SwcG"
   },
   "source": [
    "Además, se define el método para calcular la exactitud que medirá el rendimiento del modelo aprendido por la red neuronal densa.<br>\n",
    "<br>\n",
    "$exactitud = \\frac{correctos}{total}$"
   ]
  },
  {
   "cell_type": "code",
   "execution_count": 21,
   "metadata": {
    "id": "dh9BuCRaS4a_"
   },
   "outputs": [],
   "source": [
    "def exactitud(y, y_predicha):\n",
    "    return (y == y_predicha).mean() * 100"
   ]
  },
  {
   "cell_type": "markdown",
   "metadata": {
    "id": "7HvrJpdwTHvN"
   },
   "source": [
    "## FeedForward\n",
    "Se define el método de propagación hacia adelante, con una entrada $x^{i}$. La red está compuesta de 2 capas densas (1 oculta y 1 de salida). Se tienen 2 matrices de pesos, con sus correspondientes vectores de sesgos $\\{\\mathbf{W}^{\\{1\\}}, \\mathbf{b}^{\\{1\\}}\\}$ y $\\{\\mathbf{W}^{\\{2\\}}, \\mathbf{b}^{\\{2\\}}\\}$ de la capa oculta y la capa de salida respectivamente. De esta forma, se lleva a cabo la propagación hacia adelante en la red:<br>\n",
    "<br>\n",
    "$\\begin{split}\n",
    "                \\mathbf{a}^{\\{1\\}} & =  \\mathbf{x}^{(i)} \\\\\n",
    "                \\mathbf{z}^{\\{2\\}} & =  \\mathbf{W}^{\\{1\\}} \\cdot \\mathbf{a}^{\\{1\\}} + \\mathbf{b}^{\\{1\\}}\\\\\n",
    "                \\mathbf{a}^{\\{2\\}} & =  \\sigma(\\mathbf{z}^{\\{2\\}}) \\\\\n",
    "                \\mathbf{z}^{\\{3\\}} & =  \\mathbf{W}^{\\{2\\}} \\cdot \\mathbf{a}^{\\{2\\}}  + \\mathbf{b}^{\\{2\\}}\\\\\n",
    "                \\mathbf{a}^{\\{3\\}} & =  \\sigma(\\mathbf{z}^{\\{3\\}})\\\\\n",
    "                \\hat{y}^{(i)} & =  \\mathbf{a}^{\\{3\\}}\n",
    "            \\end{split}\n",
    "$"
   ]
  },
  {
   "cell_type": "code",
   "execution_count": 6,
   "metadata": {
    "id": "EpjeEKftUimm"
   },
   "outputs": [],
   "source": [
    "def hacia_adelante(x, W1, b1, W2, b2, W3, b3):\n",
    "    z2 = np.dot(W1.T, x[:, np.newaxis]) + b1\n",
    "    a2 = sigmoide(z2)\n",
    "    z3 = np.dot(W2.T, a2) + b2\n",
    "    y_hat = sigmoide(z3)\n",
    "    return z2, a2, z3, y_hat"
   ]
  },
  {
   "cell_type": "markdown",
   "metadata": {
    "id": "1vanxP4oUmck"
   },
   "source": [
    "## Entrenamiento\n",
    "Finalmente, definimos la función para entrenar nuestra red neuronal usando gradiente descendente. Para calcular el gradiente de la función de pérdida respecto a los pesos y sesgos en cada capa empleamos el algoritmo de **retropropagación**."
   ]
  },
  {
   "cell_type": "code",
   "execution_count": 7,
   "metadata": {
    "id": "p-1JD6G3U4Wt"
   },
   "outputs": [],
   "source": [
    "def retropropagacion(X, y, alpha = 0.01, n_epocas = 100, n_ocultas = 10):\n",
    "    n_ejemplos = X.shape[0]\n",
    "    n_entradas = X.shape[1]\n",
    "\n",
    "    # Inicializa matrices de pesos W1 y W2 y vectores de sesgos b1 y b2\n",
    "    # W1 = np.zeros((n_entradas, n_ocultas))\n",
    "    # b1 = np.zeros((n_ocultas, 1)) \n",
    "    # W2 = np.zeros((n_ocultas, 1))\n",
    "    # b2 = np.zeros((1, 1))\n",
    "\n",
    "    # print (f\"W1= {W1}\")\n",
    "    # print (f\"b1= {b1}\")\n",
    "        \n",
    "    # Inicialización de las matrices de pesos W y V\n",
    "    np.random.seed(0) # fijar la semilla\n",
    "    W1 = np.sqrt(1.0 / n_entradas) * np.random.randn(n_entradas, n_ocultas)\n",
    "    b1 = np.zeros((n_ocultas, 1))\n",
    "    W2 = np.sqrt(1.0 / n_ocultas) * np.random.randn(n_ocultas, 1)\n",
    "    b2 = np.zeros((1, 1))\n",
    "\n",
    "    # print (f\"W1= {W1}\")\n",
    "    # print (f\"b1= {b1}\")\n",
    "    \n",
    "    perdidas = np.zeros((n_epocas))\n",
    "    exactitudes = np.zeros((n_epocas))\n",
    "    y_predicha = np.zeros((y.shape))\n",
    "    for i in range(n_epocas):\n",
    "        for j in range(n_ejemplos):\n",
    "            z2, a2, z3, y_hat = hacia_adelante(X[j], W1, b1, W2, b2)\n",
    "\n",
    "            # cálculo de gradientes para W2 y b2 por retropropagación\n",
    "            dz3 = y_hat - y[j]\n",
    "            dW2 = np.outer(a2, dz3)\n",
    "            db2 = dz3\n",
    "\n",
    "            # cálculo de gradientes para W1 y b1 por retropropagación\n",
    "            dz2 = np.dot(W2, dz3) * derivada_sigmoide(z2)\n",
    "            dW1 = np.outer(X[j], dz2)\n",
    "            db1 = dz2\n",
    "            \n",
    "            ####################################\n",
    "            # IMPORTANTE \n",
    "            # la actualización de los parámetros\n",
    "            # debe hacerse de forma simultánea\n",
    "            W2 = W2 - alpha * dW2\n",
    "            b2 = b2 - alpha * db2\n",
    "            W1 = W1 - alpha * dW1\n",
    "            b1 = b1 - alpha * db1\n",
    "\n",
    "            y_predicha[j] = y_hat\n",
    "            \n",
    "        # calcula la pérdida en la época\n",
    "        perdidas[i] = entropia_cruzada_binaria(y, y_predicha)\n",
    "        exactitudes[i] = exactitud(y, np.round(y_predicha))\n",
    "        print('Epoch {0}: Pérdida = {1} Exactitud = {2}'.format(i, \n",
    "                                                              perdidas[i], \n",
    "                                                              exactitudes[i]))\n",
    "\n",
    "    return W1, W2, perdidas, exactitudes"
   ]
  },
  {
   "cell_type": "markdown",
   "metadata": {
    "id": "A-dRkIORVKDc"
   },
   "source": [
    "Establecer los valores de $x$ e $y$, que corresponden a la operación XOR."
   ]
  },
  {
   "cell_type": "code",
   "execution_count": 8,
   "metadata": {
    "id": "gN0s_MzGVWmk"
   },
   "outputs": [],
   "source": [
    "# valores de XOR\n",
    "X = np.array([[0, 0], [0, 1], [1, 0], [1, 1]])\n",
    "y = np.array([[0, 1, 1, 0]]).T"
   ]
  },
  {
   "cell_type": "markdown",
   "metadata": {
    "id": "XVWi3N04Vb1r"
   },
   "source": [
    "Entrenar la red con 200 épocas, para ello se utiliza una tasa de aprendizaje $\\alpha = 1.0$"
   ]
  },
  {
   "cell_type": "code",
   "execution_count": 9,
   "metadata": {
    "colab": {
     "base_uri": "https://localhost:8080/"
    },
    "id": "778nAKbyVbRE",
    "outputId": "5391cf1e-2b6b-4aa0-c498-7d71b97f203e"
   },
   "outputs": [
    {
     "name": "stdout",
     "output_type": "stream",
     "text": [
      "Epoch 0: Pérdida = 5.998267779610161 Exactitud = 25.0\n",
      "Epoch 1: Pérdida = 5.61557018521143 Exactitud = 50.0\n",
      "Epoch 2: Pérdida = 5.308742907444037 Exactitud = 50.0\n",
      "Epoch 3: Pérdida = 5.061894619629372 Exactitud = 50.0\n",
      "Epoch 4: Pérdida = 4.882236469709744 Exactitud = 25.0\n",
      "Epoch 5: Pérdida = 4.7338592166064295 Exactitud = 25.0\n",
      "Epoch 6: Pérdida = 4.603391658595716 Exactitud = 25.0\n",
      "Epoch 7: Pérdida = 4.48498226646443 Exactitud = 0.0\n",
      "Epoch 8: Pérdida = 4.376243887406524 Exactitud = 0.0\n",
      "Epoch 9: Pérdida = 4.276734112488489 Exactitud = 0.0\n",
      "Epoch 10: Pérdida = 4.186393039984814 Exactitud = 0.0\n",
      "Epoch 11: Pérdida = 4.104972297330624 Exactitud = 0.0\n",
      "Epoch 12: Pérdida = 4.032005117545916 Exactitud = 0.0\n",
      "Epoch 13: Pérdida = 3.9668880372901 Exactitud = 0.0\n",
      "Epoch 14: Pérdida = 3.9089508782667624 Exactitud = 0.0\n",
      "Epoch 15: Pérdida = 3.8575026740459615 Exactitud = 0.0\n",
      "Epoch 16: Pérdida = 3.81186134063444 Exactitud = 0.0\n",
      "Epoch 17: Pérdida = 3.7713735243167488 Exactitud = 0.0\n",
      "Epoch 18: Pérdida = 3.7354278424857252 Exactitud = 0.0\n",
      "Epoch 19: Pérdida = 3.7034630156147252 Exactitud = 0.0\n",
      "Epoch 20: Pérdida = 3.674971832300968 Exactitud = 0.0\n",
      "Epoch 21: Pérdida = 3.6495018098111793 Exactitud = 0.0\n",
      "Epoch 22: Pérdida = 3.6266534141207676 Exactitud = 0.0\n",
      "Epoch 23: Pérdida = 3.6060766476859665 Exactitud = 0.0\n",
      "Epoch 24: Pérdida = 3.587466691896367 Exactitud = 0.0\n",
      "Epoch 25: Pérdida = 3.5705591374544126 Exactitud = 25.0\n",
      "Epoch 26: Pérdida = 3.5551251827318717 Exactitud = 50.0\n",
      "Epoch 27: Pérdida = 3.5409670476763426 Exactitud = 50.0\n",
      "Epoch 28: Pérdida = 3.5279137470449857 Exactitud = 50.0\n",
      "Epoch 29: Pérdida = 3.515817291524123 Exactitud = 50.0\n",
      "Epoch 30: Pérdida = 3.5045493345041834 Exactitud = 50.0\n",
      "Epoch 31: Pérdida = 3.493998250473005 Exactitud = 50.0\n",
      "Epoch 32: Pérdida = 3.4840666129346762 Exactitud = 50.0\n",
      "Epoch 33: Pérdida = 3.474669031095076 Exactitud = 50.0\n",
      "Epoch 34: Pérdida = 3.4657303019434367 Exactitud = 50.0\n",
      "Epoch 35: Pérdida = 3.457183835403466 Exactitud = 50.0\n",
      "Epoch 36: Pérdida = 3.4489703132877882 Exactitud = 50.0\n",
      "Epoch 37: Pérdida = 3.4410365467949555 Exactitud = 50.0\n",
      "Epoch 38: Pérdida = 3.4333345015736065 Exactitud = 50.0\n",
      "Epoch 39: Pérdida = 3.4258204635544702 Exactitud = 50.0\n",
      "Epoch 40: Pérdida = 3.418454322610544 Exactitud = 50.0\n",
      "Epoch 41: Pérdida = 3.4111989545564736 Exactitud = 50.0\n",
      "Epoch 42: Pérdida = 3.404019685017311 Exactitud = 50.0\n",
      "Epoch 43: Pérdida = 3.396883821301761 Exactitud = 50.0\n",
      "Epoch 44: Pérdida = 3.3897602406444265 Exactitud = 50.0\n",
      "Epoch 45: Pérdida = 3.3826190250838772 Exactitud = 50.0\n",
      "Epoch 46: Pérdida = 3.3754311348701425 Exactitud = 50.0\n",
      "Epoch 47: Pérdida = 3.368168113697692 Exactitud = 50.0\n",
      "Epoch 48: Pérdida = 3.3608018202874295 Exactitud = 50.0\n",
      "Epoch 49: Pérdida = 3.3533041819405636 Exactitud = 50.0\n",
      "Epoch 50: Pérdida = 3.3456469667032036 Exactitud = 50.0\n",
      "Epoch 51: Pérdida = 3.337801571756595 Exactitud = 50.0\n",
      "Epoch 52: Pérdida = 3.3297388266261443 Exactitud = 50.0\n",
      "Epoch 53: Pérdida = 3.3214288108247114 Exactitud = 50.0\n",
      "Epoch 54: Pérdida = 3.312840686653029 Exactitud = 50.0\n",
      "Epoch 55: Pérdida = 3.3039425491122314 Exactitud = 50.0\n",
      "Epoch 56: Pérdida = 3.2947012962765045 Exactitud = 50.0\n",
      "Epoch 57: Pérdida = 3.2850825250571627 Exactitud = 50.0\n",
      "Epoch 58: Pérdida = 3.2750504590798597 Exactitud = 50.0\n",
      "Epoch 59: Pérdida = 3.264567917389919 Exactitud = 50.0\n",
      "Epoch 60: Pérdida = 3.2535963348607018 Exactitud = 50.0\n",
      "Epoch 61: Pérdida = 3.242095847422516 Exactitud = 50.0\n",
      "Epoch 62: Pérdida = 3.230025457405817 Exactitud = 50.0\n",
      "Epoch 63: Pérdida = 3.217343296168255 Exactitud = 50.0\n",
      "Epoch 64: Pérdida = 3.2040070024140492 Exactitud = 50.0\n",
      "Epoch 65: Pérdida = 3.189974234766635 Exactitud = 50.0\n",
      "Epoch 66: Pérdida = 3.1752033356647607 Exactitud = 50.0\n",
      "Epoch 67: Pérdida = 3.1596541598869785 Exactitud = 50.0\n",
      "Epoch 68: Pérdida = 3.1432890743358675 Exactitud = 50.0\n",
      "Epoch 69: Pérdida = 3.126074125616932 Exactitud = 50.0\n",
      "Epoch 70: Pérdida = 3.10798035820511 Exactitud = 50.0\n",
      "Epoch 71: Pérdida = 3.08898524888267 Exactitud = 50.0\n",
      "Epoch 72: Pérdida = 3.069074203644038 Exactitud = 50.0\n",
      "Epoch 73: Pérdida = 3.048242043235735 Exactitud = 50.0\n",
      "Epoch 74: Pérdida = 3.0264943856187068 Exactitud = 50.0\n",
      "Epoch 75: Pérdida = 3.0038488212004624 Exactitud = 50.0\n",
      "Epoch 76: Pérdida = 2.980335773084958 Exactitud = 50.0\n",
      "Epoch 77: Pérdida = 2.9559989426005697 Exactitud = 50.0\n",
      "Epoch 78: Pérdida = 2.930895261322468 Exactitud = 50.0\n",
      "Epoch 79: Pérdida = 2.905094303936238 Exactitud = 50.0\n",
      "Epoch 80: Pérdida = 2.8786771584674025 Exactitud = 50.0\n",
      "Epoch 81: Pérdida = 2.8517347964544544 Exactitud = 50.0\n",
      "Epoch 82: Pérdida = 2.8243660292352253 Exactitud = 50.0\n",
      "Epoch 83: Pérdida = 2.796675171401372 Exactitud = 50.0\n",
      "Epoch 84: Pérdida = 2.768769553785983 Exactitud = 50.0\n",
      "Epoch 85: Pérdida = 2.7407570335713385 Exactitud = 50.0\n",
      "Epoch 86: Pérdida = 2.712743638488166 Exactitud = 50.0\n",
      "Epoch 87: Pérdida = 2.684831458409503 Exactitud = 50.0\n",
      "Epoch 88: Pérdida = 2.657116865480095 Exactitud = 50.0\n",
      "Epoch 89: Pérdida = 2.629689108543257 Exactitud = 50.0\n",
      "Epoch 90: Pérdida = 2.6026292939622797 Exactitud = 50.0\n",
      "Epoch 91: Pérdida = 2.5760097367441013 Exactitud = 50.0\n",
      "Epoch 92: Pérdida = 2.549893645317158 Exactitud = 50.0\n",
      "Epoch 93: Pérdida = 2.5243350909289792 Exactitud = 50.0\n",
      "Epoch 94: Pérdida = 2.499379207635858 Exactitud = 50.0\n",
      "Epoch 95: Pérdida = 2.4750625696573243 Exactitud = 50.0\n",
      "Epoch 96: Pérdida = 2.4514136975507883 Exactitud = 50.0\n",
      "Epoch 97: Pérdida = 2.4284536514191775 Exactitud = 50.0\n",
      "Epoch 98: Pérdida = 2.4061966767529297 Exactitud = 50.0\n",
      "Epoch 99: Pérdida = 2.384650875549273 Exactitud = 50.0\n",
      "Epoch 100: Pérdida = 2.3638188815120342 Exactitud = 50.0\n",
      "Epoch 101: Pérdida = 2.3436985232290395 Exactitud = 50.0\n",
      "Epoch 102: Pérdida = 2.3242834632948983 Exactitud = 50.0\n",
      "Epoch 103: Pérdida = 2.3055638045554554 Exactitud = 50.0\n",
      "Epoch 104: Pérdida = 2.287526657190215 Exactitud = 50.0\n",
      "Epoch 105: Pérdida = 2.2701566623960767 Exactitud = 50.0\n",
      "Epoch 106: Pérdida = 2.253436470122714 Exactitud = 50.0\n",
      "Epoch 107: Pérdida = 2.237347169724341 Exactitud = 50.0\n",
      "Epoch 108: Pérdida = 2.221868673583937 Exactitud = 50.0\n",
      "Epoch 109: Pérdida = 2.206980054758554 Exactitud = 50.0\n",
      "Epoch 110: Pérdida = 2.19265984049878 Exactitud = 50.0\n",
      "Epoch 111: Pérdida = 2.1788862641184807 Exactitud = 50.0\n",
      "Epoch 112: Pérdida = 2.1656374781408547 Exactitud = 50.0\n",
      "Epoch 113: Pérdida = 2.1528917319361227 Exactitud = 50.0\n",
      "Epoch 114: Pérdida = 2.1406275172118687 Exactitud = 50.0\n",
      "Epoch 115: Pérdida = 2.1288236847398485 Exactitud = 50.0\n",
      "Epoch 116: Pérdida = 2.1174595356253203 Exactitud = 50.0\n",
      "Epoch 117: Pérdida = 2.1065148902692163 Exactitud = 50.0\n",
      "Epoch 118: Pérdida = 2.095970137960996 Exactitud = 50.0\n",
      "Epoch 119: Pérdida = 2.0858062697896025 Exactitud = 50.0\n",
      "Epoch 120: Pérdida = 2.0760048972875422 Exactitud = 50.0\n",
      "Epoch 121: Pérdida = 2.0665482589414097 Exactitud = 50.0\n",
      "Epoch 122: Pérdida = 2.0574192164207843 Exactitud = 50.0\n",
      "Epoch 123: Pérdida = 2.0486012421030653 Exactitud = 50.0\n",
      "Epoch 124: Pérdida = 2.0400783992086438 Exactitud = 50.0\n",
      "Epoch 125: Pérdida = 2.0318353156107745 Exactitud = 50.0\n",
      "Epoch 126: Pérdida = 2.023857152147876 Exactitud = 50.0\n",
      "Epoch 127: Pérdida = 2.016129566041247 Exactitud = 50.0\n",
      "Epoch 128: Pérdida = 2.0086386698057743 Exactitud = 50.0\n",
      "Epoch 129: Pérdida = 2.001370985831287 Exactitud = 50.0\n",
      "Epoch 130: Pérdida = 1.9943133966027522 Exactitud = 50.0\n",
      "Epoch 131: Pérdida = 1.9874530903125955 Exactitud = 50.0\n",
      "Epoch 132: Pérdida = 1.980777501390467 Exactitud = 50.0\n",
      "Epoch 133: Pérdida = 1.9742742452259052 Exactitud = 50.0\n",
      "Epoch 134: Pérdida = 1.967931046076384 Exactitud = 50.0\n",
      "Epoch 135: Pérdida = 1.9617356568234876 Exactitud = 50.0\n",
      "Epoch 136: Pérdida = 1.9556757688461144 Exactitud = 50.0\n",
      "Epoch 137: Pérdida = 1.9497389097995845 Exactitud = 50.0\n",
      "Epoch 138: Pérdida = 1.9439123264949945 Exactitud = 50.0\n",
      "Epoch 139: Pérdida = 1.9381828493271258 Exactitud = 50.0\n",
      "Epoch 140: Pérdida = 1.9325367337534165 Exactitud = 50.0\n",
      "Epoch 141: Pérdida = 1.9269594731171154 Exactitud = 50.0\n",
      "Epoch 142: Pérdida = 1.9214355755504355 Exactitud = 50.0\n",
      "Epoch 143: Pérdida = 1.9159482956759992 Exactitud = 50.0\n",
      "Epoch 144: Pérdida = 1.9104793091977574 Exactitud = 50.0\n",
      "Epoch 145: Pérdida = 1.905008315036631 Exactitud = 50.0\n",
      "Epoch 146: Pérdida = 1.8995125451565578 Exactitud = 50.0\n",
      "Epoch 147: Pérdida = 1.893966156292844 Exactitud = 50.0\n",
      "Epoch 148: Pérdida = 1.8883394699769158 Exactitud = 50.0\n",
      "Epoch 149: Pérdida = 1.8825980169562266 Exactitud = 50.0\n",
      "Epoch 150: Pérdida = 1.8767013285891836 Exactitud = 50.0\n",
      "Epoch 151: Pérdida = 1.870601400157007 Exactitud = 50.0\n",
      "Epoch 152: Pérdida = 1.864240728291791 Exactitud = 50.0\n",
      "Epoch 153: Pérdida = 1.8575497959809644 Exactitud = 50.0\n",
      "Epoch 154: Pérdida = 1.850443843517023 Exactitud = 50.0\n",
      "Epoch 155: Pérdida = 1.8428187234401427 Exactitud = 50.0\n",
      "Epoch 156: Pérdida = 1.83454559642877 Exactitud = 50.0\n",
      "Epoch 157: Pérdida = 1.8254641944457695 Exactitud = 50.0\n",
      "Epoch 158: Pérdida = 1.8153743810298382 Exactitud = 50.0\n",
      "Epoch 159: Pérdida = 1.8040258215682388 Exactitud = 50.0\n",
      "Epoch 160: Pérdida = 1.791105815878368 Exactitud = 50.0\n",
      "Epoch 161: Pérdida = 1.7762258575180812 Exactitud = 50.0\n",
      "Epoch 162: Pérdida = 1.7589084121790788 Exactitud = 50.0\n",
      "Epoch 163: Pérdida = 1.738576870020613 Exactitud = 50.0\n",
      "Epoch 164: Pérdida = 1.714553625991094 Exactitud = 50.0\n",
      "Epoch 165: Pérdida = 1.6860736097204834 Exactitud = 50.0\n",
      "Epoch 166: Pérdida = 1.6523230540361453 Exactitud = 50.0\n",
      "Epoch 167: Pérdida = 1.6125151762214036 Exactitud = 50.0\n",
      "Epoch 168: Pérdida = 1.5660124681693657 Exactitud = 75.0\n",
      "Epoch 169: Pérdida = 1.512491291740185 Exactitud = 75.0\n",
      "Epoch 170: Pérdida = 1.4521142493270047 Exactitud = 75.0\n",
      "Epoch 171: Pérdida = 1.385648327855006 Exactitud = 75.0\n",
      "Epoch 172: Pérdida = 1.314472182178804 Exactitud = 100.0\n",
      "Epoch 173: Pérdida = 1.2404508672456298 Exactitud = 100.0\n",
      "Epoch 174: Pérdida = 1.16569498473379 Exactitud = 100.0\n",
      "Epoch 175: Pérdida = 1.0922592258777422 Exactitud = 100.0\n",
      "Epoch 176: Pérdida = 1.021866491187054 Exactitud = 100.0\n",
      "Epoch 177: Pérdida = 0.9557382883653232 Exactitud = 100.0\n",
      "Epoch 178: Pérdida = 0.8945617880838971 Exactitud = 100.0\n",
      "Epoch 179: Pérdida = 0.8385650169305088 Exactitud = 100.0\n",
      "Epoch 180: Pérdida = 0.7876432628668907 Exactitud = 100.0\n",
      "Epoch 181: Pérdida = 0.7414869020517572 Exactitud = 100.0\n",
      "Epoch 182: Pérdida = 0.6996837796356639 Exactitud = 100.0\n",
      "Epoch 183: Pérdida = 0.6617894630108907 Exactitud = 100.0\n",
      "Epoch 184: Pérdida = 0.6273696497240988 Exactitud = 100.0\n",
      "Epoch 185: Pérdida = 0.5960224275185302 Exactitud = 100.0\n",
      "Epoch 186: Pérdida = 0.5673875753950687 Exactitud = 100.0\n",
      "Epoch 187: Pérdida = 0.5411482943296827 Exactitud = 100.0\n",
      "Epoch 188: Pérdida = 0.5170289481183798 Exactitud = 100.0\n",
      "Epoch 189: Pérdida = 0.4947910029997451 Exactitud = 100.0\n",
      "Epoch 190: Pérdida = 0.474228411201796 Exactitud = 100.0\n",
      "Epoch 191: Pérdida = 0.45516309243643777 Exactitud = 100.0\n",
      "Epoch 192: Pérdida = 0.4374408184024354 Exactitud = 100.0\n",
      "Epoch 193: Pérdida = 0.4209276104544494 Exactitud = 100.0\n",
      "Epoch 194: Pérdida = 0.40550665860067514 Exactitud = 100.0\n",
      "Epoch 195: Pérdida = 0.39107572159590637 Exactitud = 100.0\n",
      "Epoch 196: Pérdida = 0.37754494906773245 Exactitud = 100.0\n",
      "Epoch 197: Pérdida = 0.36483506321234715 Exactitud = 100.0\n",
      "Epoch 198: Pérdida = 0.3528758415906295 Exactitud = 100.0\n",
      "Epoch 199: Pérdida = 0.3416048495513664 Exactitud = 100.0\n"
     ]
    }
   ],
   "source": [
    "W1, W2, perdidas, exactitudes = retropropagacion(X, y, alpha = 1.0, n_epocas = 200, n_ocultas = 10)"
   ]
  },
  {
   "cell_type": "markdown",
   "metadata": {
    "id": "Mh0dGryGWKxN"
   },
   "source": [
    "Graficar el valor de pérdida y la exactitud en cada época para observar el comportamiento de nuestra red durante el entrenamiento."
   ]
  },
  {
   "cell_type": "code",
   "execution_count": 10,
   "metadata": {
    "colab": {
     "base_uri": "https://localhost:8080/",
     "height": 265
    },
    "id": "muW6TFWcWaKU",
    "outputId": "f76a6f18-f0e2-4380-8307-18e0a7c02654"
   },
   "outputs": [
    {
     "data": {
      "image/png": "[encoded data removed]",
      "text/plain": [
       "<Figure size 432x288 with 1 Axes>"
      ]
     },
     "metadata": {
      "needs_background": "light"
     },
     "output_type": "display_data"
    }
   ],
   "source": [
    "import matplotlib.pyplot as plt\n",
    "plt.plot(np.arange(perdidas.size), perdidas, label='ECB')\n",
    "plt.plot(np.arange(exactitudes.size), exactitudes, label='Exactitud')\n",
    "plt.legend()\n",
    "plt.grid(True)\n",
    "plt.show()"
   ]
  },
  {
   "cell_type": "markdown",
   "metadata": {
    "id": "qm7USUpCd2TS"
   },
   "source": [
    "## Actividad\n",
    "Programar una red densa con tres entradas $x$ que aproxime los resultados esperados en $y$. Puede utilizar el ejemplo de Netflix previo, como se define en la siguiente tabla:<br>\n",
    "\n",
    "| $x_1$ | $x_2$ | $x_2$ | $y$ | \n",
    "| ----- | :----:| :----:| :--:|\n",
    "0       |  0    |     0 |        0\n",
    "1       |  0    |     0 |        0\n",
    "0       |  1    |     0 |        0\n",
    "1       |  1    |     0 |        0\n",
    "0       |  0    |     1 |        1\n",
    "1       |  0    |     1 |        1\n",
    "0       |  1    |     1 |        1\n",
    "1       |  1    |     1 |        1\n",
    "\n",
    "O bien definir un problema distinto."
   ]
  },
  {
   "cell_type": "code",
   "execution_count": 11,
   "metadata": {},
   "outputs": [],
   "source": [
    "X = np.array([\n",
    "        [0, 0, 0],\n",
    "        [1, 0, 0],\n",
    "        [0, 1, 0],\n",
    "        [1, 1, 0],\n",
    "        [0, 0, 1],\n",
    "        [1, 0, 1],\n",
    "        [0, 1, 1],\n",
    "        [1, 1, 1],\n",
    "])\n",
    "y = np.array([0,0,0,0,1,1,1,1])"
   ]
  },
  {
   "cell_type": "code",
   "execution_count": 13,
   "metadata": {},
   "outputs": [
    {
     "name": "stdout",
     "output_type": "stream",
     "text": [
      "Epoch 0: Pérdida = 4.263440648363303 Exactitud = 87.5\n",
      "Epoch 1: Pérdida = 5.603194439589945 Exactitud = 75.0\n",
      "Epoch 2: Pérdida = 4.615475804545073 Exactitud = 75.0\n",
      "Epoch 3: Pérdida = 3.6053955823717696 Exactitud = 75.0\n",
      "Epoch 4: Pérdida = 2.63627410530399 Exactitud = 75.0\n",
      "Epoch 5: Pérdida = 1.818491617320427 Exactitud = 87.5\n",
      "Epoch 6: Pérdida = 1.2280207104575163 Exactitud = 100.0\n",
      "Epoch 7: Pérdida = 0.8508625376288019 Exactitud = 100.0\n",
      "Epoch 8: Pérdida = 0.6190060516823055 Exactitud = 100.0\n",
      "Epoch 9: Pérdida = 0.47313770676687383 Exactitud = 100.0\n"
     ]
    }
   ],
   "source": [
    "W1, W2, perdidas, exactitudes = retropropagacion(X, y, alpha = 1.0, n_epocas = 10, n_ocultas = 10)"
   ]
  },
  {
   "cell_type": "code",
   "execution_count": 15,
   "metadata": {},
   "outputs": [
    {
     "data": {
      "image/png": "[encoded data removed]",
      "text/plain": [
       "<Figure size 432x288 with 1 Axes>"
      ]
     },
     "metadata": {
      "needs_background": "light"
     },
     "output_type": "display_data"
    }
   ],
   "source": [
    "plt.plot(np.arange(perdidas.size), perdidas, label='ECB')\n",
    "plt.plot(np.arange(exactitudes.size), exactitudes, label='Exactitud')\n",
    "plt.legend()\n",
    "plt.grid(True)\n",
    "plt.show()"
   ]
  },
  {
   "cell_type": "code",
   "execution_count": 17,
   "metadata": {},
   "outputs": [
    {
     "data": {
      "text/plain": [
       "array([[0.04757632],\n",
       "       [0.67210822],\n",
       "       [0.52858355],\n",
       "       [0.07276733],\n",
       "       [0.89338531],\n",
       "       [0.11994347],\n",
       "       [0.61993685],\n",
       "       [0.55663406],\n",
       "       [0.81924907],\n",
       "       [0.826997  ]])"
      ]
     },
     "execution_count": 17,
     "metadata": {},
     "output_type": "execute_result"
    }
   ],
   "source": [
    "sigmoide(W2)"
   ]
  },
  {
   "cell_type": "code",
   "execution_count": null,
   "metadata": {},
   "outputs": [],
   "source": []
  }
 ],
 "metadata": {
  "colab": {
   "authorship_tag": "ABX9TyOjjmEKxgE8fae1JBEuARdB",
   "include_colab_link": true,
   "name": "2_Retropropagacion.ipynb",
   "provenance": []
  },
  "kernelspec": {
   "display_name": "Python 3",
   "language": "python",
   "name": "python3"
  },
  "language_info": {
   "codemirror_mode": {
    "name": "ipython",
    "version": 3
   },
   "file_extension": ".py",
   "mimetype": "text/x-python",
   "name": "python",
   "nbconvert_exporter": "python",
   "pygments_lexer": "ipython3",
   "version": "3.8.10"
  }
 },
 "nbformat": 4,
 "nbformat_minor": 1
}

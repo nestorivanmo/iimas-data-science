{
 "cells": [
  {
   "cell_type": "markdown",
   "metadata": {},
   "source": [
    "# Tarea 5 - Extracción de Relaciones\n",
    "\n",
    "- Martínez Ostoa Néstor Iván\n",
    "- Minería de Textos\n",
    "- IIMAS, UNAM\n",
    "\n",
    "---\n",
    "\n",
    "Utilizando el conjunto de historias clínicas, extraer las siguientes relaciones de las entidades anotadas: \n",
    "\n",
    "- Strength-Drug\n",
    "- Form-Drug\n",
    "- Dosage-Drug\n",
    "- Duration-Drug\n",
    "- Frequency-Drug\n",
    "- Route-Drug\n",
    "- ADE-Drug\n",
    "- Reason-Drug\n",
    " \n",
    "\n",
    "Para las siguientes actividades es recomendable hacer una selección de características, de tal forma que se obtenga un mejor resultado.\n",
    "\n",
    "\n",
    "\n",
    "## Actividad 1\n",
    "\n",
    "Crear un clasificador que determine si cada par de entidades tiene o no una relación. Evaluar en el conjunto de prueba, obtener Precisión, Recall y F1."
   ]
  },
  {
   "cell_type": "code",
   "execution_count": 4,
   "metadata": {},
   "outputs": [],
   "source": [
    "import pandas as pd\n",
    "import numpy as np\n",
    "import matplotlib.pyplot as plt\n",
    "import operator\n",
    "import os\n",
    "\n",
    "from brat_parser import get_entities_relations_attributes_groups\n",
    "from sklearn.feature_extraction.text import CountVectorizer\n",
    "from sklearn.svm import SVC\n",
    "from sklearn import metrics"
   ]
  },
  {
   "cell_type": "code",
   "execution_count": 5,
   "metadata": {},
   "outputs": [],
   "source": [
    "def build_context(e1, e2, text):\n",
    "    \"\"\"\n",
    "    e1 and e2: Brat Parser's Entity class\n",
    "    \"\"\"\n",
    "    (e1_left, e1_right) = e1.span[0]\n",
    "    (e2_left, e2_right) = e2.span[0]\n",
    "    \n",
    "    left_context = text[:e1_left].split()[-3:]\n",
    "    right_context = text[e2_right:].split()[:3]\n",
    "    mid_context = text[e1_right:e2_left].split()\n",
    "    \n",
    "    context = left_context + mid_context + right_context\n",
    "    context = \" \".join(context)\n",
    "    \n",
    "    return context\n",
    "\n",
    "def search(relation, relations):\n",
    "    left = 0\n",
    "    right = len(relations)-1\n",
    "    while (left <= right):\n",
    "        mid = (left + right) // 2\n",
    "        \n",
    "        if (relations[mid] == relation):\n",
    "            return mid\n",
    "        \n",
    "        elif (relations[mid][0] >= relation[0]):\n",
    "            right = mid-1\n",
    "        \n",
    "        else:\n",
    "            left = mid+1\n",
    "    \n",
    "    return -1"
   ]
  },
  {
   "cell_type": "code",
   "execution_count": 13,
   "metadata": {},
   "outputs": [],
   "source": [
    "def process(path):\n",
    "    X = []\n",
    "    y = []\n",
    "    R = [] # possible relations\n",
    "    all_text = []\n",
    "    num_relations = 0\n",
    "    for (_,_,files) in os.walk(path):\n",
    "        for file in files:\n",
    "            if file[-3:] == \"ann\":\n",
    "                text = \"\"\n",
    "                with open(path + file[:-3] + \"txt\") as f:\n",
    "                    for line in f: text += line\n",
    "                \n",
    "                all_text.append(text)\n",
    "                entities, relations_v, _, _ = get_entities_relations_attributes_groups(path + file)\n",
    "                \n",
    "                sorted_entities = sorted(list(entities.values()), key=operator.attrgetter('span'))\n",
    "                \n",
    "                relations = list(relations_v.values())\n",
    "                relations = [(int(r.subj[1:]), int(r.obj[1:])) for r in relations]\n",
    "                relations = sorted(relations)\n",
    "                \n",
    "                num_relations += len(relations)\n",
    "                \n",
    "                for i in range(1, len(sorted_entities), 2):\n",
    "                    e1 = sorted_entities[i-1]\n",
    "                    e2 = sorted_entities[i]\n",
    "                    \n",
    "                    e1_id = int(e1.id[1:])\n",
    "                    e2_id = int(e2.id[1:])\n",
    "                    \n",
    "                    c = build_context(e1, e2, text)\n",
    "                    \n",
    "                    if len(c) <= 150:\n",
    "                        X.append(c)\n",
    "\n",
    "                        rA = (e1_id, e2_id)\n",
    "                        rB = (e2_id, e1_id)\n",
    "\n",
    "                        rA_result = search(rA, relations)\n",
    "                        rB_result = search(rB, relations)\n",
    "\n",
    "                        if (rA_result == -1 and rB_result == -1):\n",
    "                            y.append(0)\n",
    "                            R.append('<NONE>')\n",
    "                        else:\n",
    "                            y.append(1)\n",
    "                            found = rA_result if rA_result != -1 else rB_result\n",
    "                            rf = relations[found]\n",
    "                            for r in list(relations_v.values()):\n",
    "                                subject_ = int(r.subj[1:])\n",
    "                                object_ = int(r.obj[1:])\n",
    "                                if ((subject_, object_) == rf or (object_, subject_) == rf):\n",
    "                                    R.append(r.type)\n",
    "                                    break\n",
    "                    \n",
    "    return pd.DataFrame({'context': X, 'relation': y, 'relation_name': R}), all_text, num_relations"
   ]
  },
  {
   "cell_type": "code",
   "execution_count": 14,
   "metadata": {},
   "outputs": [],
   "source": [
    "training_df, training_text, training_num_relations = process('training/')\n",
    "test_df, test_text, test_num_relations = process('test/')"
   ]
  },
  {
   "cell_type": "code",
   "execution_count": 8,
   "metadata": {},
   "outputs": [
    {
     "name": "stdout",
     "output_type": "stream",
     "text": [
      "36348 23462\n"
     ]
    }
   ],
   "source": [
    "print(training_num_relations, test_num_relations)"
   ]
  },
  {
   "cell_type": "code",
   "execution_count": 11,
   "metadata": {},
   "outputs": [
    {
     "name": "stdout",
     "output_type": "stream",
     "text": [
      "(25398, 3) \n",
      "\n",
      "0    19539\n",
      "1     5859\n",
      "Name: relation, dtype: int64 \n",
      "\n",
      "<NONE>            19539\n",
      "Strength-Drug      3228\n",
      "Reason-Drug         987\n",
      "Route-Drug          520\n",
      "Dosage-Drug         385\n",
      "ADE-Drug            297\n",
      "Form-Drug           190\n",
      "Frequency-Drug      154\n",
      "Duration-Drug        98\n",
      "Name: relation_name, dtype: int64 \n",
      "\n"
     ]
    },
    {
     "data": {
      "text/html": [
       "<div>\n",
       "<style scoped>\n",
       "    .dataframe tbody tr th:only-of-type {\n",
       "        vertical-align: middle;\n",
       "    }\n",
       "\n",
       "    .dataframe tbody tr th {\n",
       "        vertical-align: top;\n",
       "    }\n",
       "\n",
       "    .dataframe thead th {\n",
       "        text-align: right;\n",
       "    }\n",
       "</style>\n",
       "<table border=\"1\" class=\"dataframe\">\n",
       "  <thead>\n",
       "    <tr style=\"text-align: right;\">\n",
       "      <th></th>\n",
       "      <th>context</th>\n",
       "      <th>relation</th>\n",
       "      <th>relation_name</th>\n",
       "    </tr>\n",
       "  </thead>\n",
       "  <tbody>\n",
       "    <tr>\n",
       "      <th>0</th>\n",
       "      <td>and underwent an ; the patient only required o...</td>\n",
       "      <td>0</td>\n",
       "      <td>&lt;NONE&gt;</td>\n",
       "    </tr>\n",
       "    <tr>\n",
       "      <th>1</th>\n",
       "      <td>1 unit of , of platelets, 500-cc</td>\n",
       "      <td>0</td>\n",
       "      <td>&lt;NONE&gt;</td>\n",
       "    </tr>\n",
       "    <tr>\n",
       "      <th>2</th>\n",
       "      <td>2 units of , of albumin, and</td>\n",
       "      <td>0</td>\n",
       "      <td>&lt;NONE&gt;</td>\n",
       "    </tr>\n",
       "    <tr>\n",
       "      <th>3</th>\n",
       "      <td>platelets, 500-cc of , and of cryo intraop.</td>\n",
       "      <td>0</td>\n",
       "      <td>&lt;NONE&gt;</td>\n",
       "    </tr>\n",
       "    <tr>\n",
       "      <th>4</th>\n",
       "      <td>1 unit of . He was taken to the APCU intubated...</td>\n",
       "      <td>0</td>\n",
       "      <td>&lt;NONE&gt;</td>\n",
       "    </tr>\n",
       "  </tbody>\n",
       "</table>\n",
       "</div>"
      ],
      "text/plain": [
       "                                             context  relation relation_name\n",
       "0  and underwent an ; the patient only required o...         0        <NONE>\n",
       "1                   1 unit of , of platelets, 500-cc         0        <NONE>\n",
       "2                       2 units of , of albumin, and         0        <NONE>\n",
       "3        platelets, 500-cc of , and of cryo intraop.         0        <NONE>\n",
       "4  1 unit of . He was taken to the APCU intubated...         0        <NONE>"
      ]
     },
     "execution_count": 11,
     "metadata": {},
     "output_type": "execute_result"
    }
   ],
   "source": [
    "print(training_df.shape, '\\n')\n",
    "print(training_df['relation'].value_counts(), '\\n')\n",
    "print(training_df['relation_name'].value_counts(), '\\n')\n",
    "training_df.head()"
   ]
  },
  {
   "cell_type": "code",
   "execution_count": 12,
   "metadata": {},
   "outputs": [
    {
     "data": {
      "image/png": "[encoded data removed]",
      "text/plain": [
       "<Figure size 432x288 with 1 Axes>"
      ]
     },
     "metadata": {
      "needs_background": "light"
     },
     "output_type": "display_data"
    }
   ],
   "source": [
    "training_df['relation'].hist()\n",
    "plt.title(f\"Distribución de relaciones para el conjunto de entrenamiento\")\n",
    "plt.show()"
   ]
  },
  {
   "cell_type": "code",
   "execution_count": 158,
   "metadata": {},
   "outputs": [
    {
     "name": "stdout",
     "output_type": "stream",
     "text": [
      "(15264, 3) \n",
      "\n",
      "0    11469\n",
      "1     3795\n",
      "Name: relation, dtype: int64 \n",
      "\n",
      "<NONE>            11469\n",
      "Strength-Drug      1997\n",
      "Reason-Drug         665\n",
      "Route-Drug          308\n",
      "Dosage-Drug         235\n",
      "ADE-Drug            227\n",
      "Form-Drug           157\n",
      "Frequency-Drug      124\n",
      "Duration-Drug        82\n",
      "Name: relation_name, dtype: int64 \n",
      "\n"
     ]
    },
    {
     "data": {
      "text/html": [
       "<div>\n",
       "<style scoped>\n",
       "    .dataframe tbody tr th:only-of-type {\n",
       "        vertical-align: middle;\n",
       "    }\n",
       "\n",
       "    .dataframe tbody tr th {\n",
       "        vertical-align: top;\n",
       "    }\n",
       "\n",
       "    .dataframe thead th {\n",
       "        text-align: right;\n",
       "    }\n",
       "</style>\n",
       "<table border=\"1\" class=\"dataframe\">\n",
       "  <thead>\n",
       "    <tr style=\"text-align: right;\">\n",
       "      <th></th>\n",
       "      <th>context</th>\n",
       "      <th>relation</th>\n",
       "      <th>relation_name</th>\n",
       "    </tr>\n",
       "  </thead>\n",
       "  <tbody>\n",
       "    <tr>\n",
       "      <th>0</th>\n",
       "      <td>Service: MEDICINE Allergies: / Attending:[**Do...</td>\n",
       "      <td>0</td>\n",
       "      <td>&lt;NONE&gt;</td>\n",
       "    </tr>\n",
       "    <tr>\n",
       "      <th>1</th>\n",
       "      <td>She spiked a approx 5 hours after presentation...</td>\n",
       "      <td>0</td>\n",
       "      <td>&lt;NONE&gt;</td>\n",
       "    </tr>\n",
       "    <tr>\n",
       "      <th>2</th>\n",
       "      <td>1 gram of and became afebrile. She initially r...</td>\n",
       "      <td>0</td>\n",
       "      <td>&lt;NONE&gt;</td>\n",
       "    </tr>\n",
       "    <tr>\n",
       "      <th>3</th>\n",
       "      <td>recieved 1 L . Her (per verbal signout)</td>\n",
       "      <td>0</td>\n",
       "      <td>&lt;NONE&gt;</td>\n",
       "    </tr>\n",
       "    <tr>\n",
       "      <th>4</th>\n",
       "      <td>started on peripheral and additional NS were g...</td>\n",
       "      <td>0</td>\n",
       "      <td>&lt;NONE&gt;</td>\n",
       "    </tr>\n",
       "  </tbody>\n",
       "</table>\n",
       "</div>"
      ],
      "text/plain": [
       "                                             context  relation relation_name\n",
       "0  Service: MEDICINE Allergies: / Attending:[**Do...         0        <NONE>\n",
       "1  She spiked a approx 5 hours after presentation...         0        <NONE>\n",
       "2  1 gram of and became afebrile. She initially r...         0        <NONE>\n",
       "3            recieved 1 L . Her (per verbal signout)         0        <NONE>\n",
       "4  started on peripheral and additional NS were g...         0        <NONE>"
      ]
     },
     "execution_count": 158,
     "metadata": {},
     "output_type": "execute_result"
    }
   ],
   "source": [
    "print(test_df.shape, '\\n')\n",
    "print(test_df['relation'].value_counts(), '\\n')\n",
    "print(test_df['relation_name'].value_counts(), '\\n')\n",
    "test_df.head()"
   ]
  },
  {
   "cell_type": "code",
   "execution_count": 159,
   "metadata": {},
   "outputs": [
    {
     "data": {
      "image/png": "[encoded data removed]",
      "text/plain": [
       "<Figure size 432x288 with 1 Axes>"
      ]
     },
     "metadata": {
      "needs_background": "light"
     },
     "output_type": "display_data"
    }
   ],
   "source": [
    "test_df['relation'].hist()\n",
    "plt.title(f\"Distribución de relaciones para el conjunto de prueba\")\n",
    "plt.show()"
   ]
  },
  {
   "cell_type": "code",
   "execution_count": 160,
   "metadata": {},
   "outputs": [
    {
     "data": {
      "text/plain": [
       "<303x18539 sparse matrix of type '<class 'numpy.int64'>'\n",
       "\twith 228431 stored elements in Compressed Sparse Row format>"
      ]
     },
     "execution_count": 160,
     "metadata": {},
     "output_type": "execute_result"
    }
   ],
   "source": [
    "vect_bow = CountVectorizer(binary=True)\n",
    "vect_bow.fit_transform(training_text)"
   ]
  },
  {
   "cell_type": "code",
   "execution_count": 161,
   "metadata": {},
   "outputs": [],
   "source": [
    "X_train = vect_bow.transform(training_df['context'].values)\n",
    "y_train = training_df['relation']\n",
    "X_test = vect_bow.transform(test_df['context'].values)\n",
    "y_test = test_df['relation']"
   ]
  },
  {
   "cell_type": "code",
   "execution_count": 162,
   "metadata": {},
   "outputs": [
    {
     "name": "stdout",
     "output_type": "stream",
     "text": [
      "X_train: (23645, 18539)\n",
      "y_train: (23645,)\n",
      "X_test: (15264, 18539)\n",
      "y_test: (15264,)\n"
     ]
    }
   ],
   "source": [
    "print(f\"X_train: {X_train.shape}\")\n",
    "print(f\"y_train: {y_train.shape}\")\n",
    "\n",
    "print(f\"X_test: {X_test.shape}\")\n",
    "print(f\"y_test: {y_test.shape}\")"
   ]
  },
  {
   "cell_type": "code",
   "execution_count": 163,
   "metadata": {},
   "outputs": [
    {
     "data": {
      "text/plain": [
       "SVC(C=3.0, tol=1e-05)"
      ]
     },
     "execution_count": 163,
     "metadata": {},
     "output_type": "execute_result"
    }
   ],
   "source": [
    "svc = SVC(tol=1e-5, C=3.0)\n",
    "svc.fit(X_train, y_train)"
   ]
  },
  {
   "cell_type": "code",
   "execution_count": 164,
   "metadata": {},
   "outputs": [],
   "source": [
    "y_pred = svc.predict(X_test)"
   ]
  },
  {
   "cell_type": "code",
   "execution_count": 203,
   "metadata": {},
   "outputs": [
    {
     "name": "stdout",
     "output_type": "stream",
     "text": [
      "              precision    recall  f1-score   support\n",
      "\n",
      "           0     0.8678    0.9259    0.8959     11469\n",
      "           1     0.7193    0.5739    0.6384      3795\n",
      "\n",
      "    accuracy                         0.8384     15264\n",
      "   macro avg     0.7936    0.7499    0.7672     15264\n",
      "weighted avg     0.8309    0.8384    0.8319     15264\n",
      "\n"
     ]
    }
   ],
   "source": [
    "print(metrics.classification_report(\n",
    "    y_test, y_pred, digits=4\n",
    "))"
   ]
  },
  {
   "cell_type": "markdown",
   "metadata": {},
   "source": [
    "## Actividad 2\n",
    "\n",
    "Crear un clasificador que determine el tipo de relación tienen las entidades. Se puede utilizar el clasificador de la actividad 1 para filtrar las parejas de entidades que no tienen relación. Evaluar en el conjunto de prueba, obtener Precisión, Recall y F1."
   ]
  },
  {
   "cell_type": "code",
   "execution_count": 188,
   "metadata": {},
   "outputs": [
    {
     "data": {
      "text/html": [
       "<div>\n",
       "<style scoped>\n",
       "    .dataframe tbody tr th:only-of-type {\n",
       "        vertical-align: middle;\n",
       "    }\n",
       "\n",
       "    .dataframe tbody tr th {\n",
       "        vertical-align: top;\n",
       "    }\n",
       "\n",
       "    .dataframe thead th {\n",
       "        text-align: right;\n",
       "    }\n",
       "</style>\n",
       "<table border=\"1\" class=\"dataframe\">\n",
       "  <thead>\n",
       "    <tr style=\"text-align: right;\">\n",
       "      <th></th>\n",
       "      <th>context</th>\n",
       "      <th>relation</th>\n",
       "      <th>relation_name</th>\n",
       "    </tr>\n",
       "  </thead>\n",
       "  <tbody>\n",
       "    <tr>\n",
       "      <th>6</th>\n",
       "      <td>consistent with a . He was started on a . One day</td>\n",
       "      <td>1</td>\n",
       "      <td>Reason-Drug</td>\n",
       "    </tr>\n",
       "    <tr>\n",
       "      <th>11</th>\n",
       "      <td>[**2185-7-13**] by urology. was started on [**...</td>\n",
       "      <td>1</td>\n",
       "      <td>Duration-Drug</td>\n",
       "    </tr>\n",
       "    <tr>\n",
       "      <th>12</th>\n",
       "      <td>[**7-24**]). # Acute : Patient previously on ....</td>\n",
       "      <td>1</td>\n",
       "      <td>Reason-Drug</td>\n",
       "    </tr>\n",
       "    <tr>\n",
       "      <th>13</th>\n",
       "      <td>for infarction. Increased from po to 2mg</td>\n",
       "      <td>1</td>\n",
       "      <td>Strength-Drug</td>\n",
       "    </tr>\n",
       "    <tr>\n",
       "      <th>16</th>\n",
       "      <td>[**2185-7-13**]. Further increased from po to 4mg</td>\n",
       "      <td>1</td>\n",
       "      <td>Strength-Drug</td>\n",
       "    </tr>\n",
       "  </tbody>\n",
       "</table>\n",
       "</div>"
      ],
      "text/plain": [
       "                                              context  relation  relation_name\n",
       "6   consistent with a . He was started on a . One day         1    Reason-Drug\n",
       "11  [**2185-7-13**] by urology. was started on [**...         1  Duration-Drug\n",
       "12  [**7-24**]). # Acute : Patient previously on ....         1    Reason-Drug\n",
       "13           for infarction. Increased from po to 2mg         1  Strength-Drug\n",
       "16  [**2185-7-13**]. Further increased from po to 4mg         1  Strength-Drug"
      ]
     },
     "execution_count": 188,
     "metadata": {},
     "output_type": "execute_result"
    }
   ],
   "source": [
    "training_filtered_df = training_df[training_df['relation'] != 0]\n",
    "test_filtered_df = test_df[test_df['relation'] != 0]\n",
    "training_filtered_df.head()"
   ]
  },
  {
   "cell_type": "code",
   "execution_count": 169,
   "metadata": {},
   "outputs": [
    {
     "data": {
      "text/plain": [
       "<303x18539 sparse matrix of type '<class 'numpy.int64'>'\n",
       "\twith 228431 stored elements in Compressed Sparse Row format>"
      ]
     },
     "execution_count": 169,
     "metadata": {},
     "output_type": "execute_result"
    }
   ],
   "source": [
    "vect_filtered_bow = CountVectorizer(binary=True)\n",
    "vect_filtered_bow.fit_transform(training_text)"
   ]
  },
  {
   "cell_type": "code",
   "execution_count": 191,
   "metadata": {},
   "outputs": [
    {
     "data": {
      "text/plain": [
       "{'Reason-Drug': 0,\n",
       " 'Duration-Drug': 1,\n",
       " 'Strength-Drug': 2,\n",
       " 'Form-Drug': 3,\n",
       " 'Dosage-Drug': 4,\n",
       " 'ADE-Drug': 5,\n",
       " 'Route-Drug': 6,\n",
       " 'Frequency-Drug': 7}"
      ]
     },
     "execution_count": 191,
     "metadata": {},
     "output_type": "execute_result"
    }
   ],
   "source": [
    "relations_dict = {}\n",
    "rels_names = training_filtered_df['relation_name'].unique()\n",
    "for i, r in enumerate(rels_names):\n",
    "    relations_dict[r] = i\n",
    "relations_dict"
   ]
  },
  {
   "cell_type": "code",
   "execution_count": 192,
   "metadata": {},
   "outputs": [],
   "source": [
    "def change_name(relation):\n",
    "    return relations_dict[relation]"
   ]
  },
  {
   "cell_type": "code",
   "execution_count": 194,
   "metadata": {},
   "outputs": [
    {
     "name": "stderr",
     "output_type": "stream",
     "text": [
      "<ipython-input-194-e8f007ad5504>:1: SettingWithCopyWarning: \n",
      "A value is trying to be set on a copy of a slice from a DataFrame.\n",
      "Try using .loc[row_indexer,col_indexer] = value instead\n",
      "\n",
      "See the caveats in the documentation: https://pandas.pydata.org/pandas-docs/stable/user_guide/indexing.html#returning-a-view-versus-a-copy\n",
      "  training_filtered_df['relation_name'] = training_filtered_df['relation_name'].apply(change_name)\n"
     ]
    },
    {
     "data": {
      "text/html": [
       "<div>\n",
       "<style scoped>\n",
       "    .dataframe tbody tr th:only-of-type {\n",
       "        vertical-align: middle;\n",
       "    }\n",
       "\n",
       "    .dataframe tbody tr th {\n",
       "        vertical-align: top;\n",
       "    }\n",
       "\n",
       "    .dataframe thead th {\n",
       "        text-align: right;\n",
       "    }\n",
       "</style>\n",
       "<table border=\"1\" class=\"dataframe\">\n",
       "  <thead>\n",
       "    <tr style=\"text-align: right;\">\n",
       "      <th></th>\n",
       "      <th>context</th>\n",
       "      <th>relation</th>\n",
       "      <th>relation_name</th>\n",
       "    </tr>\n",
       "  </thead>\n",
       "  <tbody>\n",
       "    <tr>\n",
       "      <th>6</th>\n",
       "      <td>consistent with a . He was started on a . One day</td>\n",
       "      <td>1</td>\n",
       "      <td>0</td>\n",
       "    </tr>\n",
       "    <tr>\n",
       "      <th>11</th>\n",
       "      <td>[**2185-7-13**] by urology. was started on [**...</td>\n",
       "      <td>1</td>\n",
       "      <td>1</td>\n",
       "    </tr>\n",
       "    <tr>\n",
       "      <th>12</th>\n",
       "      <td>[**7-24**]). # Acute : Patient previously on ....</td>\n",
       "      <td>1</td>\n",
       "      <td>0</td>\n",
       "    </tr>\n",
       "    <tr>\n",
       "      <th>13</th>\n",
       "      <td>for infarction. Increased from po to 2mg</td>\n",
       "      <td>1</td>\n",
       "      <td>2</td>\n",
       "    </tr>\n",
       "    <tr>\n",
       "      <th>16</th>\n",
       "      <td>[**2185-7-13**]. Further increased from po to 4mg</td>\n",
       "      <td>1</td>\n",
       "      <td>2</td>\n",
       "    </tr>\n",
       "    <tr>\n",
       "      <th>...</th>\n",
       "      <td>...</td>\n",
       "      <td>...</td>\n",
       "      <td>...</td>\n",
       "    </tr>\n",
       "    <tr>\n",
       "      <th>23626</th>\n",
       "      <td>carbonate 200 mg ( ) Tablet, Chewable</td>\n",
       "      <td>1</td>\n",
       "      <td>2</td>\n",
       "    </tr>\n",
       "    <tr>\n",
       "      <th>23633</th>\n",
       "      <td>DAILY (Daily). 12. Cream [**Month/Year (2)</td>\n",
       "      <td>1</td>\n",
       "      <td>2</td>\n",
       "    </tr>\n",
       "    <tr>\n",
       "      <th>23637</th>\n",
       "      <td>TUBE* Refills:*3* 13. Lotion [**Month/Year (2)</td>\n",
       "      <td>1</td>\n",
       "      <td>2</td>\n",
       "    </tr>\n",
       "    <tr>\n",
       "      <th>23641</th>\n",
       "      <td>Medications: ?????? Take (enteric coated) once</td>\n",
       "      <td>1</td>\n",
       "      <td>2</td>\n",
       "    </tr>\n",
       "    <tr>\n",
       "      <th>23643</th>\n",
       "      <td>daily. ?????? Take (Clopidogrel) once daily. ?...</td>\n",
       "      <td>1</td>\n",
       "      <td>2</td>\n",
       "    </tr>\n",
       "  </tbody>\n",
       "</table>\n",
       "<p>5778 rows × 3 columns</p>\n",
       "</div>"
      ],
      "text/plain": [
       "                                                 context  relation  \\\n",
       "6      consistent with a . He was started on a . One day         1   \n",
       "11     [**2185-7-13**] by urology. was started on [**...         1   \n",
       "12     [**7-24**]). # Acute : Patient previously on ....         1   \n",
       "13              for infarction. Increased from po to 2mg         1   \n",
       "16     [**2185-7-13**]. Further increased from po to 4mg         1   \n",
       "...                                                  ...       ...   \n",
       "23626              carbonate 200 mg ( ) Tablet, Chewable         1   \n",
       "23633         DAILY (Daily). 12. Cream [**Month/Year (2)         1   \n",
       "23637     TUBE* Refills:*3* 13. Lotion [**Month/Year (2)         1   \n",
       "23641     Medications: ?????? Take (enteric coated) once         1   \n",
       "23643  daily. ?????? Take (Clopidogrel) once daily. ?...         1   \n",
       "\n",
       "       relation_name  \n",
       "6                  0  \n",
       "11                 1  \n",
       "12                 0  \n",
       "13                 2  \n",
       "16                 2  \n",
       "...              ...  \n",
       "23626              2  \n",
       "23633              2  \n",
       "23637              2  \n",
       "23641              2  \n",
       "23643              2  \n",
       "\n",
       "[5778 rows x 3 columns]"
      ]
     },
     "execution_count": 194,
     "metadata": {},
     "output_type": "execute_result"
    }
   ],
   "source": [
    "training_filtered_df['relation_name'] = training_filtered_df['relation_name'].apply(change_name)\n",
    "training_filtered_df"
   ]
  },
  {
   "cell_type": "code",
   "execution_count": 195,
   "metadata": {},
   "outputs": [
    {
     "name": "stderr",
     "output_type": "stream",
     "text": [
      "<ipython-input-195-743662639990>:1: SettingWithCopyWarning: \n",
      "A value is trying to be set on a copy of a slice from a DataFrame.\n",
      "Try using .loc[row_indexer,col_indexer] = value instead\n",
      "\n",
      "See the caveats in the documentation: https://pandas.pydata.org/pandas-docs/stable/user_guide/indexing.html#returning-a-view-versus-a-copy\n",
      "  test_filtered_df['relation_name'] = test_filtered_df['relation_name'].apply(change_name)\n"
     ]
    },
    {
     "data": {
      "text/html": [
       "<div>\n",
       "<style scoped>\n",
       "    .dataframe tbody tr th:only-of-type {\n",
       "        vertical-align: middle;\n",
       "    }\n",
       "\n",
       "    .dataframe tbody tr th {\n",
       "        vertical-align: top;\n",
       "    }\n",
       "\n",
       "    .dataframe thead th {\n",
       "        text-align: right;\n",
       "    }\n",
       "</style>\n",
       "<table border=\"1\" class=\"dataframe\">\n",
       "  <thead>\n",
       "    <tr style=\"text-align: right;\">\n",
       "      <th></th>\n",
       "      <th>context</th>\n",
       "      <th>relation</th>\n",
       "      <th>relation_name</th>\n",
       "    </tr>\n",
       "  </thead>\n",
       "  <tbody>\n",
       "    <tr>\n",
       "      <th>8</th>\n",
       "      <td>vancomycin, 500 mg , 750 mg</td>\n",
       "      <td>1</td>\n",
       "      <td>6</td>\n",
       "    </tr>\n",
       "    <tr>\n",
       "      <th>11</th>\n",
       "      <td>2 grams of . . On</td>\n",
       "      <td>1</td>\n",
       "      <td>6</td>\n",
       "    </tr>\n",
       "    <tr>\n",
       "      <th>13</th>\n",
       "      <td>a pulse and dose of (completed on [**2125-9-2*...</td>\n",
       "      <td>1</td>\n",
       "      <td>4</td>\n",
       "    </tr>\n",
       "    <tr>\n",
       "      <th>18</th>\n",
       "      <td>as rifamixin. . : Likely pre-renal. Resolved w...</td>\n",
       "      <td>1</td>\n",
       "      <td>0</td>\n",
       "    </tr>\n",
       "    <tr>\n",
       "      <th>21</th>\n",
       "      <td>was dicharged on daily and lovenox</td>\n",
       "      <td>1</td>\n",
       "      <td>2</td>\n",
       "    </tr>\n",
       "    <tr>\n",
       "      <th>...</th>\n",
       "      <td>...</td>\n",
       "      <td>...</td>\n",
       "      <td>...</td>\n",
       "    </tr>\n",
       "    <tr>\n",
       "      <th>15229</th>\n",
       "      <td>was transfused another of to keep plt&gt;75,</td>\n",
       "      <td>1</td>\n",
       "      <td>4</td>\n",
       "    </tr>\n",
       "    <tr>\n",
       "      <th>15231</th>\n",
       "      <td>one week of for in setting of</td>\n",
       "      <td>1</td>\n",
       "      <td>0</td>\n",
       "    </tr>\n",
       "    <tr>\n",
       "      <th>15250</th>\n",
       "      <td>a day). 5. Patch 24HR Sig:</td>\n",
       "      <td>1</td>\n",
       "      <td>2</td>\n",
       "    </tr>\n",
       "    <tr>\n",
       "      <th>15258</th>\n",
       "      <td>Tablet(s)* Refills:*0* 7. Tablet Sig: One</td>\n",
       "      <td>1</td>\n",
       "      <td>2</td>\n",
       "    </tr>\n",
       "    <tr>\n",
       "      <th>15263</th>\n",
       "      <td>Complete the remaining of . Please call</td>\n",
       "      <td>1</td>\n",
       "      <td>1</td>\n",
       "    </tr>\n",
       "  </tbody>\n",
       "</table>\n",
       "<p>3795 rows × 3 columns</p>\n",
       "</div>"
      ],
      "text/plain": [
       "                                                 context  relation  \\\n",
       "8                            vancomycin, 500 mg , 750 mg         1   \n",
       "11                                     2 grams of . . On         1   \n",
       "13     a pulse and dose of (completed on [**2125-9-2*...         1   \n",
       "18     as rifamixin. . : Likely pre-renal. Resolved w...         1   \n",
       "21                    was dicharged on daily and lovenox         1   \n",
       "...                                                  ...       ...   \n",
       "15229          was transfused another of to keep plt>75,         1   \n",
       "15231                      one week of for in setting of         1   \n",
       "15250                         a day). 5. Patch 24HR Sig:         1   \n",
       "15258          Tablet(s)* Refills:*0* 7. Tablet Sig: One         1   \n",
       "15263            Complete the remaining of . Please call         1   \n",
       "\n",
       "       relation_name  \n",
       "8                  6  \n",
       "11                 6  \n",
       "13                 4  \n",
       "18                 0  \n",
       "21                 2  \n",
       "...              ...  \n",
       "15229              4  \n",
       "15231              0  \n",
       "15250              2  \n",
       "15258              2  \n",
       "15263              1  \n",
       "\n",
       "[3795 rows x 3 columns]"
      ]
     },
     "execution_count": 195,
     "metadata": {},
     "output_type": "execute_result"
    }
   ],
   "source": [
    "test_filtered_df['relation_name'] = test_filtered_df['relation_name'].apply(change_name)\n",
    "test_filtered_df"
   ]
  },
  {
   "cell_type": "code",
   "execution_count": 196,
   "metadata": {},
   "outputs": [],
   "source": [
    "X_fil_train = vect_filtered_bow.transform(training_filtered_df['context'].values)\n",
    "y_fil_train = training_filtered_df['relation_name']\n",
    "\n",
    "X_fil_test = vect_filtered_bow.transform(test_filtered_df['context'].values)\n",
    "y_fil_test = test_filtered_df['relation_name']"
   ]
  },
  {
   "cell_type": "code",
   "execution_count": 198,
   "metadata": {},
   "outputs": [
    {
     "name": "stdout",
     "output_type": "stream",
     "text": [
      "X_train: (5778, 18539)\n",
      "y_train: (5778,)\n",
      "X_test: (3795, 18539)\n",
      "y_test: (3795,)\n"
     ]
    }
   ],
   "source": [
    "print(f\"X_train: {X_fil_train.shape}\")\n",
    "print(f\"y_train: {y_fil_train.shape}\")\n",
    "\n",
    "print(f\"X_test: {X_fil_test.shape}\")\n",
    "print(f\"y_test: {y_fil_test.shape}\")"
   ]
  },
  {
   "cell_type": "code",
   "execution_count": 199,
   "metadata": {},
   "outputs": [
    {
     "data": {
      "text/plain": [
       "SVC(C=3.0, tol=1e-05)"
      ]
     },
     "execution_count": 199,
     "metadata": {},
     "output_type": "execute_result"
    }
   ],
   "source": [
    "svc = SVC(tol=1e-5, C=3.0)\n",
    "svc.fit(X_fil_train, y_fil_train)"
   ]
  },
  {
   "cell_type": "code",
   "execution_count": 200,
   "metadata": {},
   "outputs": [],
   "source": [
    "y_fil_pred = svc.predict(X_fil_test)"
   ]
  },
  {
   "cell_type": "code",
   "execution_count": 202,
   "metadata": {},
   "outputs": [
    {
     "name": "stdout",
     "output_type": "stream",
     "text": [
      "                precision    recall  f1-score   support\n",
      "\n",
      "   Reason-Drug     0.6053    0.7955    0.6875       665\n",
      " Duration-Drug     0.6296    0.2073    0.3119        82\n",
      " Strength-Drug     0.8334    0.9469    0.8865      1997\n",
      "     Form-Drug     0.8000    0.1274    0.2198       157\n",
      "   Dosage-Drug     0.4071    0.2426    0.3040       235\n",
      "      ADE-Drug     0.7949    0.4097    0.5407       227\n",
      "    Route-Drug     0.4041    0.4448    0.4235       308\n",
      "Frequency-Drug     0.5000    0.0161    0.0312       124\n",
      "\n",
      "      accuracy                         0.7236      3795\n",
      "     macro avg     0.6218    0.3988    0.4256      3795\n",
      "  weighted avg     0.7132    0.7236    0.6894      3795\n",
      "\n"
     ]
    }
   ],
   "source": [
    "print(metrics.classification_report(\n",
    "    y_fil_test, y_fil_pred, digits=4, target_names=list(relations_dict.keys())\n",
    "))"
   ]
  },
  {
   "cell_type": "markdown",
   "metadata": {},
   "source": [
    "## Actividad 3\n",
    "\n",
    "Discutir los resultados.\n",
    "\n",
    "---\n",
    "\n",
    "- Para ambos clasificadores (binario y multivariado), utilicé el modelo bag-of-words, sin realizar un preprocesamiento exhausitivo de los datos de entrada. Podemos observar que los resultados para el claisficador binario (f1 score= 0.8319) es mejor que el clasificador multivariado (0.6894) puesto que naturalmente es más sencillo realizar clasificaciones sobre 2 clases que 9\n",
    "\n",
    "- Adicionalmente, si incluimos otro tipo de técnicas más avanzadas para la generación del corpus de entrenamiento y prueba, como por ejemplo, un árbol de dependencias, seguramente veremos incrementos en los valores F1\n",
    "\n",
    "- Por otro lado, también se pueden realizar mejoras en el preprocesamiento de los datos:\n",
    "    - Como por ejemplo, tratar de segmentar de mejor forma las oraciones, porque en el modelo actual, el contexto se forma por medio de 3 tokens previo a la entidad 1, 3 tokens posterioes a la entidad 2 y todos los tokens intermedios entre ambas entidades. Sin embargo, existen casos en donde las entidades 1 y 2 pertenecen a oraciones distintas y eso es algo que no se está considerando actualmente"
   ]
  }
 ],
 "metadata": {
  "kernelspec": {
   "display_name": "Python 3",
   "language": "python",
   "name": "python3"
  },
  "language_info": {
   "codemirror_mode": {
    "name": "ipython",
    "version": 3
   },
   "file_extension": ".py",
   "mimetype": "text/x-python",
   "name": "python",
   "nbconvert_exporter": "python",
   "pygments_lexer": "ipython3",
   "version": "3.8.10"
  }
 },
 "nbformat": 4,
 "nbformat_minor": 4
}

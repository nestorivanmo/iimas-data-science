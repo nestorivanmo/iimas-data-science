{
 "cells": [
  {
   "cell_type": "markdown",
   "metadata": {},
   "source": [
    "# Primera clase pŕactica\n",
    "\n",
    "\n",
    "# Simulación Montecarlo\n",
    "\n",
    "- Estimar áreas a través de distribuciones\n",
    "- Estimación de $\\pi$"
   ]
  },
  {
   "cell_type": "code",
   "execution_count": 26,
   "metadata": {},
   "outputs": [],
   "source": [
    "from random import seed\n",
    "from numpy.random import random\n",
    "import numpy as np\n",
    "import matplotlib.pyplot as plt"
   ]
  },
  {
   "cell_type": "code",
   "execution_count": 5,
   "metadata": {},
   "outputs": [],
   "source": [
    "seed(92)"
   ]
  },
  {
   "cell_type": "code",
   "execution_count": 6,
   "metadata": {},
   "outputs": [],
   "source": [
    "def estimar_pi(N):\n",
    "    ensayos = N\n",
    "    exito = 0\n",
    "    for i in range(ensayos):\n",
    "        horizontal = (random() * 2) - 1\n",
    "        vertical = (random() * 2) - 1\n",
    "        if (horizontal ** 2 + vertical ** 2) ** 0.5 < 1:\n",
    "            exito += 1\n",
    "    pi_estimado = 4*(exito / ensayos)\n",
    "    return pi_estimado"
   ]
  },
  {
   "cell_type": "code",
   "execution_count": 20,
   "metadata": {},
   "outputs": [
    {
     "name": "stdout",
     "output_type": "stream",
     "text": [
      "i=1.0\tpi=4.0\n",
      "i=25000.75\tpi=3.13728\n",
      "i=50000.5\tpi=3.13456\n",
      "i=75000.25\tpi=3.1400533333333334\n",
      "i=100000.0\tpi=3.1428\n"
     ]
    }
   ],
   "source": [
    "for i in np.linspace(1,1e5,5):\n",
    "    print(f\"i={i}\\tpi={estimar_pi(int(i))}\")"
   ]
  },
  {
   "cell_type": "code",
   "execution_count": 22,
   "metadata": {},
   "outputs": [],
   "source": [
    "n = 1000\n",
    "vec = np.zeros(n)"
   ]
  },
  {
   "cell_type": "code",
   "execution_count": 23,
   "metadata": {},
   "outputs": [],
   "source": [
    "for i in range(n):\n",
    "    vec[i] = estimar_pi(i+1)"
   ]
  },
  {
   "cell_type": "code",
   "execution_count": 25,
   "metadata": {},
   "outputs": [
    {
     "data": {
      "image/png": "[encoded data removed]",
      "text/plain": [
       "<Figure size 432x288 with 1 Axes>"
      ]
     },
     "metadata": {
      "needs_background": "light"
     },
     "output_type": "display_data"
    }
   ],
   "source": [
    "plt.plot(vec, color=\"b\")\n",
    "plt.axhline(y = np.pi, color='r', linestyle = '--')\n",
    "plt.show()"
   ]
  },
  {
   "cell_type": "code",
   "execution_count": 27,
   "metadata": {},
   "outputs": [],
   "source": [
    "def lanzamientos(N):\n",
    "    ensayos = N\n",
    "    exitos = 0\n",
    "    h, v = np.zeros(N), np.zeros(N)\n",
    "    col = []\n",
    "    for i in range(ensayos):\n",
    "        h[i] = (random() * 2) - 1\n",
    "        v[i] = (random() * 2) - 1\n",
    "        if (h[i]**2 + v[i]**2)**0.5 < 1:\n",
    "            col.append(\"blue\")\n",
    "            exitos += 1\n",
    "        else:\n",
    "            col.append(\"magenta\")\n",
    "    pi_estimado = 4*(exitos / ensayos)\n",
    "    return pi_estimado, [h, v], col\n",
    "            "
   ]
  },
  {
   "cell_type": "code",
   "execution_count": 29,
   "metadata": {},
   "outputs": [],
   "source": [
    "n = 1000\n",
    "pi, lanz, col = lanzamientos(n)"
   ]
  },
  {
   "cell_type": "code",
   "execution_count": null,
   "metadata": {},
   "outputs": [],
   "source": []
  },
  {
   "cell_type": "code",
   "execution_count": null,
   "metadata": {},
   "outputs": [],
   "source": []
  },
  {
   "cell_type": "code",
   "execution_count": null,
   "metadata": {},
   "outputs": [],
   "source": []
  },
  {
   "cell_type": "markdown",
   "metadata": {},
   "source": [
    "## Aguja de Buffon\n",
    "\n",
    "$$\\pi \\approx \\frac{2lN}{Kd}$$ donde:\n",
    "- $l$ es la longitud de la aguja\n",
    "- $N$ es el número de ensayos\n",
    "- $K$ es el número de éxitos\n",
    "- $d$ es la distancia de la aguja a la línea paralela más cercana"
   ]
  },
  {
   "cell_type": "code",
   "execution_count": null,
   "metadata": {},
   "outputs": [],
   "source": []
  }
 ],
 "metadata": {
  "kernelspec": {
   "display_name": "Python 3",
   "language": "python",
   "name": "python3"
  },
  "language_info": {
   "codemirror_mode": {
    "name": "ipython",
    "version": 3
   },
   "file_extension": ".py",
   "mimetype": "text/x-python",
   "name": "python",
   "nbconvert_exporter": "python",
   "pygments_lexer": "ipython3",
   "version": "3.8.10"
  }
 },
 "nbformat": 4,
 "nbformat_minor": 4
}

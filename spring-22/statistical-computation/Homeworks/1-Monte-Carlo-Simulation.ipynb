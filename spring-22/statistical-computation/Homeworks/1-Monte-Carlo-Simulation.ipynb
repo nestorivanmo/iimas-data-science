{
 "cells": [
  {
   "cell_type": "markdown",
   "id": "respiratory-headquarters",
   "metadata": {},
   "source": [
    "# Tarea 1: Simulación e Integración via Monte Carlo\n",
    "\n",
    "- Martínez Ostoa Néstor I. \n",
    "- Computación Estadística\n",
    "- IIMAS, UNAM"
   ]
  },
  {
   "cell_type": "code",
   "execution_count": 499,
   "id": "compound-display",
   "metadata": {},
   "outputs": [],
   "source": [
    "from random import seed\n",
    "import numpy as np\n",
    "from scipy.integrate import quad\n",
    "from scipy.stats import expon\n",
    "import matplotlib.pyplot as plt\n",
    "import math"
   ]
  },
  {
   "cell_type": "markdown",
   "id": "amino-rapid",
   "metadata": {},
   "source": [
    "## Variables antitéticas con método de la transformación inversa\n",
    "\n",
    "*Para cada $n\\in \\{2,3,\\ldots,100\\}$ implemente $1000$ experimentos Monte-Carlo, basados en $n$ simulaciones cada uno, tanto para el método crudo y antitético con método de la transformación inversa estimando $\\mathbb{E}_f[h(X)]$ con la función de densidad de probabilidad $f$ y la función $h$ de su elección.*\n",
    "\n",
    "---\n",
    "\n",
    "- $f \\sim Exp(1)$\n",
    "- $h(x) = x^2$\n",
    "\n",
    "--- \n",
    "\n",
    "**Solución:**\n",
    "1. Generar $1000$ muestras de tamaño $n$ con distribución $f$ mediante el método de la transformación inversa\n",
    "2. Obtener $\\hat{h}_{crudo}$\n",
    "3. Obtener $\\hat{h}_{antitetica}$"
   ]
  },
  {
   "cell_type": "code",
   "execution_count": 95,
   "id": "forty-relay",
   "metadata": {},
   "outputs": [],
   "source": [
    "seed(23)"
   ]
  },
  {
   "cell_type": "code",
   "execution_count": 96,
   "id": "theoretical-serial",
   "metadata": {},
   "outputs": [],
   "source": [
    "def inverse_transform_sampling(n, lambda_=1):\n",
    "    return expon.ppf(np.random.uniform(0, 1, n), lambda_) - 1\n",
    "\n",
    "def plot_sample(sample):\n",
    "    counts, bins, ignored = plt.hist(sample, bins=50, density = True)\n",
    "    plt.title(\"Función de densidad exponencial simulada con transformación inversa\")\n",
    "    plt.show()"
   ]
  },
  {
   "cell_type": "code",
   "execution_count": 97,
   "id": "weighted-devices",
   "metadata": {},
   "outputs": [],
   "source": [
    "sample = inverse_transform_sampling(n = 10000,lambda_ = 1)"
   ]
  },
  {
   "cell_type": "code",
   "execution_count": 98,
   "id": "needed-david",
   "metadata": {},
   "outputs": [
    {
     "data": {
      "image/png": "[encoded data removed]",
      "text/plain": [
       "<Figure size 432x288 with 1 Axes>"
      ]
     },
     "metadata": {
      "needs_background": "light"
     },
     "output_type": "display_data"
    }
   ],
   "source": [
    "plot_sample(sample)"
   ]
  },
  {
   "cell_type": "code",
   "execution_count": 147,
   "id": "funded-insight",
   "metadata": {},
   "outputs": [],
   "source": [
    "def plot_variances(var_raw, var_ant):\n",
    "    x = list(range(2, 101))\n",
    "    plt.plot(x, var_raw, color='black', label='Monte-Carlo crudo')\n",
    "    plt.plot(x, var_ant, color='blue', label='Monte-Carlo variables antitéticas')\n",
    "    plt.xlabel(r'$n$')\n",
    "    plt.ylabel(r'Varianza empírica')\n",
    "    plt.title(r\"Varianza empírica para $\\hat{\\mu}_n$ con 1000 experimentos Monte-Carlo\" \"\\n\" \"y la función $h(x)=x^2$\")\n",
    "    plt.legend()\n",
    "    plt.show()"
   ]
  },
  {
   "cell_type": "code",
   "execution_count": 169,
   "id": "referenced-clarity",
   "metadata": {},
   "outputs": [],
   "source": [
    "h = lambda x: x**2"
   ]
  },
  {
   "cell_type": "code",
   "execution_count": 150,
   "id": "linear-angle",
   "metadata": {},
   "outputs": [],
   "source": [
    "def get_means_variances(n, m, h):\n",
    "    means_raw_mc = []\n",
    "    variances_raw_mc = []\n",
    "    means_antithetic = []\n",
    "    variances_antithetic = []\n",
    "    for i in range(m):\n",
    "        sample = inverse_transform_sampling(n)\n",
    "        #sample = np.random.uniform(0, 1, n)\n",
    "        \n",
    "        # Raw Monte Carlo\n",
    "        mu = np.mean(h(sample))\n",
    "        means_raw_mc.append(mu)\n",
    "        var = np.sum((h(sample) - mu)**2) / (n-1)\n",
    "        variances_raw_mc.append(var)\n",
    "        \n",
    "        # Antithetic\n",
    "        mu_ant = np.mean((h(sample) + h(1-sample))/2)\n",
    "        means_antithetic.append(mu_ant)\n",
    "        var_ant = (1/4)*(np.var(h(sample)) + np.var(h(1-sample)) + 2*np.cov(h(sample), h(1-sample)))\n",
    "        variances_antithetic.append(var_ant)\n",
    "        \n",
    "    return np.mean(means_raw_mc), np.mean(variances_raw_mc), np.mean(means_antithetic), np.mean(variances_antithetic)"
   ]
  },
  {
   "cell_type": "code",
   "execution_count": 158,
   "id": "attempted-apparel",
   "metadata": {},
   "outputs": [],
   "source": [
    "def simulate(h, m=1000):\n",
    "    variances_raw_mc = []\n",
    "    means_raw_mc = []    \n",
    "    variances_antithetic = []\n",
    "    means_antithetic = []    \n",
    "    for n in range(2, 101):\n",
    "        mean_raw_mc, var_raw_mc, mean_ant, var_ant = get_means_variances(n, m, h)\n",
    "        means_raw_mc.append(mean_raw_mc)\n",
    "        variances_raw_mc.append(var_raw_mc)\n",
    "        means_antithetic.append(mean_ant)\n",
    "        variances_antithetic.append(var_ant)\n",
    "    return means_raw_mc[-1], variances_raw_mc, means_antithetic[-1], variances_antithetic"
   ]
  },
  {
   "cell_type": "code",
   "execution_count": 159,
   "id": "turkish-patrol",
   "metadata": {},
   "outputs": [],
   "source": [
    "mean_mc, raw_mc_variances, mean_ant, antithetic_variances = simulate(h, m=1000)"
   ]
  },
  {
   "cell_type": "code",
   "execution_count": 160,
   "id": "smart-sewing",
   "metadata": {},
   "outputs": [
    {
     "data": {
      "image/png": "[encoded data removed]",
      "text/plain": [
       "<Figure size 432x288 with 1 Axes>"
      ]
     },
     "metadata": {
      "needs_background": "light"
     },
     "output_type": "display_data"
    }
   ],
   "source": [
    "plot_variances(raw_mc_variances, antithetic_variances)"
   ]
  },
  {
   "cell_type": "markdown",
   "id": "presidential-instruction",
   "metadata": {},
   "source": [
    "## Monte-Carlo Estratificado\n",
    "\n",
    "*Elija una función $h: [0,1] \\rightarrow \\mathbb{R}$ y estime $\\int_{}^{}h(x)dx$ mediante 100 experimentos de Monte-Carlo crudo y estratificados de alocación proporcional con número de estratos $S\\in \\{2,4,8,16\\}$ (100 experimentos para cada tipo de Monte-Carlo). Finalmente, estime la varianza del estimador para cada tipo de metodología Monte-Carlo considerada y compare*\n",
    "\n",
    "---\n",
    "\n"
   ]
  },
  {
   "cell_type": "code",
   "execution_count": 380,
   "id": "unusual-hormone",
   "metadata": {},
   "outputs": [],
   "source": [
    "def plot_variances(variances, N=100):\n",
    "    x = list(range(1,101))\n",
    "    for key in variances.keys():\n",
    "        plt.plot(x, variances[key], label=f\"{key}\")\n",
    "\n",
    "    plt.title(r\"Varianza estimada Monte-Carlo crudo v. Monte-Carlo estratificado\" \"\\n\" \"para $h=e^{x^2}$\")\n",
    "    plt.xlabel(\"Número de experimentos\")\n",
    "    plt.ylabel(\"Varianza\")\n",
    "    plt.legend()\n",
    "    plt.show()    "
   ]
  },
  {
   "cell_type": "code",
   "execution_count": 361,
   "id": "innocent-impression",
   "metadata": {},
   "outputs": [],
   "source": [
    "h2 = lambda x: np.exp(x**2)"
   ]
  },
  {
   "cell_type": "code",
   "execution_count": 389,
   "id": "english-batch",
   "metadata": {},
   "outputs": [
    {
     "name": "stdout",
     "output_type": "stream",
     "text": [
      "Valor real de la integral: 1.4627\n"
     ]
    }
   ],
   "source": [
    "real_value = quad(h2, 0, 1)[0]\n",
    "print(f\"Valor real de la integral: {np.round(real_value, 4)}\")"
   ]
  },
  {
   "cell_type": "code",
   "execution_count": 363,
   "id": "creative-entity",
   "metadata": {},
   "outputs": [],
   "source": [
    "def monte_carlo(H, sample):\n",
    "    return np.mean(H(sample))\n",
    "\n",
    "def var_monte_carlo(H, mu, sample):\n",
    "    n = sample.shape[0]\n",
    "    return np.sum((H(sample) - mu)**2) / (n-1)"
   ]
  },
  {
   "cell_type": "code",
   "execution_count": 364,
   "id": "million-thomas",
   "metadata": {},
   "outputs": [
    {
     "name": "stdout",
     "output_type": "stream",
     "text": [
      "Valor estimado con Monte-Carlo crudo: 1.4626013853940656\n"
     ]
    }
   ],
   "source": [
    "mc = []\n",
    "for i in range(1000):\n",
    "    mc.append(monte_carlo(H=h2, sample=np.random.uniform(0,1,1000)))\n",
    "print(f\"Valor estimado con Monte-Carlo crudo: {np.mean(mc)}\")"
   ]
  },
  {
   "cell_type": "code",
   "execution_count": 383,
   "id": "related-dispute",
   "metadata": {},
   "outputs": [],
   "source": [
    "def stratified_monte_carlo(H, S, size_per_sample):\n",
    "    variances = []\n",
    "    means = []\n",
    "    for s in range(1, S+1):\n",
    "        a = (s-1)/S\n",
    "        b = s/S\n",
    "        sample = np.random.uniform(a, b, size_per_sample)\n",
    "        mu = monte_carlo(H, sample)\n",
    "        var = var_monte_carlo(H, mu, sample)\n",
    "        means.append(mu)\n",
    "        variances.append(var)\n",
    "    return np.mean(means), np.mean(variances)"
   ]
  },
  {
   "cell_type": "code",
   "execution_count": 384,
   "id": "retained-praise",
   "metadata": {},
   "outputs": [],
   "source": [
    "variances = {\n",
    "    'Monte-Carlo crudo':[],\n",
    "    'S=2': [], 'S=4': [],\n",
    "    'S=8': [], 'S=16': [],\n",
    "}\n",
    "means = {\n",
    "    'Monte-Carlo crudo':[],\n",
    "    'S=2': [], 'S=4': [],\n",
    "    'S=8': [], 'S=16': [],\n",
    "}\n",
    "for i in range(100):\n",
    "    sample = np.random.uniform(0, 1, 1000)\n",
    "    mu = monte_carlo(h2, sample)\n",
    "    var = var_monte_carlo(h2, mu, sample)\n",
    "    variances['Monte-Carlo crudo'].append(var)\n",
    "    means['Monte-Carlo crudo'].append(mu)\n",
    "    \n",
    "    for s in [2,4,8,16]:\n",
    "        key = \"S=\" + str(s)\n",
    "        mu_s, var_s = stratified_monte_carlo(h2, s, 1000)\n",
    "        variances[key].append(var_s)\n",
    "        means[key].append(mu_s)"
   ]
  },
  {
   "cell_type": "code",
   "execution_count": 385,
   "id": "distributed-validity",
   "metadata": {},
   "outputs": [
    {
     "data": {
      "image/png": "[encoded data removed]",
      "text/plain": [
       "<Figure size 432x288 with 1 Axes>"
      ]
     },
     "metadata": {
      "needs_background": "light"
     },
     "output_type": "display_data"
    }
   ],
   "source": [
    "plot_variances(variances)"
   ]
  },
  {
   "cell_type": "code",
   "execution_count": 390,
   "id": "institutional-aviation",
   "metadata": {},
   "outputs": [
    {
     "name": "stdout",
     "output_type": "stream",
     "text": [
      "Monte-Carlo crudo : 1.4602\n",
      "S=2 : 1.4614\n",
      "S=4 : 1.4623\n",
      "S=8 : 1.4627\n",
      "S=16 : 1.4626\n"
     ]
    }
   ],
   "source": [
    "for key in means.keys():\n",
    "    print(f\"{key} : {np.round(np.mean(means[key]),4)}\")"
   ]
  },
  {
   "cell_type": "markdown",
   "id": "equal-relevance",
   "metadata": {},
   "source": [
    "## Muestreo por importancia\n",
    "\n",
    "*Sea $\\Sigma$ una matriz de varianza-covarianza dada por $$\\Sigma^{-1/2} = \\text{diag}(0,1,2,3,4,5) + vv'$$ con $v=(1,1,1,1,1,1)$. Sea $Z \\sim \\text{NormalMultiv}_6(0,\\Sigma)$. Estime $\\mathbb{P}[Z \\in (0,\\infty)^6]$ mediante*: \n",
    "\n",
    "*1) Monte-Carlo crudo simulando $Z_i = \\Sigma^{-1/2}W_i$ con $W_i \\sim \\text{NormalMultiv}_6(\\pm, I_6)$*\n",
    " \n",
    "\n",
    "---"
   ]
  },
  {
   "cell_type": "code",
   "execution_count": 513,
   "id": "level-procedure",
   "metadata": {},
   "outputs": [],
   "source": [
    "import random\n",
    "random.seed(23)"
   ]
  },
  {
   "cell_type": "code",
   "execution_count": 514,
   "id": "cleared-exclusive",
   "metadata": {},
   "outputs": [
    {
     "data": {
      "text/plain": [
       "array([[1., 1., 1., 1., 1., 1.],\n",
       "       [1., 2., 1., 1., 1., 1.],\n",
       "       [1., 1., 3., 1., 1., 1.],\n",
       "       [1., 1., 1., 4., 1., 1.],\n",
       "       [1., 1., 1., 1., 5., 1.],\n",
       "       [1., 1., 1., 1., 1., 6.]])"
      ]
     },
     "execution_count": 514,
     "metadata": {},
     "output_type": "execute_result"
    }
   ],
   "source": [
    "D = np.diag([0,1,2,3,4,5])\n",
    "v = np.ones(6)\n",
    "sigma_ = D + v*v.T\n",
    "sigma_"
   ]
  },
  {
   "cell_type": "code",
   "execution_count": 515,
   "id": "coupled-practice",
   "metadata": {},
   "outputs": [],
   "source": [
    "def Z(Wi, sigma):\n",
    "    return sigma @ Wi"
   ]
  },
  {
   "cell_type": "code",
   "execution_count": 541,
   "id": "southern-picture",
   "metadata": {},
   "outputs": [
    {
     "data": {
      "text/plain": [
       "2.978440542125311e-05"
      ]
     },
     "execution_count": 541,
     "metadata": {},
     "output_type": "execute_result"
    }
   ],
   "source": [
    "N = 100000\n",
    "means = []\n",
    "for i in range(N):\n",
    "    Wi = np.random.multivariate_normal(np.zeros(6), np.eye(6))\n",
    "    Zi = Z(Wi, sigma_)\n",
    "    M = np.mean(Zi[Zi > 0])\n",
    "    if not math.isnan(M): means.append(M / N)\n",
    "np.mean(means)"
   ]
  },
  {
   "cell_type": "code",
   "execution_count": 542,
   "id": "driving-initial",
   "metadata": {},
   "outputs": [
    {
     "name": "stdout",
     "output_type": "stream",
     "text": [
      "2.978441e-05\n"
     ]
    }
   ],
   "source": [
    "print(\"{:e}\".format(np.mean(means)))"
   ]
  },
  {
   "cell_type": "markdown",
   "id": "alternative-gardening",
   "metadata": {},
   "source": [
    "*2) Monte-Carlo crudo utilizando la factorización de Choleski de $\\Sigma$*"
   ]
  },
  {
   "cell_type": "code",
   "execution_count": 544,
   "id": "prompt-minority",
   "metadata": {},
   "outputs": [
    {
     "name": "stdout",
     "output_type": "stream",
     "text": [
      "[[12.24388889 -4.28333333 -1.89166667 -1.20555556 -0.88333333 -0.69666667]\n",
      " [-4.28333333  2.          0.5         0.33333333  0.25        0.2       ]\n",
      " [-1.89166667  0.5         0.5         0.16666667  0.125       0.1       ]\n",
      " [-1.20555556  0.33333333  0.16666667  0.22222222  0.08333333  0.06666667]\n",
      " [-0.88333333  0.25        0.125       0.08333333  0.125       0.05      ]\n",
      " [-0.69666667  0.2         0.1         0.06666667  0.05        0.08      ]]\n"
     ]
    }
   ],
   "source": [
    "sigma = np.linalg.matrix_power(np.linalg.inv(sigma_), 2)\n",
    "print(sigma)"
   ]
  },
  {
   "cell_type": "code",
   "execution_count": 547,
   "id": "opposed-generation",
   "metadata": {},
   "outputs": [
    {
     "name": "stdout",
     "output_type": "stream",
     "text": [
      "[[ 3.49912688  0.          0.          0.          0.          0.        ]\n",
      " [-1.2241149   0.70819681  0.          0.          0.          0.        ]\n",
      " [-0.54061105 -0.22842527  0.39441296  0.          0.          0.        ]\n",
      " [-0.34453039 -0.12484023 -0.12197098  0.27029434  0.          0.        ]\n",
      " [-0.25244393 -0.08333894 -0.07735724 -0.08687072  0.20198025  0.        ]\n",
      " [-0.19909729 -0.06173136 -0.05510771 -0.06051366 -0.07389521  0.15617376]]\n"
     ]
    }
   ],
   "source": [
    "L = np.linalg.cholesky(sigma)\n",
    "print(L)"
   ]
  },
  {
   "cell_type": "code",
   "execution_count": 548,
   "id": "editorial-tuner",
   "metadata": {},
   "outputs": [
    {
     "data": {
      "text/plain": [
       "1.4016494706053504e-05"
      ]
     },
     "execution_count": 548,
     "metadata": {},
     "output_type": "execute_result"
    }
   ],
   "source": [
    "means = []\n",
    "for i in range(N):\n",
    "    Wi = np.random.multivariate_normal(np.zeros(6), np.eye(6))\n",
    "    Zi = Z(Wi, L)\n",
    "    M = np.mean(Zi[Zi > 0])\n",
    "    if not math.isnan(M): means.append(M / N)\n",
    "np.mean(means)"
   ]
  },
  {
   "cell_type": "code",
   "execution_count": 549,
   "id": "handmade-contest",
   "metadata": {},
   "outputs": [
    {
     "name": "stdout",
     "output_type": "stream",
     "text": [
      "1.401649e-05\n"
     ]
    }
   ],
   "source": [
    "print(\"{:e}\".format(np.mean(means)))"
   ]
  },
  {
   "cell_type": "code",
   "execution_count": null,
   "id": "baking-challenge",
   "metadata": {},
   "outputs": [],
   "source": []
  }
 ],
 "metadata": {
  "kernelspec": {
   "display_name": "Python 3",
   "language": "python",
   "name": "python3"
  },
  "language_info": {
   "codemirror_mode": {
    "name": "ipython",
    "version": 3
   },
   "file_extension": ".py",
   "mimetype": "text/x-python",
   "name": "python",
   "nbconvert_exporter": "python",
   "pygments_lexer": "ipython3",
   "version": "3.9.10"
  }
 },
 "nbformat": 4,
 "nbformat_minor": 5
}
